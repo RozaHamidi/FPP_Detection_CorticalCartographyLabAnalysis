{
 "cells": [
  {
   "cell_type": "code",
   "execution_count": 1,
   "metadata": {},
   "outputs": [],
   "source": [
    "import nibabel as nb\n",
    "import numpy as np"
   ]
  },
  {
   "cell_type": "code",
   "execution_count": 10,
   "metadata": {},
   "outputs": [],
   "source": [
    "template_zero = nb.load(f'E:/FPP_files_and_codes/FPP_files/FPPs_Uncombined/cifti_format/FPP1.dscalar.nii')\n",
    "data = np.zeros((1,template_zero.dataobj[0].shape[0]))\n",
    "template_zero._dataobj = nb.cifti2.cifti2.Cifti2Image(data, header=template_zero.header, nifti_header=template_zero.nifti_header)._dataobj\n",
    "\n",
    "nb.save(template_zero, 'E:/FPP_files_and_codes/FPP_files/Figure8_files/template_zero.dscalar.nii')"
   ]
  },
  {
   "cell_type": "code",
   "execution_count": 8,
   "metadata": {},
   "outputs": [
    {
     "data": {
      "text/plain": [
       "array([0., 0., 0., ..., 0., 0., 0.])"
      ]
     },
     "execution_count": 8,
     "metadata": {},
     "output_type": "execute_result"
    }
   ],
   "source": [
    "np.zeros(template_zero.dataobj[0].shape[0])"
   ]
  },
  {
   "cell_type": "code",
   "execution_count": 12,
   "metadata": {},
   "outputs": [
    {
     "data": {
      "text/plain": [
       "(59412,)"
      ]
     },
     "execution_count": 12,
     "metadata": {},
     "output_type": "execute_result"
    }
   ],
   "source": [
    "template_zero.dataobj[0].shape"
   ]
  },
  {
   "cell_type": "code",
   "execution_count": 13,
   "metadata": {},
   "outputs": [],
   "source": [
    "medial_wal = nb.load('E:/FPP_files_and_codes/FPP_files/partial_corr_FPPs/significance_of_partial_correlation.R.func.gii')"
   ]
  },
  {
   "cell_type": "code",
   "execution_count": 41,
   "metadata": {},
   "outputs": [
    {
     "data": {
      "text/plain": [
       "array([False, False, False, ..., False, False, False])"
      ]
     },
     "execution_count": 41,
     "metadata": {},
     "output_type": "execute_result"
    }
   ],
   "source": [
    "np.isnan(medial_wal.darrays[0].data[:,1])"
   ]
  },
  {
   "cell_type": "code",
   "execution_count": 46,
   "metadata": {},
   "outputs": [],
   "source": []
  },
  {
   "cell_type": "code",
   "execution_count": 45,
   "metadata": {},
   "outputs": [],
   "source": [
    "np.zeros(32492)[np.isnan(medial_wal.darrays[0].data[:,1])] = np.nan"
   ]
  },
  {
   "cell_type": "code",
   "execution_count": 48,
   "metadata": {},
   "outputs": [],
   "source": [
    "LPP_sig_path = 'E:/FPP_files_and_codes/FPP_files/Figure8_files/fsLR/LPP_sig.func.gii'\n",
    "LPP_sig = nb.load(LPP_sig_path)\n",
    "LPP_sig_data = LPP_sig.darrays[0].data\n",
    "\n",
    "LPP_sig_data[np.isnan(medial_wal.darrays[0].data[:,1])] = np.nan\n",
    "LPP_sig_data = LPP_sig_data.astype(np.float32)\n",
    "LPP_sig.darrays[0].data = LPP_sig_data\n",
    "LPP_sig.to_filename('E:/FPP_files_and_codes/FPP_files/Figure8_files/fsLR/LPP_sig_without_medial_wall.R.func.gii')"
   ]
  },
  {
   "cell_type": "code",
   "execution_count": null,
   "metadata": {},
   "outputs": [],
   "source": []
  }
 ],
 "metadata": {
  "kernelspec": {
   "display_name": "Python 3",
   "language": "python",
   "name": "python3"
  },
  "language_info": {
   "codemirror_mode": {
    "name": "ipython",
    "version": 3
   },
   "file_extension": ".py",
   "mimetype": "text/x-python",
   "name": "python",
   "nbconvert_exporter": "python",
   "pygments_lexer": "ipython3",
   "version": "3.12.2"
  }
 },
 "nbformat": 4,
 "nbformat_minor": 2
}
