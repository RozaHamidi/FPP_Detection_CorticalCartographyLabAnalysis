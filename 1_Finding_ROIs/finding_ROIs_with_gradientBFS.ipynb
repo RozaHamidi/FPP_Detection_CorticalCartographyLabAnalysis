{
 "cells": [
  {
   "cell_type": "code",
   "execution_count": 2,
   "id": "e40e4ad0",
   "metadata": {},
   "outputs": [],
   "source": [
    "import nibabel as nib\n",
    "import numpy as np"
   ]
  },
  {
   "cell_type": "code",
   "execution_count": 170,
   "id": "4cc58603",
   "metadata": {},
   "outputs": [],
   "source": [
    "def bfs_on_mesh(gifti_surf, gifti_significance, gifti_gradient, start_vertex_index, result):\n",
    "    \n",
    "    try:\n",
    "        vertices = gifti_surf.darrays[0].data\n",
    "        faces = gifti_surf.darrays[1].data\n",
    "        gradient = gifti_gradient.darrays[0].data\n",
    "        significance = gifti_significance.darrays[0].data\n",
    "    except:\n",
    "        raise Exception('Error loading the GIfTI surface.')\n",
    "\n",
    "    if start_vertex_index < 0 or start_vertex_index >= vertices.shape[0]:\n",
    "        raise Exception('Invalid start vertex index.')\n",
    "\n",
    "    visited = np.full(vertices.shape[0], False, dtype=bool)\n",
    "    queue = [start_vertex_index]\n",
    "\n",
    "    while queue:\n",
    "        current_vertex = queue.pop(0)\n",
    "\n",
    "        if not visited[current_vertex]:\n",
    "            \n",
    "            visited[current_vertex] = True\n",
    "            neighboring_faces = np.where(np.any(faces == current_vertex, axis=1))[0]\n",
    "            neighboring_vertices = np.unique(faces[neighboring_faces])\n",
    "#             tolerance = 5\n",
    "            for neighbor in neighboring_vertices:\n",
    "                \n",
    "                if significance[neighbor] >= (68/100) * significance[start_vertex_index]:\n",
    "                    if not neighbor in queue:\n",
    "                        queue.append(neighbor)\n",
    "                        result.darrays[0].data[neighbor] = 1\n",
    "                        \n",
    "                    \n",
    "    return result\n"
   ]
  },
  {
   "cell_type": "markdown",
   "id": "0db92156",
   "metadata": {},
   "source": [
    "# Extracting Right ROIs"
   ]
  },
  {
   "cell_type": "code",
   "execution_count": 171,
   "id": "469496b8",
   "metadata": {},
   "outputs": [],
   "source": [
    "# Load gradient map\n",
    "gifti_gradient_R = nib.load('D:/place_ROIs_project/Phase1_ExtractingFinalROIs/1_Finding_ROIs/sub_2/MagnitudeGradientOfSignificanceMap.R.func.gii')\n",
    "\n",
    "# Load surface mesh file\n",
    "gifti_surf_R = nib.load('D:/place_ROIs_project/flat_inflated_maps/HCP_S1200_GroupAvg_v1/S1200.R.midthickness_MSMAll.32k_fs_LR.surf.gii') \n",
    "\n",
    "# Load the input Gifti file\n",
    "gifti_significance_R = nib.load('D:/place_ROIs_project/Phase1_ExtractingFinalROIs/1_Finding_ROIs/sub_1/SignificanceOfCorrelationMeanInitialROIsWithVertices.R.func.gii')\n",
    "\n",
    "# result_temp_R = nib.load('D:/place_ROIs_project/Initial_ROIs_data/ROIs.R.func.gii')\n"
   ]
  },
  {
   "cell_type": "code",
   "execution_count": 172,
   "id": "aaed6174",
   "metadata": {},
   "outputs": [],
   "source": [
    "result_temp_R_1 = nib.load('D:/place_ROIs_project/Initial_ROIs_data/ROIs.R.func.gii')\n",
    "\n",
    "for j in range(32492):\n",
    "    result_temp_R_1.darrays[0].data[j] = 0\n",
    "\n",
    "start_vertex_index_FPP1 = 6375\n",
    "\n",
    "FPP1 = bfs_on_mesh(gifti_surf_R, gifti_significance_R, gifti_gradient_R, start_vertex_index_FPP1 ,result_temp_R_1)\n",
    "FPP1_data = FPP1.darrays[0].data\n",
    "\n",
    "nib.save(FPP1, 'D:/place_ROIs_project/Phase1_ExtractingFinalROIs/1_Finding_ROIs/sub_2/FPPsNotMerged/FPP1.rh.func.gii')"
   ]
  },
  {
   "cell_type": "code",
   "execution_count": 173,
   "id": "d3bda8bc",
   "metadata": {},
   "outputs": [],
   "source": [
    "result_temp_R_2 = nib.load('D:/place_ROIs_project/Initial_ROIs_data/ROIs.R.func.gii')\n",
    "\n",
    "for j in range(32492):\n",
    "    result_temp_R_2.darrays[0].data[j] = 0\n",
    "\n",
    "start_vertex_index_FPP2 = 5894\n",
    "\n",
    "FPP2 = bfs_on_mesh(gifti_surf_R, gifti_significance_R, gifti_gradient_R, start_vertex_index_FPP2 ,result_temp_R_2)\n",
    "FPP2_data = FPP2.darrays[0].data\n",
    "\n",
    "nib.save(FPP2, 'D:/place_ROIs_project/Phase1_ExtractingFinalROIs/1_Finding_ROIs/sub_2/FPPsNotMerged/FPP2.rh.func.gii')"
   ]
  },
  {
   "cell_type": "code",
   "execution_count": 174,
   "id": "7ccdaeee",
   "metadata": {},
   "outputs": [],
   "source": [
    "result_temp_R_3 = nib.load('D:/place_ROIs_project/Initial_ROIs_data/ROIs.R.func.gii')\n",
    "\n",
    "for j in range(32492):\n",
    "    result_temp_R_3.darrays[0].data[j] = 0\n",
    "\n",
    "start_vertex_index_FPP3 = 19639\n",
    "\n",
    "FPP3 = bfs_on_mesh(gifti_surf_R, gifti_significance_R, gifti_gradient_R, start_vertex_index_FPP3 ,result_temp_R_3)\n",
    "\n",
    "nib.save(FPP3, 'D:/place_ROIs_project/Phase1_ExtractingFinalROIs/1_Finding_ROIs/sub_2/FPPsNotMerged/FPP3.rh.func.gii')"
   ]
  },
  {
   "cell_type": "code",
   "execution_count": 175,
   "id": "9d988ef9",
   "metadata": {},
   "outputs": [],
   "source": [
    "result_temp_R_4 = nib.load('D:/place_ROIs_project/Initial_ROIs_data/ROIs.R.func.gii')\n",
    "\n",
    "for j in range(32492):\n",
    "    result_temp_R_4.darrays[0].data[j] = 0\n",
    "\n",
    "start_vertex_index_FPP4 = 18544\n",
    "\n",
    "FPP4 = bfs_on_mesh(gifti_surf_R, gifti_significance_R, gifti_gradient_R, start_vertex_index_FPP4 ,result_temp_R_4)\n",
    "\n",
    "nib.save(FPP4, 'D:/place_ROIs_project/Phase1_ExtractingFinalROIs/1_Finding_ROIs/sub_2/FPPsNotMerged/FPP4.rh.func.gii')"
   ]
  },
  {
   "cell_type": "code",
   "execution_count": 176,
   "id": "5ebbede5",
   "metadata": {},
   "outputs": [],
   "source": [
    "result_temp_R_5 = nib.load('D:/place_ROIs_project/Initial_ROIs_data/ROIs.R.func.gii')\n",
    "\n",
    "for j in range(32492):\n",
    "    result_temp_R_5.darrays[0].data[j] = 0\n",
    "\n",
    "start_vertex_index_FPP5 = 20278\n",
    "\n",
    "FPP5 = bfs_on_mesh(gifti_surf_R, gifti_significance_R, gifti_gradient_R, start_vertex_index_FPP5 ,result_temp_R_5)\n",
    "\n",
    "nib.save(FPP5, 'D:/place_ROIs_project/Phase1_ExtractingFinalROIs/1_Finding_ROIs/sub_2/FPPsNotMerged/FPP5.rh.func.gii')"
   ]
  },
  {
   "cell_type": "markdown",
   "id": "2a73c293",
   "metadata": {},
   "source": [
    "# Extracting Left ROIs"
   ]
  },
  {
   "cell_type": "code",
   "execution_count": 177,
   "id": "f4f73449",
   "metadata": {},
   "outputs": [],
   "source": [
    "# Load gradient map\n",
    "gifti_gradient_L = nib.load('D:/place_ROIs_project/Phase1_ExtractingFinalROIs/1_Finding_ROIs/sub_2/MagnitudeGradientOfSignificanceMap.L.func.gii')\n",
    "\n",
    "# Load surface mesh file\n",
    "gifti_surf_L = nib.load('D:/place_ROIs_project/flat_inflated_maps/HCP_S1200_GroupAvg_v1/S1200.L.midthickness_MSMAll.32k_fs_LR.surf.gii') \n",
    "\n",
    "# Load the input Gifti file\n",
    "gifti_significance_L = nib.load('D:/place_ROIs_project/Phase1_ExtractingFinalROIs/1_Finding_ROIs/sub_1/SignificanceOfCorrelationMeanInitialROIsWithVertices.L.func.gii')\n"
   ]
  },
  {
   "cell_type": "code",
   "execution_count": 178,
   "id": "01815057",
   "metadata": {},
   "outputs": [],
   "source": [
    "result_temp_L_1 = nib.load('D:/place_ROIs_project/Initial_ROIs_data/ROIs.L.func.gii')\n",
    "\n",
    "for j in range(32492):\n",
    "    result_temp_L_1.darrays[0].data[j] = 0\n",
    "\n",
    "start_vertex_index_FPP1_L = 6372\n",
    "\n",
    "FPP1_L = bfs_on_mesh(gifti_surf_L, gifti_significance_L, gifti_gradient_L, start_vertex_index_FPP1_L ,result_temp_L_1)\n",
    "\n",
    "nib.save(FPP1_L, 'D:/place_ROIs_project/Phase1_ExtractingFinalROIs/1_Finding_ROIs/sub_2/FPPsNotMerged/FPP1.lh.func.gii')"
   ]
  },
  {
   "cell_type": "code",
   "execution_count": 179,
   "id": "ce66e419",
   "metadata": {},
   "outputs": [],
   "source": [
    "result_temp_L_2 = nib.load('D:/place_ROIs_project/Initial_ROIs_data/ROIs.L.func.gii')\n",
    "\n",
    "for j in range(32492):\n",
    "    result_temp_L_2.darrays[0].data[j] = 0\n",
    "\n",
    "start_vertex_index_FPP2_L = 5932\n",
    "\n",
    "FPP2_L = bfs_on_mesh(gifti_surf_L, gifti_significance_L, gifti_gradient_L, start_vertex_index_FPP2_L ,result_temp_L_2)\n",
    "\n",
    "nib.save(FPP2_L, 'D:/place_ROIs_project/Phase1_ExtractingFinalROIs/1_Finding_ROIs/sub_2/FPPsNotMerged/FPP2.lh.func.gii')"
   ]
  },
  {
   "cell_type": "code",
   "execution_count": 180,
   "id": "7373e8ac",
   "metadata": {},
   "outputs": [],
   "source": [
    "result_temp_L_3 = nib.load('D:/place_ROIs_project/Initial_ROIs_data/ROIs.L.func.gii')\n",
    "\n",
    "for j in range(32492):\n",
    "    result_temp_L_3.darrays[0].data[j] = 0\n",
    "\n",
    "start_vertex_index_FPP3_L = 19722\n",
    "\n",
    "FPP3_L = bfs_on_mesh(gifti_surf_L, gifti_significance_L, gifti_gradient_L, start_vertex_index_FPP3_L ,result_temp_L_3)\n",
    "\n",
    "nib.save(FPP3_L, 'D:/place_ROIs_project/Phase1_ExtractingFinalROIs/1_Finding_ROIs/sub_2/FPPsNotMerged/FPP3.lh.func.gii')"
   ]
  },
  {
   "cell_type": "code",
   "execution_count": 181,
   "id": "50cdc8b9",
   "metadata": {},
   "outputs": [],
   "source": [
    "result_temp_L_4 = nib.load('D:/place_ROIs_project/Initial_ROIs_data/ROIs.L.func.gii')\n",
    "\n",
    "for j in range(32492):\n",
    "    result_temp_L_4.darrays[0].data[j] = 0\n",
    "\n",
    "start_vertex_index_FPP4_L = 18736\n",
    "\n",
    "FPP4_L = bfs_on_mesh(gifti_surf_L, gifti_significance_L, gifti_gradient_L, start_vertex_index_FPP4_L ,result_temp_L_4)\n",
    "\n",
    "nib.save(FPP4_L, 'D:/place_ROIs_project/Phase1_ExtractingFinalROIs/1_Finding_ROIs/sub_2/FPPsNotMerged/FPP4.lh.func.gii')"
   ]
  },
  {
   "cell_type": "code",
   "execution_count": 182,
   "id": "b4f89b5e",
   "metadata": {},
   "outputs": [],
   "source": [
    "result_temp_L_5 = nib.load('D:/place_ROIs_project/Initial_ROIs_data/ROIs.L.func.gii')\n",
    "\n",
    "for j in range(32492):\n",
    "    result_temp_L_5.darrays[0].data[j] = 0\n",
    "\n",
    "start_vertex_index_FPP5_L = 20229\n",
    "\n",
    "FPP5_L = bfs_on_mesh(gifti_surf_L, gifti_significance_L, gifti_gradient_L, start_vertex_index_FPP5_L ,result_temp_L_5)\n",
    "\n",
    "nib.save(FPP5_L, 'D:/place_ROIs_project/Phase1_ExtractingFinalROIs/1_Finding_ROIs/sub_2/FPPsNotMerged/FPP5.lh.func.gii')"
   ]
  },
  {
   "cell_type": "markdown",
   "id": "1d43e2c4",
   "metadata": {},
   "source": [
    "# Merging ROIs"
   ]
  },
  {
   "cell_type": "markdown",
   "id": "52cb2c95",
   "metadata": {},
   "source": [
    "# Right"
   ]
  },
  {
   "cell_type": "code",
   "execution_count": 76,
   "id": "03c0d53d",
   "metadata": {},
   "outputs": [],
   "source": [
    "FPPs_right = np.array([FPP1.darrays[0].data, FPP2.darrays[0].data, FPP3.darrays[0].data, FPP4.darrays[0].data, FPP5.darrays[0].data]).T"
   ]
  },
  {
   "cell_type": "code",
   "execution_count": 183,
   "id": "4d3e6f38",
   "metadata": {},
   "outputs": [],
   "source": [
    "FPPsTemplateMerged_R = nib.load('D:/place_ROIs_project/Phase1_ExtractingFinalROIs/1_Finding_ROIs/sub_2/FPPsTemplateMerged.R.func.gii')"
   ]
  },
  {
   "cell_type": "code",
   "execution_count": 185,
   "id": "ff308cfd",
   "metadata": {},
   "outputs": [],
   "source": [
    "FPPsTemplateMerged_R.darrays[0].data = FPPs_right\n",
    "nib.save(FPPsTemplateMerged_R, 'D:/place_ROIs_project/Phase1_ExtractingFinalROIs/1_Finding_ROIs/sub_2/FPPs.rh.func.gii')"
   ]
  },
  {
   "cell_type": "markdown",
   "id": "a45daf3d",
   "metadata": {},
   "source": [
    "# Left"
   ]
  },
  {
   "cell_type": "code",
   "execution_count": 186,
   "id": "1822f6ce",
   "metadata": {},
   "outputs": [],
   "source": [
    "FPPs_left = np.array([FPP1_L.darrays[0].data, FPP2_L.darrays[0].data, FPP3_L.darrays[0].data, FPP4_L.darrays[0].data, FPP5_L.darrays[0].data]).T\n",
    "FPPsTemplateMerged_L = nib.load('D:/place_ROIs_project/Phase1_ExtractingFinalROIs/1_Finding_ROIs/sub_2/FPPsTemplateMerged.L.func.gii')\n",
    "FPPsTemplateMerged_L.darrays[0].data = FPPs_left\n",
    "nib.save(FPPsTemplateMerged_L, 'D:/place_ROIs_project/Phase1_ExtractingFinalROIs/1_Finding_ROIs/sub_2/FPPs.lh.func.gii')"
   ]
  },
  {
   "cell_type": "code",
   "execution_count": 82,
   "id": "eec3f3d1",
   "metadata": {},
   "outputs": [
    {
     "data": {
      "text/plain": [
       "(32492, 5)"
      ]
     },
     "execution_count": 82,
     "metadata": {},
     "output_type": "execute_result"
    }
   ],
   "source": [
    "FPPs_left.shape"
   ]
  },
  {
   "cell_type": "code",
   "execution_count": 83,
   "id": "98bdcc97",
   "metadata": {},
   "outputs": [
    {
     "data": {
      "text/plain": [
       "11.384547"
      ]
     },
     "execution_count": 83,
     "metadata": {},
     "output_type": "execute_result"
    }
   ],
   "source": [
    "gifti_gradient_R.darrays[0].data[19584]"
   ]
  },
  {
   "cell_type": "code",
   "execution_count": 84,
   "id": "4deda78c",
   "metadata": {},
   "outputs": [
    {
     "data": {
      "text/plain": [
       "20.622654"
      ]
     },
     "execution_count": 84,
     "metadata": {},
     "output_type": "execute_result"
    }
   ],
   "source": [
    "gifti_gradient_R.darrays[0].data[19520]"
   ]
  },
  {
   "cell_type": "code",
   "execution_count": 85,
   "id": "c747b40b",
   "metadata": {},
   "outputs": [],
   "source": [
    "data = gifti_significance_R.darrays[0].data "
   ]
  },
  {
   "cell_type": "code",
   "execution_count": 86,
   "id": "269f3aad",
   "metadata": {},
   "outputs": [
    {
     "data": {
      "text/plain": [
       "(10890,)"
      ]
     },
     "execution_count": 86,
     "metadata": {},
     "output_type": "execute_result"
    }
   ],
   "source": [
    "data[data > 0].shape"
   ]
  },
  {
   "cell_type": "code",
   "execution_count": 87,
   "id": "6ccaf302",
   "metadata": {},
   "outputs": [
    {
     "data": {
      "text/plain": [
       "(32492,)"
      ]
     },
     "execution_count": 87,
     "metadata": {},
     "output_type": "execute_result"
    }
   ],
   "source": [
    "data.shape"
   ]
  },
  {
   "cell_type": "code",
   "execution_count": 88,
   "id": "6139b390",
   "metadata": {},
   "outputs": [
    {
     "data": {
      "text/plain": [
       "308.12683"
      ]
     },
     "execution_count": 88,
     "metadata": {},
     "output_type": "execute_result"
    }
   ],
   "source": [
    "np.mean(data[data > 0])"
   ]
  },
  {
   "cell_type": "code",
   "execution_count": 89,
   "id": "7339dd18",
   "metadata": {},
   "outputs": [
    {
     "data": {
      "text/plain": [
       "199.84755"
      ]
     },
     "execution_count": 89,
     "metadata": {},
     "output_type": "execute_result"
    }
   ],
   "source": [
    "np.median(data[data > 0])"
   ]
  },
  {
   "cell_type": "code",
   "execution_count": null,
   "id": "32ffedb4",
   "metadata": {},
   "outputs": [],
   "source": []
  }
 ],
 "metadata": {
  "kernelspec": {
   "display_name": "Python 3",
   "language": "python",
   "name": "python3"
  },
  "language_info": {
   "codemirror_mode": {
    "name": "ipython",
    "version": 3
   },
   "file_extension": ".py",
   "mimetype": "text/x-python",
   "name": "python",
   "nbconvert_exporter": "python",
   "pygments_lexer": "ipython3",
   "version": "3.12.2"
  }
 },
 "nbformat": 4,
 "nbformat_minor": 5
}
