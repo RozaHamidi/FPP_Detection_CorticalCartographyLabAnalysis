{
 "cells": [
  {
   "cell_type": "code",
   "execution_count": 1,
   "id": "e6e25b15",
   "metadata": {},
   "outputs": [],
   "source": [
    "import cv2\n",
    "import numpy as np\n",
    "from tqdm import tqdm\n",
    "import nibabel as nb\n",
    "import scipy.io\n",
    "import scipy\n",
    "from scipy import stats\n",
    "import math\n",
    "from scipy.stats import pearsonr\n",
    "import pandas as pd\n",
    "import statsmodels.api as sm"
   ]
  },
  {
   "cell_type": "code",
   "execution_count": 2,
   "id": "2df41c03",
   "metadata": {},
   "outputs": [
    {
     "name": "stderr",
     "output_type": "stream",
     "text": [
      "100%|████████████████████████████████████████████████████████████████████████████| 87720/87720 [18:40<00:00, 78.28it/s]\n"
     ]
    }
   ],
   "source": [
    "import cv2\n",
    "\n",
    "cap = cv2.VideoCapture('D:/place_ROIs_project/movies/concat_movies.mp4')\n",
    "\n",
    "ret, prev_frame = cap.read()\n",
    "prev_frame = cv2.cvtColor(prev_frame, cv2.COLOR_BGR2GRAY)\n",
    "\n",
    "MaxDifEachSecond = np.zeros(3655)\n",
    "MeanDifEachSecond = np.zeros(3655)\n",
    "ArrayDifSecond = np.zeros(24)\n",
    "FrameCounter = 1\n",
    "SecondCounter = 0\n",
    "total_frames = int(cap.get(cv2.CAP_PROP_FRAME_COUNT)) - 4\n",
    "Frame_num = []\n",
    "\n",
    "for i in tqdm(range(2,total_frames+2)):\n",
    "    \n",
    "    ret, frame = cap.read()\n",
    "    if not ret:\n",
    "        break\n",
    "    FrameCounter += 1\n",
    "    if FrameCounter == 25:\n",
    "        MaxDifEachSecond[SecondCounter] = ArrayDifSecond.max()\n",
    "        MeanDifEachSecond[SecondCounter] = ArrayDifSecond.mean()\n",
    "        FrameCounter = 1\n",
    "        SecondCounter += 1\n",
    "        \n",
    "    frame_gray = cv2.cvtColor(frame, cv2.COLOR_BGR2GRAY)\n",
    "\n",
    "    # Find the absolute difference between the current frame and the previous frame\n",
    "    frame_diff = cv2.absdiff(frame_gray, prev_frame)\n",
    "    ArrayDifSecond[FrameCounter-1] = frame_diff.flatten().mean()\n",
    "\n",
    "    prev_frame = frame_gray\n",
    "\n",
    "# Release the video capture object and close all windows\n",
    "cap.release()\n",
    "cv2.destroyAllWindows()\n"
   ]
  },
  {
   "cell_type": "code",
   "execution_count": 51,
   "id": "f2d8ce5b",
   "metadata": {},
   "outputs": [
    {
     "data": {
      "text/plain": [
       "True"
      ]
     },
     "execution_count": 51,
     "metadata": {},
     "output_type": "execute_result"
    }
   ],
   "source": [
    "(MeanDifEachSecond > 25).any()"
   ]
  },
  {
   "cell_type": "code",
   "execution_count": 8,
   "id": "4c16d48b",
   "metadata": {},
   "outputs": [],
   "source": [
    "left_movie_data = scipy.io.loadmat('D:/FPP_project_analysis/Movie_watching_avg_data/notmean_left_Meanfile.mat')['Left_data']\n",
    "right_movie_data = scipy.io.loadmat('D:/FPP_project_analysis/Movie_watching_avg_data/notmean_right_Meanfile.mat')['Right_data']"
   ]
  },
  {
   "cell_type": "code",
   "execution_count": 9,
   "id": "78a8bb60",
   "metadata": {},
   "outputs": [],
   "source": [
    "FPPs_right = (nb.load('D:/FPP_project_analysis/1_Finding_ROIs/sub_2/FPPs.rh.func.gii').darrays[0].data).T\n",
    "FPPs_left = (nb.load('D:/FPP_project_analysis/1_Finding_ROIs/sub_2/FPPs.lh.func.gii').darrays[0].data).T"
   ]
  },
  {
   "cell_type": "code",
   "execution_count": 10,
   "id": "4d74d64e",
   "metadata": {},
   "outputs": [],
   "source": [
    "Right_FPPs_indices = [np.nonzero(FPPs_right[i]) for i in range(5)]\n",
    "Left_FPPs_indices = [np.nonzero(FPPs_left[i]) for i in range(5)]"
   ]
  },
  {
   "cell_type": "code",
   "execution_count": null,
   "id": "41c40a5b",
   "metadata": {},
   "outputs": [],
   "source": []
  },
  {
   "cell_type": "code",
   "execution_count": 11,
   "id": "20ea9f93",
   "metadata": {},
   "outputs": [],
   "source": [
    "Activity_of_FPPs = [np.concatenate((right_movie_data[Right_FPPs_indices[i]], left_movie_data[Left_FPPs_indices[i]])) for i in range(5)]"
   ]
  },
  {
   "cell_type": "code",
   "execution_count": 12,
   "id": "0fa99166",
   "metadata": {},
   "outputs": [],
   "source": [
    "Mean_FPPs_Activity = np.array([np.mean(Activity_of_FPPs[i], axis=0) for i in range(5)])"
   ]
  },
  {
   "cell_type": "code",
   "execution_count": 13,
   "id": "766d5cd5",
   "metadata": {},
   "outputs": [
    {
     "data": {
      "text/plain": [
       "(5, 3655)"
      ]
     },
     "execution_count": 13,
     "metadata": {},
     "output_type": "execute_result"
    }
   ],
   "source": [
    "Mean_FPPs_Activity.shape"
   ]
  },
  {
   "cell_type": "markdown",
   "id": "a6529fd8",
   "metadata": {},
   "source": [
    "# exclude balnk seconds"
   ]
  },
  {
   "cell_type": "code",
   "execution_count": 14,
   "id": "ab0e7e8d",
   "metadata": {},
   "outputs": [],
   "source": [
    "HCPLabels = np.load('D:/place_ROIs_project/Phase5_AnalysisBasedOnPickActivityEachPatch/ShotScaleAnalysis/HCPLabels.npy',allow_pickle=True)\n",
    "indexes_empty_lists = [index for index, lst in enumerate(HCPLabels) if lst == ['']]\n",
    "indexes_empty_lists = np.array(indexes_empty_lists)"
   ]
  },
  {
   "cell_type": "code",
   "execution_count": 64,
   "id": "a6f0c9ea",
   "metadata": {},
   "outputs": [],
   "source": [
    "delay = 4\n",
    "ShiftedMaxDifEachSecond = np.roll(MaxDifEachSecond, delay)\n",
    "ShiftedMeanDifEachSecond = np.roll(MeanDifEachSecond, delay)\n",
    "\n",
    "Shifted_indexes_empty_lists = (indexes_empty_lists + delay )%3655"
   ]
  },
  {
   "cell_type": "code",
   "execution_count": 65,
   "id": "fd1d3e03",
   "metadata": {},
   "outputs": [],
   "source": [
    "Shifted_indexes_empty_lists = np.sort(Shifted_indexes_empty_lists)"
   ]
  },
  {
   "cell_type": "code",
   "execution_count": 66,
   "id": "fb755e71",
   "metadata": {},
   "outputs": [],
   "source": [
    "NonBlankMask = np.ones(3655)\n",
    "for index in Shifted_indexes_empty_lists:\n",
    "        NonBlankMask[index] = 0\n",
    "NonBlankMask = NonBlankMask==1"
   ]
  },
  {
   "cell_type": "code",
   "execution_count": 67,
   "id": "551f6cc2",
   "metadata": {},
   "outputs": [],
   "source": [
    "ShiftedMaxDifEachSecondNonBlank = ShiftedMaxDifEachSecond[NonBlankMask]\n",
    "ShiftedMeanDifEachSecondNonBlank = ShiftedMeanDifEachSecond[NonBlankMask]"
   ]
  },
  {
   "cell_type": "code",
   "execution_count": 68,
   "id": "d101575c",
   "metadata": {},
   "outputs": [
    {
     "data": {
      "text/plain": [
       "(3213,)"
      ]
     },
     "execution_count": 68,
     "metadata": {},
     "output_type": "execute_result"
    }
   ],
   "source": [
    "Mean_FPPs_Activity[0][NonBlankMask].shape"
   ]
  },
  {
   "cell_type": "code",
   "execution_count": 69,
   "id": "8aba2b05",
   "metadata": {},
   "outputs": [],
   "source": [
    "correlation_regressor_FPPs = np .zeros(5)\n",
    "pvalue_regressor_FPPs = np.zeros(5)\n",
    "for FPP in range(5):\n",
    "    corr,p_value = stats.pearsonr(ShiftedMaxDifEachSecondNonBlank, Mean_FPPs_Activity[FPP][NonBlankMask])\n",
    "    correlation_regressor_FPPs[FPP] = corr\n",
    "    pvalue_regressor_FPPs[FPP] = p_value"
   ]
  },
  {
   "cell_type": "code",
   "execution_count": 70,
   "id": "4152a28e",
   "metadata": {},
   "outputs": [
    {
     "data": {
      "text/plain": [
       "array([0.0030474 , 0.12274103, 0.11561811, 0.0880179 , 0.05722029])"
      ]
     },
     "execution_count": 70,
     "metadata": {},
     "output_type": "execute_result"
    }
   ],
   "source": [
    "correlation_regressor_FPPs"
   ]
  },
  {
   "cell_type": "code",
   "execution_count": 71,
   "id": "e94b08d3",
   "metadata": {},
   "outputs": [
    {
     "data": {
      "text/plain": [
       "array([8.62910965e-01, 2.92933351e-12, 4.92707665e-11, 5.82572947e-07,\n",
       "       1.17519410e-03])"
      ]
     },
     "execution_count": 71,
     "metadata": {},
     "output_type": "execute_result"
    }
   ],
   "source": [
    "pvalue_regressor_FPPs"
   ]
  },
  {
   "cell_type": "code",
   "execution_count": 72,
   "id": "97f6156c",
   "metadata": {},
   "outputs": [],
   "source": [
    "correlation_regressor_FPPs_with_blanks = np .zeros(5)\n",
    "pvalue_regressor_FPPs_with_blanks = np.zeros(5)\n",
    "for FPP in range(5):\n",
    "    corr,p_value = stats.pearsonr(ShiftedMaxDifEachSecond, Mean_FPPs_Activity[FPP])\n",
    "    correlation_regressor_FPPs_with_blanks[FPP] = corr\n",
    "    pvalue_regressor_FPPs_with_blanks[FPP] = p_value"
   ]
  },
  {
   "cell_type": "code",
   "execution_count": 73,
   "id": "2fbe1d1d",
   "metadata": {},
   "outputs": [
    {
     "data": {
      "text/plain": [
       "array([-0.00368426,  0.18931148,  0.19067669,  0.16276262,  0.13173098])"
      ]
     },
     "execution_count": 73,
     "metadata": {},
     "output_type": "execute_result"
    }
   ],
   "source": [
    "correlation_regressor_FPPs_with_blanks"
   ]
  },
  {
   "cell_type": "code",
   "execution_count": 74,
   "id": "615ce914",
   "metadata": {},
   "outputs": [
    {
     "data": {
      "image/png": "[encoded data removed]",
      "text/plain": [
       "<Figure size 432x288 with 2 Axes>"
      ]
     },
     "metadata": {
      "needs_background": "light"
     },
     "output_type": "display_data"
    },
    {
     "data": {
      "image/png": "[encoded data removed]",
      "text/plain": [
       "<Figure size 432x288 with 2 Axes>"
      ]
     },
     "metadata": {
      "needs_background": "light"
     },
     "output_type": "display_data"
    }
   ],
   "source": [
    "\n",
    "correlation = np.array([correlation_regressor_FPPs])\n",
    "pvalue = np.array([pvalue_regressor_FPPs])\n",
    "\n",
    "\n",
    "# Plot correlation matrix\n",
    "plt.figure()\n",
    "plt.imshow(correlation, cmap='coolwarm')\n",
    "plt.colorbar(label='Correlation Coefficient')\n",
    "plt.title('Correlation Matrix')\n",
    "# plt.xticks(np.arange(5), np.arange(1, 6))\n",
    "# plt.yticks(np.arange(5), np.arange(1, 6))\n",
    "plt.xlabel('FPP')\n",
    "plt.ylabel('FPP')\n",
    "plt.show()\n",
    "\n",
    "plt.imshow(pvalue, cmap='coolwarm')\n",
    "plt.colorbar(label='p-value')\n",
    "plt.title('P-value Matrix')\n",
    "# plt.xticks(np.arange(5), np.arange(1, 6))\n",
    "# plt.yticks(np.arange(5), np.arange(1, 6))\n",
    "plt.xlabel('FPP')\n",
    "plt.ylabel('FPP')\n",
    "plt.show()\n"
   ]
  },
  {
   "cell_type": "code",
   "execution_count": 75,
   "id": "2e0c4646",
   "metadata": {},
   "outputs": [
    {
     "data": {
      "image/png": "[encoded data removed]",
      "text/plain": [
       "<Figure size 432x288 with 2 Axes>"
      ]
     },
     "metadata": {
      "needs_background": "light"
     },
     "output_type": "display_data"
    },
    {
     "data": {
      "image/png": "[encoded data removed]",
      "text/plain": [
       "<Figure size 432x288 with 2 Axes>"
      ]
     },
     "metadata": {
      "needs_background": "light"
     },
     "output_type": "display_data"
    }
   ],
   "source": [
    "\n",
    "correlation_regressor_FPPs_with_blanks = np.array([correlation_regressor_FPPs_with_blanks])\n",
    "pvalue_regressor_FPPs_with_blanks = np.array([pvalue_regressor_FPPs_with_blanks])\n",
    "\n",
    "\n",
    "# Plot correlation matrix\n",
    "plt.figure()\n",
    "plt.imshow(correlation_regressor_FPPs_with_blanks, cmap='coolwarm')\n",
    "plt.colorbar(label='Correlation Coefficient')\n",
    "plt.title('Correlation Matrix')\n",
    "# plt.xticks(np.arange(5), np.arange(1, 6))\n",
    "# plt.yticks(np.arange(5), np.arange(1, 6))\n",
    "plt.xlabel('FPP')\n",
    "plt.ylabel('FPP')\n",
    "plt.show()\n",
    "\n",
    "plt.imshow(pvalue_regressor_FPPs_with_blanks, cmap='coolwarm')\n",
    "plt.colorbar(label='p-value')\n",
    "plt.title('P-value Matrix')\n",
    "# plt.xticks(np.arange(5), np.arange(1, 6))\n",
    "# plt.yticks(np.arange(5), np.arange(1, 6))\n",
    "plt.xlabel('FPP')\n",
    "plt.ylabel('FPP')\n",
    "plt.show()\n"
   ]
  },
  {
   "cell_type": "code",
   "execution_count": null,
   "id": "748b1c69",
   "metadata": {},
   "outputs": [],
   "source": []
  },
  {
   "cell_type": "code",
   "execution_count": null,
   "id": "cbdef139",
   "metadata": {},
   "outputs": [],
   "source": []
  }
 ],
 "metadata": {
  "kernelspec": {
   "display_name": "Python 3",
   "language": "python",
   "name": "python3"
  },
  "language_info": {
   "codemirror_mode": {
    "name": "ipython",
    "version": 3
   },
   "file_extension": ".py",
   "mimetype": "text/x-python",
   "name": "python",
   "nbconvert_exporter": "python",
   "pygments_lexer": "ipython3",
   "version": "3.8.8"
  }
 },
 "nbformat": 4,
 "nbformat_minor": 5
}
