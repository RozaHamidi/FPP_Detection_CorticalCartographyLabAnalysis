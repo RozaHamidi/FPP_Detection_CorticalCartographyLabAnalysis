{
 "cells": [
  {
   "cell_type": "code",
   "execution_count": 24,
   "metadata": {},
   "outputs": [],
   "source": [
    "import nibabel as nb\n",
    "import numpy as np\n",
    "import scipy\n",
    "from scipy import stats\n",
    "import math\n",
    "import pandas as pd\n",
    "import statsmodels.api as sm\n",
    "from ipynb.fs.full.utils import *"
   ]
  },
  {
   "cell_type": "code",
   "execution_count": 25,
   "metadata": {},
   "outputs": [],
   "source": [
    "eye_data = scipy.io.loadmat('E:/FPP_files_and_codes/FPP_files/eye_movment_data/final162.mat')['final162']"
   ]
  },
  {
   "cell_type": "code",
   "execution_count": 26,
   "metadata": {},
   "outputs": [],
   "source": [
    "eye_data = eye_data.squeeze(0)"
   ]
  },
  {
   "cell_type": "code",
   "execution_count": 27,
   "metadata": {},
   "outputs": [
    {
     "data": {
      "text/plain": [
       "(3655,)"
      ]
     },
     "execution_count": 27,
     "metadata": {},
     "output_type": "execute_result"
    }
   ],
   "source": [
    "eye_data.shape"
   ]
  },
  {
   "cell_type": "code",
   "execution_count": 28,
   "metadata": {},
   "outputs": [],
   "source": [
    "shift = 4\n",
    "eye_regressor_shifted = np.roll(eye_data, shift)"
   ]
  },
  {
   "cell_type": "code",
   "execution_count": 29,
   "metadata": {},
   "outputs": [],
   "source": [
    "left_data = scipy.io.loadmat('E:/FPP_files_and_codes/FPP_files/Movie_watching_avg_data/notmean_left_Meanfile.mat')['Left_data']\n",
    "right_data = scipy.io.loadmat('E:/FPP_files_and_codes/FPP_files/Movie_watching_avg_data/notmean_right_Meanfile.mat')['Right_data']"
   ]
  },
  {
   "cell_type": "code",
   "execution_count": 30,
   "metadata": {},
   "outputs": [],
   "source": [
    "def min_max_normalize(arr):\n",
    "    arr_min = np.min(arr)\n",
    "    arr_max = np.max(arr)\n",
    "    \n",
    "    normalized_arr = (arr - arr_min) / (arr_max - arr_min)\n",
    "    return normalized_arr"
   ]
  },
  {
   "cell_type": "code",
   "execution_count": 31,
   "metadata": {},
   "outputs": [],
   "source": [
    "eye_regressor_shifted_normalized = min_max_normalize(eye_regressor_shifted)"
   ]
  },
  {
   "cell_type": "code",
   "execution_count": 32,
   "metadata": {},
   "outputs": [],
   "source": [
    "eye_regressor_shifted_normalized_2d = eye_regressor_shifted_normalized.reshape(1, -1)\n",
    "\n",
    "X = eye_regressor_shifted_normalized_2d.T\n",
    "\n",
    "coefficients_regressor_eye_data_right = np.zeros(32492)\n",
    "\n",
    "pvalue_coefficients_regressor_eye_data_right = np.zeros(32492)\n",
    "\n",
    "\n",
    "zero = np.zeros(3655)\n",
    "\n",
    "for (i,vertex_data) in enumerate(right_data):\n",
    "    y = vertex_data\n",
    "    df = pd.DataFrame(X, columns=['X1'])\n",
    "    df['y'] = y\n",
    "\n",
    "    X = sm.add_constant(df[['X1']])\n",
    "    model = sm.GLM(df['y'], X, family=sm.families.Gaussian())\n",
    "\n",
    "    if not np.array_equal(vertex_data, zero):\n",
    "        result = model.fit()\n",
    "        coefficients = result.params\n",
    "\n",
    "        coefficients_regressor_eye_data_right[i] = coefficients['X1']\n",
    "        \n",
    "        p_values = result.pvalues\n",
    "        pvalue_coefficients_regressor_eye_data_right[i] = p_values['X1']"
   ]
  },
  {
   "cell_type": "code",
   "execution_count": 33,
   "metadata": {},
   "outputs": [
    {
     "name": "stderr",
     "output_type": "stream",
     "text": [
      "e:\\FPP_files_and_codes\\FPP_codebase\\Figure6_analysis\\Final_analysis\\utils.ipynb:18: RuntimeWarning: divide by zero encountered in log\n",
      "  \"outputs\": [],\n",
      "e:\\FPP_files_and_codes\\FPP_codebase\\Figure6_analysis\\Final_analysis\\utils.ipynb:18: RuntimeWarning: invalid value encountered in multiply\n",
      "  \"outputs\": [],\n"
     ]
    }
   ],
   "source": [
    "making_beta_and_sig_map_right(coefficients_regressor_eye_data_right, pvalue_coefficients_regressor_eye_data_right,\\\n",
    "                              'E:/FPP_files_and_codes/FPP_files/figure6_final_maps/beta_regressor_eyemovment_shift4_with_constant.R.func.gii',\\\n",
    "                               'E:/FPP_files_and_codes/FPP_files/figure6_final_maps/significance_beta_regressor_eyemovment_shift4_with_constant.R.func.gii' )"
   ]
  },
  {
   "cell_type": "code",
   "execution_count": 34,
   "metadata": {},
   "outputs": [],
   "source": [
    "eye_regressor_shifted_normalized_2d = eye_regressor_shifted_normalized.reshape(1, -1)\n",
    "\n",
    "X = eye_regressor_shifted_normalized_2d.T\n",
    "\n",
    "coefficients_regressor_eye_data_left = np.zeros(32492)\n",
    "\n",
    "pvalue_coefficients_regressor_eye_data_left = np.zeros(32492)\n",
    "\n",
    "\n",
    "zero = np.zeros(3655)\n",
    "\n",
    "for (i,vertex_data) in enumerate(left_data):\n",
    "    y = vertex_data\n",
    "    df = pd.DataFrame(X, columns=['X1'])\n",
    "    df['y'] = y\n",
    "\n",
    "    X = sm.add_constant(df[['X1']])\n",
    "    model = sm.GLM(df['y'], X, family=sm.families.Gaussian())\n",
    "\n",
    "    if not np.array_equal(vertex_data, zero):\n",
    "        result = model.fit()\n",
    "        coefficients = result.params\n",
    "\n",
    "        coefficients_regressor_eye_data_left[i] = coefficients['X1']\n",
    "        \n",
    "        p_values = result.pvalues\n",
    "        pvalue_coefficients_regressor_eye_data_left[i] = p_values['X1']"
   ]
  },
  {
   "cell_type": "code",
   "execution_count": 35,
   "metadata": {},
   "outputs": [
    {
     "name": "stderr",
     "output_type": "stream",
     "text": [
      "e:\\FPP_files_and_codes\\FPP_codebase\\Figure6_analysis\\Final_analysis\\utils.ipynb:33: RuntimeWarning: divide by zero encountered in log\n",
      "  \"    temp_r.darrays[0].data = float32_significance_beta\\n\",\n",
      "e:\\FPP_files_and_codes\\FPP_codebase\\Figure6_analysis\\Final_analysis\\utils.ipynb:33: RuntimeWarning: invalid value encountered in multiply\n",
      "  \"    temp_r.darrays[0].data = float32_significance_beta\\n\",\n"
     ]
    }
   ],
   "source": [
    "making_beta_and_sig_map_left(coefficients_regressor_eye_data_left, pvalue_coefficients_regressor_eye_data_left,\\\n",
    "                              'E:/FPP_files_and_codes/FPP_files/figure6_final_maps/beta_regressor_eyemovment_shift4_with_constant.L.func.gii',\\\n",
    "                               'E:/FPP_files_and_codes/FPP_files/figure6_final_maps/significance_beta_regressor_eyemovment_shift4_with_constant.L.func.gii' )"
   ]
  },
  {
   "cell_type": "code",
   "execution_count": 37,
   "metadata": {},
   "outputs": [
    {
     "name": "stderr",
     "output_type": "stream",
     "text": [
      "C:\\Users\\roza\\AppData\\Local\\Temp\\ipykernel_11416\\256085704.py:1: RuntimeWarning: divide by zero encountered in log\n",
      "  significance_beta_eyedata_right = -1* np.log(pvalue_coefficients_regressor_eye_data_right) * np.sign(coefficients_regressor_eye_data_right)\n",
      "C:\\Users\\roza\\AppData\\Local\\Temp\\ipykernel_11416\\256085704.py:1: RuntimeWarning: invalid value encountered in multiply\n",
      "  significance_beta_eyedata_right = -1* np.log(pvalue_coefficients_regressor_eye_data_right) * np.sign(coefficients_regressor_eye_data_right)\n",
      "C:\\Users\\roza\\AppData\\Local\\Temp\\ipykernel_11416\\256085704.py:2: RuntimeWarning: divide by zero encountered in log\n",
      "  significance_beta_eyedata_left = -1* np.log(pvalue_coefficients_regressor_eye_data_left) * np.sign(coefficients_regressor_eye_data_left)\n",
      "C:\\Users\\roza\\AppData\\Local\\Temp\\ipykernel_11416\\256085704.py:2: RuntimeWarning: invalid value encountered in multiply\n",
      "  significance_beta_eyedata_left = -1* np.log(pvalue_coefficients_regressor_eye_data_left) * np.sign(coefficients_regressor_eye_data_left)\n"
     ]
    }
   ],
   "source": [
    "significance_beta_eyedata_right = -1* np.log(pvalue_coefficients_regressor_eye_data_right) * np.sign(coefficients_regressor_eye_data_right)\n",
    "significance_beta_eyedata_left = -1* np.log(pvalue_coefficients_regressor_eye_data_left) * np.sign(coefficients_regressor_eye_data_left)"
   ]
  },
  {
   "cell_type": "markdown",
   "metadata": {},
   "source": [
    "# Beta values for FPPs"
   ]
  },
  {
   "cell_type": "code",
   "execution_count": 12,
   "metadata": {},
   "outputs": [],
   "source": [
    "mean_FPPs_activity = mean_FPPs_movie_data()"
   ]
  },
  {
   "cell_type": "code",
   "execution_count": 13,
   "metadata": {},
   "outputs": [
    {
     "data": {
      "text/plain": [
       "(5, 3655)"
      ]
     },
     "execution_count": 13,
     "metadata": {},
     "output_type": "execute_result"
    }
   ],
   "source": [
    "mean_FPPs_activity.shape"
   ]
  },
  {
   "cell_type": "code",
   "execution_count": 14,
   "metadata": {},
   "outputs": [],
   "source": [
    "eye_regressor_shifted_normalized_2d = eye_regressor_shifted_normalized.reshape(1, -1)\n",
    "\n",
    "X = eye_regressor_shifted_normalized_2d.T\n",
    "\n",
    "coefficients_regressor_eye_data_FPPs = np.zeros(5)\n",
    "\n",
    "pvalue_coefficients_regressor_eye_data_FPPs = np.zeros(5)\n",
    "\n",
    "stderr_coefficients_regressor_eye_data_FPPs = np.zeros(5)\n",
    "\n",
    "zero = np.zeros(3655)\n",
    "\n",
    "for (i,vertex_data) in enumerate(mean_FPPs_activity):\n",
    "    y = vertex_data\n",
    "    df = pd.DataFrame(X, columns=['X1'])\n",
    "    df['y'] = y\n",
    "\n",
    "    X = sm.add_constant(df[['X1']])\n",
    "    model = sm.GLM(df['y'], X, family=sm.families.Gaussian())\n",
    "\n",
    "    if not np.array_equal(vertex_data, zero):\n",
    "        result = model.fit()\n",
    "        coefficients = result.params\n",
    "\n",
    "        coefficients_regressor_eye_data_FPPs[i] = coefficients['X1']\n",
    "        \n",
    "        p_values = result.pvalues\n",
    "        pvalue_coefficients_regressor_eye_data_FPPs[i] = p_values['X1']\n",
    "        \n",
    "        standard_errors = result.bse\n",
    "        stderr_coefficients_regressor_eye_data_FPPs[i] = standard_errors['X1']"
   ]
  },
  {
   "cell_type": "code",
   "execution_count": 16,
   "metadata": {},
   "outputs": [
    {
     "data": {
      "image/png": "[encoded data removed]",
      "text/plain": [
       "<Figure size 600x600 with 1 Axes>"
      ]
     },
     "metadata": {},
     "output_type": "display_data"
    }
   ],
   "source": [
    "import matplotlib.pyplot as plt\n",
    "fig, ax = plt.subplots(figsize=(6, 6))\n",
    "\n",
    "plt.rcParams['font.size'] = 16\n",
    "plt.rcParams['font.family'] = 'Arial'\n",
    "ax.bar(np.arange(coefficients_regressor_eye_data_FPPs.shape[0]), coefficients_regressor_eye_data_FPPs, yerr=stderr_coefficients_regressor_eye_data_FPPs, capsize=10, color='blue')\n",
    "plt.xticks(np.arange(5), ['FPP1', 'FPP2', 'FPP3', 'FPP4', 'FPP5'])\n",
    "max_value = (coefficients_regressor_eye_data_FPPs + stderr_coefficients_regressor_eye_data_FPPs).max()\n",
    "ax.set_ylim(0, max_value + 0.05) \n",
    "# ax.set_ylabel('Regression coefficient',  labelpad=10)\n",
    "\n",
    "# plt.title('FPPs Beta eye movment regressor')\n",
    "ax.spines['top'].set_visible(False)\n",
    "ax.spines['right'].set_visible(False)\n",
    "\n",
    "plt.savefig('E:/FPP_files_and_codes/Figures/Figure6_files/panel_A/cofficients_regressor_eye_movment', dpi=1200, bbox_inches='tight')\n",
    "\n"
   ]
  },
  {
   "cell_type": "code",
   "execution_count": 25,
   "metadata": {},
   "outputs": [
    {
     "data": {
      "text/plain": [
       "array([0.14097324, 0.76817464, 0.73694058, 0.55331889, 0.40834461])"
      ]
     },
     "execution_count": 25,
     "metadata": {},
     "output_type": "execute_result"
    }
   ],
   "source": [
    "coefficients_regressor_eye_data_FPPs"
   ]
  },
  {
   "cell_type": "code",
   "execution_count": null,
   "metadata": {},
   "outputs": [],
   "source": []
  }
 ],
 "metadata": {
  "kernelspec": {
   "display_name": "Python 3",
   "language": "python",
   "name": "python3"
  },
  "language_info": {
   "codemirror_mode": {
    "name": "ipython",
    "version": 3
   },
   "file_extension": ".py",
   "mimetype": "text/x-python",
   "name": "python",
   "nbconvert_exporter": "python",
   "pygments_lexer": "ipython3",
   "version": "3.12.2"
  }
 },
 "nbformat": 4,
 "nbformat_minor": 2
}
