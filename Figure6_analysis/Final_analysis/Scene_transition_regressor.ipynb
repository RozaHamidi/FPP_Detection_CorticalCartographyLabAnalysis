{
 "cells": [
  {
   "cell_type": "code",
   "execution_count": 1,
   "metadata": {},
   "outputs": [],
   "source": [
    "import cv2\n",
    "import numpy as np\n",
    "from tqdm import tqdm\n",
    "import nibabel as nb\n",
    "import scipy.io\n",
    "import scipy\n",
    "from scipy import stats\n",
    "import math\n",
    "from scipy.stats import pearsonr\n",
    "import matplotlib.pyplot as plt\n"
   ]
  },
  {
   "cell_type": "code",
   "execution_count": null,
   "metadata": {},
   "outputs": [],
   "source": [
    "cap = cv2.VideoCapture('E:/FPP_files_and_codes/FPP_files/movies/concat_movies.mp4')\n",
    "\n",
    "ret, prev_frame = cap.read()\n",
    "prev_frame = cv2.cvtColor(prev_frame, cv2.COLOR_BGR2GRAY)\n",
    "\n",
    "MaxDifEachSecond = np.zeros(3655)\n",
    "MeanDifEachSecond = np.zeros(3655)\n",
    "ArrayDifSecond = np.zeros(24)\n",
    "\n",
    "FrameCounter = 1\n",
    "SecondCounter = 0\n",
    "total_frames = int(cap.get(cv2.CAP_PROP_FRAME_COUNT))\n",
    "Frame_num = []\n",
    "\n",
    "for i in tqdm(range(2,total_frames+2)):\n",
    "    \n",
    "    ret, frame = cap.read()\n",
    "    frame_gray = cv2.cvtColor(frame, cv2.COLOR_BGR2GRAY)\n",
    "        \n",
    "    if not ret:\n",
    "        break\n",
    "    FrameCounter += 1\n",
    "    if FrameCounter == 25:\n",
    "        MaxDifEachSecond[SecondCounter] = ArrayDifSecond.max()\n",
    "        MeanDifEachSecond[SecondCounter] = ArrayDifSecond.mean()\n",
    "        FrameCounter = 1\n",
    "        SecondCounter += 1\n",
    "    \n",
    "\n",
    "    # Find the absolute difference between the current frame and the previous frame\n",
    "    frame_diff = cv2.absdiff(frame_gray, prev_frame)\n",
    "    ArrayDifSecond[FrameCounter-1] = frame_diff.flatten().mean()\n",
    "\n",
    "    prev_frame = frame_gray\n",
    "\n",
    "# Release the video capture object and close all windows\n",
    "cap.release()\n",
    "cv2.destroyAllWindows()\n"
   ]
  },
  {
   "cell_type": "code",
   "execution_count": null,
   "metadata": {},
   "outputs": [],
   "source": [
    "np.save('E:/FPP_files_and_codes/FPP_files/scene_transition/regressor_absdif_intensity_pixels/regressor_mean_maxdif_pixel_intensitiy.npy', MaxDifEachSecond)"
   ]
  },
  {
   "cell_type": "code",
   "execution_count": null,
   "metadata": {},
   "outputs": [],
   "source": []
  }
 ],
 "metadata": {
  "kernelspec": {
   "display_name": "Python 3",
   "language": "python",
   "name": "python3"
  },
  "language_info": {
   "codemirror_mode": {
    "name": "ipython",
    "version": 3
   },
   "file_extension": ".py",
   "mimetype": "text/x-python",
   "name": "python",
   "nbconvert_exporter": "python",
   "pygments_lexer": "ipython3",
   "version": "3.12.2"
  }
 },
 "nbformat": 4,
 "nbformat_minor": 2
}
