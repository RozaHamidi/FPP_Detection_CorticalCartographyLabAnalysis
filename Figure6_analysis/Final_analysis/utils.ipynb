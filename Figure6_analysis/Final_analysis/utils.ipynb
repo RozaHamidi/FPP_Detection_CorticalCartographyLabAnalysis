{
 "cells": [
  {
   "cell_type": "code",
   "execution_count": 4,
   "metadata": {},
   "outputs": [],
   "source": [
    "import numpy as np\n",
    "import nibabel as nb\n",
    "import scipy.io"
   ]
  },
  {
   "cell_type": "code",
   "execution_count": 1,
   "metadata": {},
   "outputs": [],
   "source": [
    "def making_beta_and_sig_map_right(beta_values, p_values, path_beta_map, path_sig_beta_map):\n",
    "    beta_values_with_out_NAN = np.nan_to_num(beta_values)\n",
    "    beta_values_32 = beta_values_with_out_NAN.astype(np.float32)\n",
    "    temp_r_path = 'E:/FPP_files_and_codes/FPP_files/classic_place_patches/ROIs.R.func.gii'\n",
    "    temp_r = nb.load(temp_r_path)\n",
    "    temp_r.darrays[0].data = beta_values_32\n",
    "    temp_r.to_filename(path_beta_map)\n",
    "\n",
    "    significance_beta = -1* np.log(p_values) * np.sign(beta_values)\n",
    "    # significance_beta = np.nan_to_num(significance_beta, nan=0.0, posinf=0.0, neginf=0.0)\n",
    "    float32_significance_beta = significance_beta.astype(np.float32)\n",
    "    temp_r_path = 'E:/FPP_files_and_codes/FPP_files/classic_place_patches/ROIs.R.func.gii'\n",
    "    temp_r = nb.load(temp_r_path)\n",
    "    temp_r.darrays[0].data = float32_significance_beta\n",
    "    temp_r.to_filename(path_sig_beta_map)"
   ]
  },
  {
   "cell_type": "code",
   "execution_count": 2,
   "metadata": {},
   "outputs": [],
   "source": [
    "def making_beta_and_sig_map_left(beta_values, p_values, path_beta_map, path_sig_beta_map):\n",
    "    beta_values_with_out_NAN = np.nan_to_num(beta_values)\n",
    "    beta_values_32 = beta_values_with_out_NAN.astype(np.float32)\n",
    "    temp_l_path = 'E:/FPP_files_and_codes/FPP_files/classic_place_patches/ROIs.L.func.gii'\n",
    "    temp_l = nb.load(temp_l_path)\n",
    "    temp_l.darrays[0].data = beta_values_32\n",
    "    temp_l.to_filename(path_beta_map)\n",
    "    \n",
    "    significance_beta = -1* np.log(p_values) * np.sign(beta_values)\n",
    "    # significance_beta = np.nan_to_num(significance_beta, nan=0.0, posinf=0.0, neginf=0.0)\n",
    "    float32_significance_beta = significance_beta.astype(np.float32)\n",
    "    temp_l_path = 'E:/FPP_files_and_codes/FPP_files/classic_place_patches/ROIs.L.func.gii'\n",
    "    temp_l = nb.load(temp_l_path)\n",
    "    temp_l.darrays[0].data = float32_significance_beta\n",
    "    temp_l.to_filename(path_sig_beta_map)"
   ]
  },
  {
   "cell_type": "code",
   "execution_count": 3,
   "metadata": {},
   "outputs": [],
   "source": [
    "def mean_FPPs_movie_data():\n",
    "    \"\"\"\n",
    "    This function calculate mean activity of each FPP in movie watching data by getting the mean of left and right vertices activity for each second\n",
    "\n",
    "    Return:\n",
    "    numpy array: A 2D numpy array with shape (5, 3655), where each element represents the mean activity of an FPP for each second.\n",
    "    \n",
    "    \"\"\"\n",
    "    left_movie_data = scipy.io.loadmat('E:/FPP_files_and_codes/FPP_files/Movie_watching_avg_data/notmean_left_Meanfile.mat')['Left_data']\n",
    "    right_movie_data = scipy.io.loadmat('E:/FPP_files_and_codes/FPP_files/Movie_watching_avg_data/notmean_right_Meanfile.mat')['Right_data']\n",
    "    FPPs_right = (nb.load('E:/FPP_files_and_codes/FPP_files/FPPs_combined/FPPs.rh.func.gii').darrays[0].data).T\n",
    "    FPPs_left = (nb.load('E:/FPP_files_and_codes/FPP_files/FPPs_combined/FPPs.lh.func.gii').darrays[0].data).T\n",
    "    right_FPPs_indices = [np.nonzero(FPPs_right[i]) for i in range(5)]\n",
    "    left_FPPs_indices = [np.nonzero(FPPs_left[i]) for i in range(5)]\n",
    "    activity_of_FPPs = [np.concatenate((right_movie_data[right_FPPs_indices[i]], left_movie_data[left_FPPs_indices[i]])) for i in range(5)]\n",
    "    mean_FPPs_activity = np.array([np.mean(activity_of_FPPs[i], axis=0) for i in range(5)])\n",
    "    return mean_FPPs_activity"
   ]
  },
  {
   "cell_type": "code",
   "execution_count": null,
   "metadata": {},
   "outputs": [],
   "source": []
  }
 ],
 "metadata": {
  "kernelspec": {
   "display_name": "Python 3",
   "language": "python",
   "name": "python3"
  },
  "language_info": {
   "codemirror_mode": {
    "name": "ipython",
    "version": 3
   },
   "file_extension": ".py",
   "mimetype": "text/x-python",
   "name": "python",
   "nbconvert_exporter": "python",
   "pygments_lexer": "ipython3",
   "version": "3.12.2"
  }
 },
 "nbformat": 4,
 "nbformat_minor": 2
}
