{
 "cells": [
  {
   "cell_type": "code",
   "execution_count": 11,
   "metadata": {},
   "outputs": [],
   "source": [
    "import numpy as np\n",
    "import nibabel as nb"
   ]
  },
  {
   "cell_type": "code",
   "execution_count": 13,
   "metadata": {},
   "outputs": [],
   "source": [
    "def making_beta_and_sig_map_right(beta_values, p_values, path_beta_map, path_sig_beta_map):\n",
    "    beta_values_with_out_NAN = np.nan_to_num(beta_values)\n",
    "    beta_values_32 = beta_values_with_out_NAN.astype(np.float32)\n",
    "    temp_r_path = 'E:/FPP_files_and_codes/FPP_files/classic_place_patches/ROIs.R.func.gii'\n",
    "    temp_r = nb.load(temp_r_path)\n",
    "    temp_r.darrays[0].data = beta_values_32\n",
    "    temp_r.to_filename(path_beta_map)\n",
    "\n",
    "    significance_beta = -1* np.log(p_values) * np.sign(beta_values)\n",
    "    # significance_beta = np.nan_to_num(significance_beta, nan=0.0, posinf=0.0, neginf=0.0)\n",
    "    float32_significance_beta = significance_beta.astype(np.float32)\n",
    "    temp_r_path = 'E:/FPP_files_and_codes/FPP_files/classic_place_patches/ROIs.R.func.gii'\n",
    "    temp_r = nb.load(temp_r_path)\n",
    "    temp_r.darrays[0].data = float32_significance_beta\n",
    "    temp_r.to_filename(path_sig_beta_map)"
   ]
  },
  {
   "cell_type": "code",
   "execution_count": 9,
   "metadata": {},
   "outputs": [],
   "source": [
    "def making_beta_and_sig_map_left(beta_values, p_values, path_beta_map, path_sig_beta_map):\n",
    "    beta_values = np.nan_to_num(beta_values)\n",
    "    beta_values_32 = beta_values.astype(np.float32)\n",
    "    temp_l_path = 'E:/FPP_files_and_codes/FPP_files/classic_place_patches/ROIs.L.func.gii'\n",
    "    temp_l = nb.load(temp_l_path)\n",
    "    temp_l.darrays[0].data = beta_values_32\n",
    "    temp_l.to_filename(path_beta_map)\n",
    "    significance_beta = -1* np.log(p_values) * np.sign(beta_values)\n",
    "    significance_beta = np.nan_to_num(significance_beta, nan=0.0, posinf=0.0, neginf=0.0)\n",
    "    float32_significance_beta = significance_beta.astype(np.float32)\n",
    "    temp_l_path = 'E:/FPP_files_and_codes/FPP_files/classic_place_patches/ROIs.L.func.gii'\n",
    "    temp_l = nb.load(temp_l_path)\n",
    "    temp_l.darrays[0].data = float32_significance_beta\n",
    "    temp_l.to_filename(path_sig_beta_map)"
   ]
  },
  {
   "cell_type": "code",
   "execution_count": null,
   "metadata": {},
   "outputs": [],
   "source": []
  }
 ],
 "metadata": {
  "kernelspec": {
   "display_name": "Python 3",
   "language": "python",
   "name": "python3"
  },
  "language_info": {
   "codemirror_mode": {
    "name": "ipython",
    "version": 3
   },
   "file_extension": ".py",
   "mimetype": "text/x-python",
   "name": "python",
   "nbconvert_exporter": "python",
   "pygments_lexer": "ipython3",
   "version": "3.12.2"
  }
 },
 "nbformat": 4,
 "nbformat_minor": 2
}
