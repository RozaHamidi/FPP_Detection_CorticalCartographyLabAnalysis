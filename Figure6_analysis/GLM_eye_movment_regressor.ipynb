{
 "cells": [
  {
   "cell_type": "code",
   "execution_count": 1,
   "metadata": {},
   "outputs": [],
   "source": [
    "import numpy as np\n",
    "import nibabel as nb\n",
    "import scipy.io\n",
    "import statsmodels.api as sm\n",
    "import pandas as pd\n",
    "from ipynb.fs.full.utils import *"
   ]
  },
  {
   "cell_type": "code",
   "execution_count": 2,
   "metadata": {},
   "outputs": [],
   "source": [
    "eye_data = scipy.io.loadmat('E:/FPP_files_and_codes/FPP_files/eye_movment_data/final162.mat')"
   ]
  },
  {
   "cell_type": "code",
   "execution_count": 3,
   "metadata": {},
   "outputs": [],
   "source": [
    "eye_data = eye_data['final162']"
   ]
  },
  {
   "cell_type": "code",
   "execution_count": 4,
   "metadata": {},
   "outputs": [
    {
     "data": {
      "text/plain": [
       "(1, 3655)"
      ]
     },
     "execution_count": 4,
     "metadata": {},
     "output_type": "execute_result"
    }
   ],
   "source": [
    "eye_data.shape"
   ]
  },
  {
   "cell_type": "code",
   "execution_count": 5,
   "metadata": {},
   "outputs": [],
   "source": [
    "eye_data = eye_data.squeeze(0)"
   ]
  },
  {
   "cell_type": "code",
   "execution_count": 6,
   "metadata": {},
   "outputs": [
    {
     "data": {
      "text/plain": [
       "(3655,)"
      ]
     },
     "execution_count": 6,
     "metadata": {},
     "output_type": "execute_result"
    }
   ],
   "source": [
    "eye_data.shape"
   ]
  },
  {
   "cell_type": "code",
   "execution_count": 7,
   "metadata": {},
   "outputs": [],
   "source": [
    "shift = 4\n",
    "eye_data_shifted = np.roll(eye_data, shift)"
   ]
  },
  {
   "cell_type": "code",
   "execution_count": 8,
   "metadata": {},
   "outputs": [
    {
     "data": {
      "text/plain": [
       "array([49.00642113, 71.04398563, 77.62893563, 56.82734859, 65.92465789,\n",
       "       48.32658017, 60.78593505, 43.26561335, 63.90311461, 49.93808635])"
      ]
     },
     "execution_count": 8,
     "metadata": {},
     "output_type": "execute_result"
    }
   ],
   "source": [
    "eye_data_shifted[0:10]"
   ]
  },
  {
   "cell_type": "code",
   "execution_count": 9,
   "metadata": {},
   "outputs": [
    {
     "data": {
      "text/plain": [
       "array([65.92465789, 48.32658017, 60.78593505, 43.26561335, 63.90311461,\n",
       "       49.93808635, 43.69327045, 28.87276081, 43.73252546, 45.83300632])"
      ]
     },
     "execution_count": 9,
     "metadata": {},
     "output_type": "execute_result"
    }
   ],
   "source": [
    "eye_data[0:10]"
   ]
  },
  {
   "cell_type": "code",
   "execution_count": 10,
   "metadata": {},
   "outputs": [],
   "source": [
    "left_data = scipy.io.loadmat('E:/FPP_files_and_codes/FPP_files/Movie_watching_avg_data/notmean_left_Meanfile.mat')['Left_data']\n",
    "right_data = scipy.io.loadmat('E:/FPP_files_and_codes/FPP_files/Movie_watching_avg_data/notmean_right_Meanfile.mat')['Right_data']"
   ]
  },
  {
   "cell_type": "code",
   "execution_count": null,
   "metadata": {},
   "outputs": [],
   "source": []
  },
  {
   "cell_type": "code",
   "execution_count": 11,
   "metadata": {},
   "outputs": [],
   "source": [
    "sifted_regressor_eye_data_2d = eye_data_shifted.reshape(1, -1)\n",
    "\n",
    "X = sifted_regressor_eye_data_2d.T\n",
    "\n",
    "coefficients_regressor_eye_data_right = np.zeros(32492)\n",
    "\n",
    "pvalue_coefficients_regressor_eye_data_right = np.zeros(32492)\n",
    "\n",
    "\n",
    "zero = np.zeros(3655)\n",
    "\n",
    "for (i,vertex_data) in enumerate(right_data):\n",
    "    y = vertex_data\n",
    "    df = pd.DataFrame(X, columns=['X1'])\n",
    "    df['y'] = y\n",
    "\n",
    "    X = sm.add_constant(df[['X1']])\n",
    "    model = sm.GLM(df['y'], X, family=sm.families.Gaussian())\n",
    "\n",
    "    if not np.array_equal(vertex_data, zero):\n",
    "        result = model.fit()\n",
    "        coefficients = result.params\n",
    "\n",
    "        coefficients_regressor_eye_data_right[i] = coefficients['X1']\n",
    "        \n",
    "        p_values = result.pvalues\n",
    "        pvalue_coefficients_regressor_eye_data_right[i] = p_values['X1']"
   ]
  },
  {
   "cell_type": "code",
   "execution_count": 97,
   "metadata": {},
   "outputs": [
    {
     "data": {
      "text/plain": [
       "array([-7.86690169e-05, -1.89596811e-04, -6.84768430e-05, ...,\n",
       "       -2.48152099e-05, -1.46855564e-05,  2.03176315e-05])"
      ]
     },
     "execution_count": 97,
     "metadata": {},
     "output_type": "execute_result"
    }
   ],
   "source": [
    "coefficients_regressor_eye_data_right"
   ]
  },
  {
   "cell_type": "code",
   "execution_count": 12,
   "metadata": {},
   "outputs": [
    {
     "name": "stderr",
     "output_type": "stream",
     "text": [
      "e:\\FPP_files_and_codes\\FPP_codebase\\Figure6_analysis\\Final_analysis\\utils.ipynb:17: RuntimeWarning: divide by zero encountered in log\n",
      "  \"outputs\": [],\n",
      "e:\\FPP_files_and_codes\\FPP_codebase\\Figure6_analysis\\Final_analysis\\utils.ipynb:17: RuntimeWarning: invalid value encountered in multiply\n",
      "  \"outputs\": [],\n"
     ]
    }
   ],
   "source": [
    "making_beta_and_sig_map_right(coefficients_regressor_eye_data_right, pvalue_coefficients_regressor_eye_data_right,\\\n",
    "                              'E:/FPP_files_and_codes/FPP_files/eye_movment_maps/beta_regressor_eye_movment_with_constant_shift4.R.func.gii',\\\n",
    "                              'E:/FPP_files_and_codes/FPP_files/eye_movment_maps/significance_beta_regressor_eye_movment_with_constant_shift4.R.func.gii')"
   ]
  },
  {
   "cell_type": "code",
   "execution_count": null,
   "metadata": {},
   "outputs": [],
   "source": []
  },
  {
   "cell_type": "code",
   "execution_count": 13,
   "metadata": {},
   "outputs": [],
   "source": [
    "shifted_regressor_eye_data_2d = eye_data_shifted.reshape(1, -1)\n",
    "\n",
    "X = shifted_regressor_eye_data_2d.T\n",
    "\n",
    "coefficients_regressor_eye_data_left = np.zeros(32492)\n",
    "\n",
    "pvalue_coefficients_regressor_eye_data_left = np.zeros(32492)\n",
    "\n",
    "\n",
    "zero = np.zeros(3655)\n",
    "\n",
    "for (i,vertex_data) in enumerate(left_data):\n",
    "    y = vertex_data\n",
    "    df = pd.DataFrame(X, columns=['X1'])\n",
    "    df['y'] = y\n",
    "\n",
    "    X = sm.add_constant(df[['X1']])\n",
    "    model = sm.GLM(df['y'], X, family=sm.families.Gaussian())\n",
    "\n",
    "    if not np.array_equal(vertex_data, zero):\n",
    "        result = model.fit()\n",
    "        coefficients = result.params\n",
    "\n",
    "        coefficients_regressor_eye_data_left[i] = coefficients['X1']\n",
    "        \n",
    "        p_values = result.pvalues\n",
    "        pvalue_coefficients_regressor_eye_data_left[i] = p_values['X1']"
   ]
  },
  {
   "cell_type": "code",
   "execution_count": 14,
   "metadata": {},
   "outputs": [
    {
     "name": "stderr",
     "output_type": "stream",
     "text": [
      "e:\\FPP_files_and_codes\\FPP_codebase\\Figure6_analysis\\Final_analysis\\utils.ipynb:32: RuntimeWarning: divide by zero encountered in log\n",
      "  \"    temp_r.darrays[0].data = float32_significance_beta\\n\",\n",
      "e:\\FPP_files_and_codes\\FPP_codebase\\Figure6_analysis\\Final_analysis\\utils.ipynb:32: RuntimeWarning: invalid value encountered in multiply\n",
      "  \"    temp_r.darrays[0].data = float32_significance_beta\\n\",\n"
     ]
    }
   ],
   "source": [
    "making_beta_and_sig_map_left(coefficients_regressor_eye_data_left, pvalue_coefficients_regressor_eye_data_left,\\\n",
    "                              'E:/FPP_files_and_codes/FPP_files/eye_movment_maps/beta_regressor_eye_movment_with_constant_shift4.L.func.gii',\\\n",
    "                              'E:/FPP_files_and_codes/FPP_files/eye_movment_maps/significance_beta_regressor_eye_movment_with_constant_shift4.L.func.gii')"
   ]
  },
  {
   "cell_type": "code",
   "execution_count": null,
   "metadata": {},
   "outputs": [],
   "source": []
  }
 ],
 "metadata": {
  "kernelspec": {
   "display_name": "Python 3",
   "language": "python",
   "name": "python3"
  },
  "language_info": {
   "codemirror_mode": {
    "name": "ipython",
    "version": 3
   },
   "file_extension": ".py",
   "mimetype": "text/x-python",
   "name": "python",
   "nbconvert_exporter": "python",
   "pygments_lexer": "ipython3",
   "version": "3.12.2"
  }
 },
 "nbformat": 4,
 "nbformat_minor": 2
}
