{
 "cells": [
  {
   "cell_type": "code",
   "execution_count": 3,
   "metadata": {},
   "outputs": [],
   "source": [
    "import nibabel as nb\n",
    "import numpy as np\n",
    "import scipy.io\n",
    "import scipy\n",
    "from scipy import stats\n",
    "import math\n",
    "import pandas as pd\n",
    "import statsmodels.api as sm"
   ]
  },
  {
   "cell_type": "code",
   "execution_count": 5,
   "metadata": {},
   "outputs": [],
   "source": [
    "\n",
    "def compute_correlation_and_save_maps_right(data, temp_r_path, output_corr_path, output_signif_path):\n",
    "    # Load data\n",
    "    right_data = scipy.io.loadmat('E:/FPP_files_and_codes/FPP_files/Movie_watching_avg_data/notmean_right_Meanfile.mat')['Right_data']\n",
    "    \n",
    "    # Initialize arrays for correlation and p-values\n",
    "    corr_right = np.zeros(32492)\n",
    "    pvalue_right = np.zeros(32492)\n",
    "    \n",
    "    # Compute correlation and p-values\n",
    "    for i in range(32492):\n",
    "        corr, p_value = stats.pearsonr(data, right_data[i])\n",
    "        corr_right[i] = corr\n",
    "        pvalue_right[i] = p_value\n",
    "    \n",
    "    # Handle NaNs and convert to float32\n",
    "    corr_right = np.nan_to_num(corr_right)\n",
    "    pvalue_right = np.nan_to_num(pvalue_right)\n",
    "    corr_right_32 = corr_right.astype(np.float32)\n",
    "    \n",
    "    # Load template, set correlation data, and save\n",
    "    temp_r = nb.load(temp_r_path)\n",
    "    temp_r.darrays[0].data = corr_right_32\n",
    "    temp_r.to_filename(output_corr_path)\n",
    "    \n",
    "    # Compute significance map\n",
    "    significance_right = -1 * np.log(pvalue_right) * np.sign(corr_right)\n",
    "    significance_right = np.nan_to_num(significance_right, nan=0.0, posinf=0.0, neginf=0.0)\n",
    "    significance_right_32 = significance_right.astype(np.float32)\n",
    "    \n",
    "    # Load template, set significance data, and save\n",
    "    temp_r = nb.load(temp_r_path)\n",
    "    temp_r.darrays[0].data = significance_right_32\n",
    "    temp_r.to_filename(output_signif_path)"
   ]
  },
  {
   "cell_type": "code",
   "execution_count": 9,
   "metadata": {},
   "outputs": [],
   "source": [
    "eye_data = scipy.io.loadmat('E:/FPP_files_and_codes/FPP_files/eye_movment_data/final162.mat')['final162']"
   ]
  },
  {
   "cell_type": "code",
   "execution_count": 12,
   "metadata": {},
   "outputs": [],
   "source": [
    "eye_data = eye_data.squeeze(0)"
   ]
  },
  {
   "cell_type": "code",
   "execution_count": 13,
   "metadata": {},
   "outputs": [
    {
     "data": {
      "text/plain": [
       "(3655,)"
      ]
     },
     "execution_count": 13,
     "metadata": {},
     "output_type": "execute_result"
    }
   ],
   "source": [
    "eye_data.shape"
   ]
  },
  {
   "cell_type": "code",
   "execution_count": 14,
   "metadata": {},
   "outputs": [],
   "source": [
    "shift = 4\n",
    "eye_regressor_shifted = np.roll(eye_data, shift)"
   ]
  },
  {
   "cell_type": "code",
   "execution_count": 19,
   "metadata": {},
   "outputs": [
    {
     "data": {
      "text/plain": [
       "(3655,)"
      ]
     },
     "execution_count": 19,
     "metadata": {},
     "output_type": "execute_result"
    }
   ],
   "source": [
    "eye_regressor_shifted.shape"
   ]
  },
  {
   "cell_type": "code",
   "execution_count": 15,
   "metadata": {},
   "outputs": [
    {
     "name": "stderr",
     "output_type": "stream",
     "text": [
      "C:\\Users\\roza\\AppData\\Local\\Temp\\ipykernel_14488\\1760524458.py:11: ConstantInputWarning: An input array is constant; the correlation coefficient is not defined.\n",
      "  corr, p_value = stats.pearsonr(data, right_data[i])\n",
      "C:\\Users\\roza\\AppData\\Local\\Temp\\ipykernel_14488\\1760524458.py:27: RuntimeWarning: divide by zero encountered in log\n",
      "  significance_right = -1 * np.log(pvalue_right) * np.sign(corr_right)\n",
      "C:\\Users\\roza\\AppData\\Local\\Temp\\ipykernel_14488\\1760524458.py:27: RuntimeWarning: invalid value encountered in multiply\n",
      "  significance_right = -1 * np.log(pvalue_right) * np.sign(corr_right)\n"
     ]
    }
   ],
   "source": [
    "compute_correlation_and_save_maps_right(eye_regressor_shifted, 'E:/FPP_files_and_codes/FPP_files/classic_place_patches/ROIs.R.func.gii',\\\n",
    "                                        'E:/FPP_files_and_codes/FPP_files/eye_movment_maps/correlation_regressor_eye_movment.R.func.gii',\\\n",
    "                                        'E:/FPP_files_and_codes/FPP_files/eye_movment_maps/significance_correlation_regressor_eye_movment.R.func.gii')"
   ]
  },
  {
   "cell_type": "code",
   "execution_count": 20,
   "metadata": {},
   "outputs": [],
   "source": [
    "\n",
    "def compute_correlation_and_save_maps_left(data, temp_l_path, output_corr_path, output_signif_path):\n",
    "    # Load data\n",
    "    left_data = scipy.io.loadmat('E:/FPP_files_and_codes/FPP_files/Movie_watching_avg_data/notmean_left_Meanfile.mat')['Left_data']\n",
    "    \n",
    "    # Initialize arrays for correlation and p-values\n",
    "    corr_left = np.zeros(32492)\n",
    "    pvalue_left = np.zeros(32492)\n",
    "    \n",
    "    # Compute correlation and p-values\n",
    "    for i in range(32492):\n",
    "        corr, p_value = stats.pearsonr(data, left_data[i])\n",
    "        corr_left[i] = corr\n",
    "        pvalue_left[i] = p_value\n",
    "    \n",
    "    # Handle NaNs and convert to float32\n",
    "    corr_left = np.nan_to_num(corr_left)\n",
    "    pvalue_left = np.nan_to_num(pvalue_left)\n",
    "    corr_left_32 = corr_left.astype(np.float32)\n",
    "    \n",
    "    # Load template, set correlation data, and save\n",
    "    temp_l = nb.load(temp_l_path)\n",
    "    temp_l.darrays[0].data = corr_left_32\n",
    "    temp_l.to_filename(output_corr_path)\n",
    "    \n",
    "    # Compute significance map\n",
    "    significance_left = -1 * np.log(pvalue_left) * np.sign(corr_left)\n",
    "    significance_left = np.nan_to_num(significance_left, nan=0.0, posinf=0.0, neginf=0.0)\n",
    "    significance_left_32 = significance_left.astype(np.float32)\n",
    "    \n",
    "    # Load template, set significance data, and save\n",
    "    temp_l = nb.load(temp_l_path)\n",
    "    temp_l.darrays[0].data = significance_left_32\n",
    "    temp_l.to_filename(output_signif_path)"
   ]
  },
  {
   "cell_type": "code",
   "execution_count": 21,
   "metadata": {},
   "outputs": [
    {
     "name": "stderr",
     "output_type": "stream",
     "text": [
      "C:\\Users\\roza\\AppData\\Local\\Temp\\ipykernel_14488\\230153627.py:11: ConstantInputWarning: An input array is constant; the correlation coefficient is not defined.\n",
      "  corr, p_value = stats.pearsonr(data, left_data[i])\n",
      "C:\\Users\\roza\\AppData\\Local\\Temp\\ipykernel_14488\\230153627.py:26: RuntimeWarning: divide by zero encountered in log\n",
      "  significance_left = -1 * np.log(pvalue_left) * np.sign(corr_left)\n",
      "C:\\Users\\roza\\AppData\\Local\\Temp\\ipykernel_14488\\230153627.py:26: RuntimeWarning: invalid value encountered in multiply\n",
      "  significance_left = -1 * np.log(pvalue_left) * np.sign(corr_left)\n"
     ]
    }
   ],
   "source": [
    "compute_correlation_and_save_maps_left(eye_regressor_shifted, 'E:/FPP_files_and_codes/FPP_files/classic_place_patches/ROIs.L.func.gii',\\\n",
    "                                        'E:/FPP_files_and_codes/FPP_files/eye_movment_maps/correlation_regressor_eye_movment.L.func.gii',\\\n",
    "                                        'E:/FPP_files_and_codes/FPP_files/eye_movment_maps/significance_correlation_regressor_eye_movment.L.func.gii')"
   ]
  },
  {
   "cell_type": "code",
   "execution_count": null,
   "metadata": {},
   "outputs": [],
   "source": []
  }
 ],
 "metadata": {
  "kernelspec": {
   "display_name": "Python 3",
   "language": "python",
   "name": "python3"
  },
  "language_info": {
   "codemirror_mode": {
    "name": "ipython",
    "version": 3
   },
   "file_extension": ".py",
   "mimetype": "text/x-python",
   "name": "python",
   "nbconvert_exporter": "python",
   "pygments_lexer": "ipython3",
   "version": "3.12.2"
  }
 },
 "nbformat": 4,
 "nbformat_minor": 2
}
