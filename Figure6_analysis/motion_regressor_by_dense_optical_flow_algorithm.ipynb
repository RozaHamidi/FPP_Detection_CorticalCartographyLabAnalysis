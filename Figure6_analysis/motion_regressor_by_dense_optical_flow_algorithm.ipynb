{
 "cells": [
  {
   "cell_type": "code",
   "execution_count": 1,
   "metadata": {},
   "outputs": [],
   "source": [
    "import cv2\n",
    "import numpy as np\n",
    "from tqdm import tqdm\n",
    "import nibabel as nb"
   ]
  },
  {
   "cell_type": "code",
   "execution_count": 6,
   "metadata": {},
   "outputs": [
    {
     "name": "stderr",
     "output_type": "stream",
     "text": [
      "100%|██████████| 87720/87720 [12:33:22<00:00,  1.94it/s]     "
     ]
    },
    {
     "name": "stdout",
     "output_type": "stream",
     "text": [
      "CPU times: total: 7h 24min 46s\n",
      "Wall time: 12h 33min 22s\n"
     ]
    },
    {
     "name": "stderr",
     "output_type": "stream",
     "text": [
      "\n"
     ]
    }
   ],
   "source": [
    "%%time\n",
    "\n",
    "#Reading the video\n",
    "cap = cv2.VideoCapture('E:/FPP_files_and_codes/FPP_files/movies/concat_movies.mp4')\n",
    "\n",
    "#Get the number of total frames in the movie\n",
    "total_frames = int(cap.get(cv2.CAP_PROP_FRAME_COUNT))\n",
    "\n",
    "# Get the frame rate of the video\n",
    "fps = int(cap.get(cv2.CAP_PROP_FPS))\n",
    "\n",
    "# Calculate duration (in seconds)\n",
    "duration = int(total_frames / fps)\n",
    "\n",
    "\n",
    "# vector mean and variance for all frames\n",
    "mean_magnitude_vectors_in_each_second = np.zeros(3655)\n",
    "\n",
    "# Read the first frame\n",
    "ret, frame1 = cap.read()\n",
    "prev_gray = cv2.cvtColor(frame1, cv2.COLOR_BGR2GRAY)\n",
    "\n",
    "\n",
    "frame_counter = 1\n",
    "second_counter = 0\n",
    "\n",
    "VectorList = []\n",
    "\n",
    "for i in tqdm(range(2,total_frames-2)):\n",
    "\n",
    "    ret, frame2 = cap.read()    \n",
    "    if not ret:\n",
    "        break\n",
    "\n",
    "    frame_counter += 1\n",
    "    if frame_counter == 25:\n",
    "        magnitude_ = np.concatenate(np.array(VectorList))\n",
    "        mean_magnitude_vectors_in_each_second[second_counter] = np.mean(magnitude_)\n",
    "        second_counter += 1\n",
    "        frame_counter = 1\n",
    "        VectorList.clear()\n",
    "        \n",
    "        \n",
    "    # Convert the current frame to grayscale\n",
    "    gray = cv2.cvtColor(frame2, cv2.COLOR_BGR2GRAY)\n",
    "\n",
    "    # Calculate dense optical flow using Farneback method\n",
    "    flow = cv2.calcOpticalFlowFarneback(prev_gray, gray, None, 0.5, 3, 15, 3, 5, 1.2, 0)\n",
    "\n",
    "    # Compute the magnitude and angle of the flow vectors\n",
    "    magnitude, angle = cv2.cartToPolar(flow[..., 0], flow[..., 1])\n",
    "    magnitude = magnitude.flatten()\n",
    "    VectorList.append(magnitude)\n",
    "  \n",
    "    # Update the previous frame\n",
    "    prev_gray = gray\n",
    "    \n"
   ]
  },
  {
   "cell_type": "code",
   "execution_count": 16,
   "metadata": {},
   "outputs": [],
   "source": [
    "np.save('E:/FPP_files_and_codes/FPP_files/dense_optical_flow_vectors/mean_magnitude_vectors_in_each_second.npy', mean_magnitude_vectors_in_each_second)"
   ]
  },
  {
   "cell_type": "code",
   "execution_count": 17,
   "metadata": {},
   "outputs": [
    {
     "data": {
      "text/plain": [
       "array([2.09706443e-04, 7.72731892e-06, 2.05366769e-06, ...,\n",
       "       0.00000000e+00, 9.16444431e-09, 0.00000000e+00])"
      ]
     },
     "execution_count": 17,
     "metadata": {},
     "output_type": "execute_result"
    }
   ],
   "source": [
    "mean_magnitude_vectors_in_each_second"
   ]
  },
  {
   "cell_type": "code",
   "execution_count": null,
   "metadata": {},
   "outputs": [],
   "source": []
  }
 ],
 "metadata": {
  "kernelspec": {
   "display_name": "Python 3",
   "language": "python",
   "name": "python3"
  },
  "language_info": {
   "codemirror_mode": {
    "name": "ipython",
    "version": 3
   },
   "file_extension": ".py",
   "mimetype": "text/x-python",
   "name": "python",
   "nbconvert_exporter": "python",
   "pygments_lexer": "ipython3",
   "version": "3.12.2"
  }
 },
 "nbformat": 4,
 "nbformat_minor": 2
}
