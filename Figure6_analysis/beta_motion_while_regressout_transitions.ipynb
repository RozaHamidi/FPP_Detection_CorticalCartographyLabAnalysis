{
 "cells": [
  {
   "cell_type": "code",
   "execution_count": 1,
   "metadata": {},
   "outputs": [],
   "source": [
    "import nibabel as nb\n",
    "import numpy as np\n",
    "import scipy.io\n",
    "import scipy\n",
    "from scipy import stats\n",
    "import math\n",
    "import pandas as pd\n",
    "import statsmodels.api as sm"
   ]
  },
  {
   "cell_type": "code",
   "execution_count": 2,
   "metadata": {},
   "outputs": [
    {
     "name": "stderr",
     "output_type": "stream",
     "text": [
      "<>:2: SyntaxWarning: invalid escape sequence '\\F'\n",
      "<>:2: SyntaxWarning: invalid escape sequence '\\F'\n",
      "C:\\Users\\roza\\AppData\\Local\\Temp\\ipykernel_111544\\2296880036.py:2: SyntaxWarning: invalid escape sequence '\\F'\n",
      "  regressor_scene_transitions = np.load('E:\\FPP_files_and_codes\\FPP_files\\scene_transition/regressor_absdif_intensity_pixels/regressor_mean_maxdif_pixel_intensitiy.npy')\n"
     ]
    }
   ],
   "source": [
    "regressor_mean_magnitude_motion_vectors = np.load('D:/place_ROIs_project/Phase5_AnalysisBasedOnPickActivityEachPatch/MotionBrainMaps/MotionMeanMap.npy')\n",
    "regressor_scene_transitions = np.load('E:\\FPP_files_and_codes\\FPP_files\\scene_transition/regressor_absdif_intensity_pixels/regressor_mean_maxdif_pixel_intensitiy.npy')\n"
   ]
  },
  {
   "cell_type": "code",
   "execution_count": 5,
   "metadata": {},
   "outputs": [
    {
     "data": {
      "text/plain": [
       "array([2.96055170e-03, 1.62519290e-04, 7.23379630e-06, ...,\n",
       "       0.00000000e+00, 1.44675926e-06, 0.00000000e+00])"
      ]
     },
     "execution_count": 5,
     "metadata": {},
     "output_type": "execute_result"
    }
   ],
   "source": [
    "regressor_scene_transitions"
   ]
  },
  {
   "cell_type": "code",
   "execution_count": 7,
   "metadata": {},
   "outputs": [],
   "source": [
    "delay = 5\n",
    "sifted_regressor_mean_magnitude_motion_vectors = np.roll(regressor_mean_magnitude_motion_vectors, delay)\n",
    "sifted_regressor_scene_transitions = np.roll(regressor_scene_transitions, delay)"
   ]
  },
  {
   "cell_type": "code",
   "execution_count": 10,
   "metadata": {},
   "outputs": [
    {
     "data": {
      "text/plain": [
       "(1, 3655)"
      ]
     },
     "execution_count": 10,
     "metadata": {},
     "output_type": "execute_result"
    }
   ],
   "source": [
    "sifted_regressor_mean_magnitude_motion_vectors.reshape(1, -1).shape"
   ]
  },
  {
   "cell_type": "code",
   "execution_count": 11,
   "metadata": {},
   "outputs": [],
   "source": [
    "left_data = scipy.io.loadmat('E:/FPP_files_and_codes/FPP_files/Movie_watching_avg_data/notmean_left_Meanfile.mat')['Left_data']\n",
    "right_data = scipy.io.loadmat('E:/FPP_files_and_codes/FPP_files/Movie_watching_avg_data/notmean_right_Meanfile.mat')['Right_data']"
   ]
  },
  {
   "cell_type": "code",
   "execution_count": null,
   "metadata": {},
   "outputs": [],
   "source": []
  },
  {
   "cell_type": "code",
   "execution_count": 13,
   "metadata": {},
   "outputs": [],
   "source": [
    "sifted_regressor_mean_magnitude_motion_vectors_2d = sifted_regressor_mean_magnitude_motion_vectors.reshape(1, -1)\n",
    "sifted_regressor_scene_transitions_2d = sifted_regressor_scene_transitions.reshape(1, -1)\n",
    "X = np.concatenate((sifted_regressor_mean_magnitude_motion_vectors_2d, sifted_regressor_scene_transitions_2d), axis=0).T\n",
    "\n",
    "coefficients_regressor_motion_right = np.zeros(32492)\n",
    "coefficients_regrssor_transition_right = np.zeros(32492)\n",
    "\n",
    "pvalue_coefficients_regressor_motion_right = np.zeros(32492)\n",
    "pvalue_coefficients_regrssor_transition_right = np.zeros(32492)\n",
    "\n",
    "\n",
    "zero = np.zeros(3655)\n",
    "\n",
    "for (i,vertex_data) in enumerate(right_data):\n",
    "    y = vertex_data\n",
    "    df = pd.DataFrame(X, columns=['X1', 'X2'])\n",
    "    df['y'] = y\n",
    "\n",
    "    X = sm.add_constant(df[['X1', 'X2']])\n",
    "    model = sm.GLM(df['y'], X, family=sm.families.Gaussian())\n",
    "    if not np.array_equal(vertex_data, zero):\n",
    "        result = model.fit()\n",
    "        coefficients = result.params\n",
    "\n",
    "        coefficients_regressor_motion_right[i] = coefficients['X1']\n",
    "        coefficients_regrssor_transition_right[i] = coefficients['X2']\n",
    "        \n",
    "        p_values = result.pvalues\n",
    "        pvalue_coefficients_regressor_motion_right[i] = p_values['X1']\n",
    "        pvalue_coefficients_regrssor_transition_right[i] = p_values['X2']"
   ]
  },
  {
   "cell_type": "code",
   "execution_count": 15,
   "metadata": {},
   "outputs": [],
   "source": [
    "coefficients_regressor_motion_right = np.nan_to_num(coefficients_regressor_motion_right)\n",
    "coefficients_regrssor_transition_right = np.nan_to_num(coefficients_regrssor_transition_right)\n",
    "\n",
    "pvalue_coefficients_regressor_motion_right = np.nan_to_num(pvalue_coefficients_regressor_motion_right)\n",
    "pvalue_coefficients_regrssor_transition_right = np.nan_to_num(pvalue_coefficients_regrssor_transition_right)\n",
    "\n",
    "coefficients_regressor_motion_right_32 = coefficients_regressor_motion_right.astype(np.float32)\n",
    "coefficients_regrssor_transition_right_32 = coefficients_regrssor_transition_right.astype(np.float32)\n",
    "\n",
    "pvalue_coefficients_regressor_motion_right_32 = pvalue_coefficients_regressor_motion_right.astype(np.float32)\n",
    "pvalue_coefficients_regrssor_transition_right_32 = pvalue_coefficients_regrssor_transition_right.astype(np.float32)"
   ]
  },
  {
   "cell_type": "code",
   "execution_count": 16,
   "metadata": {},
   "outputs": [],
   "source": [
    "temp_r_path = 'E:/FPP_files_and_codes/FPP_files/classic_place_patches/ROIs.R.func.gii'\n",
    "temp_r = nb.load(temp_r_path)\n",
    "temp_r.darrays[0].data = coefficients_regressor_motion_right_32\n",
    "temp_r.to_filename('E:/FPP_files_and_codes/FPP_files/motion_maps/mean_magnitude_motion_regress_out_transition/beta_regressor_motion_regressout_transition.R.func.gii')"
   ]
  },
  {
   "cell_type": "code",
   "execution_count": 17,
   "metadata": {},
   "outputs": [],
   "source": [
    "temp_r_path = 'E:/FPP_files_and_codes/FPP_files/classic_place_patches/ROIs.R.func.gii'\n",
    "temp_r = nb.load(temp_r_path)\n",
    "temp_r.darrays[0].data = coefficients_regrssor_transition_right_32\n",
    "temp_r.to_filename('E:/FPP_files_and_codes/FPP_files/motion_maps/mean_magnitude_motion_regress_out_transition/beta_regressor_transition_regressout_motion.R.func.gii')"
   ]
  },
  {
   "cell_type": "code",
   "execution_count": 18,
   "metadata": {},
   "outputs": [
    {
     "name": "stderr",
     "output_type": "stream",
     "text": [
      "C:\\Users\\roza\\AppData\\Local\\Temp\\ipykernel_111544\\1052118391.py:1: RuntimeWarning: divide by zero encountered in log\n",
      "  significance_beta_mean_motion_right = -1* np.log(pvalue_coefficients_regressor_motion_right) * np.sign(coefficients_regressor_motion_right)\n",
      "C:\\Users\\roza\\AppData\\Local\\Temp\\ipykernel_111544\\1052118391.py:1: RuntimeWarning: invalid value encountered in multiply\n",
      "  significance_beta_mean_motion_right = -1* np.log(pvalue_coefficients_regressor_motion_right) * np.sign(coefficients_regressor_motion_right)\n",
      "C:\\Users\\roza\\AppData\\Local\\Temp\\ipykernel_111544\\1052118391.py:2: RuntimeWarning: divide by zero encountered in log\n",
      "  significance_beta_transition_right = -1* np.log(pvaluecoefficients_regrssor_transition_right) * np.sign(coefficients_regrssor_transition_right)\n",
      "C:\\Users\\roza\\AppData\\Local\\Temp\\ipykernel_111544\\1052118391.py:2: RuntimeWarning: invalid value encountered in multiply\n",
      "  significance_beta_transition_right = -1* np.log(pvaluecoefficients_regrssor_transition_right) * np.sign(coefficients_regrssor_transition_right)\n"
     ]
    }
   ],
   "source": [
    "significance_beta_mean_motion_right = -1* np.log(pvalue_coefficients_regressor_motion_right) * np.sign(coefficients_regressor_motion_right)\n",
    "significance_beta_transition_right = -1* np.log(pvalue_coefficients_regrssor_transition_right) * np.sign(coefficients_regrssor_transition_right)\n",
    "\n",
    "significance_beta_mean_motion_right = np.nan_to_num(significance_beta_mean_motion_right, nan=0.0, posinf=0.0, neginf=0.0)\n",
    "significance_beta_transition_right = np.nan_to_num(significance_beta_transition_right, nan=0.0, posinf=0.0, neginf=0.0)\n",
    "\n",
    "float32_significance_beta_mean_motion_right = [np.float32(x) for x in significance_beta_mean_motion_right]\n",
    "float32_significance_beta_transition_right = [np.float32(x) for x in significance_beta_transition_right]"
   ]
  },
  {
   "cell_type": "code",
   "execution_count": 19,
   "metadata": {},
   "outputs": [],
   "source": [
    "temp_r_path = 'E:/FPP_files_and_codes/FPP_files/classic_place_patches/ROIs.R.func.gii'\n",
    "temp_r = nb.load(temp_r_path)\n",
    "temp_r.darrays[0].data = float32_significance_beta_mean_motion_right\n",
    "temp_r.to_filename('E:/FPP_files_and_codes/FPP_files/motion_maps/mean_magnitude_motion_regress_out_transition/significance_beta_regressor_motion_regressout_transition.R.func.gii')"
   ]
  },
  {
   "cell_type": "code",
   "execution_count": 20,
   "metadata": {},
   "outputs": [],
   "source": [
    "temp_r_path = 'E:/FPP_files_and_codes/FPP_files/classic_place_patches/ROIs.R.func.gii'\n",
    "temp_r = nb.load(temp_r_path)\n",
    "temp_r.darrays[0].data = float32_significance_beta_transition_right\n",
    "temp_r.to_filename('E:/FPP_files_and_codes/FPP_files/motion_maps/mean_magnitude_motion_regress_out_transition/significance_beta_regressor_transition_regressout_motion.R.func.gii')"
   ]
  },
  {
   "cell_type": "code",
   "execution_count": 21,
   "metadata": {},
   "outputs": [],
   "source": [
    "sifted_regressor_mean_magnitude_motion_vectors_2d = sifted_regressor_mean_magnitude_motion_vectors.reshape(1, -1)\n",
    "sifted_regressor_scene_transitions_2d = sifted_regressor_scene_transitions.reshape(1, -1)\n",
    "X = np.concatenate((sifted_regressor_mean_magnitude_motion_vectors_2d, sifted_regressor_scene_transitions_2d), axis=0).T\n",
    "\n",
    "coefficients_regressor_motion_left = np.zeros(32492)\n",
    "coefficients_regrssor_transition_left = np.zeros(32492)\n",
    "\n",
    "pvalue_coefficients_regressor_motion_left = np.zeros(32492)\n",
    "pvalue_coefficients_regrssor_transition_left = np.zeros(32492)\n",
    "\n",
    "\n",
    "zero = np.zeros(3655)\n",
    "\n",
    "for (i,vertex_data) in enumerate(left_data):\n",
    "    y = vertex_data\n",
    "    df = pd.DataFrame(X, columns=['X1', 'X2'])\n",
    "    df['y'] = y\n",
    "\n",
    "    # Fit GLM model\n",
    "    X = sm.add_constant(df[['X1', 'X2']])  # Add constant for intercept term\n",
    "    model = sm.GLM(df['y'], X, family=sm.families.Gaussian())\n",
    "    if not np.array_equal(vertex_data, zero):\n",
    "        result = model.fit()\n",
    "        coefficients = result.params\n",
    "\n",
    "        coefficients_regressor_motion_left[i] = coefficients['X1']\n",
    "        coefficients_regrssor_transition_left[i] = coefficients['X2']\n",
    "        \n",
    "        p_values = result.pvalues\n",
    "        pvalue_coefficients_regressor_motion_left[i] = p_values['X1']\n",
    "        pvalue_coefficients_regrssor_transition_left[i] = p_values['X2']"
   ]
  },
  {
   "cell_type": "code",
   "execution_count": 23,
   "metadata": {},
   "outputs": [],
   "source": [
    "coefficients_regressor_motion_left = np.nan_to_num(coefficients_regressor_motion_left)\n",
    "coefficients_regrssor_transition_left = np.nan_to_num(coefficients_regrssor_transition_left)\n",
    "\n",
    "pvalue_coefficients_regressor_motion_left = np.nan_to_num(pvalue_coefficients_regressor_motion_left)\n",
    "pvalue_coefficients_regrssor_transition_left = np.nan_to_num(pvalue_coefficients_regrssor_transition_left)\n",
    "\n",
    "coefficients_regressor_motion_left_32 = coefficients_regressor_motion_left.astype(np.float32)\n",
    "coefficients_regrssor_transition_left_32 = coefficients_regrssor_transition_left.astype(np.float32)\n",
    "\n",
    "pvalue_coefficients_regressor_motion_left_32 = pvalue_coefficients_regressor_motion_left.astype(np.float32)\n",
    "pvalue_coefficients_regrssor_transition_left_32 = pvalue_coefficients_regrssor_transition_left.astype(np.float32)"
   ]
  },
  {
   "cell_type": "code",
   "execution_count": 24,
   "metadata": {},
   "outputs": [],
   "source": [
    "temp_l_path = 'E:/FPP_files_and_codes/FPP_files/classic_place_patches/ROIs.L.func.gii'\n",
    "temp_l = nb.load(temp_l_path)\n",
    "temp_l.darrays[0].data = coefficients_regressor_motion_left_32\n",
    "temp_l.to_filename('E:/FPP_files_and_codes/FPP_files/motion_maps/mean_magnitude_motion_regress_out_transition/beta_regressor_motion_regressout_transition.L.func.gii')"
   ]
  },
  {
   "cell_type": "code",
   "execution_count": 25,
   "metadata": {},
   "outputs": [],
   "source": [
    "temp_l_path = 'E:/FPP_files_and_codes/FPP_files/classic_place_patches/ROIs.R.func.gii'\n",
    "temp_l = nb.load(temp_l_path)\n",
    "temp_l.darrays[0].data = coefficients_regrssor_transition_left_32\n",
    "temp_l.to_filename('E:/FPP_files_and_codes/FPP_files/motion_maps/mean_magnitude_motion_regress_out_transition/beta_regressor_transition_regressout_motion.L.func.gii')"
   ]
  },
  {
   "cell_type": "code",
   "execution_count": 28,
   "metadata": {},
   "outputs": [
    {
     "name": "stderr",
     "output_type": "stream",
     "text": [
      "C:\\Users\\roza\\AppData\\Local\\Temp\\ipykernel_111544\\3334211662.py:1: RuntimeWarning: divide by zero encountered in log\n",
      "  significance_beta_mean_motion_left = -1* np.log(pvalue_coefficients_regressor_motion_left) * np.sign(coefficients_regressor_motion_left)\n",
      "C:\\Users\\roza\\AppData\\Local\\Temp\\ipykernel_111544\\3334211662.py:1: RuntimeWarning: invalid value encountered in multiply\n",
      "  significance_beta_mean_motion_left = -1* np.log(pvalue_coefficients_regressor_motion_left) * np.sign(coefficients_regressor_motion_left)\n",
      "C:\\Users\\roza\\AppData\\Local\\Temp\\ipykernel_111544\\3334211662.py:2: RuntimeWarning: divide by zero encountered in log\n",
      "  significance_beta_transition_left = -1* np.log(pvalue_coefficients_regrssor_transition_left) * np.sign(coefficients_regrssor_transition_left)\n",
      "C:\\Users\\roza\\AppData\\Local\\Temp\\ipykernel_111544\\3334211662.py:2: RuntimeWarning: invalid value encountered in multiply\n",
      "  significance_beta_transition_left = -1* np.log(pvalue_coefficients_regrssor_transition_left) * np.sign(coefficients_regrssor_transition_left)\n"
     ]
    }
   ],
   "source": [
    "significance_beta_mean_motion_left = -1* np.log(pvalue_coefficients_regressor_motion_left) * np.sign(coefficients_regressor_motion_left)\n",
    "significance_beta_transition_left = -1* np.log(pvalue_coefficients_regrssor_transition_left) * np.sign(coefficients_regrssor_transition_left)\n",
    "\n",
    "significance_beta_mean_motion_left = np.nan_to_num(significance_beta_mean_motion_left, nan=0.0, posinf=0.0, neginf=0.0)\n",
    "significance_beta_transition_left = np.nan_to_num(significance_beta_transition_left, nan=0.0, posinf=0.0, neginf=0.0)\n",
    "\n",
    "float32_significance_beta_mean_motion_left = [np.float32(x) for x in significance_beta_mean_motion_left]\n",
    "float32_significance_beta_transition_left = [np.float32(x) for x in significance_beta_transition_left]"
   ]
  },
  {
   "cell_type": "code",
   "execution_count": 29,
   "metadata": {},
   "outputs": [],
   "source": [
    "temp_l_path = 'E:/FPP_files_and_codes/FPP_files/classic_place_patches/ROIs.L.func.gii'\n",
    "temp_l = nb.load(temp_l_path)\n",
    "temp_l.darrays[0].data = float32_significance_beta_mean_motion_left\n",
    "temp_l.to_filename('E:/FPP_files_and_codes/FPP_files/motion_maps/mean_magnitude_motion_regress_out_transition/significance_beta_regressor_motion_regressout_transition.L.func.gii')"
   ]
  },
  {
   "cell_type": "code",
   "execution_count": 30,
   "metadata": {},
   "outputs": [],
   "source": [
    "temp_l_path = 'E:/FPP_files_and_codes/FPP_files/classic_place_patches/ROIs.L.func.gii'\n",
    "temp_l = nb.load(temp_l_path)\n",
    "temp_l.darrays[0].data = float32_significance_beta_transition_left\n",
    "temp_l.to_filename('E:/FPP_files_and_codes/FPP_files/motion_maps/mean_magnitude_motion_regress_out_transition/significance_beta_regressor_transition_regressout_motion.L.func.gii')"
   ]
  },
  {
   "cell_type": "code",
   "execution_count": null,
   "metadata": {},
   "outputs": [],
   "source": []
  }
 ],
 "metadata": {
  "kernelspec": {
   "display_name": "Python 3",
   "language": "python",
   "name": "python3"
  },
  "language_info": {
   "codemirror_mode": {
    "name": "ipython",
    "version": 3
   },
   "file_extension": ".py",
   "mimetype": "text/x-python",
   "name": "python",
   "nbconvert_exporter": "python",
   "pygments_lexer": "ipython3",
   "version": "3.12.2"
  }
 },
 "nbformat": 4,
 "nbformat_minor": 2
}
