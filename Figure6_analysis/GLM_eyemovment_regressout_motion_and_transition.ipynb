{
 "cells": [
  {
   "cell_type": "code",
   "execution_count": 12,
   "metadata": {},
   "outputs": [],
   "source": [
    "import nibabel as nb\n",
    "import numpy as np\n",
    "import scipy.io\n",
    "import scipy\n",
    "from scipy import stats\n",
    "import math\n",
    "import pandas as pd\n",
    "import statsmodels.api as sm\n",
    "from ipynb.fs.full.utils import *"
   ]
  },
  {
   "cell_type": "code",
   "execution_count": 13,
   "metadata": {},
   "outputs": [],
   "source": [
    "eye_data = scipy.io.loadmat('E:/FPP_files_and_codes/FPP_files/eye_movment_data/final162.mat')['final162']\n",
    "regressor_mean_magnitude_motion_vectors = np.load('E:/FPP_files_and_codes/FPP_files/dense_optical_flow_vectors/mean_magnitude_vectors_in_each_second.npy')\n",
    "regressor_scene_transitions = np.load('E:/FPP_files_and_codes/FPP_files/scene_transition/regressor_absdif_intensity_pixels/regressor_mean_maxdif_pixel_intensitiy.npy')"
   ]
  },
  {
   "cell_type": "code",
   "execution_count": 14,
   "metadata": {},
   "outputs": [],
   "source": [
    "shift = 4\n",
    "shifted_regressor_mean_magnitude_motion_vectors = np.roll(regressor_mean_magnitude_motion_vectors, shift)\n",
    "shifted_regressor_scene_transitions = np.roll(regressor_scene_transitions, shift)\n",
    "shifted_regressor_eye_data = np.roll(eye_data, shift)"
   ]
  },
  {
   "cell_type": "code",
   "execution_count": 15,
   "metadata": {},
   "outputs": [],
   "source": [
    "left_data = scipy.io.loadmat('E:/FPP_files_and_codes/FPP_files/Movie_watching_avg_data/notmean_left_Meanfile.mat')['Left_data']\n",
    "right_data = scipy.io.loadmat('E:/FPP_files_and_codes/FPP_files/Movie_watching_avg_data/notmean_right_Meanfile.mat')['Right_data']"
   ]
  },
  {
   "cell_type": "code",
   "execution_count": 16,
   "metadata": {},
   "outputs": [],
   "source": [
    "shifted_regressor_mean_magnitude_motion_vectors_2d = shifted_regressor_mean_magnitude_motion_vectors.reshape(1, -1)\n",
    "shifted_regressor_scene_transitions_2d = shifted_regressor_scene_transitions.reshape(1, -1)\n",
    "shifted_regressor_eye_data_2d = shifted_regressor_eye_data.reshape(1,-1)\n",
    "\n",
    "X = np.concatenate((shifted_regressor_eye_data_2d, shifted_regressor_scene_transitions_2d, shifted_regressor_mean_magnitude_motion_vectors_2d), axis=0).T\n",
    "\n",
    "coefficients_regressor_eye_data_right = np.zeros(32492)\n",
    "coefficients_regrssor_transition_right = np.zeros(32492)\n",
    "coefficients_regrssor_motion_right = np.zeros(32492)\n",
    "\n",
    "pvalue_coefficients_regressor_eye_data_right = np.zeros(32492)\n",
    "pvalue_coefficients_regrssor_transition_right = np.zeros(32492)\n",
    "pvalue_coefficients_regrssor_motion_right = np.zeros(32492)\n",
    "\n",
    "zero = np.zeros(3655)\n",
    "\n",
    "for (i,vertex_data) in enumerate(right_data):\n",
    "    y = vertex_data\n",
    "    df = pd.DataFrame(X, columns=['X1', 'X2', 'X3'])\n",
    "    df['y'] = y\n",
    "\n",
    "    # Fit GLM model\n",
    "    X = sm.add_constant(df[['X1', 'X2', 'X3']]) \n",
    "    model = sm.GLM(df['y'], X, family=sm.families.Gaussian())\n",
    "    if not np.array_equal(vertex_data, zero):\n",
    "        result = model.fit()\n",
    "        coefficients = result.params\n",
    "\n",
    "        coefficients_regressor_eye_data_right[i] = coefficients['X1']\n",
    "        coefficients_regrssor_transition_right[i] = coefficients['X2']\n",
    "        coefficients_regrssor_motion_right[i] = coefficients['X3']\n",
    "\n",
    "        p_values = result.pvalues\n",
    "        pvalue_coefficients_regressor_eye_data_right[i] = p_values['X1']\n",
    "        pvalue_coefficients_regrssor_transition_right[i] = p_values['X2']\n",
    "        pvalue_coefficients_regrssor_motion_right[i] = p_values['X3']"
   ]
  },
  {
   "cell_type": "code",
   "execution_count": 17,
   "metadata": {},
   "outputs": [
    {
     "name": "stderr",
     "output_type": "stream",
     "text": [
      "e:\\FPP_files_and_codes\\FPP_codebase\\Figure6_analysis\\Final_analysis\\utils.ipynb:17: RuntimeWarning: divide by zero encountered in log\n",
      "  \"outputs\": [],\n",
      "e:\\FPP_files_and_codes\\FPP_codebase\\Figure6_analysis\\Final_analysis\\utils.ipynb:17: RuntimeWarning: invalid value encountered in multiply\n",
      "  \"outputs\": [],\n"
     ]
    }
   ],
   "source": [
    "making_beta_and_sig_map_right(coefficients_regressor_eye_data_right, pvalue_coefficients_regressor_eye_data_right,\\\n",
    "                              'E:/FPP_files_and_codes/FPP_files/eye_movment_maps/regressor_eyemovment_regressout_motion_and_transition/beta_regressor_eyemovment_regressout_transition_and_motion.R.func.gii',\\\n",
    "                              'E:/FPP_files_and_codes/FPP_files/eye_movment_maps/regressor_eyemovment_regressout_motion_and_transition/significance_beta_regressor_eyemovment_regressout_transition_and_motion.R.func.gii')"
   ]
  },
  {
   "cell_type": "code",
   "execution_count": 18,
   "metadata": {},
   "outputs": [],
   "source": [
    "making_beta_and_sig_map_right(coefficients_regrssor_transition_right, pvalue_coefficients_regrssor_transition_right,\\\n",
    "                              'E:/FPP_files_and_codes/FPP_files/eye_movment_maps/regressor_eyemovment_regressout_motion_and_transition/beta_regressor_transition_regressout_eyemovment_and_motion.R.func.gii',\\\n",
    "                              'E:/FPP_files_and_codes/FPP_files/eye_movment_maps/regressor_eyemovment_regressout_motion_and_transition/significance_beta_regressor_transition_regressout_eyemovment_and_motion.R.func.gii')"
   ]
  },
  {
   "cell_type": "code",
   "execution_count": 19,
   "metadata": {},
   "outputs": [],
   "source": [
    "making_beta_and_sig_map_right(coefficients_regrssor_motion_right, pvalue_coefficients_regrssor_motion_right,\\\n",
    "                              'E:/FPP_files_and_codes/FPP_files/eye_movment_maps/regressor_eyemovment_regressout_motion_and_transition/beta_regressor_motion_regressout_eyemovment_and_transition.R.func.gii',\\\n",
    "                              'E:/FPP_files_and_codes/FPP_files/eye_movment_maps/regressor_eyemovment_regressout_motion_and_transition/significance_beta_regressor_motion_regressout_eyemovment_and_transition.R.func.gii')"
   ]
  },
  {
   "cell_type": "code",
   "execution_count": 20,
   "metadata": {},
   "outputs": [],
   "source": [
    "shifted_regressor_mean_magnitude_motion_vectors_2d = shifted_regressor_mean_magnitude_motion_vectors.reshape(1, -1)\n",
    "shifted_regressor_scene_transitions_2d = shifted_regressor_scene_transitions.reshape(1, -1)\n",
    "shifted_regressor_eye_data_2d = shifted_regressor_eye_data.reshape(1,-1)\n",
    "\n",
    "X = np.concatenate((shifted_regressor_eye_data_2d, shifted_regressor_scene_transitions_2d, shifted_regressor_mean_magnitude_motion_vectors_2d), axis=0).T\n",
    "\n",
    "coefficients_regressor_eye_data_left = np.zeros(32492)\n",
    "coefficients_regrssor_transition_left = np.zeros(32492)\n",
    "coefficients_regrssor_motion_left = np.zeros(32492)\n",
    "\n",
    "pvalue_coefficients_regressor_eye_data_left = np.zeros(32492)\n",
    "pvalue_coefficients_regrssor_transition_left = np.zeros(32492)\n",
    "pvalue_coefficients_regrssor_motion_left = np.zeros(32492)\n",
    "\n",
    "zero = np.zeros(3655)\n",
    "\n",
    "for (i,vertex_data) in enumerate(left_data):\n",
    "    y = vertex_data\n",
    "    df = pd.DataFrame(X, columns=['X1', 'X2', 'X3'])\n",
    "    df['y'] = y\n",
    "\n",
    "    # Fit GLM model\n",
    "    X = sm.add_constant(df[['X1', 'X2', 'X3']]) \n",
    "    model = sm.GLM(df['y'], X, family=sm.families.Gaussian())\n",
    "    if not np.array_equal(vertex_data, zero):\n",
    "        result = model.fit()\n",
    "        coefficients = result.params\n",
    "\n",
    "        coefficients_regressor_eye_data_left[i] = coefficients['X1']\n",
    "        coefficients_regrssor_transition_left[i] = coefficients['X2']\n",
    "        coefficients_regrssor_motion_left[i] = coefficients['X3']\n",
    "\n",
    "        p_values = result.pvalues\n",
    "        pvalue_coefficients_regressor_eye_data_left[i] = p_values['X1']\n",
    "        pvalue_coefficients_regrssor_transition_left[i] = p_values['X2']\n",
    "        pvalue_coefficients_regrssor_motion_left[i] = p_values['X3']"
   ]
  },
  {
   "cell_type": "code",
   "execution_count": 21,
   "metadata": {},
   "outputs": [
    {
     "name": "stderr",
     "output_type": "stream",
     "text": [
      "e:\\FPP_files_and_codes\\FPP_codebase\\Figure6_analysis\\Final_analysis\\utils.ipynb:32: RuntimeWarning: divide by zero encountered in log\n",
      "  \"    temp_r.darrays[0].data = float32_significance_beta\\n\",\n",
      "e:\\FPP_files_and_codes\\FPP_codebase\\Figure6_analysis\\Final_analysis\\utils.ipynb:32: RuntimeWarning: invalid value encountered in multiply\n",
      "  \"    temp_r.darrays[0].data = float32_significance_beta\\n\",\n"
     ]
    }
   ],
   "source": [
    "making_beta_and_sig_map_left(coefficients_regressor_eye_data_left, pvalue_coefficients_regressor_eye_data_left,\\\n",
    "                              'E:/FPP_files_and_codes/FPP_files/eye_movment_maps/regressor_eyemovment_regressout_motion_and_transition/beta_regressor_eyemovment_regressout_transition_and_motion.L.func.gii',\\\n",
    "                              'E:/FPP_files_and_codes/FPP_files/eye_movment_maps/regressor_eyemovment_regressout_motion_and_transition/significance_beta_regressor_eyemovment_regressout_transition_and_motion.L.func.gii')\n",
    "\n",
    "making_beta_and_sig_map_left(coefficients_regrssor_transition_left, pvalue_coefficients_regrssor_transition_left,\\\n",
    "                              'E:/FPP_files_and_codes/FPP_files/eye_movment_maps/regressor_eyemovment_regressout_motion_and_transition/beta_regressor_transition_regressout_eyemovment_and_motion.L.func.gii',\\\n",
    "                              'E:/FPP_files_and_codes/FPP_files/eye_movment_maps/regressor_eyemovment_regressout_motion_and_transition/significance_beta_regressor_transition_regressout_eyemovment_and_motion.L.func.gii')\n",
    "\n",
    "making_beta_and_sig_map_left(coefficients_regrssor_motion_left, pvalue_coefficients_regrssor_motion_left,\\\n",
    "                              'E:/FPP_files_and_codes/FPP_files/eye_movment_maps/regressor_eyemovment_regressout_motion_and_transition/beta_regressor_motion_regressout_eyemovment_and_transition.L.func.gii',\\\n",
    "                              'E:/FPP_files_and_codes/FPP_files/eye_movment_maps/regressor_eyemovment_regressout_motion_and_transition/significance_beta_regressor_motion_regressout_eyemovment_and_transition.L.func.gii')"
   ]
  },
  {
   "cell_type": "code",
   "execution_count": null,
   "metadata": {},
   "outputs": [],
   "source": []
  }
 ],
 "metadata": {
  "kernelspec": {
   "display_name": "Python 3",
   "language": "python",
   "name": "python3"
  },
  "language_info": {
   "codemirror_mode": {
    "name": "ipython",
    "version": 3
   },
   "file_extension": ".py",
   "mimetype": "text/x-python",
   "name": "python",
   "nbconvert_exporter": "python",
   "pygments_lexer": "ipython3",
   "version": "3.12.2"
  }
 },
 "nbformat": 4,
 "nbformat_minor": 2
}
