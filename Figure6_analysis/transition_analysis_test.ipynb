{
 "cells": [
  {
   "cell_type": "code",
   "execution_count": 17,
   "metadata": {},
   "outputs": [],
   "source": [
    "import nibabel as nb\n",
    "import numpy as np\n",
    "import scipy.io\n",
    "import scipy\n",
    "from scipy import stats\n",
    "import math\n",
    "import pandas as pd\n",
    "import statsmodels.api as sm"
   ]
  },
  {
   "cell_type": "code",
   "execution_count": 18,
   "metadata": {},
   "outputs": [],
   "source": [
    "regressor_scene_transitions = np.load('E:/FPP_files_and_codes/FPP_files/scene_transition/regressor_absdif_intensity_pixels/regressor_mean_maxdif_pixel_intensitiy.npy')"
   ]
  },
  {
   "cell_type": "code",
   "execution_count": 19,
   "metadata": {},
   "outputs": [
    {
     "data": {
      "text/plain": [
       "array([2.96055170e-03, 1.62519290e-04, 7.23379630e-06, ...,\n",
       "       0.00000000e+00, 1.44675926e-06, 0.00000000e+00])"
      ]
     },
     "execution_count": 19,
     "metadata": {},
     "output_type": "execute_result"
    }
   ],
   "source": [
    "regressor_scene_transitions"
   ]
  },
  {
   "cell_type": "code",
   "execution_count": 20,
   "metadata": {},
   "outputs": [
    {
     "data": {
      "text/plain": [
       "15.363017531713911"
      ]
     },
     "execution_count": 20,
     "metadata": {},
     "output_type": "execute_result"
    }
   ],
   "source": [
    "np.mean(regressor_scene_transitions)"
   ]
  },
  {
   "cell_type": "code",
   "execution_count": 22,
   "metadata": {},
   "outputs": [
    {
     "data": {
      "text/plain": [
       "4.788623649691358"
      ]
     },
     "execution_count": 22,
     "metadata": {},
     "output_type": "execute_result"
    }
   ],
   "source": [
    "np.median(regressor_scene_transitions)"
   ]
  },
  {
   "cell_type": "code",
   "execution_count": null,
   "metadata": {},
   "outputs": [],
   "source": []
  },
  {
   "cell_type": "code",
   "execution_count": 23,
   "metadata": {},
   "outputs": [],
   "source": [
    "regressor_scene_transitions_binarized = (regressor_scene_transitions>np.mean(regressor_scene_transitions)).astype(int)"
   ]
  },
  {
   "cell_type": "code",
   "execution_count": null,
   "metadata": {},
   "outputs": [],
   "source": []
  },
  {
   "cell_type": "code",
   "execution_count": 27,
   "metadata": {},
   "outputs": [],
   "source": [
    "regressor_scene_transitions_binarized_shifted = np.roll(regressor_scene_transitions_binarized, 4)"
   ]
  },
  {
   "cell_type": "code",
   "execution_count": 28,
   "metadata": {},
   "outputs": [
    {
     "data": {
      "text/plain": [
       "1032"
      ]
     },
     "execution_count": 28,
     "metadata": {},
     "output_type": "execute_result"
    }
   ],
   "source": [
    "regressor_scene_transitions_binarized.sum()"
   ]
  },
  {
   "cell_type": "code",
   "execution_count": 29,
   "metadata": {},
   "outputs": [],
   "source": [
    "regressors = {}\n",
    "for i in range(-5, 11):\n",
    "    regressors[i] = np.roll(regressor_scene_transitions_binarized_shifted, i)"
   ]
  },
  {
   "cell_type": "code",
   "execution_count": 26,
   "metadata": {},
   "outputs": [],
   "source": [
    "left_data = scipy.io.loadmat('E:/FPP_files_and_codes/FPP_files/Movie_watching_avg_data/notmean_left_Meanfile.mat')['Left_data']\n",
    "right_data = scipy.io.loadmat('E:/FPP_files_and_codes/FPP_files/Movie_watching_avg_data/notmean_right_Meanfile.mat')['Right_data']"
   ]
  },
  {
   "cell_type": "code",
   "execution_count": 31,
   "metadata": {},
   "outputs": [
    {
     "name": "stderr",
     "output_type": "stream",
     "text": [
      "C:\\Users\\roza\\AppData\\Local\\Temp\\ipykernel_16032\\4087007522.py:5: ConstantInputWarning: An input array is constant; the correlation coefficient is not defined.\n",
      "  corr,p_value = stats.pearsonr(regressors[regressor_num], right_data[i])\n"
     ]
    }
   ],
   "source": [
    "for regressor_num in range(-5, 11):\n",
    "    corr_right = np.zeros(32492)\n",
    "    pvalue_right = np.zeros(32492)\n",
    "    for i in range (32492):\n",
    "        corr,p_value = stats.pearsonr(regressors[regressor_num], right_data[i])\n",
    "        corr_right[i] = corr\n",
    "        pvalue_right[i] = p_value\n",
    "        \n",
    "\n",
    "    corr_right = np.nan_to_num(corr_right)\n",
    "    corr_right_32 = corr_right.astype(np.float32)\n",
    "\n",
    "    temp_r_path = 'E:/FPP_files_and_codes/FPP_files/classic_place_patches/ROIs.R.func.gii'\n",
    "    temp_r = nb.load(temp_r_path)\n",
    "    temp_r.darrays[0].data = corr_right_32\n",
    "    temp_r.to_filename(f'E:/FPP_files_and_codes/FPP_files/transition_analsysis_test/correlation_maps/correlation_map{regressor_num}.R.func.gii')\n",
    "\n",
    "    significance_right = -1 * np.log(pvalue_right) * np.sign(corr_right)\n",
    "\n",
    "    significance_right = np.nan_to_num(significance_right, nan=0.0, posinf=0.0, neginf=0.0)\n",
    "    significance_right_32 = significance_right.astype(np.float32)\n",
    "\n",
    "    temp_r_path = 'E:/FPP_files_and_codes/FPP_files/classic_place_patches/ROIs.R.func.gii'\n",
    "    temp_r = nb.load(temp_r_path)\n",
    "    temp_r.darrays[0].data = significance_right_32\n",
    "    temp_r.to_filename(f'E:/FPP_files_and_codes/FPP_files/transition_analsysis_test/significance_maps/significance_map{regressor_num}.R.func.gii')"
   ]
  },
  {
   "cell_type": "code",
   "execution_count": 32,
   "metadata": {},
   "outputs": [
    {
     "name": "stderr",
     "output_type": "stream",
     "text": [
      "C:\\Users\\roza\\AppData\\Local\\Temp\\ipykernel_16032\\976138081.py:5: ConstantInputWarning: An input array is constant; the correlation coefficient is not defined.\n",
      "  corr,p_value = stats.pearsonr(regressors[regressor_num], left_data[i])\n"
     ]
    }
   ],
   "source": [
    "for regressor_num in range(-5, 11):\n",
    "    corr_left = np.zeros(32492)\n",
    "    pvalue_left = np.zeros(32492)\n",
    "    for i in range (32492):\n",
    "        corr,p_value = stats.pearsonr(regressors[regressor_num], left_data[i])\n",
    "        corr_left[i] = corr\n",
    "        pvalue_left[i] = p_value\n",
    "        \n",
    "\n",
    "    corr_left = np.nan_to_num(corr_left)\n",
    "    corr_left_32 = corr_left.astype(np.float32)\n",
    "\n",
    "    temp_l_path = 'E:/FPP_files_and_codes/FPP_files/classic_place_patches/ROIs.L.func.gii'\n",
    "    temp_l = nb.load(temp_l_path)\n",
    "    temp_l.darrays[0].data = corr_left_32\n",
    "    temp_l.to_filename(f'E:/FPP_files_and_codes/FPP_files/transition_analsysis_test/correlation_maps/correlation_map{regressor_num}.L.func.gii')\n",
    "\n",
    "    significance_left = -1 * np.log(pvalue_left) * np.sign(corr_left)\n",
    "\n",
    "    significance_left = np.nan_to_num(significance_left, nan=0.0, posinf=0.0, neginf=0.0)\n",
    "    significance_left_32 = significance_left.astype(np.float32)\n",
    "\n",
    "    temp_l_path = 'E:/FPP_files_and_codes/FPP_files/classic_place_patches/ROIs.L.func.gii'\n",
    "    temp_l = nb.load(temp_l_path)\n",
    "    temp_l.darrays[0].data = significance_left_32\n",
    "    temp_l.to_filename(f'E:/FPP_files_and_codes/FPP_files/transition_analsysis_test/significance_maps/significance_map{regressor_num}.L.func.gii')"
   ]
  },
  {
   "cell_type": "markdown",
   "metadata": {},
   "source": [
    "### making video from maps"
   ]
  },
  {
   "cell_type": "code",
   "execution_count": 40,
   "metadata": {},
   "outputs": [],
   "source": [
    "import cv2\n",
    "import os\n",
    "\n",
    "def add_subtitle_to_image(image, subtitle, font=cv2.FONT_HERSHEY_SIMPLEX, \n",
    "                          font_scale=1, font_color=(255, 255, 255), thickness=2):\n",
    "    \"\"\" Adds a subtitle text to an image centered at the bottom \"\"\"\n",
    "    height, width, _ = image.shape\n",
    "    text_size = cv2.getTextSize(subtitle, font, font_scale, thickness)[0]\n",
    "    text_x = (width - text_size[0]) // 2  # Center the text horizontally\n",
    "    text_y = height - 10  # Position the text at the bottom with some margin\n",
    "\n",
    "    # Add a black rectangle background for the subtitle text for better visibility\n",
    "    cv2.rectangle(image, (text_x - 10, text_y - text_size[1] - 10), \n",
    "                  (text_x + text_size[0] + 10, text_y + 10), (0, 0, 0), -1)\n",
    "    \n",
    "    # Add the text on the image\n",
    "    cv2.putText(image, subtitle, (text_x, text_y), font, font_scale, font_color, thickness)\n",
    "    return image\n",
    "\n",
    "def create_video(image_folder, output_video_path, frame_rate, display_time_per_image, subtitles):\n",
    "    images = [img for img in os.listdir(image_folder) if img.endswith(\".png\") or img.endswith(\".jpg\")]\n",
    "    \n",
    "\n",
    "    # Read the first image to get dimensions\n",
    "    frame = cv2.imread(os.path.join(image_folder, images[0]))\n",
    "    height, width, layers = frame.shape\n",
    "\n",
    "    fourcc = cv2.VideoWriter_fourcc(*'mp4v')  # Codec\n",
    "    video = cv2.VideoWriter(output_video_path, fourcc, frame_rate, (width, height))\n",
    "\n",
    "    frames_per_image = int(frame_rate * display_time_per_image)\n",
    "\n",
    "    for idx, image in enumerate(images):\n",
    "        img = cv2.imread(os.path.join(image_folder, image))\n",
    "        # Add subtitle to the image\n",
    "        subtitle = subtitles[idx] if idx < len(subtitles) else \"\"\n",
    "        img_with_text = add_subtitle_to_image(img, subtitle)\n",
    "        for _ in range(frames_per_image):\n",
    "            video.write(img_with_text)\n",
    "\n",
    "    video.release()\n",
    "\n",
    "\n"
   ]
  },
  {
   "cell_type": "code",
   "execution_count": 41,
   "metadata": {},
   "outputs": [],
   "source": [
    "\n",
    "subtitles = [f'{i}' for i in range(-5,16)]\n",
    "create_video('E:/FPP_files_and_codes/FPP_files/transition_analsysis_test/maps', 'E:/FPP_files_and_codes/FPP_files/transition_analsysis_test/maps.mp4', 30, 2, subtitles)\n"
   ]
  },
  {
   "cell_type": "code",
   "execution_count": null,
   "metadata": {},
   "outputs": [],
   "source": []
  }
 ],
 "metadata": {
  "kernelspec": {
   "display_name": "Python 3",
   "language": "python",
   "name": "python3"
  },
  "language_info": {
   "codemirror_mode": {
    "name": "ipython",
    "version": 3
   },
   "file_extension": ".py",
   "mimetype": "text/x-python",
   "name": "python",
   "nbconvert_exporter": "python",
   "pygments_lexer": "ipython3",
   "version": "3.12.2"
  }
 },
 "nbformat": 4,
 "nbformat_minor": 2
}
