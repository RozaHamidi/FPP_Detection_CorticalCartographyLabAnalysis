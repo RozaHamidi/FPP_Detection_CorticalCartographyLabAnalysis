{
 "cells": [
  {
   "cell_type": "code",
   "execution_count": 2,
   "id": "7f59c57c",
   "metadata": {},
   "outputs": [],
   "source": [
    "import nibabel as nb\n",
    "import numpy as np\n",
    "import scipy.io\n",
    "import scipy\n",
    "from scipy import stats\n",
    "import math"
   ]
  },
  {
   "cell_type": "markdown",
   "id": "b9d8aaa2",
   "metadata": {},
   "source": [
    "# Reading movie watching data"
   ]
  },
  {
   "cell_type": "code",
   "execution_count": 4,
   "id": "d421c472",
   "metadata": {},
   "outputs": [],
   "source": [
    "left_data = scipy.io.loadmat('E:/FPP_files_and_codes/FPP_files/Movie_watching_avg_data/notmean_left_Meanfile.mat')['Left_data']\n",
    "right_data = scipy.io.loadmat('E:/FPP_files_and_codes/FPP_files/Movie_watching_avg_data/notmean_right_Meanfile.mat')['Right_data']"
   ]
  },
  {
   "cell_type": "code",
   "execution_count": 5,
   "id": "47d55202",
   "metadata": {},
   "outputs": [
    {
     "data": {
      "text/plain": [
       "(32492, 3655)"
      ]
     },
     "execution_count": 5,
     "metadata": {},
     "output_type": "execute_result"
    }
   ],
   "source": [
    "left_data.shape\n",
    "right_data.shape"
   ]
  },
  {
   "cell_type": "markdown",
   "id": "b52cca1f",
   "metadata": {},
   "source": [
    "The average data activity of all subjects in the 3655 time points,\n",
    "32492 is number of vertices"
   ]
  },
  {
   "cell_type": "markdown",
   "id": "57522d8b",
   "metadata": {},
   "source": [
    "# Reading ROI datas and geting the mean"
   ]
  },
  {
   "cell_type": "markdown",
   "id": "a5669c31",
   "metadata": {},
   "source": [
    "## Left ROI"
   ]
  },
  {
   "cell_type": "code",
   "execution_count": 7,
   "id": "5e7e8de7",
   "metadata": {},
   "outputs": [
    {
     "name": "stdout",
     "output_type": "stream",
     "text": [
      "left ROI: [0. 0. 0. ... 0. 0. 0.]\n",
      "number of left ROI: 226\n"
     ]
    }
   ],
   "source": [
    "left_ROI_path = 'E:/FPP_files_and_codes/FPP_files/classic_place_patches/ROIs.L.func.gii'\n",
    "left_ROI = nb.load(left_ROI_path)\n",
    "d_arr_left_ROI = left_ROI.darrays\n",
    "left_ROI = d_arr_left_ROI[0].data\n",
    "print(\"left ROI:\",left_ROI)\n",
    "left_ROI_indexes = [index for index, element in enumerate(left_ROI) if element != 0]\n",
    "# print(left_ROI[left_ROI_indexes[0]])\n",
    "print(\"number of left ROI:\",len(left_ROI_indexes))"
   ]
  },
  {
   "cell_type": "markdown",
   "id": "4720645a",
   "metadata": {},
   "source": [
    "After extracting the left ROIs indices we want to get the sum of the activity of indexes in 3655 time points"
   ]
  },
  {
   "cell_type": "code",
   "execution_count": 8,
   "id": "b98b9404",
   "metadata": {},
   "outputs": [],
   "source": [
    "LeftROIsData = np.array(left_data[left_ROI_indexes])"
   ]
  },
  {
   "cell_type": "code",
   "execution_count": 9,
   "id": "dff5c9e0",
   "metadata": {},
   "outputs": [
    {
     "data": {
      "text/plain": [
       "(226, 3655)"
      ]
     },
     "execution_count": 9,
     "metadata": {},
     "output_type": "execute_result"
    }
   ],
   "source": [
    "LeftROIsData.shape"
   ]
  },
  {
   "cell_type": "markdown",
   "id": "3eaadf15",
   "metadata": {},
   "source": [
    "## Right ROI"
   ]
  },
  {
   "cell_type": "code",
   "execution_count": 10,
   "id": "73614620",
   "metadata": {},
   "outputs": [
    {
     "name": "stdout",
     "output_type": "stream",
     "text": [
      "right ROI: [0. 0. 0. ... 0. 0. 0.]\n",
      "number of right ROI: 341\n"
     ]
    }
   ],
   "source": [
    "right_ROI_path = 'E:/FPP_files_and_codes/FPP_files/classic_place_patches/ROIs.R.func.gii'\n",
    "right_ROI = nb.load(right_ROI_path)\n",
    "d_arr_right_ROI = right_ROI.darrays\n",
    "right_ROI = d_arr_right_ROI[0].data\n",
    "print(\"right ROI:\",right_ROI)\n",
    "right_ROI_indexes = [index for index, element in enumerate(right_ROI) if element != 0]\n",
    "print(\"number of right ROI:\",len(right_ROI_indexes))"
   ]
  },
  {
   "cell_type": "code",
   "execution_count": 11,
   "id": "34e160c7",
   "metadata": {},
   "outputs": [],
   "source": [
    "RightROIsData = np.array(right_data[right_ROI_indexes])"
   ]
  },
  {
   "cell_type": "code",
   "execution_count": 12,
   "id": "c5db5250",
   "metadata": {},
   "outputs": [
    {
     "data": {
      "text/plain": [
       "(341, 3655)"
      ]
     },
     "execution_count": 12,
     "metadata": {},
     "output_type": "execute_result"
    }
   ],
   "source": [
    "RightROIsData.shape"
   ]
  },
  {
   "cell_type": "markdown",
   "id": "f680d0dc",
   "metadata": {},
   "source": [
    "# geting the mean of the left and right ROIS"
   ]
  },
  {
   "cell_type": "code",
   "execution_count": 13,
   "id": "f8265cbe",
   "metadata": {},
   "outputs": [],
   "source": [
    "ROIsData = np.concatenate((LeftROIsData, RightROIsData))"
   ]
  },
  {
   "cell_type": "code",
   "execution_count": 14,
   "id": "c50404f3",
   "metadata": {},
   "outputs": [
    {
     "data": {
      "text/plain": [
       "(567, 3655)"
      ]
     },
     "execution_count": 14,
     "metadata": {},
     "output_type": "execute_result"
    }
   ],
   "source": [
    "ROIsData.shape"
   ]
  },
  {
   "cell_type": "code",
   "execution_count": 15,
   "id": "be77598f",
   "metadata": {},
   "outputs": [],
   "source": [
    "MeanActivityROIs = np.mean(ROIsData, axis=0)"
   ]
  },
  {
   "cell_type": "code",
   "execution_count": 16,
   "id": "86194905",
   "metadata": {},
   "outputs": [
    {
     "data": {
      "text/plain": [
       "array([-0.48533266, -0.54377275, -0.50547335, ..., -0.61457157,\n",
       "       -0.6044903 , -0.55319973])"
      ]
     },
     "execution_count": 16,
     "metadata": {},
     "output_type": "execute_result"
    }
   ],
   "source": [
    "MeanActivityROIs"
   ]
  },
  {
   "cell_type": "markdown",
   "id": "9365ce5d",
   "metadata": {},
   "source": [
    "# Correlation between mean activity ROIs in movie watching data and each vertex in left hemisphere"
   ]
  },
  {
   "cell_type": "code",
   "execution_count": 17,
   "id": "3dbcfe7f",
   "metadata": {},
   "outputs": [
    {
     "name": "stderr",
     "output_type": "stream",
     "text": [
      "C:\\Users\\roza\\AppData\\Local\\Temp\\ipykernel_792\\3710387897.py:4: ConstantInputWarning: An input array is constant; the correlation coefficient is not defined.\n",
      "  corr,p_value = stats.pearsonr(MeanActivityROIs, left_data[i])\n"
     ]
    }
   ],
   "source": [
    "corr_left = np.zeros(32492)\n",
    "pvalue_left = np.zeros(32492)\n",
    "for i in range (32492):\n",
    "    corr,p_value = stats.pearsonr(MeanActivityROIs, left_data[i])\n",
    "    corr_left[i] = corr\n",
    "    pvalue_left[i] = p_value"
   ]
  },
  {
   "cell_type": "code",
   "execution_count": 18,
   "id": "529438fc",
   "metadata": {},
   "outputs": [],
   "source": [
    "corr_left = np.nan_to_num(corr_left)\n",
    "pvalue_left = np.nan_to_num(pvalue_left)"
   ]
  },
  {
   "cell_type": "code",
   "execution_count": 19,
   "id": "5d01acab",
   "metadata": {},
   "outputs": [],
   "source": [
    "corr_left_32 = corr_left.astype(np.float32)\n",
    "pvalue_left_32 = pvalue_left.astype(np.float32)"
   ]
  },
  {
   "cell_type": "markdown",
   "id": "f754be43",
   "metadata": {},
   "source": [
    "saving the correlation map"
   ]
  },
  {
   "cell_type": "code",
   "execution_count": 20,
   "id": "05316f65",
   "metadata": {},
   "outputs": [],
   "source": [
    "temp_l_path = 'E:/FPP_files_and_codes/FPP_files/classic_place_patches/ROIs.L.func.gii'\n",
    "temp_l = nb.load(temp_l_path)\n",
    "temp_l.darrays[0].data = corr_left_32\n",
    "temp_l.to_filename('E:/FPP_files_and_codes/FPP_files/correlation_classic_place_patches_with_all_vertices/correlation_classic_place_patches_with_left_vertices.L.func.gii')"
   ]
  },
  {
   "cell_type": "markdown",
   "id": "43f0ca83",
   "metadata": {},
   "source": [
    "# Significance of correlation Left"
   ]
  },
  {
   "cell_type": "markdown",
   "id": "b259b298",
   "metadata": {},
   "source": [
    "there are two types of 0 in pvalue:\n",
    "1- Nan pvalues that are convert to 0\n",
    "2- pvalues for correlations near 1 so the pvalue is lower than smallest number that we have, we replace this zeros with the smallest float number"
   ]
  },
  {
   "cell_type": "code",
   "execution_count": 26,
   "id": "aba10f6b",
   "metadata": {},
   "outputs": [],
   "source": [
    "min_float64 = np.finfo(np.float64).tiny"
   ]
  },
  {
   "cell_type": "code",
   "execution_count": 27,
   "id": "f8734dec",
   "metadata": {},
   "outputs": [],
   "source": [
    "for index,pval in enumerate(pvalue_left):\n",
    "    if pval == 0 and corr_left[index] != 0:\n",
    "        pvalue_left[index] = min_float64"
   ]
  },
  {
   "cell_type": "code",
   "execution_count": 28,
   "id": "b4ab640c",
   "metadata": {},
   "outputs": [
    {
     "name": "stderr",
     "output_type": "stream",
     "text": [
      "C:\\Users\\roza\\AppData\\Local\\Temp\\ipykernel_792\\2113548353.py:1: RuntimeWarning: divide by zero encountered in log\n",
      "  significance_left = -1 * np.log(pvalue_left) * np.sign(corr_left)\n",
      "C:\\Users\\roza\\AppData\\Local\\Temp\\ipykernel_792\\2113548353.py:1: RuntimeWarning: invalid value encountered in multiply\n",
      "  significance_left = -1 * np.log(pvalue_left) * np.sign(corr_left)\n"
     ]
    }
   ],
   "source": [
    "significance_left = -1 * np.log(pvalue_left) * np.sign(corr_left)"
   ]
  },
  {
   "cell_type": "code",
   "execution_count": 29,
   "id": "b16bfad6",
   "metadata": {},
   "outputs": [],
   "source": [
    "significance_left = np.nan_to_num(significance_left, nan=0.0, posinf=0.0, neginf=0.0)"
   ]
  },
  {
   "cell_type": "code",
   "execution_count": 30,
   "id": "417cd2da",
   "metadata": {},
   "outputs": [],
   "source": [
    "significance_left_32 = significance_left.astype(np.float32)"
   ]
  },
  {
   "cell_type": "code",
   "execution_count": 31,
   "id": "79c7bbcb",
   "metadata": {},
   "outputs": [],
   "source": [
    "temp_l = nb.load('E:/FPP_files_and_codes/FPP_files/classic_place_patches/ROIs.L.func.gii')\n",
    "temp_l.darrays[0].data = significance_left_32\n",
    "temp_l.to_filename('E:/FPP_files_and_codes/FPP_files/correlation_classic_place_patches_with_all_vertices/significance_correlation_classic_place_patches_with_left_vertices.L.func.gii')"
   ]
  },
  {
   "cell_type": "markdown",
   "id": "2defdaba",
   "metadata": {},
   "source": [
    "# Correlation between mean activity ROIs in movie watching data and each vertex in right hemisphere"
   ]
  },
  {
   "cell_type": "code",
   "execution_count": 32,
   "id": "73e14874",
   "metadata": {},
   "outputs": [
    {
     "name": "stderr",
     "output_type": "stream",
     "text": [
      "C:\\Users\\roza\\AppData\\Local\\Temp\\ipykernel_792\\2099817572.py:4: ConstantInputWarning: An input array is constant; the correlation coefficient is not defined.\n",
      "  corr,p_value = stats.pearsonr(MeanActivityROIs, right_data[i])\n"
     ]
    }
   ],
   "source": [
    "corr_right = np.zeros(32492)\n",
    "pvalue_right = np.zeros(32492)\n",
    "for i in range (32492):\n",
    "    corr,p_value = stats.pearsonr(MeanActivityROIs, right_data[i])\n",
    "    corr_right[i] = corr\n",
    "    pvalue_right[i] = p_value"
   ]
  },
  {
   "cell_type": "code",
   "execution_count": 33,
   "id": "67b93e38",
   "metadata": {},
   "outputs": [],
   "source": [
    "corr_right = np.nan_to_num(corr_right)\n",
    "pvalue_right = np.nan_to_num(pvalue_right)"
   ]
  },
  {
   "cell_type": "code",
   "execution_count": 34,
   "id": "d3111367",
   "metadata": {},
   "outputs": [],
   "source": [
    "corr_right_32 = corr_right.astype(np.float32)\n",
    "pvalue_right_32 = pvalue_right.astype(np.float32)"
   ]
  },
  {
   "cell_type": "code",
   "execution_count": 35,
   "id": "9c5f7500",
   "metadata": {},
   "outputs": [],
   "source": [
    "temp_r_path = 'E:/FPP_files_and_codes/FPP_files/classic_place_patches/ROIs.R.func.gii'\n",
    "temp_r = nb.load(temp_r_path)\n",
    "temp_r.darrays[0].data = corr_right_32\n",
    "temp_r.to_filename('E:/FPP_files_and_codes/FPP_files/correlation_classic_place_patches_with_all_vertices/correlation_classic_place_patches_with_right_vertices.R.func.gii')"
   ]
  },
  {
   "cell_type": "markdown",
   "id": "7fb8599a",
   "metadata": {},
   "source": [
    "# Significance of correlation Right"
   ]
  },
  {
   "cell_type": "code",
   "execution_count": 36,
   "id": "55474451",
   "metadata": {},
   "outputs": [
    {
     "name": "stderr",
     "output_type": "stream",
     "text": [
      "C:\\Users\\roza\\AppData\\Local\\Temp\\ipykernel_792\\3442036093.py:4: RuntimeWarning: divide by zero encountered in log\n",
      "  SignificanceRight = -1 * np.log(pvalue_right) * np.sign(corr_right)\n",
      "C:\\Users\\roza\\AppData\\Local\\Temp\\ipykernel_792\\3442036093.py:4: RuntimeWarning: invalid value encountered in multiply\n",
      "  SignificanceRight = -1 * np.log(pvalue_right) * np.sign(corr_right)\n"
     ]
    }
   ],
   "source": [
    "for index,pval in enumerate(pvalue_right):\n",
    "    if pval == 0 and corr_right[index] != 0:\n",
    "        pvalue_right[index] = min_float64\n",
    "SignificanceRight = -1 * np.log(pvalue_right) * np.sign(corr_right)\n",
    "SignificanceRight = np.nan_to_num(SignificanceRight, nan=0.0, posinf=0.0, neginf=0.0)\n",
    "SignificanceRight_32 = SignificanceRight.astype(np.float32)"
   ]
  },
  {
   "cell_type": "code",
   "execution_count": 37,
   "id": "9f4bb909",
   "metadata": {},
   "outputs": [],
   "source": [
    "temp_r = nb.load('E:/FPP_files_and_codes/FPP_files/classic_place_patches/ROIs.R.func.gii')\n",
    "temp_r.darrays[0].data = SignificanceRight_32\n",
    "temp_r.to_filename('E:/FPP_files_and_codes/FPP_files/correlation_classic_place_patches_with_all_vertices/significance_correlation_classic_place_patches_with_right_vertices.R.func.gii')"
   ]
  },
  {
   "cell_type": "code",
   "execution_count": null,
   "id": "13b7dc10",
   "metadata": {},
   "outputs": [],
   "source": []
  }
 ],
 "metadata": {
  "kernelspec": {
   "display_name": "Python 3",
   "language": "python",
   "name": "python3"
  },
  "language_info": {
   "codemirror_mode": {
    "name": "ipython",
    "version": 3
   },
   "file_extension": ".py",
   "mimetype": "text/x-python",
   "name": "python",
   "nbconvert_exporter": "python",
   "pygments_lexer": "ipython3",
   "version": "3.12.2"
  }
 },
 "nbformat": 4,
 "nbformat_minor": 5
}
