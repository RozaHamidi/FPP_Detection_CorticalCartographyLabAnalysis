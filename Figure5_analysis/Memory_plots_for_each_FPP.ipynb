{
 "cells": [
  {
   "cell_type": "code",
   "execution_count": 2,
   "id": "a422f2f6",
   "metadata": {},
   "outputs": [],
   "source": [
    "import numpy as np\n",
    "import nibabel as nb\n",
    "import pandas as pd\n",
    "import scipy.io\n",
    "from scipy import stats\n",
    "import matplotlib.pyplot as plt\n",
    "from ipynb.fs.full.utils import *"
   ]
  },
  {
   "cell_type": "code",
   "execution_count": 3,
   "id": "ea08b8ed",
   "metadata": {},
   "outputs": [],
   "source": [
    "Run1Seconds = np.array([i for i in range(819, 900+1)])\n",
    "Run2Seconds = np.array([i for i in range(1737, 1818+1)])\n",
    "Run3Seconds = np.array([i for i in range(2652, 2733+1)])\n",
    "Run4Seconds = np.array([i for i in range(3553, 3634+1)])"
   ]
  },
  {
   "cell_type": "code",
   "execution_count": 4,
   "id": "01da63ed",
   "metadata": {},
   "outputs": [
    {
     "data": {
      "text/plain": [
       "(82,)"
      ]
     },
     "execution_count": 4,
     "metadata": {},
     "output_type": "execute_result"
    }
   ],
   "source": [
    "Run1Seconds.shape"
   ]
  },
  {
   "cell_type": "code",
   "execution_count": 5,
   "id": "8ba62335",
   "metadata": {},
   "outputs": [],
   "source": [
    "RunSeconds = np.array([Run1Seconds, Run2Seconds, Run3Seconds, Run4Seconds])"
   ]
  },
  {
   "cell_type": "code",
   "execution_count": 6,
   "id": "f716cc4b",
   "metadata": {},
   "outputs": [],
   "source": [
    "file_path = 'E:/FPP_files_and_codes/FPP_files/relabeled_seconds/corrected_GPT_labeling/final_labels.csv'\n",
    "\n",
    "RelabelDataframe = pd.read_csv(file_path)"
   ]
  },
  {
   "cell_type": "code",
   "execution_count": 7,
   "id": "23fc57fb",
   "metadata": {},
   "outputs": [
    {
     "data": {
      "text/html": [
       "<div>\n",
       "<style scoped>\n",
       "    .dataframe tbody tr th:only-of-type {\n",
       "        vertical-align: middle;\n",
       "    }\n",
       "\n",
       "    .dataframe tbody tr th {\n",
       "        vertical-align: top;\n",
       "    }\n",
       "\n",
       "    .dataframe thead th {\n",
       "        text-align: right;\n",
       "    }\n",
       "</style>\n",
       "<table border=\"1\" class=\"dataframe\">\n",
       "  <thead>\n",
       "    <tr style=\"text-align: right;\">\n",
       "      <th></th>\n",
       "      <th>prv_label</th>\n",
       "      <th>new_label</th>\n",
       "    </tr>\n",
       "  </thead>\n",
       "  <tbody>\n",
       "    <tr>\n",
       "      <th>0</th>\n",
       "      <td>NaN</td>\n",
       "      <td>NaN</td>\n",
       "    </tr>\n",
       "    <tr>\n",
       "      <th>1</th>\n",
       "      <td>abdomen</td>\n",
       "      <td>Body</td>\n",
       "    </tr>\n",
       "    <tr>\n",
       "      <th>2</th>\n",
       "      <td>airliner</td>\n",
       "      <td>Object</td>\n",
       "    </tr>\n",
       "    <tr>\n",
       "      <th>3</th>\n",
       "      <td>airplane</td>\n",
       "      <td>Object</td>\n",
       "    </tr>\n",
       "    <tr>\n",
       "      <th>4</th>\n",
       "      <td>animal</td>\n",
       "      <td>Animal</td>\n",
       "    </tr>\n",
       "    <tr>\n",
       "      <th>...</th>\n",
       "      <td>...</td>\n",
       "      <td>...</td>\n",
       "    </tr>\n",
       "    <tr>\n",
       "      <th>595</th>\n",
       "      <td>woman</td>\n",
       "      <td>Body</td>\n",
       "    </tr>\n",
       "    <tr>\n",
       "      <th>596</th>\n",
       "      <td>work</td>\n",
       "      <td>Unclear</td>\n",
       "    </tr>\n",
       "    <tr>\n",
       "      <th>597</th>\n",
       "      <td>workshop</td>\n",
       "      <td>Place</td>\n",
       "    </tr>\n",
       "    <tr>\n",
       "      <th>598</th>\n",
       "      <td>wristband</td>\n",
       "      <td>Object</td>\n",
       "    </tr>\n",
       "    <tr>\n",
       "      <th>599</th>\n",
       "      <td>yell</td>\n",
       "      <td>Unclear</td>\n",
       "    </tr>\n",
       "  </tbody>\n",
       "</table>\n",
       "<p>600 rows × 2 columns</p>\n",
       "</div>"
      ],
      "text/plain": [
       "     prv_label new_label\n",
       "0          NaN       NaN\n",
       "1      abdomen      Body\n",
       "2     airliner    Object\n",
       "3     airplane    Object\n",
       "4       animal    Animal\n",
       "..         ...       ...\n",
       "595      woman      Body\n",
       "596       work   Unclear\n",
       "597   workshop     Place\n",
       "598  wristband    Object\n",
       "599       yell   Unclear\n",
       "\n",
       "[600 rows x 2 columns]"
      ]
     },
     "execution_count": 7,
     "metadata": {},
     "output_type": "execute_result"
    }
   ],
   "source": [
    "RelabelDataframe"
   ]
  },
  {
   "cell_type": "code",
   "execution_count": 8,
   "id": "a1d28ba1",
   "metadata": {},
   "outputs": [],
   "source": [
    "RelabelDictionary = {}\n",
    "for index, row in RelabelDataframe.iterrows():\n",
    "    if index != 0:\n",
    "        RelabelDictionary[row['prv_label']] = row['new_label']\n",
    "RelabelDictionary[''] = float('nan')"
   ]
  },
  {
   "cell_type": "code",
   "execution_count": 9,
   "id": "da3d8f74",
   "metadata": {},
   "outputs": [
    {
     "data": {
      "text/plain": [
       "{'abdomen': 'Body',\n",
       " 'airliner': 'Object',\n",
       " 'airplane': 'Object',\n",
       " 'animal': 'Animal',\n",
       " 'animation': 'Object',\n",
       " 'apparel': 'Object',\n",
       " 'appliance': 'Object',\n",
       " 'arch': 'Place',\n",
       " 'arise': 'Unclear',\n",
       " 'arm': 'Body',\n",
       " 'armament': 'Object',\n",
       " 'armchair': 'Object',\n",
       " 'ascend': 'Unclear',\n",
       " 'ashcan': 'Object',\n",
       " 'automaton': 'Object',\n",
       " 'automobile_horn': 'Object',\n",
       " 'awning': 'Object',\n",
       " 'ax': 'Object',\n",
       " 'baby': 'Body',\n",
       " 'back': 'Body',\n",
       " 'back_up': 'Unclear',\n",
       " 'backhoe': 'Object',\n",
       " 'backpack': 'Object',\n",
       " 'bag': 'Object',\n",
       " 'balcony': 'Place',\n",
       " 'ball': 'Object',\n",
       " 'bamboo': 'Object',\n",
       " 'band': 'Body',\n",
       " 'barber': 'Body',\n",
       " 'barbershop': 'Place',\n",
       " 'barrel': 'Object',\n",
       " 'barroom': 'Place',\n",
       " 'base': 'Place',\n",
       " 'baseball': 'Unclear',\n",
       " 'baseball_bat': 'Object',\n",
       " 'basement': 'Place',\n",
       " 'basket': 'Object',\n",
       " 'bathroom': 'Place',\n",
       " 'beach': 'Place',\n",
       " 'beacon': 'Place',\n",
       " 'beam': 'Object',\n",
       " 'beard': 'Face',\n",
       " 'bed': 'Object',\n",
       " 'bedroom': 'Place',\n",
       " 'bee': 'Animal',\n",
       " 'beer': 'Object',\n",
       " 'beet': 'Object',\n",
       " 'bench': 'Object',\n",
       " 'berry': 'Object',\n",
       " 'bicycle': 'Object',\n",
       " 'bifocals': 'Object',\n",
       " 'binoculars': 'Object',\n",
       " 'bird': 'Animal',\n",
       " 'bite': 'Unclear',\n",
       " 'black': 'Unclear',\n",
       " 'bleachers': 'Object',\n",
       " 'bleed': 'Unclear',\n",
       " 'blink': 'Unclear',\n",
       " 'blood': 'Unclear',\n",
       " 'boat': 'Object',\n",
       " 'body_of_water': 'Place',\n",
       " 'book': 'Object',\n",
       " 'booklet': 'Object',\n",
       " 'bookshelf': 'Object',\n",
       " 'bounce': 'Unclear',\n",
       " 'bouquet': 'Object',\n",
       " 'bow': 'Unclear',\n",
       " 'bowling_alley': 'Place',\n",
       " 'bowling_ball': 'Object',\n",
       " 'bowling_pin': 'Object',\n",
       " 'box': 'Object',\n",
       " 'boy_scout': 'Body',\n",
       " 'bracelet': 'Object',\n",
       " 'brick': 'Place',\n",
       " 'bridge': 'Place',\n",
       " 'briefcase': 'Object',\n",
       " 'brush': 'Object',\n",
       " 'building': 'Place',\n",
       " 'bump': 'Unclear',\n",
       " 'butcher': 'Body',\n",
       " 'butcher_shop': 'Place',\n",
       " 'butte': 'Place',\n",
       " 'cabbage': 'Object',\n",
       " 'cabin': 'Place',\n",
       " 'cabinet': 'Object',\n",
       " 'cable': 'Object',\n",
       " 'calm': 'Unclear',\n",
       " 'can': 'Object',\n",
       " 'candy': 'Object',\n",
       " 'canyon': 'Place',\n",
       " 'capsicum': 'Object',\n",
       " 'caption': 'Unclear',\n",
       " 'car': 'Object',\n",
       " 'card': 'Object',\n",
       " 'case': 'Object',\n",
       " 'catch': 'Unclear',\n",
       " 'cave': 'Place',\n",
       " 'ceiling': 'Place',\n",
       " 'cellular_telephone': 'Object',\n",
       " 'chair': 'Object',\n",
       " 'chart': 'Object',\n",
       " 'chase': 'Unclear',\n",
       " 'cheer': 'Unclear',\n",
       " 'cheerlead': 'Body',\n",
       " 'chew': 'Unclear',\n",
       " 'child': 'Body',\n",
       " 'choose': 'Unclear',\n",
       " 'christmas_tree': 'Object',\n",
       " 'church': 'Place',\n",
       " 'cigar': 'Object',\n",
       " 'city': 'Place',\n",
       " 'cleats': 'Object',\n",
       " 'climb': 'Unclear',\n",
       " 'climber': 'Body',\n",
       " 'clock': 'Object',\n",
       " 'clock_tower': 'Place',\n",
       " 'close': 'Unclear',\n",
       " 'close_up': 'Unclear',\n",
       " 'closed': 'Unclear',\n",
       " 'clothesline': 'Object',\n",
       " 'cloud': 'Place',\n",
       " 'club': 'Place',\n",
       " 'clutter': 'Unclear',\n",
       " 'column': 'Place',\n",
       " 'compact': 'Object',\n",
       " 'computer': 'Object',\n",
       " 'computer_screen': 'Object',\n",
       " 'conference_room': 'Place',\n",
       " 'conference_table': 'Object',\n",
       " 'container': 'Object',\n",
       " 'contrail': 'Place',\n",
       " 'convulse': 'Unclear',\n",
       " 'cornet': 'Object',\n",
       " 'couch': 'Object',\n",
       " 'counter': 'Object',\n",
       " 'countertop': 'Object',\n",
       " 'cow': 'Animal',\n",
       " 'crash': 'Unclear',\n",
       " 'crate': 'Object',\n",
       " 'crawl': 'Unclear',\n",
       " 'credits': 'Unclear',\n",
       " 'crop': 'Unclear',\n",
       " 'cross': 'Object',\n",
       " 'crowd': 'Body',\n",
       " 'cuddle': 'Unclear',\n",
       " 'cursor': 'Object',\n",
       " 'cut': 'Unclear',\n",
       " 'dance': 'Unclear',\n",
       " 'dangle': 'Unclear',\n",
       " 'dawn': 'Unclear',\n",
       " 'descend': 'Unclear',\n",
       " 'desert': 'Place',\n",
       " 'desk': 'Object',\n",
       " 'dining-hall': 'Place',\n",
       " 'dining_table': 'Object',\n",
       " 'discard': 'Unclear',\n",
       " 'display': 'Object',\n",
       " 'dive': 'Unclear',\n",
       " 'diver': 'Body',\n",
       " 'dock': 'Place',\n",
       " 'document': 'Object',\n",
       " 'dog': 'Animal',\n",
       " 'door': 'Object',\n",
       " 'doorknob': 'Object',\n",
       " 'doormat': 'Object',\n",
       " 'doorway': 'Place',\n",
       " 'drag': 'Unclear',\n",
       " 'draw': 'Unclear',\n",
       " 'draw_up': 'Unclear',\n",
       " 'dress': 'Object',\n",
       " 'drink': 'Unclear',\n",
       " 'drive': 'Unclear',\n",
       " 'driveway': 'Place',\n",
       " 'drop': 'Unclear',\n",
       " 'dryer': 'Object',\n",
       " 'earphone': 'Object',\n",
       " 'eat': 'Unclear',\n",
       " 'eggplant': 'Object',\n",
       " 'envelope': 'Object',\n",
       " 'equipment': 'Object',\n",
       " 'examine': 'Unclear',\n",
       " 'eyebrow': 'Face',\n",
       " 'face': 'Face',\n",
       " 'fall': 'Unclear',\n",
       " 'fall_over': 'Unclear',\n",
       " 'faucet': 'Object',\n",
       " 'feed': 'Unclear',\n",
       " 'female_child': 'Body',\n",
       " 'fence': 'Object',\n",
       " 'fidget': 'Unclear',\n",
       " 'fill': 'Unclear',\n",
       " 'fire': 'Object',\n",
       " 'fire_engine': 'Object',\n",
       " 'fireplace': 'Object',\n",
       " 'fireplug': 'Object',\n",
       " 'fish': 'Animal',\n",
       " 'flag': 'Object',\n",
       " 'flagpole': 'Object',\n",
       " 'flash': 'Unclear',\n",
       " 'flip': 'Unclear',\n",
       " 'float': 'Unclear',\n",
       " 'floor': 'Place',\n",
       " 'flower': 'Object',\n",
       " 'fly': 'Unclear',\n",
       " 'fog': 'Place',\n",
       " 'fold': 'Unclear',\n",
       " 'food': 'Object',\n",
       " 'foot': 'Body',\n",
       " 'football': 'Unclear',\n",
       " 'football_player': 'Body',\n",
       " 'footballer': 'Body',\n",
       " 'forest': 'Place',\n",
       " 'fountain': 'Object',\n",
       " 'frame': 'Object',\n",
       " 'front_door': 'Place',\n",
       " 'fruit': 'Object',\n",
       " 'furnace': 'Object',\n",
       " 'gape': 'Unclear',\n",
       " 'garage': 'Place',\n",
       " 'garden': 'Place',\n",
       " 'garden_hose': 'Object',\n",
       " 'gas_pump': 'Object',\n",
       " 'gasoline_station': 'Place',\n",
       " 'gaze': 'Unclear',\n",
       " 'gazebo': 'Place',\n",
       " 'gear': 'Object',\n",
       " 'gesticulate': 'Unclear',\n",
       " 'gesture': 'Unclear',\n",
       " 'get_up': 'Unclear',\n",
       " 'girl': 'Body',\n",
       " 'give': 'Unclear',\n",
       " 'glass': 'Object',\n",
       " 'goal': 'Object',\n",
       " 'goggles': 'Object',\n",
       " 'golf_ball': 'Object',\n",
       " 'golf_course': 'Place',\n",
       " 'goose': 'Animal',\n",
       " 'grab': 'Unclear',\n",
       " 'graffito': 'Object',\n",
       " 'grasp': 'Unclear',\n",
       " 'grass': 'Place',\n",
       " 'greet': 'Unclear',\n",
       " 'grocery_store': 'Place',\n",
       " 'guitar_pick': 'Object',\n",
       " 'gun_enclosure': 'Object',\n",
       " 'hall': 'Place',\n",
       " 'hallway': 'Place',\n",
       " 'hand': 'Body',\n",
       " 'hand_over': 'Unclear',\n",
       " 'handle': 'Object',\n",
       " 'hat': 'Object',\n",
       " 'head': 'Face',\n",
       " 'headboard': 'Object',\n",
       " 'headlight': 'Object',\n",
       " 'helmet': 'Object',\n",
       " 'hill': 'Place',\n",
       " 'hit': 'Unclear',\n",
       " 'hold': 'Unclear',\n",
       " 'hole': 'Object',\n",
       " 'hood': 'Object',\n",
       " 'horse': 'Animal',\n",
       " 'hose': 'Object',\n",
       " 'house': 'Place',\n",
       " 'howl': 'Unclear',\n",
       " 'ice_cream': 'Object',\n",
       " 'idol': 'Object',\n",
       " 'indicate': 'Unclear',\n",
       " 'jar': 'Object',\n",
       " 'jewelry': 'Object',\n",
       " 'key': 'Object',\n",
       " 'kick': 'Unclear',\n",
       " 'kiss': 'Unclear',\n",
       " 'kitchen': 'Place',\n",
       " 'kitchen_island': 'Object',\n",
       " 'kneel': 'Unclear',\n",
       " 'label': 'Object',\n",
       " 'lamp': 'Object',\n",
       " 'lamppost': 'Object',\n",
       " 'land': 'Place',\n",
       " 'laugh': 'Unclear',\n",
       " 'lawn': 'Place',\n",
       " 'lawn_mower': 'Object',\n",
       " 'layout': 'Unclear',\n",
       " 'leaf': 'Object',\n",
       " 'lean': 'Unclear',\n",
       " 'leg': 'Body',\n",
       " 'let_go_of': 'Unclear',\n",
       " 'library': 'Place',\n",
       " 'license_plate': 'Object',\n",
       " 'lie': 'Unclear',\n",
       " 'lie_down': 'Unclear',\n",
       " 'light': 'Object',\n",
       " 'light_up': 'Unclear',\n",
       " 'line': 'Object',\n",
       " 'lip': 'Face',\n",
       " 'lipstick': 'Object',\n",
       " 'listen': 'Unclear',\n",
       " 'living_room': 'Place',\n",
       " 'locker_room': 'Place',\n",
       " 'locket': 'Object',\n",
       " 'look': 'Unclear',\n",
       " 'loosen': 'Unclear',\n",
       " 'loudspeaker': 'Object',\n",
       " 'lower': 'Unclear',\n",
       " 'lumber': 'Object',\n",
       " 'machine': 'Object',\n",
       " 'magazine': 'Object',\n",
       " 'magnet': 'Object',\n",
       " 'mail_slot': 'Object',\n",
       " 'mailbox': 'Object',\n",
       " 'makeup': 'Object',\n",
       " 'male_child': 'Body',\n",
       " 'man': 'Body',\n",
       " 'market': 'Place',\n",
       " 'mason_jar': 'Object',\n",
       " 'medical_building': 'Place',\n",
       " 'microwave': 'Object',\n",
       " 'military_unit': 'Place',\n",
       " 'militia': 'Body',\n",
       " 'mint': 'Object',\n",
       " 'mirror': 'Object',\n",
       " 'mountain': 'Place',\n",
       " 'moustache': 'Face',\n",
       " 'move': 'Unclear',\n",
       " 'mow': 'Unclear',\n",
       " 'mushroom': 'Object',\n",
       " 'music_stand': 'Object',\n",
       " 'musical_instrument': 'Object',\n",
       " 'nail_polish': 'Object',\n",
       " 'napkin': 'Object',\n",
       " 'necklace': 'Object',\n",
       " 'necktie': 'Object',\n",
       " 'neighborhood': 'Place',\n",
       " 'newspaper': 'Object',\n",
       " 'nod': 'Unclear',\n",
       " 'nose_ring': 'Object',\n",
       " 'note': 'Object',\n",
       " 'notebook': 'Object',\n",
       " 'notepad': 'Object',\n",
       " 'number': 'Unclear',\n",
       " 'numeral': 'Object',\n",
       " 'oarsman': 'Body',\n",
       " 'object': 'Object',\n",
       " 'ocean': 'Place',\n",
       " 'office': 'Place',\n",
       " 'old_man': 'Body',\n",
       " 'old_woman': 'Body',\n",
       " 'open': 'Unclear',\n",
       " 'originate': 'Unclear',\n",
       " 'outcrop': 'Place',\n",
       " 'overpass': 'Place',\n",
       " 'overturn': 'Unclear',\n",
       " 'pace': 'Unclear',\n",
       " 'package': 'Object',\n",
       " 'packet': 'Object',\n",
       " 'paddle': 'Object',\n",
       " 'page': 'Object',\n",
       " 'paper': 'Object',\n",
       " 'park': 'Unclear',\n",
       " 'parking_lot': 'Place',\n",
       " 'party': 'Unclear',\n",
       " 'pass': 'Unclear',\n",
       " 'paw': 'Animal',\n",
       " 'pea': 'Object',\n",
       " 'people': 'Body',\n",
       " 'person': 'Body',\n",
       " 'phone_number': 'Unclear',\n",
       " 'photograph': 'Object',\n",
       " 'pick': 'Unclear',\n",
       " 'pick_up': 'Unclear',\n",
       " 'pickup': 'Object',\n",
       " 'picture': 'Object',\n",
       " 'pillow': 'Object',\n",
       " 'pilot': 'Body',\n",
       " 'pin': 'Object',\n",
       " 'pipe': 'Object',\n",
       " 'plant': 'Object',\n",
       " 'play': 'Unclear',\n",
       " 'playing_card': 'Object',\n",
       " 'playing_field': 'Place',\n",
       " 'plaything': 'Object',\n",
       " 'pledge': 'Unclear',\n",
       " 'pluck': 'Unclear',\n",
       " 'pod': 'Object',\n",
       " 'pollinate': 'Unclear',\n",
       " 'pool': 'Place',\n",
       " 'portrait': 'Object',\n",
       " 'post': 'Object',\n",
       " 'pot': 'Object',\n",
       " 'press': 'Unclear',\n",
       " 'price_tag': 'Object',\n",
       " 'print': 'Unclear',\n",
       " 'professor': 'Body',\n",
       " 'projectile': 'Object',\n",
       " 'prop_up': 'Unclear',\n",
       " 'propose': 'Unclear',\n",
       " 'pull': 'Unclear',\n",
       " 'punch': 'Unclear',\n",
       " 'punching_bag': 'Object',\n",
       " 'push': 'Unclear',\n",
       " 'put': 'Unclear',\n",
       " 'put_on': 'Unclear',\n",
       " 'racer': 'Body',\n",
       " 'racetrack': 'Place',\n",
       " 'racing': 'Unclear',\n",
       " 'railing': 'Object',\n",
       " 'raise': 'Unclear',\n",
       " 'reach': 'Unclear',\n",
       " 'read': 'Unclear',\n",
       " 'receive': 'Unclear',\n",
       " 'reef': 'Place',\n",
       " 'reflection': 'Unclear',\n",
       " 'remote_control': 'Object',\n",
       " 'remove': 'Unclear',\n",
       " 'ribbon': 'Object',\n",
       " 'ride': 'Unclear',\n",
       " 'rider': 'Body',\n",
       " 'ring': 'Object',\n",
       " 'rise': 'Unclear',\n",
       " 'river': 'Place',\n",
       " 'road': 'Place',\n",
       " 'rock': 'Object',\n",
       " 'roll': 'Unclear',\n",
       " 'room': 'Place',\n",
       " 'row': 'Object',\n",
       " 'rub': 'Unclear',\n",
       " 'rubbish': 'Object',\n",
       " 'run': 'Unclear',\n",
       " 'runway': 'Place',\n",
       " 'sandal': 'Object',\n",
       " 'saw': 'Object',\n",
       " 'sax': 'Object',\n",
       " 'scale': 'Object',\n",
       " 'scissors': 'Object',\n",
       " 'scoop': 'Object',\n",
       " 'scratch': 'Unclear',\n",
       " 'screen': 'Object',\n",
       " 'screen_door': 'Object',\n",
       " 'scull': 'Unclear',\n",
       " 'search': 'Unclear',\n",
       " 'seat': 'Object',\n",
       " 'seed': 'Object',\n",
       " 'serve': 'Unclear',\n",
       " 'set_down': 'Unclear',\n",
       " 'shade': 'Unclear',\n",
       " 'shadow': 'Unclear',\n",
       " 'shake': 'Unclear',\n",
       " 'shake_hands': 'Unclear',\n",
       " 'shatter': 'Unclear',\n",
       " 'shear': 'Unclear',\n",
       " 'shears': 'Object',\n",
       " 'shed': 'Place',\n",
       " 'sheep': 'Animal',\n",
       " 'shimmer': 'Unclear',\n",
       " 'shoe': 'Object',\n",
       " 'shop': 'Place',\n",
       " 'shoulder_bag': 'Object',\n",
       " 'shower': 'Object',\n",
       " 'showroom': 'Place',\n",
       " 'shrub': 'Object',\n",
       " 'sidewalk': 'Place',\n",
       " 'sigh': 'Unclear',\n",
       " 'sign': 'Object',\n",
       " 'signboard': 'Object',\n",
       " 'sing': 'Unclear',\n",
       " 'sink': 'Object',\n",
       " 'sit': 'Unclear',\n",
       " 'sit_down': 'Unclear',\n",
       " 'sit_up': 'Unclear',\n",
       " 'skin': 'Body',\n",
       " 'sky': 'Place',\n",
       " 'skybox': 'Place',\n",
       " 'sleep': 'Unclear',\n",
       " 'slide': 'Unclear',\n",
       " 'slip': 'Unclear',\n",
       " 'smack': 'Unclear',\n",
       " 'smile': 'Face',\n",
       " 'smoke': 'Unclear',\n",
       " 'sniff': 'Unclear',\n",
       " 'snow': 'Object',\n",
       " 'soap': 'Object',\n",
       " 'soccer_ball': 'Object',\n",
       " 'sofa': 'Object',\n",
       " 'soil': 'Object',\n",
       " 'sonograph': 'Object',\n",
       " 'sonography': 'Object',\n",
       " 'spark': 'Unclear',\n",
       " 'spectacles': 'Object',\n",
       " 'spectator': 'Body',\n",
       " 'spider': 'Animal',\n",
       " 'spin': 'Unclear',\n",
       " 'spoon': 'Object',\n",
       " 'sports_car': 'Object',\n",
       " 'spray': 'Unclear',\n",
       " 'sprinkle': 'Unclear',\n",
       " 'sprinkler': 'Object',\n",
       " 'squash': 'Object',\n",
       " 'squirt': 'Unclear',\n",
       " 'stadium': 'Place',\n",
       " 'stairs': 'Place',\n",
       " 'stairway': 'Place',\n",
       " 'stand': 'Unclear',\n",
       " 'startle': 'Unclear',\n",
       " 'statue': 'Object',\n",
       " 'step': 'Unclear',\n",
       " 'steward': 'Body',\n",
       " 'stewardess': 'Body',\n",
       " 'stick': 'Object',\n",
       " 'stick_figure': 'Body',\n",
       " 'stool': 'Object',\n",
       " 'stop': 'Unclear',\n",
       " 'stove': 'Object',\n",
       " 'stream': 'Place',\n",
       " 'street': 'Place',\n",
       " 'streetlight': 'Object',\n",
       " 'student': 'Body',\n",
       " 'subtitle': 'Unclear',\n",
       " 'subway_station': 'Place',\n",
       " 'subway_train': 'Object',\n",
       " 'sun': 'Place',\n",
       " 'sunglass': 'Object',\n",
       " 'sunglasses': 'Object',\n",
       " 'sunlight': 'Unclear',\n",
       " 'surf': 'Unclear',\n",
       " 'swim': 'Unclear',\n",
       " 'swing': 'Unclear',\n",
       " 'switch': 'Object',\n",
       " 'switch_off': 'Unclear',\n",
       " 'switch_on': 'Unclear',\n",
       " 'table': 'Object',\n",
       " 'tailgate': 'Object',\n",
       " 'take': 'Unclear',\n",
       " 'take_off': 'Unclear',\n",
       " 'talk': 'Unclear',\n",
       " 'tank': 'Object',\n",
       " 'tap': 'Unclear',\n",
       " 'tarantula': 'Animal',\n",
       " 'tattoo': 'Object',\n",
       " 'telephone_pole': 'Object',\n",
       " 'telephone_wire': 'Object',\n",
       " 'television': 'Object',\n",
       " 'tennis_ball': 'Object',\n",
       " 'text': 'Object',\n",
       " 'throw': 'Unclear',\n",
       " 'ticket': 'Object',\n",
       " 'title': 'Unclear',\n",
       " 'toilet': 'Object',\n",
       " 'tomato': 'Object',\n",
       " 'tool': 'Object',\n",
       " 'touch': 'Unclear',\n",
       " 'tractor': 'Object',\n",
       " 'traffic': 'Unclear',\n",
       " 'trail': 'Place',\n",
       " 'train': 'Object',\n",
       " 'transport': 'Unclear',\n",
       " 'tray': 'Object',\n",
       " 'tree': 'Object',\n",
       " 'trellis': 'Object',\n",
       " 'truck': 'Object',\n",
       " 'truck_bed': 'Object',\n",
       " 'tug': 'Unclear',\n",
       " 'tunnel': 'Place',\n",
       " 'turn': 'Unclear',\n",
       " 'turn_on': 'Unclear',\n",
       " 'turtle': 'Animal',\n",
       " 'type': 'Unclear',\n",
       " 'unclip': 'Unclear',\n",
       " 'uncover': 'Unclear',\n",
       " 'unfold': 'Unclear',\n",
       " 'unfurl': 'Unclear',\n",
       " 'unhorse': 'Unclear',\n",
       " 'uniform': 'Object',\n",
       " 'unstrap': 'Unclear',\n",
       " 'vegetable': 'Object',\n",
       " 'vegetation': 'Object',\n",
       " 'vivarium': 'Object',\n",
       " 'wait': 'Unclear',\n",
       " 'wake_up': 'Unclear',\n",
       " 'walk': 'Unclear',\n",
       " 'wall': 'Place',\n",
       " 'washer': 'Object',\n",
       " 'watch': 'Object',\n",
       " 'water': 'Object',\n",
       " 'water_pistol': 'Object',\n",
       " 'watering_can': 'Object',\n",
       " 'wear': 'Unclear',\n",
       " 'web_page': 'Object',\n",
       " 'weld': 'Unclear',\n",
       " 'welder': 'Body',\n",
       " 'wind': 'Unclear',\n",
       " 'window': 'Object',\n",
       " 'wink': 'Unclear',\n",
       " 'wipe': 'Unclear',\n",
       " 'wire': 'Object',\n",
       " 'woman': 'Body',\n",
       " 'work': 'Unclear',\n",
       " 'workshop': 'Place',\n",
       " 'wristband': 'Object',\n",
       " 'yell': 'Unclear',\n",
       " '': nan}"
      ]
     },
     "execution_count": 9,
     "metadata": {},
     "output_type": "execute_result"
    }
   ],
   "source": [
    "RelabelDictionary"
   ]
  },
  {
   "cell_type": "code",
   "execution_count": 10,
   "id": "3379b249",
   "metadata": {},
   "outputs": [
    {
     "name": "stdout",
     "output_type": "stream",
     "text": [
      "3655\n"
     ]
    }
   ],
   "source": [
    "labels_list_1 = []\n",
    "with open(\"E:/FPP_files_and_codes/FPP_files/HCP_movie_labels/Movie_labels/Movie1_labels.txt\",'r') as file:\n",
    "    for line in file:\n",
    "        labels = line.strip().split(',')\n",
    "        labels_list_1.append(labels)\n",
    "labels_list_2 = []\n",
    "with open(\"E:/FPP_files_and_codes/FPP_files/HCP_movie_labels/Movie_labels/Movie2_labels.txt\",'r') as file:\n",
    "    for line in file:\n",
    "        labels = line.strip().split(',')\n",
    "        labels_list_2.append(labels)\n",
    "labels_list_3 = []\n",
    "with open(\"E:/FPP_files_and_codes/FPP_files/HCP_movie_labels/Movie_labels/Movie3_labels.txt\",'r') as file:\n",
    "    for line in file:\n",
    "        labels = line.strip().split(',')\n",
    "        labels_list_3.append(labels)\n",
    "labels_list_4 = []\n",
    "with open(\"E:/FPP_files_and_codes/FPP_files/HCP_movie_labels/Movie_labels/Movie4_labels.txt\",'r') as file:\n",
    "    for line in file:\n",
    "        labels = line.strip().split(',')\n",
    "        labels_list_4.append(labels)\n",
    "labels_list = labels_list_1 + labels_list_2 + labels_list_3  + labels_list_4\n",
    "print(len(labels_list))"
   ]
  },
  {
   "cell_type": "code",
   "execution_count": 11,
   "id": "c51fb171",
   "metadata": {},
   "outputs": [],
   "source": [
    "RelabeldFrames = [set() for i in range(3655)]\n",
    "for i in range(3655):\n",
    "    for j in labels_list[i]:\n",
    "        RelabeldFrames[i].add(str(RelabelDictionary[j]))"
   ]
  },
  {
   "cell_type": "code",
   "execution_count": 12,
   "id": "29b0f6a5",
   "metadata": {},
   "outputs": [],
   "source": [
    "RunsWithoutFB = np.empty(4, dtype=object)\n",
    "for i in range(4):\n",
    "    RunsWithoutFB[i] = []\n",
    "for i in range(4):\n",
    "    for j in RunSeconds[i]:\n",
    "        if ('Face' not in RelabeldFrames[j]) and ('Body' not in RelabeldFrames[j]) and ('Animal' not in RelabeldFrames[j]):\n",
    "            RunsWithoutFB[i].append(j)"
   ]
  },
  {
   "cell_type": "code",
   "execution_count": 13,
   "id": "a09f0030",
   "metadata": {},
   "outputs": [
    {
     "data": {
      "text/plain": [
       "array([list([819, 820, 821, 822, 823, 824, 825, 826, 827, 828, 829, 830, 831, 832, 833, 834, 835, 849, 850, 871, 872, 877, 878, 879, 884, 885, 886, 891, 892]),\n",
       "       list([1737, 1738, 1739, 1740, 1741, 1742, 1743, 1744, 1745, 1746, 1747, 1748, 1749, 1750, 1751, 1752, 1753, 1767, 1768, 1789, 1790, 1795, 1796, 1797, 1802, 1803, 1804, 1809, 1810]),\n",
       "       list([2652, 2653, 2654, 2655, 2656, 2657, 2658, 2659, 2660, 2661, 2662, 2663, 2664, 2665, 2666, 2667, 2668, 2682, 2683, 2704, 2705, 2710, 2711, 2712, 2717, 2718, 2719, 2724, 2725]),\n",
       "       list([3553, 3554, 3555, 3556, 3557, 3558, 3559, 3560, 3561, 3562, 3563, 3564, 3565, 3566, 3567, 3568, 3569, 3583, 3584, 3605, 3606, 3611, 3612, 3613, 3618, 3619, 3620, 3625, 3626])],\n",
       "      dtype=object)"
      ]
     },
     "execution_count": 13,
     "metadata": {},
     "output_type": "execute_result"
    }
   ],
   "source": [
    "RunsWithoutFB"
   ]
  },
  {
   "cell_type": "code",
   "execution_count": 14,
   "id": "7e664d7f",
   "metadata": {},
   "outputs": [],
   "source": [
    "PreferedSeconds = np.array([np.array(RunsWithoutFB[i]) for i in range(4)])"
   ]
  },
  {
   "cell_type": "code",
   "execution_count": 15,
   "id": "ac8bc0fd",
   "metadata": {},
   "outputs": [
    {
     "data": {
      "text/plain": [
       "(4, 29)"
      ]
     },
     "execution_count": 15,
     "metadata": {},
     "output_type": "execute_result"
    }
   ],
   "source": [
    "PreferedSeconds.shape"
   ]
  },
  {
   "cell_type": "code",
   "execution_count": 16,
   "id": "f0c34291",
   "metadata": {},
   "outputs": [
    {
     "data": {
      "text/plain": [
       "array([[ 819,  820,  821,  822,  823,  824,  825,  826,  827,  828,  829,\n",
       "         830,  831,  832,  833,  834,  835,  849,  850,  871,  872,  877,\n",
       "         878,  879,  884,  885,  886,  891,  892],\n",
       "       [1737, 1738, 1739, 1740, 1741, 1742, 1743, 1744, 1745, 1746, 1747,\n",
       "        1748, 1749, 1750, 1751, 1752, 1753, 1767, 1768, 1789, 1790, 1795,\n",
       "        1796, 1797, 1802, 1803, 1804, 1809, 1810],\n",
       "       [2652, 2653, 2654, 2655, 2656, 2657, 2658, 2659, 2660, 2661, 2662,\n",
       "        2663, 2664, 2665, 2666, 2667, 2668, 2682, 2683, 2704, 2705, 2710,\n",
       "        2711, 2712, 2717, 2718, 2719, 2724, 2725],\n",
       "       [3553, 3554, 3555, 3556, 3557, 3558, 3559, 3560, 3561, 3562, 3563,\n",
       "        3564, 3565, 3566, 3567, 3568, 3569, 3583, 3584, 3605, 3606, 3611,\n",
       "        3612, 3613, 3618, 3619, 3620, 3625, 3626]])"
      ]
     },
     "execution_count": 16,
     "metadata": {},
     "output_type": "execute_result"
    }
   ],
   "source": [
    "PreferedSeconds"
   ]
  },
  {
   "cell_type": "code",
   "execution_count": 15,
   "id": "b294c326",
   "metadata": {},
   "outputs": [],
   "source": [
    "np.save('E:/FPP_files_and_codes/FPP_files/last_clip_each_run_without_animate_frames/last_clip_each_run_without_animate_frames.npy', PreferedSeconds)"
   ]
  },
  {
   "cell_type": "code",
   "execution_count": 21,
   "id": "f8aa9bf3",
   "metadata": {},
   "outputs": [],
   "source": [
    "delay = 4\n",
    "ShiftedPreferedSeconds = (PreferedSeconds + delay)%3655"
   ]
  },
  {
   "cell_type": "code",
   "execution_count": 22,
   "id": "ca749bdf",
   "metadata": {},
   "outputs": [
    {
     "data": {
      "text/plain": [
       "array([[ 823,  824,  825,  826,  827,  828,  829,  830,  831,  832,  833,\n",
       "         834,  835,  836,  837,  838,  839,  853,  854,  875,  876,  881,\n",
       "         882,  883,  888,  889,  890,  895,  896],\n",
       "       [1741, 1742, 1743, 1744, 1745, 1746, 1747, 1748, 1749, 1750, 1751,\n",
       "        1752, 1753, 1754, 1755, 1756, 1757, 1771, 1772, 1793, 1794, 1799,\n",
       "        1800, 1801, 1806, 1807, 1808, 1813, 1814],\n",
       "       [2656, 2657, 2658, 2659, 2660, 2661, 2662, 2663, 2664, 2665, 2666,\n",
       "        2667, 2668, 2669, 2670, 2671, 2672, 2686, 2687, 2708, 2709, 2714,\n",
       "        2715, 2716, 2721, 2722, 2723, 2728, 2729],\n",
       "       [3557, 3558, 3559, 3560, 3561, 3562, 3563, 3564, 3565, 3566, 3567,\n",
       "        3568, 3569, 3570, 3571, 3572, 3573, 3587, 3588, 3609, 3610, 3615,\n",
       "        3616, 3617, 3622, 3623, 3624, 3629, 3630]], dtype=int32)"
      ]
     },
     "execution_count": 22,
     "metadata": {},
     "output_type": "execute_result"
    }
   ],
   "source": [
    "ShiftedPreferedSeconds"
   ]
  },
  {
   "cell_type": "code",
   "execution_count": 23,
   "id": "42fb36ab",
   "metadata": {},
   "outputs": [],
   "source": [
    "left_movie_data = scipy.io.loadmat('E:/FPP_files_and_codes/FPP_files/Movie_watching_avg_data/notmean_left_Meanfile.mat')['Left_data']\n",
    "right_movie_data = scipy.io.loadmat('E:/FPP_files_and_codes/FPP_files/Movie_watching_avg_data/notmean_right_Meanfile.mat')['Right_data']"
   ]
  },
  {
   "cell_type": "code",
   "execution_count": 24,
   "id": "77f85425",
   "metadata": {},
   "outputs": [],
   "source": [
    "FPPs_right = (nb.load('E:/FPP_files_and_codes/FPP_files/FPPs_combined/FPPs.rh.func.gii').darrays[0].data).T\n",
    "FPPs_left = (nb.load('E:/FPP_files_and_codes/FPP_files/FPPs_combined/FPPs.lh.func.gii').darrays[0].data).T\n",
    "right_FPPs_indices = [np.nonzero(FPPs_right[i]) for i in range(5)]\n",
    "left_FPPs_indices = [np.nonzero(FPPs_left[i]) for i in range(5)]"
   ]
  },
  {
   "cell_type": "code",
   "execution_count": 34,
   "id": "d2e19d8f",
   "metadata": {},
   "outputs": [
    {
     "data": {
      "text/plain": [
       "(5, 32492)"
      ]
     },
     "execution_count": 34,
     "metadata": {},
     "output_type": "execute_result"
    }
   ],
   "source": [
    "FPPs_right.shape"
   ]
  },
  {
   "cell_type": "code",
   "execution_count": 25,
   "id": "f9ed476c",
   "metadata": {},
   "outputs": [],
   "source": [
    "Mean_activity_each_FPP_in_each_run = np.zeros((5,4))\n",
    "SEM_each_FPP_in_each_run = np.zeros((5,4))\n",
    "\n",
    "for FPP in range(5):\n",
    "    for run in range(4):\n",
    "        Activity_each_vertices_in_each_run = np.concatenate((right_movie_data[right_FPPs_indices[FPP]][:,ShiftedPreferedSeconds[run]], left_movie_data[left_FPPs_indices[FPP]][:,ShiftedPreferedSeconds[run]]))\n",
    "        Mean_activity_FPP_in_each_second_of_run = np.mean(Activity_each_vertices_in_each_run, axis=0)\n",
    "        Mean_activity_FPP_in_each_run = np.mean(Mean_activity_FPP_in_each_second_of_run)\n",
    "        Mean_activity_each_FPP_in_each_run[FPP, run] = Mean_activity_FPP_in_each_run\n",
    "        SEM_each_FPP_in_each_run[FPP,run] = stats.sem(Mean_activity_FPP_in_each_second_of_run)"
   ]
  },
  {
   "cell_type": "code",
   "execution_count": 26,
   "id": "217a30e2",
   "metadata": {},
   "outputs": [
    {
     "data": {
      "text/plain": [
       "array([[0.06903589, 0.07114626, 0.01832419, 0.05866088],\n",
       "       [0.10691905, 0.1839698 , 0.12314774, 0.14454909],\n",
       "       [0.10795955, 0.26737724, 0.21559423, 0.26795417],\n",
       "       [0.08465093, 0.28059275, 0.24270357, 0.31258815],\n",
       "       [0.13732913, 0.31127071, 0.24218545, 0.27772396]])"
      ]
     },
     "execution_count": 26,
     "metadata": {},
     "output_type": "execute_result"
    }
   ],
   "source": [
    "Mean_activity_each_FPP_in_each_run"
   ]
  },
  {
   "cell_type": "code",
   "execution_count": 27,
   "id": "3403a09e",
   "metadata": {},
   "outputs": [
    {
     "data": {
      "text/plain": [
       "array([-0.15702436,  0.1546769 ,  0.22006072,  0.33388004,  0.29814622,\n",
       "        0.24178316,  0.06521909,  0.21375845,  0.18768041, -0.09578602,\n",
       "       -0.06748204,  0.07055642,  0.22025852,  0.25864978,  0.36764454,\n",
       "        0.10469574,  0.08651896,  0.45023763,  0.36502667,  0.67337499])"
      ]
     },
     "execution_count": 27,
     "metadata": {},
     "output_type": "execute_result"
    }
   ],
   "source": [
    "scipy.io.loadmat('E:/FPP_files_and_codes/FPP_codebase/Figure5_analysis/result.mat')['activity_sub_patch_run'][0]"
   ]
  },
  {
   "cell_type": "code",
   "execution_count": 28,
   "id": "ac1e2c57",
   "metadata": {},
   "outputs": [],
   "source": [
    "activity_FPP_each_subject = np.zeros((5, 176, 4))\n",
    "for i in range(5):\n",
    "    a = scipy.io.loadmat('E:/FPP_files_and_codes/FPP_codebase/Figure5_analysis/result.mat')['activity_sub_patch_run']\n",
    "    col_mask = np.arange(a.shape[1]) % 5 == i\n",
    "    activity_FPP_each_subject[i] = a[:, col_mask]"
   ]
  },
  {
   "cell_type": "code",
   "execution_count": 29,
   "id": "c4616234",
   "metadata": {},
   "outputs": [],
   "source": [
    "Mean_activity_each_FPP_in_each_run_arsalan = np.zeros((5,4))\n",
    "SEM_each_FPP_in_each_run_arsalan = np.zeros((5,4))\n",
    "\n",
    "for i in range(5):\n",
    "    Mean_activity_each_FPP_in_each_run_arsalan[i] = np.mean(activity_FPP_each_subject[i], axis=0)\n",
    "    SEM_each_FPP_in_each_run_arsalan[i] = stats.sem(activity_FPP_each_subject[i], axis=0)"
   ]
  },
  {
   "cell_type": "code",
   "execution_count": 30,
   "id": "db222f6c",
   "metadata": {},
   "outputs": [
    {
     "data": {
      "text/plain": [
       "array([[0.06903575, 0.07114638, 0.01832416, 0.05866111],\n",
       "       [0.10691892, 0.18396991, 0.12314771, 0.14454936],\n",
       "       [0.10795942, 0.26737733, 0.21559419, 0.26795442],\n",
       "       [0.0846508 , 0.28059285, 0.24270353, 0.3125884 ],\n",
       "       [0.13732901, 0.31127082, 0.24218544, 0.27772421]])"
      ]
     },
     "execution_count": 30,
     "metadata": {},
     "output_type": "execute_result"
    }
   ],
   "source": [
    "Mean_activity_each_FPP_in_each_run_arsalan"
   ]
  },
  {
   "cell_type": "code",
   "execution_count": 35,
   "id": "096b0b08",
   "metadata": {},
   "outputs": [
    {
     "data": {
      "text/plain": [
       "array([[0.06903589, 0.07114626, 0.01832419, 0.05866088],\n",
       "       [0.10691905, 0.1839698 , 0.12314774, 0.14454909],\n",
       "       [0.10795955, 0.26737724, 0.21559423, 0.26795417],\n",
       "       [0.08465093, 0.28059275, 0.24270357, 0.31258815],\n",
       "       [0.13732913, 0.31127071, 0.24218545, 0.27772396]])"
      ]
     },
     "execution_count": 35,
     "metadata": {},
     "output_type": "execute_result"
    }
   ],
   "source": [
    "Mean_activity_each_FPP_in_each_run"
   ]
  },
  {
   "cell_type": "code",
   "execution_count": 32,
   "id": "74e7f5fe",
   "metadata": {},
   "outputs": [
    {
     "data": {
      "text/plain": [
       "2.6099947821843494e-06"
      ]
     },
     "execution_count": 32,
     "metadata": {},
     "output_type": "execute_result"
    }
   ],
   "source": [
    "np.abs(Mean_activity_each_FPP_in_each_run - Mean_activity_each_FPP_in_each_run_arsalan).sum()"
   ]
  },
  {
   "cell_type": "code",
   "execution_count": null,
   "id": "d31b364d",
   "metadata": {},
   "outputs": [],
   "source": []
  },
  {
   "cell_type": "code",
   "execution_count": 21,
   "id": "03c97699",
   "metadata": {},
   "outputs": [
    {
     "data": {
      "text/plain": [
       "(91, 29)"
      ]
     },
     "execution_count": 21,
     "metadata": {},
     "output_type": "execute_result"
    }
   ],
   "source": [
    "np.concatenate((right_movie_data[right_FPPs_indices[1]][:,ShiftedPreferedSeconds[1]], left_movie_data[left_FPPs_indices[1]][:,ShiftedPreferedSeconds[1]])).shape"
   ]
  },
  {
   "cell_type": "code",
   "execution_count": 22,
   "id": "e57820c2",
   "metadata": {},
   "outputs": [
    {
     "data": {
      "image/png": "[encoded data removed]",
      "text/plain": [
       "<Figure size 400x2000 with 5 Axes>"
      ]
     },
     "metadata": {},
     "output_type": "display_data"
    }
   ],
   "source": [
    "x = [1, 2, 3, 4]\n",
    "\n",
    "colors = ['red', 'blue', 'green', 'orange', 'purple']\n",
    "\n",
    "fig, axs = plt.subplots(5, 1, figsize=(4, 20))\n",
    "max_vals = []\n",
    "min_vals = []\n",
    "for i in range(5):\n",
    "    max_vals.append(max(Mean_activity_each_FPP_in_each_run[i] + SEM_each_FPP_in_each_run[i]))\n",
    "    min_vals.append(min(Mean_activity_each_FPP_in_each_run[i] - SEM_each_FPP_in_each_run[i]))\n",
    "\n",
    "y_min = min(min_vals)-0.01\n",
    "y_max = max(max_vals)+0.01\n",
    "for i in range(5):\n",
    "    axs[i].set_ylim(y_min, y_max)\n",
    "\n",
    "# for i in range(5):\n",
    "#     axs[i].set_yticks(np.arange(y_min, y_max+0.1,0.1))\n",
    "    \n",
    "for i in range(5):\n",
    "    axs[i].errorbar(x, Mean_activity_each_FPP_in_each_run[i], yerr=SEM_each_FPP_in_each_run[i], fmt='-o', color=colors[i])\n",
    "    axs[i].set_title(f'FPP{i+1}')\n",
    "    axs[i].set_xticks(x)\n",
    "    axs[i].set_xlabel('Run number')\n",
    "    axs[i].set_ylabel('mean +/- SEM')\n",
    "    axs[i].set_yticks([0,0.1,0.2,0.3])\n",
    "\n",
    "plt.subplots_adjust(hspace=0.5)\n",
    "\n",
    "plt.suptitle('Result with out seconds with face or body')\n",
    "plt.show()"
   ]
  },
  {
   "cell_type": "code",
   "execution_count": 23,
   "id": "db25fa9d",
   "metadata": {},
   "outputs": [
    {
     "data": {
      "image/png": "[encoded data removed]",
      "text/plain": [
       "<Figure size 400x800 with 1 Axes>"
      ]
     },
     "metadata": {},
     "output_type": "display_data"
    }
   ],
   "source": [
    "x = [1, 2, 3, 4]\n",
    "\n",
    "colors = ['red', 'blue', 'green', 'orange', 'purple']\n",
    "\n",
    "plt.rcParams['font.size'] = 12\n",
    "plt.rcParams['font.family'] = 'arial'\n",
    "plt.figure(figsize=(4, 8))\n",
    "\n",
    "plt.ylim(y_min, y_max)\n",
    "\n",
    "plt.errorbar(x, Mean_activity_each_FPP_in_each_run[0], yerr=SEM_each_FPP_in_each_run[0],capsize=5, fmt='-o', color=colors[0])\n",
    "plt.title('FPP1')\n",
    "plt.xticks(x)\n",
    "plt.xlabel('Run')\n",
    "plt.ylabel('Percent signal change')\n",
    "plt.yticks([0,0.1,0.2,0.3])\n",
    "ax = plt.gca()\n",
    "ax.spines['top'].set_visible(False)\n",
    "ax.spines['right'].set_visible(False)\n",
    "\n",
    "plt.show()"
   ]
  },
  {
   "cell_type": "code",
   "execution_count": 24,
   "id": "d67b5e85",
   "metadata": {},
   "outputs": [
    {
     "data": {
      "image/png": "[encoded data removed]",
      "text/plain": [
       "<Figure size 400x800 with 1 Axes>"
      ]
     },
     "metadata": {},
     "output_type": "display_data"
    }
   ],
   "source": [
    "\n",
    "plt.rcParams['font.size'] = 12\n",
    "plt.rcParams['font.family'] = 'arial'\n",
    "plt.figure(figsize=(4, 8))\n",
    "\n",
    "plt.ylim(y_min, y_max)\n",
    "\n",
    "plt.errorbar(x, Mean_activity_each_FPP_in_each_run[1], yerr=SEM_each_FPP_in_each_run[1],capsize=5, fmt='-o', color=colors[1])\n",
    "plt.title('FPP2')\n",
    "plt.xticks(x)\n",
    "plt.xlabel('Run')\n",
    "plt.ylabel('Percent signal change')\n",
    "plt.yticks([0,0.1,0.2,0.3])\n",
    "ax = plt.gca()\n",
    "ax.spines['top'].set_visible(False)\n",
    "ax.spines['right'].set_visible(False)\n",
    "\n",
    "plt.show()"
   ]
  },
  {
   "cell_type": "code",
   "execution_count": 25,
   "id": "6767947c",
   "metadata": {},
   "outputs": [
    {
     "data": {
      "image/png": "[encoded data removed]",
      "text/plain": [
       "<Figure size 400x800 with 1 Axes>"
      ]
     },
     "metadata": {},
     "output_type": "display_data"
    }
   ],
   "source": [
    "x = [1, 2, 3, 4]\n",
    "\n",
    "colors = ['red', 'blue', 'green', 'orange', 'purple']\n",
    "\n",
    "plt.rcParams['font.size'] = 12\n",
    "plt.rcParams['font.family'] = 'arial'\n",
    "plt.figure(figsize=(4, 8))\n",
    "\n",
    "plt.ylim(y_min, y_max)\n",
    "\n",
    "plt.errorbar(x, Mean_activity_each_FPP_in_each_run[2], yerr=SEM_each_FPP_in_each_run[2],capsize=5, fmt='-o', color=colors[2])\n",
    "plt.title('FPP3')\n",
    "plt.xticks(x)\n",
    "plt.xlabel('Run')\n",
    "plt.ylabel('Percent signal change')\n",
    "plt.yticks([0,0.1,0.2,0.3])\n",
    "ax = plt.gca()\n",
    "ax.spines['top'].set_visible(False)\n",
    "ax.spines['right'].set_visible(False)\n",
    "\n",
    "plt.show()"
   ]
  },
  {
   "cell_type": "code",
   "execution_count": 26,
   "id": "c8b18cd1",
   "metadata": {},
   "outputs": [
    {
     "data": {
      "image/png": "[encoded data removed]",
      "text/plain": [
       "<Figure size 400x800 with 1 Axes>"
      ]
     },
     "metadata": {},
     "output_type": "display_data"
    }
   ],
   "source": [
    "\n",
    "plt.rcParams['font.size'] = 12\n",
    "plt.rcParams['font.family'] = 'arial'\n",
    "plt.figure(figsize=(4, 8))\n",
    "\n",
    "plt.ylim(y_min, y_max)\n",
    "\n",
    "plt.errorbar(x, Mean_activity_each_FPP_in_each_run[3], yerr=SEM_each_FPP_in_each_run[3],capsize=5, fmt='-o', color=colors[3])\n",
    "plt.title('FPP4')\n",
    "plt.xticks(x)\n",
    "plt.xlabel('Run')\n",
    "plt.ylabel('Percent signal change')\n",
    "plt.yticks([0,0.1,0.2,0.3])\n",
    "ax = plt.gca()\n",
    "ax.spines['top'].set_visible(False)\n",
    "ax.spines['right'].set_visible(False)\n",
    "\n",
    "plt.show()"
   ]
  },
  {
   "cell_type": "code",
   "execution_count": null,
   "id": "8a5a5977",
   "metadata": {},
   "outputs": [],
   "source": []
  },
  {
   "cell_type": "code",
   "execution_count": 27,
   "id": "3b54bda5",
   "metadata": {},
   "outputs": [
    {
     "data": {
      "image/png": "[encoded data removed]",
      "text/plain": [
       "<Figure size 400x800 with 1 Axes>"
      ]
     },
     "metadata": {},
     "output_type": "display_data"
    }
   ],
   "source": [
    "x = [1, 2, 3, 4]\n",
    "\n",
    "colors = ['red', 'blue', 'green', 'orange', 'purple']\n",
    "\n",
    "plt.rcParams['font.size'] = 12\n",
    "plt.rcParams['font.family'] = 'arial'\n",
    "plt.figure(figsize=(4, 8))\n",
    "\n",
    "plt.ylim(y_min, y_max)\n",
    "\n",
    "plt.errorbar(x, Mean_activity_each_FPP_in_each_run[4], yerr=SEM_each_FPP_in_each_run[4],capsize=5, fmt='-o', color=colors[4])\n",
    "plt.title('FPP5')\n",
    "plt.xticks(x)\n",
    "plt.xlabel('Run')\n",
    "plt.ylabel('Percent signal change')\n",
    "plt.yticks([0,0.1,0.2,0.3])\n",
    "ax = plt.gca()\n",
    "ax.spines['top'].set_visible(False)\n",
    "ax.spines['right'].set_visible(False)\n",
    "\n",
    "plt.show()"
   ]
  },
  {
   "cell_type": "code",
   "execution_count": 28,
   "id": "73f55520",
   "metadata": {},
   "outputs": [
    {
     "data": {
      "text/plain": [
       "array([[0.07094901, 0.05769595, 0.01379826, 0.04897331],\n",
       "       [0.11729408, 0.17945793, 0.1207279 , 0.14185349],\n",
       "       [0.12782053, 0.26376539, 0.22148383, 0.26162185],\n",
       "       [0.10896838, 0.28761538, 0.25811603, 0.31373005],\n",
       "       [0.1549583 , 0.32099557, 0.25859801, 0.27023594]])"
      ]
     },
     "execution_count": 28,
     "metadata": {},
     "output_type": "execute_result"
    }
   ],
   "source": [
    "Mean_activity_each_FPP_in_each_run"
   ]
  },
  {
   "cell_type": "markdown",
   "id": "f8445615",
   "metadata": {},
   "source": [
    "# difference run 2 and 1(SEM across frames)"
   ]
  },
  {
   "cell_type": "code",
   "execution_count": 29,
   "id": "59041303",
   "metadata": {},
   "outputs": [],
   "source": [
    "difference_activity_run1_and_run2_int_each_FPP = np.zeros(5)\n",
    "SEM_difference_activity_run1_and_run2_int_each_FPP_across_frames= np.zeros(5)\n",
    "\n",
    "for FPP in range(5):\n",
    "    Activity_each_vertices_in_run1 = np.concatenate((right_movie_data[right_FPPs_indices[FPP]][:,ShiftedPreferedSeconds[0]], left_movie_data[left_FPPs_indices[FPP]][:,ShiftedPreferedSeconds[0]]))\n",
    "    Activity_each_vertices_in_run2 = np.concatenate((right_movie_data[right_FPPs_indices[FPP]][:,ShiftedPreferedSeconds[1]], left_movie_data[left_FPPs_indices[FPP]][:,ShiftedPreferedSeconds[1]]))\n",
    "\n",
    "    Mean_activity_FPP_in_each_second_of_run1 = np.mean(Activity_each_vertices_in_run1, axis=0)\n",
    "    Mean_activity_FPP_in_each_second_of_run2 = np.mean(Activity_each_vertices_in_run2, axis=0)\n",
    "    \n",
    "    difference_run2_and_run1_in_each_second = Mean_activity_FPP_in_each_second_of_run2 - Mean_activity_FPP_in_each_second_of_run1\n",
    "    difference_activity_run1_and_run2_int_each_FPP[FPP] = np.mean(difference_run2_and_run1_in_each_second)\n",
    "    SEM_difference_activity_run1_and_run2_int_each_FPP_across_frames[FPP] = stats.sem(difference_run2_and_run1_in_each_second)"
   ]
  },
  {
   "cell_type": "code",
   "execution_count": 45,
   "id": "c28a24d5",
   "metadata": {},
   "outputs": [],
   "source": [
    "difference_activity_run234_and_run2_int_each_FPP = np.zeros(5)\n",
    "SEM_difference_activity_run234_and_run2_int_each_FPP= np.zeros(5)\n",
    "\n",
    "for FPP in range(5):\n",
    "    Activity_each_vertices_in_run1 = np.concatenate((right_movie_data[right_FPPs_indices[FPP]][:,ShiftedPreferedSeconds[0]], left_movie_data[left_FPPs_indices[FPP]][:,ShiftedPreferedSeconds[0]]))\n",
    "    Activity_each_vertices_in_run2 = np.concatenate((right_movie_data[right_FPPs_indices[FPP]][:,ShiftedPreferedSeconds[1]], left_movie_data[left_FPPs_indices[FPP]][:,ShiftedPreferedSeconds[1]]))\n",
    "    Activity_each_vertices_in_run3 = np.concatenate((right_movie_data[right_FPPs_indices[FPP]][:,ShiftedPreferedSeconds[2]], left_movie_data[left_FPPs_indices[FPP]][:,ShiftedPreferedSeconds[2]]))\n",
    "    Activity_each_vertices_in_run4 = np.concatenate((right_movie_data[right_FPPs_indices[FPP]][:,ShiftedPreferedSeconds[3]], left_movie_data[left_FPPs_indices[FPP]][:,ShiftedPreferedSeconds[3]]))\n",
    "\n",
    "    Mean_activity_FPP_in_each_second_of_run1 = np.mean(Activity_each_vertices_in_run1, axis=0)\n",
    "    Mean_activity_FPP_in_each_second_of_run2 = np.mean(Activity_each_vertices_in_run2, axis=0)\n",
    "    Mean_activity_FPP_in_each_second_of_run3 = np.mean(Activity_each_vertices_in_run3, axis=0)\n",
    "    Mean_activity_FPP_in_each_second_of_run4 = np.mean(Activity_each_vertices_in_run4, axis=0)\n",
    "\n",
    "    mean_activity_FPP2_3_4 = np.mean((Mean_activity_FPP_in_each_second_of_run2, Mean_activity_FPP_in_each_second_of_run3,Mean_activity_FPP_in_each_second_of_run4))\n",
    "\n",
    "    difference_mean_run2_3_4_and_run1_in_each_second = mean_activity_FPP2_3_4 - Mean_activity_FPP_in_each_second_of_run1\n",
    "    difference_activity_run234_and_run2_int_each_FPP[FPP] = np.mean(difference_mean_run2_3_4_and_run1_in_each_second)\n",
    "    SEM_difference_activity_run234_and_run2_int_each_FPP[FPP] = stats.sem(difference_mean_run2_3_4_and_run1_in_each_second)"
   ]
  },
  {
   "cell_type": "code",
   "execution_count": 46,
   "id": "f63652af",
   "metadata": {},
   "outputs": [
    {
     "data": {
      "text/plain": [
       "array([-0.03079317,  0.03005236,  0.12113649,  0.17751877,  0.12831821])"
      ]
     },
     "execution_count": 46,
     "metadata": {},
     "output_type": "execute_result"
    }
   ],
   "source": [
    "difference_activity_run234_and_run2_int_each_FPP"
   ]
  },
  {
   "cell_type": "code",
   "execution_count": 47,
   "id": "40d51e4b",
   "metadata": {},
   "outputs": [
    {
     "data": {
      "text/plain": [
       "array([0.02896127, 0.08374459, 0.09605464, 0.06865969, 0.04812685])"
      ]
     },
     "execution_count": 47,
     "metadata": {},
     "output_type": "execute_result"
    }
   ],
   "source": [
    "SEM_difference_activity_run234_and_run2_int_each_FPP"
   ]
  },
  {
   "cell_type": "code",
   "execution_count": 48,
   "id": "254c43b9",
   "metadata": {},
   "outputs": [
    {
     "data": {
      "image/png": "[encoded data removed]",
      "text/plain": [
       "<Figure size 800x500 with 1 Axes>"
      ]
     },
     "metadata": {},
     "output_type": "display_data"
    }
   ],
   "source": [
    "x = np.arange(len(difference_activity_run234_and_run2_int_each_FPP))\n",
    "\n",
    "plt.figure(figsize=(8, 5))\n",
    "bars = plt.bar(x, difference_activity_run234_and_run2_int_each_FPP, yerr=SEM_difference_activity_run234_and_run2_int_each_FPP, capsize=5, color='blue', alpha=0.7, ecolor='black', error_kw={'elinewidth':2, 'capsize':5, 'capthick':2})\n",
    "\n",
    "plt.ylabel('Percent signal change')\n",
    "plt.xticks(x, [f'FPP {i+1}' for i in x])\n",
    "\n",
    "plt.axhline(0, color='black', linestyle='-') \n",
    "\n",
    "plt.show()"
   ]
  },
  {
   "cell_type": "code",
   "execution_count": null,
   "id": "47ffd797",
   "metadata": {},
   "outputs": [],
   "source": []
  },
  {
   "cell_type": "code",
   "execution_count": 39,
   "id": "cb9a91cb",
   "metadata": {},
   "outputs": [
    {
     "data": {
      "text/plain": [
       "(91, 29)"
      ]
     },
     "execution_count": 39,
     "metadata": {},
     "output_type": "execute_result"
    }
   ],
   "source": [
    "np.concatenate((right_movie_data[right_FPPs_indices[1]][:,ShiftedPreferedSeconds[0]], left_movie_data[left_FPPs_indices[1]][:,ShiftedPreferedSeconds[0]])).shape"
   ]
  },
  {
   "cell_type": "code",
   "execution_count": 43,
   "id": "4da129f2",
   "metadata": {},
   "outputs": [
    {
     "data": {
      "text/plain": [
       "(29,)"
      ]
     },
     "execution_count": 43,
     "metadata": {},
     "output_type": "execute_result"
    }
   ],
   "source": [
    "difference_run2_and_run1_in_each_second.shape"
   ]
  },
  {
   "cell_type": "code",
   "execution_count": 35,
   "id": "2057925a",
   "metadata": {},
   "outputs": [
    {
     "data": {
      "text/plain": [
       "(4, 29)"
      ]
     },
     "execution_count": 35,
     "metadata": {},
     "output_type": "execute_result"
    }
   ],
   "source": [
    "ShiftedPreferedSeconds.shape"
   ]
  },
  {
   "cell_type": "code",
   "execution_count": 31,
   "id": "571657ec",
   "metadata": {},
   "outputs": [
    {
     "data": {
      "text/plain": [
       "array([0.02017807, 0.04083655, 0.04323635, 0.04103933, 0.03671375])"
      ]
     },
     "execution_count": 31,
     "metadata": {},
     "output_type": "execute_result"
    }
   ],
   "source": [
    "SEM_difference_activity_run1_and_run2_int_each_FPP_across_frames"
   ]
  },
  {
   "cell_type": "code",
   "execution_count": 33,
   "id": "c56a6363",
   "metadata": {},
   "outputs": [
    {
     "data": {
      "image/png": "[encoded data removed]",
      "text/plain": [
       "<Figure size 800x500 with 1 Axes>"
      ]
     },
     "metadata": {},
     "output_type": "display_data"
    }
   ],
   "source": [
    "x = np.arange(len(difference_activity_run1_and_run2_int_each_FPP))\n",
    "\n",
    "plt.figure(figsize=(8, 5))\n",
    "bars = plt.bar(x, difference_activity_run1_and_run2_int_each_FPP, yerr=SEM_difference_activity_run1_and_run2_int_each_FPP_across_frames, capsize=5, color='blue', alpha=0.7, ecolor='black', error_kw={'elinewidth':2, 'capsize':5, 'capthick':2})\n",
    "\n",
    "plt.ylabel('Percent signal change')\n",
    "plt.xticks(x, [f'FPP {i+1}' for i in x])\n",
    "\n",
    "plt.axhline(0, color='black', linestyle='-') \n",
    "\n",
    "plt.show()"
   ]
  },
  {
   "cell_type": "code",
   "execution_count": null,
   "id": "ddc18369",
   "metadata": {},
   "outputs": [],
   "source": []
  },
  {
   "cell_type": "code",
   "execution_count": 32,
   "id": "74985a02",
   "metadata": {},
   "outputs": [],
   "source": [
    "Seconds = np.array([np.array(RunSeconds[i]) for i in range(4)])"
   ]
  },
  {
   "cell_type": "code",
   "execution_count": 33,
   "id": "1c45d593",
   "metadata": {},
   "outputs": [],
   "source": [
    "delay = 5\n",
    "ShifteddSeconds = (Seconds + delay)%3655"
   ]
  },
  {
   "cell_type": "code",
   "execution_count": 34,
   "id": "7faa57ab",
   "metadata": {},
   "outputs": [],
   "source": [
    "Mean_activity_each_FPP_in_each_run_with_animate = np.zeros((5,4))\n",
    "SEM_each_FPP_in_each_run_with_animate = np.zeros((5,4))\n",
    "\n",
    "for FPP in range(5):\n",
    "    for run in range(4):\n",
    "        Activity_each_vertices_in_each_run = np.concatenate((right_movie_data[right_FPPs_indices[FPP]][:,ShifteddSeconds[run]], left_movie_data[left_FPPs_indices[FPP]][:,ShifteddSeconds[run]]))\n",
    "        Mean_activity_FPP_in_each_second_of_run = np.mean(Activity_each_vertices_in_each_run, axis=0)\n",
    "        Mean_activity_FPP_in_each_run = np.mean(Mean_activity_FPP_in_each_second_of_run)\n",
    "        Mean_activity_each_FPP_in_each_run_with_animate[FPP, run] = Mean_activity_FPP_in_each_run\n",
    "        SEM_each_FPP_in_each_run_with_animate[FPP,run] = stats.sem(Mean_activity_FPP_in_each_second_of_run)"
   ]
  },
  {
   "cell_type": "code",
   "execution_count": 39,
   "id": "c00f7c20",
   "metadata": {},
   "outputs": [
    {
     "data": {
      "image/png": "[encoded data removed]",
      "text/plain": [
       "<Figure size 400x2000 with 5 Axes>"
      ]
     },
     "metadata": {},
     "output_type": "display_data"
    }
   ],
   "source": [
    "x = [1, 2, 3, 4]\n",
    "\n",
    "colors = ['red', 'blue', 'green', 'orange', 'purple']\n",
    "\n",
    "fig, axs = plt.subplots(5, 1, figsize=(4, 20))\n",
    "max_vals = []\n",
    "min_vals = []\n",
    "for i in range(5):\n",
    "    max_vals.append(max(Mean_activity_each_FPP_in_each_run_with_animate[i] + SEM_each_FPP_in_each_run_with_animate[i]))\n",
    "    min_vals.append(min(Mean_activity_each_FPP_in_each_run_with_animate[i] - SEM_each_FPP_in_each_run_with_animate[i]))\n",
    "\n",
    "y_min = min(min_vals)\n",
    "y_max = max(max_vals)\n",
    "for i in range(5):\n",
    "    axs[i].set_ylim(y_min, y_max)\n",
    "\n",
    "# for i in range(5):\n",
    "#     axs[i].set_yticks(np.arange(y_min, y_max+0.1,0.1))\n",
    "    \n",
    "for i in range(5):\n",
    "    axs[i].errorbar(x, Mean_activity_each_FPP_in_each_run_with_animate[i], yerr=SEM_each_FPP_in_each_run_with_animate[i], fmt='-o', color=colors[i])\n",
    "    axs[i].set_title(f'FPP{i+1}')\n",
    "    axs[i].set_xticks(x)\n",
    "    axs[i].set_xlabel('Run number')\n",
    "    axs[i].set_ylabel('mean +/- SEM')\n",
    "    axs[i].set_yticks([0,0.1,0.2,0.3])\n",
    "\n",
    "plt.subplots_adjust(hspace=2)\n",
    "\n",
    "plt.suptitle('Result with out seconds with face or body')\n",
    "plt.show()"
   ]
  },
  {
   "cell_type": "code",
   "execution_count": 36,
   "id": "555e67c0",
   "metadata": {},
   "outputs": [
    {
     "data": {
      "text/plain": [
       "array([[ 0.01846555, -0.0078721 , -0.03609696,  0.00349927],\n",
       "       [ 0.14760337,  0.15683597,  0.13269835,  0.15184522],\n",
       "       [ 0.17291102,  0.21445087,  0.18495545,  0.19078062],\n",
       "       [ 0.14821336,  0.2231757 ,  0.18971236,  0.19437835],\n",
       "       [ 0.15711273,  0.2204033 ,  0.18686112,  0.14842224]])"
      ]
     },
     "execution_count": 36,
     "metadata": {},
     "output_type": "execute_result"
    }
   ],
   "source": [
    "Mean_activity_each_FPP_in_each_run_with_animate"
   ]
  },
  {
   "cell_type": "code",
   "execution_count": 37,
   "id": "a141b002",
   "metadata": {},
   "outputs": [
    {
     "data": {
      "text/plain": [
       "array([[0.07094901, 0.05769595, 0.01379826, 0.04897331],\n",
       "       [0.11729408, 0.17945793, 0.1207279 , 0.14185349],\n",
       "       [0.12782053, 0.26376539, 0.22148383, 0.26162185],\n",
       "       [0.10896838, 0.28761538, 0.25811603, 0.31373005],\n",
       "       [0.1549583 , 0.32099557, 0.25859801, 0.27023594]])"
      ]
     },
     "execution_count": 37,
     "metadata": {},
     "output_type": "execute_result"
    }
   ],
   "source": [
    "Mean_activity_each_FPP_in_each_run"
   ]
  },
  {
   "cell_type": "code",
   "execution_count": null,
   "id": "d5b0906c",
   "metadata": {},
   "outputs": [],
   "source": []
  }
 ],
 "metadata": {
  "kernelspec": {
   "display_name": "Python 3",
   "language": "python",
   "name": "python3"
  },
  "language_info": {
   "codemirror_mode": {
    "name": "ipython",
    "version": 3
   },
   "file_extension": ".py",
   "mimetype": "text/x-python",
   "name": "python",
   "nbconvert_exporter": "python",
   "pygments_lexer": "ipython3",
   "version": "3.12.2"
  }
 },
 "nbformat": 4,
 "nbformat_minor": 5
}
