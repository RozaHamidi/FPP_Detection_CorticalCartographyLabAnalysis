{
 "cells": [
  {
   "cell_type": "code",
   "execution_count": 1,
   "metadata": {},
   "outputs": [],
   "source": [
    "import scipy.io\n",
    "import numpy as np\n",
    "from scipy import stats\n",
    "import pandas as pd\n",
    "import nibabel as nb\n",
    "from scipy import stats\n"
   ]
  },
  {
   "cell_type": "code",
   "execution_count": 2,
   "metadata": {},
   "outputs": [],
   "source": [
    "working_memory_subjects = scipy.io.loadmat('E:/FPP_files_and_codes/FPP_files/working_memory/HCP_WM_Place_Data.mat')"
   ]
  },
  {
   "cell_type": "code",
   "execution_count": 3,
   "metadata": {},
   "outputs": [],
   "source": [
    "subjects_id = working_memory_subjects['IDs']"
   ]
  },
  {
   "cell_type": "code",
   "execution_count": 4,
   "metadata": {},
   "outputs": [
    {
     "data": {
      "text/plain": [
       "(1, 1076)"
      ]
     },
     "execution_count": 4,
     "metadata": {},
     "output_type": "execute_result"
    }
   ],
   "source": [
    "subjects_id.shape"
   ]
  },
  {
   "cell_type": "code",
   "execution_count": 5,
   "metadata": {},
   "outputs": [],
   "source": [
    "subjects_id = subjects_id.squeeze(0)"
   ]
  },
  {
   "cell_type": "code",
   "execution_count": 6,
   "metadata": {},
   "outputs": [
    {
     "data": {
      "text/plain": [
       "(1076,)"
      ]
     },
     "execution_count": 6,
     "metadata": {},
     "output_type": "execute_result"
    }
   ],
   "source": [
    "subjects_id.shape"
   ]
  },
  {
   "cell_type": "code",
   "execution_count": 7,
   "metadata": {},
   "outputs": [],
   "source": [
    "subjects_data = working_memory_subjects['DD']"
   ]
  },
  {
   "cell_type": "code",
   "execution_count": 8,
   "metadata": {},
   "outputs": [
    {
     "data": {
      "text/plain": [
       "(91282, 1076)"
      ]
     },
     "execution_count": 8,
     "metadata": {},
     "output_type": "execute_result"
    }
   ],
   "source": [
    "subjects_data.shape"
   ]
  },
  {
   "cell_type": "markdown",
   "metadata": {},
   "source": [
    "# mean activity FPPs in each subjects"
   ]
  },
  {
   "cell_type": "code",
   "execution_count": 9,
   "metadata": {},
   "outputs": [],
   "source": [
    "FPPs = {}\n",
    "for i in range(5):\n",
    "    FPPs[i] = nb.load(f'E:/FPP_files_and_codes/FPP_files/FPPs_Uncombined/cifti_format/FPP{i+1}.dscalar.nii').get_fdata()[0]"
   ]
  },
  {
   "cell_type": "code",
   "execution_count": 10,
   "metadata": {},
   "outputs": [],
   "source": [
    "working_memory_subjects_prefered = subjects_data[0:FPPs[0].shape[0]]"
   ]
  },
  {
   "cell_type": "code",
   "execution_count": 11,
   "metadata": {},
   "outputs": [
    {
     "data": {
      "text/plain": [
       "(59412, 1076)"
      ]
     },
     "execution_count": 11,
     "metadata": {},
     "output_type": "execute_result"
    }
   ],
   "source": [
    "working_memory_subjects_prefered.shape"
   ]
  },
  {
   "cell_type": "code",
   "execution_count": 12,
   "metadata": {},
   "outputs": [],
   "source": [
    "mean_activity_subjects_in_FPPs = np.zeros((5, 1076))\n",
    "for i in range(5):\n",
    "    mean_activity_subjects_in_FPPs[i] = np.mean(working_memory_subjects_prefered[FPPs[i].astype(bool),:], axis=0)"
   ]
  },
  {
   "cell_type": "code",
   "execution_count": 14,
   "metadata": {},
   "outputs": [],
   "source": [
    "mean_subjects_in_FPPs = np.mean(mean_activity_subjects_in_FPPs, axis=1)\n",
    "sem_subjects_in_FPPs = stats.sem(mean_activity_subjects_in_FPPs, axis=1)"
   ]
  },
  {
   "cell_type": "code",
   "execution_count": 15,
   "metadata": {},
   "outputs": [
    {
     "data": {
      "image/png": "[encoded data removed]",
      "text/plain": [
       "<Figure size 800x600 with 1 Axes>"
      ]
     },
     "metadata": {},
     "output_type": "display_data"
    }
   ],
   "source": [
    "import matplotlib.pyplot as plt\n",
    "\n",
    "fig, ax = plt.subplots(figsize=(8, 6))\n",
    "\n",
    "plt.rcParams['font.size'] = 15\n",
    "plt.rcParams['font.family'] = 'Arial'\n",
    "\n",
    "x = np.arange(1, 6)\n",
    "\n",
    "ax.bar(x, mean_subjects_in_FPPs, yerr=sem_subjects_in_FPPs, capsize=5, color='blue')\n",
    "ax.set_ylabel('Activation')\n",
    "ax.set_xticks(x, labels=['FPP1', 'FPP2', 'FPP3', 'FPP4', 'FPP5'])\n",
    "ax.axhline(0, color='gray', linestyle='--')\n",
    "\n",
    "ax.spines['top'].set_visible(False)\n",
    "ax.spines['right'].set_visible(False)\n",
    "\n",
    "# plt.savefig('E:/FPP_files_and_codes/Figures/Figure5_files/panel_B/working_memory_in_FPPs.png', dpi=1200, bbox_inches='tight')\n",
    "plt.show()"
   ]
  },
  {
   "cell_type": "code",
   "execution_count": 59,
   "metadata": {},
   "outputs": [
    {
     "data": {
      "text/plain": [
       "array([29.63756542, 20.0613361 , 14.82147037,  2.9908085 , -5.83463372])"
      ]
     },
     "execution_count": 59,
     "metadata": {},
     "output_type": "execute_result"
    }
   ],
   "source": [
    "mean_subjects_in_FPPs - sem_subjects_in_FPPs"
   ]
  },
  {
   "cell_type": "code",
   "execution_count": null,
   "metadata": {},
   "outputs": [],
   "source": []
  },
  {
   "cell_type": "markdown",
   "metadata": {},
   "source": [
    "# Reading behavioral data"
   ]
  },
  {
   "cell_type": "code",
   "execution_count": 16,
   "metadata": {},
   "outputs": [],
   "source": [
    "behavioral_data = pd.read_csv('E:/FPP_files_and_codes/FPP_files/behavioral_analysis/behavioral_data.csv')"
   ]
  },
  {
   "cell_type": "code",
   "execution_count": 17,
   "metadata": {},
   "outputs": [],
   "source": [
    "behavioral_data_subjects  = behavioral_data[behavioral_data['Subject'].isin(subjects_id)]"
   ]
  },
  {
   "cell_type": "code",
   "execution_count": 18,
   "metadata": {},
   "outputs": [
    {
     "data": {
      "text/html": [
       "<div>\n",
       "<style scoped>\n",
       "    .dataframe tbody tr th:only-of-type {\n",
       "        vertical-align: middle;\n",
       "    }\n",
       "\n",
       "    .dataframe tbody tr th {\n",
       "        vertical-align: top;\n",
       "    }\n",
       "\n",
       "    .dataframe thead th {\n",
       "        text-align: right;\n",
       "    }\n",
       "</style>\n",
       "<table border=\"1\" class=\"dataframe\">\n",
       "  <thead>\n",
       "    <tr style=\"text-align: right;\">\n",
       "      <th></th>\n",
       "      <th>Subject</th>\n",
       "      <th>Release</th>\n",
       "      <th>Acquisition</th>\n",
       "      <th>Gender</th>\n",
       "      <th>Age</th>\n",
       "      <th>3T_Full_MR_Compl</th>\n",
       "      <th>T1_Count</th>\n",
       "      <th>T2_Count</th>\n",
       "      <th>3T_RS-fMRI_Count</th>\n",
       "      <th>3T_RS-fMRI_PctCompl</th>\n",
       "      <th>...</th>\n",
       "      <th>Noise_Comp</th>\n",
       "      <th>Odor_Unadj</th>\n",
       "      <th>Odor_AgeAdj</th>\n",
       "      <th>PainIntens_RawScore</th>\n",
       "      <th>PainInterf_Tscore</th>\n",
       "      <th>Taste_Unadj</th>\n",
       "      <th>Taste_AgeAdj</th>\n",
       "      <th>Mars_Log_Score</th>\n",
       "      <th>Mars_Errs</th>\n",
       "      <th>Mars_Final</th>\n",
       "    </tr>\n",
       "  </thead>\n",
       "  <tbody>\n",
       "    <tr>\n",
       "      <th>1</th>\n",
       "      <td>100206</td>\n",
       "      <td>S900</td>\n",
       "      <td>Q11</td>\n",
       "      <td>M</td>\n",
       "      <td>26-30</td>\n",
       "      <td>True</td>\n",
       "      <td>1</td>\n",
       "      <td>1</td>\n",
       "      <td>4</td>\n",
       "      <td>100.0</td>\n",
       "      <td>...</td>\n",
       "      <td>6.0</td>\n",
       "      <td>108.79</td>\n",
       "      <td>97.19</td>\n",
       "      <td>1.0</td>\n",
       "      <td>49.7</td>\n",
       "      <td>72.63</td>\n",
       "      <td>72.03</td>\n",
       "      <td>1.84</td>\n",
       "      <td>0.0</td>\n",
       "      <td>1.84</td>\n",
       "    </tr>\n",
       "    <tr>\n",
       "      <th>2</th>\n",
       "      <td>100307</td>\n",
       "      <td>Q1</td>\n",
       "      <td>Q01</td>\n",
       "      <td>F</td>\n",
       "      <td>26-30</td>\n",
       "      <td>True</td>\n",
       "      <td>1</td>\n",
       "      <td>1</td>\n",
       "      <td>4</td>\n",
       "      <td>100.0</td>\n",
       "      <td>...</td>\n",
       "      <td>3.6</td>\n",
       "      <td>101.12</td>\n",
       "      <td>86.45</td>\n",
       "      <td>0.0</td>\n",
       "      <td>38.6</td>\n",
       "      <td>71.69</td>\n",
       "      <td>71.76</td>\n",
       "      <td>1.76</td>\n",
       "      <td>0.0</td>\n",
       "      <td>1.76</td>\n",
       "    </tr>\n",
       "    <tr>\n",
       "      <th>3</th>\n",
       "      <td>100408</td>\n",
       "      <td>Q3</td>\n",
       "      <td>Q03</td>\n",
       "      <td>M</td>\n",
       "      <td>31-35</td>\n",
       "      <td>True</td>\n",
       "      <td>1</td>\n",
       "      <td>1</td>\n",
       "      <td>4</td>\n",
       "      <td>100.0</td>\n",
       "      <td>...</td>\n",
       "      <td>2.0</td>\n",
       "      <td>108.79</td>\n",
       "      <td>98.04</td>\n",
       "      <td>2.0</td>\n",
       "      <td>52.6</td>\n",
       "      <td>114.01</td>\n",
       "      <td>113.59</td>\n",
       "      <td>1.76</td>\n",
       "      <td>2.0</td>\n",
       "      <td>1.68</td>\n",
       "    </tr>\n",
       "    <tr>\n",
       "      <th>4</th>\n",
       "      <td>100610</td>\n",
       "      <td>S900</td>\n",
       "      <td>Q08</td>\n",
       "      <td>M</td>\n",
       "      <td>26-30</td>\n",
       "      <td>True</td>\n",
       "      <td>2</td>\n",
       "      <td>1</td>\n",
       "      <td>4</td>\n",
       "      <td>100.0</td>\n",
       "      <td>...</td>\n",
       "      <td>2.0</td>\n",
       "      <td>122.25</td>\n",
       "      <td>110.45</td>\n",
       "      <td>0.0</td>\n",
       "      <td>38.6</td>\n",
       "      <td>84.84</td>\n",
       "      <td>85.31</td>\n",
       "      <td>1.92</td>\n",
       "      <td>1.0</td>\n",
       "      <td>1.88</td>\n",
       "    </tr>\n",
       "    <tr>\n",
       "      <th>5</th>\n",
       "      <td>101006</td>\n",
       "      <td>S500</td>\n",
       "      <td>Q06</td>\n",
       "      <td>F</td>\n",
       "      <td>31-35</td>\n",
       "      <td>True</td>\n",
       "      <td>2</td>\n",
       "      <td>2</td>\n",
       "      <td>4</td>\n",
       "      <td>100.0</td>\n",
       "      <td>...</td>\n",
       "      <td>6.0</td>\n",
       "      <td>122.25</td>\n",
       "      <td>111.41</td>\n",
       "      <td>0.0</td>\n",
       "      <td>38.6</td>\n",
       "      <td>123.80</td>\n",
       "      <td>123.31</td>\n",
       "      <td>1.80</td>\n",
       "      <td>0.0</td>\n",
       "      <td>1.80</td>\n",
       "    </tr>\n",
       "    <tr>\n",
       "      <th>...</th>\n",
       "      <td>...</td>\n",
       "      <td>...</td>\n",
       "      <td>...</td>\n",
       "      <td>...</td>\n",
       "      <td>...</td>\n",
       "      <td>...</td>\n",
       "      <td>...</td>\n",
       "      <td>...</td>\n",
       "      <td>...</td>\n",
       "      <td>...</td>\n",
       "      <td>...</td>\n",
       "      <td>...</td>\n",
       "      <td>...</td>\n",
       "      <td>...</td>\n",
       "      <td>...</td>\n",
       "      <td>...</td>\n",
       "      <td>...</td>\n",
       "      <td>...</td>\n",
       "      <td>...</td>\n",
       "      <td>...</td>\n",
       "      <td>...</td>\n",
       "    </tr>\n",
       "    <tr>\n",
       "      <th>1201</th>\n",
       "      <td>992774</td>\n",
       "      <td>Q2</td>\n",
       "      <td>Q02</td>\n",
       "      <td>M</td>\n",
       "      <td>31-35</td>\n",
       "      <td>True</td>\n",
       "      <td>2</td>\n",
       "      <td>2</td>\n",
       "      <td>4</td>\n",
       "      <td>100.0</td>\n",
       "      <td>...</td>\n",
       "      <td>8.4</td>\n",
       "      <td>122.25</td>\n",
       "      <td>111.41</td>\n",
       "      <td>4.0</td>\n",
       "      <td>50.1</td>\n",
       "      <td>107.17</td>\n",
       "      <td>103.55</td>\n",
       "      <td>1.76</td>\n",
       "      <td>0.0</td>\n",
       "      <td>1.76</td>\n",
       "    </tr>\n",
       "    <tr>\n",
       "      <th>1202</th>\n",
       "      <td>993675</td>\n",
       "      <td>S900</td>\n",
       "      <td>Q09</td>\n",
       "      <td>F</td>\n",
       "      <td>26-30</td>\n",
       "      <td>True</td>\n",
       "      <td>2</td>\n",
       "      <td>2</td>\n",
       "      <td>4</td>\n",
       "      <td>100.0</td>\n",
       "      <td>...</td>\n",
       "      <td>0.4</td>\n",
       "      <td>122.25</td>\n",
       "      <td>110.45</td>\n",
       "      <td>0.0</td>\n",
       "      <td>38.6</td>\n",
       "      <td>84.07</td>\n",
       "      <td>84.25</td>\n",
       "      <td>1.80</td>\n",
       "      <td>1.0</td>\n",
       "      <td>1.76</td>\n",
       "    </tr>\n",
       "    <tr>\n",
       "      <th>1203</th>\n",
       "      <td>994273</td>\n",
       "      <td>S500</td>\n",
       "      <td>Q06</td>\n",
       "      <td>M</td>\n",
       "      <td>26-30</td>\n",
       "      <td>True</td>\n",
       "      <td>1</td>\n",
       "      <td>1</td>\n",
       "      <td>4</td>\n",
       "      <td>100.0</td>\n",
       "      <td>...</td>\n",
       "      <td>6.0</td>\n",
       "      <td>122.25</td>\n",
       "      <td>111.41</td>\n",
       "      <td>7.0</td>\n",
       "      <td>63.8</td>\n",
       "      <td>110.65</td>\n",
       "      <td>109.73</td>\n",
       "      <td>1.80</td>\n",
       "      <td>1.0</td>\n",
       "      <td>1.76</td>\n",
       "    </tr>\n",
       "    <tr>\n",
       "      <th>1204</th>\n",
       "      <td>995174</td>\n",
       "      <td>S1200</td>\n",
       "      <td>Q13</td>\n",
       "      <td>M</td>\n",
       "      <td>22-25</td>\n",
       "      <td>False</td>\n",
       "      <td>1</td>\n",
       "      <td>1</td>\n",
       "      <td>2</td>\n",
       "      <td>0.0</td>\n",
       "      <td>...</td>\n",
       "      <td>3.6</td>\n",
       "      <td>88.61</td>\n",
       "      <td>64.58</td>\n",
       "      <td>3.0</td>\n",
       "      <td>50.1</td>\n",
       "      <td>117.16</td>\n",
       "      <td>117.40</td>\n",
       "      <td>1.80</td>\n",
       "      <td>0.0</td>\n",
       "      <td>1.80</td>\n",
       "    </tr>\n",
       "    <tr>\n",
       "      <th>1205</th>\n",
       "      <td>996782</td>\n",
       "      <td>S900</td>\n",
       "      <td>Q08</td>\n",
       "      <td>F</td>\n",
       "      <td>26-30</td>\n",
       "      <td>True</td>\n",
       "      <td>2</td>\n",
       "      <td>2</td>\n",
       "      <td>4</td>\n",
       "      <td>100.0</td>\n",
       "      <td>...</td>\n",
       "      <td>6.0</td>\n",
       "      <td>108.79</td>\n",
       "      <td>97.19</td>\n",
       "      <td>0.0</td>\n",
       "      <td>38.6</td>\n",
       "      <td>75.43</td>\n",
       "      <td>73.72</td>\n",
       "      <td>1.84</td>\n",
       "      <td>0.0</td>\n",
       "      <td>1.84</td>\n",
       "    </tr>\n",
       "  </tbody>\n",
       "</table>\n",
       "<p>1076 rows × 582 columns</p>\n",
       "</div>"
      ],
      "text/plain": [
       "      Subject Release Acquisition Gender    Age  3T_Full_MR_Compl  T1_Count  \\\n",
       "1      100206    S900         Q11      M  26-30              True         1   \n",
       "2      100307      Q1         Q01      F  26-30              True         1   \n",
       "3      100408      Q3         Q03      M  31-35              True         1   \n",
       "4      100610    S900         Q08      M  26-30              True         2   \n",
       "5      101006    S500         Q06      F  31-35              True         2   \n",
       "...       ...     ...         ...    ...    ...               ...       ...   \n",
       "1201   992774      Q2         Q02      M  31-35              True         2   \n",
       "1202   993675    S900         Q09      F  26-30              True         2   \n",
       "1203   994273    S500         Q06      M  26-30              True         1   \n",
       "1204   995174   S1200         Q13      M  22-25             False         1   \n",
       "1205   996782    S900         Q08      F  26-30              True         2   \n",
       "\n",
       "      T2_Count  3T_RS-fMRI_Count  3T_RS-fMRI_PctCompl  ...  Noise_Comp  \\\n",
       "1            1                 4                100.0  ...         6.0   \n",
       "2            1                 4                100.0  ...         3.6   \n",
       "3            1                 4                100.0  ...         2.0   \n",
       "4            1                 4                100.0  ...         2.0   \n",
       "5            2                 4                100.0  ...         6.0   \n",
       "...        ...               ...                  ...  ...         ...   \n",
       "1201         2                 4                100.0  ...         8.4   \n",
       "1202         2                 4                100.0  ...         0.4   \n",
       "1203         1                 4                100.0  ...         6.0   \n",
       "1204         1                 2                  0.0  ...         3.6   \n",
       "1205         2                 4                100.0  ...         6.0   \n",
       "\n",
       "      Odor_Unadj  Odor_AgeAdj  PainIntens_RawScore  PainInterf_Tscore  \\\n",
       "1         108.79        97.19                  1.0               49.7   \n",
       "2         101.12        86.45                  0.0               38.6   \n",
       "3         108.79        98.04                  2.0               52.6   \n",
       "4         122.25       110.45                  0.0               38.6   \n",
       "5         122.25       111.41                  0.0               38.6   \n",
       "...          ...          ...                  ...                ...   \n",
       "1201      122.25       111.41                  4.0               50.1   \n",
       "1202      122.25       110.45                  0.0               38.6   \n",
       "1203      122.25       111.41                  7.0               63.8   \n",
       "1204       88.61        64.58                  3.0               50.1   \n",
       "1205      108.79        97.19                  0.0               38.6   \n",
       "\n",
       "      Taste_Unadj  Taste_AgeAdj  Mars_Log_Score  Mars_Errs  Mars_Final  \n",
       "1           72.63         72.03            1.84        0.0        1.84  \n",
       "2           71.69         71.76            1.76        0.0        1.76  \n",
       "3          114.01        113.59            1.76        2.0        1.68  \n",
       "4           84.84         85.31            1.92        1.0        1.88  \n",
       "5          123.80        123.31            1.80        0.0        1.80  \n",
       "...           ...           ...             ...        ...         ...  \n",
       "1201       107.17        103.55            1.76        0.0        1.76  \n",
       "1202        84.07         84.25            1.80        1.0        1.76  \n",
       "1203       110.65        109.73            1.80        1.0        1.76  \n",
       "1204       117.16        117.40            1.80        0.0        1.80  \n",
       "1205        75.43         73.72            1.84        0.0        1.84  \n",
       "\n",
       "[1076 rows x 582 columns]"
      ]
     },
     "execution_count": 18,
     "metadata": {},
     "output_type": "execute_result"
    }
   ],
   "source": [
    "behavioral_data_subjects"
   ]
  },
  {
   "cell_type": "code",
   "execution_count": 19,
   "metadata": {},
   "outputs": [],
   "source": [
    "accuracy_WM_task_subjects = behavioral_data_subjects['WM_Task_2bk_Place_Acc']"
   ]
  },
  {
   "cell_type": "code",
   "execution_count": 20,
   "metadata": {},
   "outputs": [],
   "source": [
    "accuracy_WM_task_subjects = np.array(accuracy_WM_task_subjects)"
   ]
  },
  {
   "cell_type": "code",
   "execution_count": 21,
   "metadata": {},
   "outputs": [
    {
     "data": {
      "text/plain": [
       "9"
      ]
     },
     "execution_count": 21,
     "metadata": {},
     "output_type": "execute_result"
    }
   ],
   "source": [
    "np.isnan(accuracy_WM_task_subjects).sum()"
   ]
  },
  {
   "cell_type": "code",
   "execution_count": 22,
   "metadata": {},
   "outputs": [
    {
     "data": {
      "text/plain": [
       "(5, 1076)"
      ]
     },
     "execution_count": 22,
     "metadata": {},
     "output_type": "execute_result"
    }
   ],
   "source": [
    "mean_activity_subjects_in_FPPs.shape"
   ]
  },
  {
   "cell_type": "code",
   "execution_count": 23,
   "metadata": {},
   "outputs": [],
   "source": [
    "mean_activity_subjects_in_FPPs = mean_activity_subjects_in_FPPs[:,~np.isnan(accuracy_WM_task_subjects)]"
   ]
  },
  {
   "cell_type": "code",
   "execution_count": 24,
   "metadata": {},
   "outputs": [
    {
     "data": {
      "text/plain": [
       "(5, 1067)"
      ]
     },
     "execution_count": 24,
     "metadata": {},
     "output_type": "execute_result"
    }
   ],
   "source": [
    "mean_activity_subjects_in_FPPs.shape"
   ]
  },
  {
   "cell_type": "code",
   "execution_count": 25,
   "metadata": {},
   "outputs": [],
   "source": [
    "accuracy_WM_task_subjects = accuracy_WM_task_subjects[~np.isnan(accuracy_WM_task_subjects)]"
   ]
  },
  {
   "cell_type": "code",
   "execution_count": 26,
   "metadata": {},
   "outputs": [
    {
     "data": {
      "text/plain": [
       "(1067,)"
      ]
     },
     "execution_count": 26,
     "metadata": {},
     "output_type": "execute_result"
    }
   ],
   "source": [
    "accuracy_WM_task_subjects.shape"
   ]
  },
  {
   "cell_type": "code",
   "execution_count": 27,
   "metadata": {},
   "outputs": [
    {
     "data": {
      "text/plain": [
       "(1067,)"
      ]
     },
     "execution_count": 27,
     "metadata": {},
     "output_type": "execute_result"
    }
   ],
   "source": [
    "accuracy_WM_task_subjects.shape"
   ]
  },
  {
   "cell_type": "code",
   "execution_count": 28,
   "metadata": {},
   "outputs": [],
   "source": [
    "FPPs_corr_with_behavioral_data = np.zeros(5)\n",
    "pval_FPPs_corr_with_behavioral_data = np.zeros(5)\n",
    "for i,mean_activity_FPP in enumerate(mean_activity_subjects_in_FPPs):\n",
    "    FPPs_corr_with_behavioral_data[i],pval_FPPs_corr_with_behavioral_data[i] = stats.pearsonr(mean_activity_FPP, accuracy_WM_task_subjects)"
   ]
  },
  {
   "cell_type": "code",
   "execution_count": 29,
   "metadata": {},
   "outputs": [
    {
     "data": {
      "text/plain": [
       "array([0.21456085, 0.20368929, 0.15775297, 0.08270617, 0.01647821])"
      ]
     },
     "execution_count": 29,
     "metadata": {},
     "output_type": "execute_result"
    }
   ],
   "source": [
    "FPPs_corr_with_behavioral_data"
   ]
  },
  {
   "cell_type": "code",
   "execution_count": 110,
   "metadata": {},
   "outputs": [
    {
     "data": {
      "text/plain": [
       "array([7.05047519e-12, 9.32395807e-11, 1.11289137e-06, 3.43522147e-02,\n",
       "       2.95403937e+00])"
      ]
     },
     "execution_count": 110,
     "metadata": {},
     "output_type": "execute_result"
    }
   ],
   "source": [
    "pval_FPPs_corr_with_behavioral_data * 5"
   ]
  },
  {
   "cell_type": "code",
   "execution_count": 31,
   "metadata": {},
   "outputs": [
    {
     "data": {
      "image/png": "[encoded data removed]",
      "text/plain": [
       "<Figure size 800x600 with 1 Axes>"
      ]
     },
     "metadata": {},
     "output_type": "display_data"
    }
   ],
   "source": [
    "import matplotlib.pyplot as plt\n",
    "\n",
    "fig, ax = plt.subplots(figsize=(8, 6))\n",
    "\n",
    "plt.rcParams['font.size'] = 15\n",
    "plt.rcParams['font.family'] = 'Arial'\n",
    "\n",
    "x = np.arange(1, 6)\n",
    "\n",
    "ax.bar(x, FPPs_corr_with_behavioral_data, capsize=5, color='blue')\n",
    "ax.set_ylabel('correlation')\n",
    "ax.set_xticks(x, labels=['FPP1', 'FPP2', 'FPP3', 'FPP4', 'FPP5'])\n",
    "# ax.axhline(0, color='gray', linestyle='--')\n",
    "\n",
    "ax.spines['top'].set_visible(False)\n",
    "ax.spines['right'].set_visible(False)\n",
    "\n",
    "plt.show()"
   ]
  },
  {
   "cell_type": "code",
   "execution_count": null,
   "metadata": {},
   "outputs": [],
   "source": []
  },
  {
   "cell_type": "code",
   "execution_count": 85,
   "metadata": {},
   "outputs": [
    {
     "data": {
      "text/plain": [
       "array([29.63756542, 20.0613361 , 14.82147037,  2.9908085 , -5.83463372])"
      ]
     },
     "execution_count": 85,
     "metadata": {},
     "output_type": "execute_result"
    }
   ],
   "source": [
    "mean_subjects_in_FPPs - sem_subjects_in_FPPs"
   ]
  },
  {
   "cell_type": "code",
   "execution_count": 109,
   "metadata": {},
   "outputs": [
    {
     "data": {
      "image/png": "[encoded data removed]",
      "text/plain": [
       "<Figure size 800x600 with 2 Axes>"
      ]
     },
     "metadata": {},
     "output_type": "display_data"
    }
   ],
   "source": [
    "x = np.arange(5)\n",
    "\n",
    "fig, ax1 = plt.subplots(figsize=(8, 6))\n",
    "plt.rcParams['font.size'] = 15\n",
    "plt.rcParams['font.family'] = 'Arial'\n",
    "\n",
    "# Create a second y-axis\n",
    "ax2 = ax1.twinx()\n",
    "\n",
    "# Bar width\n",
    "width = 0.3\n",
    "\n",
    "# Plotting the bars with a little space between them\n",
    "ax1.bar(x - width/2 - 0.02 , mean_subjects_in_FPPs, yerr=sem_subjects_in_FPPs, width=width, capsize=5, color='blue',align='center')\n",
    "ax2.bar(x + width/2 + 0.02, FPPs_corr_with_behavioral_data, width=width, color='firebrick', align='center')\n",
    "ax2.set_ylim(-0.07, 0.32)\n",
    "ax1.set_ylim(-70, 32)\n",
    "\n",
    "def sync_y_axes(ax1, ax2, scale_factor):\n",
    "    y1min, y1max = ax1.get_ylim()\n",
    "    ax2.set_ylim(y1min * scale_factor, y1max * scale_factor)\n",
    "\n",
    "scale_factor = 100\n",
    "sync_y_axes(ax2, ax1, scale_factor)\n",
    "\n",
    "# Change the color of the y-axis tick parameters and spine for ax2\n",
    "ax2.tick_params(axis='y', colors='firebrick')\n",
    "ax2.spines['right'].set_color('firebrick')\n",
    "\n",
    "ax1.tick_params(axis='y', colors='blue')\n",
    "ax1.spines['left'].set_color('blue')\n",
    "\n",
    "ax1.set_ylabel('Activation', color='blue')\n",
    "ax2.set_ylabel('Correlation with behavioral performance', color='firebrick')\n",
    "\n",
    "ax1.set_xticks(x)\n",
    "ax1.set_xticklabels(['FPP1', 'FFP2', 'FPP3', 'FPP4', 'FPP5'])  \n",
    "ax1.axhline(0, color='grey', linestyle='--')\n",
    "# ax2.axhline(0, color='grey', linestyle='--')\n",
    "\n",
    "ax1.spines['top'].set_visible(False)\n",
    "ax2.spines['top'].set_visible(False)\n",
    "\n",
    "# ax1.spines['left'].set_visible(False)\n",
    "ax2.spines['left'].set_visible(False)\n",
    "ax1.set_axisbelow(True)\n",
    "ax1.yaxis.grid(color='gray', linestyle='dashed')\n",
    "\n",
    "plt.savefig('E:/FPP_files_and_codes/Figures/Figure5_files/panel_B/working_memory_in_FPPs.png', dpi=1200, bbox_inches='tight')\n",
    "plt.show()\n"
   ]
  },
  {
   "cell_type": "code",
   "execution_count": null,
   "metadata": {},
   "outputs": [],
   "source": []
  }
 ],
 "metadata": {
  "kernelspec": {
   "display_name": "Python 3",
   "language": "python",
   "name": "python3"
  },
  "language_info": {
   "codemirror_mode": {
    "name": "ipython",
    "version": 3
   },
   "file_extension": ".py",
   "mimetype": "text/x-python",
   "name": "python",
   "nbconvert_exporter": "python",
   "pygments_lexer": "ipython3",
   "version": "3.12.2"
  }
 },
 "nbformat": 4,
 "nbformat_minor": 2
}
