{
 "cells": [
  {
   "cell_type": "code",
   "execution_count": 1,
   "metadata": {},
   "outputs": [],
   "source": [
    "import numpy as np\n",
    "import nibabel as nb\n",
    "import pandas as pd\n",
    "import scipy.io\n",
    "from scipy import stats\n",
    "import matplotlib.pyplot as plt"
   ]
  },
  {
   "cell_type": "code",
   "execution_count": 2,
   "metadata": {},
   "outputs": [],
   "source": [
    "Run1Seconds = np.array([i for i in range(819, 900+1)])\n",
    "Run2Seconds = np.array([i for i in range(1737, 1818+1)])\n",
    "Run3Seconds = np.array([i for i in range(2652, 2733+1)])\n",
    "Run4Seconds = np.array([i for i in range(3553, 3634+1)])"
   ]
  },
  {
   "cell_type": "code",
   "execution_count": 3,
   "metadata": {},
   "outputs": [],
   "source": [
    "RunSeconds = np.array([Run1Seconds, Run2Seconds, Run3Seconds, Run4Seconds])"
   ]
  },
  {
   "cell_type": "code",
   "execution_count": 4,
   "metadata": {},
   "outputs": [],
   "source": [
    "file_path = 'E:/FPP_files_and_codes/FPP_files/relabeled_seconds/corrected_GPT_labeling/final_labels.csv'\n",
    "\n",
    "RelabelDataframe = pd.read_csv(file_path)"
   ]
  },
  {
   "cell_type": "code",
   "execution_count": 5,
   "metadata": {},
   "outputs": [
    {
     "data": {
      "text/html": [
       "<div>\n",
       "<style scoped>\n",
       "    .dataframe tbody tr th:only-of-type {\n",
       "        vertical-align: middle;\n",
       "    }\n",
       "\n",
       "    .dataframe tbody tr th {\n",
       "        vertical-align: top;\n",
       "    }\n",
       "\n",
       "    .dataframe thead th {\n",
       "        text-align: right;\n",
       "    }\n",
       "</style>\n",
       "<table border=\"1\" class=\"dataframe\">\n",
       "  <thead>\n",
       "    <tr style=\"text-align: right;\">\n",
       "      <th></th>\n",
       "      <th>prv_label</th>\n",
       "      <th>new_label</th>\n",
       "    </tr>\n",
       "  </thead>\n",
       "  <tbody>\n",
       "    <tr>\n",
       "      <th>0</th>\n",
       "      <td>NaN</td>\n",
       "      <td>NaN</td>\n",
       "    </tr>\n",
       "    <tr>\n",
       "      <th>1</th>\n",
       "      <td>abdomen</td>\n",
       "      <td>Body</td>\n",
       "    </tr>\n",
       "    <tr>\n",
       "      <th>2</th>\n",
       "      <td>airliner</td>\n",
       "      <td>Object</td>\n",
       "    </tr>\n",
       "    <tr>\n",
       "      <th>3</th>\n",
       "      <td>airplane</td>\n",
       "      <td>Object</td>\n",
       "    </tr>\n",
       "    <tr>\n",
       "      <th>4</th>\n",
       "      <td>animal</td>\n",
       "      <td>Animal</td>\n",
       "    </tr>\n",
       "    <tr>\n",
       "      <th>...</th>\n",
       "      <td>...</td>\n",
       "      <td>...</td>\n",
       "    </tr>\n",
       "    <tr>\n",
       "      <th>595</th>\n",
       "      <td>woman</td>\n",
       "      <td>Body</td>\n",
       "    </tr>\n",
       "    <tr>\n",
       "      <th>596</th>\n",
       "      <td>work</td>\n",
       "      <td>Unclear</td>\n",
       "    </tr>\n",
       "    <tr>\n",
       "      <th>597</th>\n",
       "      <td>workshop</td>\n",
       "      <td>Place</td>\n",
       "    </tr>\n",
       "    <tr>\n",
       "      <th>598</th>\n",
       "      <td>wristband</td>\n",
       "      <td>Object</td>\n",
       "    </tr>\n",
       "    <tr>\n",
       "      <th>599</th>\n",
       "      <td>yell</td>\n",
       "      <td>Unclear</td>\n",
       "    </tr>\n",
       "  </tbody>\n",
       "</table>\n",
       "<p>600 rows × 2 columns</p>\n",
       "</div>"
      ],
      "text/plain": [
       "     prv_label new_label\n",
       "0          NaN       NaN\n",
       "1      abdomen      Body\n",
       "2     airliner    Object\n",
       "3     airplane    Object\n",
       "4       animal    Animal\n",
       "..         ...       ...\n",
       "595      woman      Body\n",
       "596       work   Unclear\n",
       "597   workshop     Place\n",
       "598  wristband    Object\n",
       "599       yell   Unclear\n",
       "\n",
       "[600 rows x 2 columns]"
      ]
     },
     "execution_count": 5,
     "metadata": {},
     "output_type": "execute_result"
    }
   ],
   "source": [
    "RelabelDataframe"
   ]
  },
  {
   "cell_type": "code",
   "execution_count": 6,
   "metadata": {},
   "outputs": [],
   "source": [
    "RelabelDictionary = {}\n",
    "for index, row in RelabelDataframe.iterrows():\n",
    "    if index != 0:\n",
    "        RelabelDictionary[row['prv_label']] = row['new_label']\n",
    "RelabelDictionary[''] = float('nan')"
   ]
  },
  {
   "cell_type": "code",
   "execution_count": 7,
   "metadata": {},
   "outputs": [
    {
     "name": "stdout",
     "output_type": "stream",
     "text": [
      "3655\n"
     ]
    }
   ],
   "source": [
    "labels_list_1 = []\n",
    "with open(\"E:/FPP_files_and_codes/FPP_files/HCP_movie_labels/Movie_labels/Movie1_labels.txt\",'r') as file:\n",
    "    for line in file:\n",
    "        labels = line.strip().split(',')\n",
    "        labels_list_1.append(labels)\n",
    "labels_list_2 = []\n",
    "with open(\"E:/FPP_files_and_codes/FPP_files/HCP_movie_labels/Movie_labels/Movie2_labels.txt\",'r') as file:\n",
    "    for line in file:\n",
    "        labels = line.strip().split(',')\n",
    "        labels_list_2.append(labels)\n",
    "labels_list_3 = []\n",
    "with open(\"E:/FPP_files_and_codes/FPP_files/HCP_movie_labels/Movie_labels/Movie3_labels.txt\",'r') as file:\n",
    "    for line in file:\n",
    "        labels = line.strip().split(',')\n",
    "        labels_list_3.append(labels)\n",
    "labels_list_4 = []\n",
    "with open(\"E:/FPP_files_and_codes/FPP_files/HCP_movie_labels/Movie_labels/Movie4_labels.txt\",'r') as file:\n",
    "    for line in file:\n",
    "        labels = line.strip().split(',')\n",
    "        labels_list_4.append(labels)\n",
    "labels_list = labels_list_1 + labels_list_2 + labels_list_3  + labels_list_4\n",
    "print(len(labels_list))"
   ]
  },
  {
   "cell_type": "code",
   "execution_count": 8,
   "metadata": {},
   "outputs": [],
   "source": [
    "RelabeldFrames = [set() for i in range(3655)]\n",
    "for i in range(3655):\n",
    "    for j in labels_list[i]:\n",
    "        RelabeldFrames[i].add(str(RelabelDictionary[j]))"
   ]
  },
  {
   "cell_type": "code",
   "execution_count": 9,
   "metadata": {},
   "outputs": [],
   "source": [
    "RunsWithoutFB = np.empty(4, dtype=object)\n",
    "for i in range(4):\n",
    "    RunsWithoutFB[i] = []\n",
    "for i in range(4):\n",
    "    for j in RunSeconds[i]:\n",
    "        if ('Face' not in RelabeldFrames[j]) and ('Body' not in RelabeldFrames[j]) and ('Animal' not in RelabeldFrames[j]):\n",
    "            RunsWithoutFB[i].append(j)"
   ]
  },
  {
   "cell_type": "code",
   "execution_count": 10,
   "metadata": {},
   "outputs": [],
   "source": [
    "PreferedSeconds = np.array([np.array(RunsWithoutFB[i]) for i in range(4)])"
   ]
  },
  {
   "cell_type": "code",
   "execution_count": 11,
   "metadata": {},
   "outputs": [
    {
     "data": {
      "text/plain": [
       "(4, 29)"
      ]
     },
     "execution_count": 11,
     "metadata": {},
     "output_type": "execute_result"
    }
   ],
   "source": [
    "PreferedSeconds.shape"
   ]
  },
  {
   "cell_type": "code",
   "execution_count": 12,
   "metadata": {},
   "outputs": [],
   "source": [
    "delay = 4\n",
    "ShiftedPreferedSeconds = (PreferedSeconds + delay)%3655"
   ]
  },
  {
   "cell_type": "code",
   "execution_count": 13,
   "metadata": {},
   "outputs": [
    {
     "data": {
      "text/plain": [
       "array([[ 823,  824,  825,  826,  827,  828,  829,  830,  831,  832,  833,\n",
       "         834,  835,  836,  837,  838,  839,  853,  854,  875,  876,  881,\n",
       "         882,  883,  888,  889,  890,  895,  896],\n",
       "       [1741, 1742, 1743, 1744, 1745, 1746, 1747, 1748, 1749, 1750, 1751,\n",
       "        1752, 1753, 1754, 1755, 1756, 1757, 1771, 1772, 1793, 1794, 1799,\n",
       "        1800, 1801, 1806, 1807, 1808, 1813, 1814],\n",
       "       [2656, 2657, 2658, 2659, 2660, 2661, 2662, 2663, 2664, 2665, 2666,\n",
       "        2667, 2668, 2669, 2670, 2671, 2672, 2686, 2687, 2708, 2709, 2714,\n",
       "        2715, 2716, 2721, 2722, 2723, 2728, 2729],\n",
       "       [3557, 3558, 3559, 3560, 3561, 3562, 3563, 3564, 3565, 3566, 3567,\n",
       "        3568, 3569, 3570, 3571, 3572, 3573, 3587, 3588, 3609, 3610, 3615,\n",
       "        3616, 3617, 3622, 3623, 3624, 3629, 3630]], dtype=int32)"
      ]
     },
     "execution_count": 13,
     "metadata": {},
     "output_type": "execute_result"
    }
   ],
   "source": [
    "ShiftedPreferedSeconds"
   ]
  },
  {
   "cell_type": "code",
   "execution_count": 14,
   "metadata": {},
   "outputs": [],
   "source": [
    "left_movie_data = scipy.io.loadmat('E:/FPP_files_and_codes/FPP_files/Movie_watching_avg_data/notmean_left_Meanfile.mat')['Left_data']\n",
    "right_movie_data = scipy.io.loadmat('E:/FPP_files_and_codes/FPP_files/Movie_watching_avg_data/notmean_right_Meanfile.mat')['Right_data']"
   ]
  },
  {
   "cell_type": "code",
   "execution_count": 15,
   "metadata": {},
   "outputs": [
    {
     "data": {
      "text/plain": [
       "(32492, 3655)"
      ]
     },
     "execution_count": 15,
     "metadata": {},
     "output_type": "execute_result"
    }
   ],
   "source": [
    "left_movie_data.shape"
   ]
  },
  {
   "cell_type": "code",
   "execution_count": 15,
   "metadata": {},
   "outputs": [],
   "source": [
    "FPPs_right = (nb.load('E:/FPP_files_and_codes/FPP_files/FPPs_combined/FPPs.rh.func.gii').darrays[0].data).T\n",
    "FPPs_left = (nb.load('E:/FPP_files_and_codes/FPP_files/FPPs_combined/FPPs.lh.func.gii').darrays[0].data).T\n",
    "right_FPPs_indices = [np.nonzero(FPPs_right[i]) for i in range(5)]\n",
    "left_FPPs_indices = [np.nonzero(FPPs_left[i]) for i in range(5)]"
   ]
  },
  {
   "cell_type": "code",
   "execution_count": 16,
   "metadata": {},
   "outputs": [],
   "source": [
    "Mean_activity_each_FPP_in_each_run = np.zeros((5,4))\n",
    "SEM_each_FPP_in_each_run = np.zeros((5,4))\n",
    "\n",
    "for FPP in range(5):\n",
    "    for run in range(4):\n",
    "        Activity_each_vertices_in_each_run = np.concatenate((right_movie_data[right_FPPs_indices[FPP]][:,ShiftedPreferedSeconds[run]], left_movie_data[left_FPPs_indices[FPP]][:,ShiftedPreferedSeconds[run]]))\n",
    "        Mean_activity_FPP_in_each_second_of_run = np.mean(Activity_each_vertices_in_each_run, axis=0)\n",
    "        Mean_activity_FPP_in_each_run = np.mean(Mean_activity_FPP_in_each_second_of_run)\n",
    "        Mean_activity_each_FPP_in_each_run[FPP, run] = Mean_activity_FPP_in_each_run\n",
    "        SEM_each_FPP_in_each_run[FPP,run] = stats.sem(Mean_activity_FPP_in_each_second_of_run)"
   ]
  },
  {
   "cell_type": "code",
   "execution_count": 17,
   "metadata": {},
   "outputs": [
    {
     "data": {
      "text/plain": [
       "array([[0.06903589, 0.07114626, 0.01832419, 0.05866088],\n",
       "       [0.10691905, 0.1839698 , 0.12314774, 0.14454909],\n",
       "       [0.10795955, 0.26737724, 0.21559423, 0.26795417],\n",
       "       [0.08465093, 0.28059275, 0.24270357, 0.31258815],\n",
       "       [0.13732913, 0.31127071, 0.24218545, 0.27772396]])"
      ]
     },
     "execution_count": 17,
     "metadata": {},
     "output_type": "execute_result"
    }
   ],
   "source": [
    "Mean_activity_each_FPP_in_each_run"
   ]
  },
  {
   "cell_type": "code",
   "execution_count": 18,
   "metadata": {},
   "outputs": [],
   "source": [
    "max_vals = []\n",
    "min_vals = []\n",
    "for i in range(5):\n",
    "    max_vals.append(max(Mean_activity_each_FPP_in_each_run[i] + SEM_each_FPP_in_each_run[i]))\n",
    "    min_vals.append(min(Mean_activity_each_FPP_in_each_run[i] - SEM_each_FPP_in_each_run[i]))\n",
    "\n",
    "y_min = min(min_vals)-0.01\n",
    "y_max = max(max_vals)+0.01"
   ]
  },
  {
   "cell_type": "code",
   "execution_count": 34,
   "metadata": {},
   "outputs": [
    {
     "data": {
      "image/png": "[encoded data removed]",
      "text/plain": [
       "<Figure size 400x800 with 1 Axes>"
      ]
     },
     "metadata": {},
     "output_type": "display_data"
    }
   ],
   "source": [
    "x = [1, 2, 3, 4]\n",
    "\n",
    "colors = ['red', 'blue', 'green', 'orange', 'purple']\n",
    "\n",
    "plt.rcParams['font.size'] = 15\n",
    "plt.rcParams['font.family'] = 'arial'\n",
    "plt.figure(figsize=(4, 8))\n",
    "\n",
    "plt.ylim(y_min, y_max)\n",
    "\n",
    "plt.errorbar(x, Mean_activity_each_FPP_in_each_run[0], yerr=SEM_each_FPP_in_each_run[0],capsize=5, fmt='-o', color=colors[0])\n",
    "# plt.title('FPP1')\n",
    "plt.xticks([1,2,3,4], ['Run1', 'Run2', 'Run3', 'Run4'])\n",
    "# plt.ylabel('Percent signal change')\n",
    "plt.yticks([0,0.1,0.2,0.3])\n",
    "ax = plt.gca()\n",
    "ax.spines['top'].set_visible(False)\n",
    "ax.spines['right'].set_visible(False)\n",
    "\n",
    "plt.savefig('E:/FPP_files_and_codes/Figures/Figure5_files/panel_C/activity_FPP1_in_each_run.png', dpi=1200, bbox_inches='tight')\n",
    "plt.show()"
   ]
  },
  {
   "cell_type": "code",
   "execution_count": 35,
   "metadata": {},
   "outputs": [
    {
     "data": {
      "image/png": "[encoded data removed]",
      "text/plain": [
       "<Figure size 400x800 with 1 Axes>"
      ]
     },
     "metadata": {},
     "output_type": "display_data"
    }
   ],
   "source": [
    "\n",
    "plt.rcParams['font.size'] = 15\n",
    "plt.rcParams['font.family'] = 'arial'\n",
    "plt.figure(figsize=(4, 8))\n",
    "\n",
    "plt.ylim(y_min, y_max)\n",
    "\n",
    "plt.errorbar(x, Mean_activity_each_FPP_in_each_run[1], yerr=SEM_each_FPP_in_each_run[1],capsize=5, fmt='-o', color=colors[1])\n",
    "# plt.title('FPP2')\n",
    "plt.xticks([1,2,3,4], ['Run1', 'Run2', 'Run3', 'Run4'])\n",
    "# plt.ylabel('Percent signal change')\n",
    "plt.yticks([0,0.1,0.2,0.3])\n",
    "ax = plt.gca()\n",
    "ax.spines['top'].set_visible(False)\n",
    "ax.spines['right'].set_visible(False)\n",
    "\n",
    "plt.savefig('E:/FPP_files_and_codes/Figures/Figure5_files/panel_C/activity_FPP2_in_each_run.png', dpi=1200, bbox_inches='tight')\n",
    "plt.show()"
   ]
  },
  {
   "cell_type": "code",
   "execution_count": 36,
   "metadata": {},
   "outputs": [
    {
     "data": {
      "image/png": "[encoded data removed]",
      "text/plain": [
       "<Figure size 400x800 with 1 Axes>"
      ]
     },
     "metadata": {},
     "output_type": "display_data"
    }
   ],
   "source": [
    "x = [1, 2, 3, 4]\n",
    "\n",
    "colors = ['red', 'blue', 'green', 'orange', 'purple']\n",
    "\n",
    "plt.rcParams['font.size'] = 15\n",
    "plt.rcParams['font.family'] = 'arial'\n",
    "plt.figure(figsize=(4, 8))\n",
    "\n",
    "plt.ylim(y_min, y_max)\n",
    "\n",
    "plt.errorbar(x, Mean_activity_each_FPP_in_each_run[2], yerr=SEM_each_FPP_in_each_run[2],capsize=5, fmt='-o', color=colors[2])\n",
    "# plt.title('FPP3')\n",
    "plt.xticks([1,2,3,4], ['Run1', 'Run2', 'Run3', 'Run4'])\n",
    "# plt.ylabel('Percent signal change')\n",
    "plt.yticks([0,0.1,0.2,0.3])\n",
    "ax = plt.gca()\n",
    "ax.spines['top'].set_visible(False)\n",
    "ax.spines['right'].set_visible(False)\n",
    "\n",
    "plt.savefig('E:/FPP_files_and_codes/Figures/Figure5_files/panel_C/activity_FPP3_in_each_run.png', dpi=1200, bbox_inches='tight')\n",
    "plt.show()"
   ]
  },
  {
   "cell_type": "code",
   "execution_count": 37,
   "metadata": {},
   "outputs": [
    {
     "data": {
      "image/png": "[encoded data removed]",
      "text/plain": [
       "<Figure size 400x800 with 1 Axes>"
      ]
     },
     "metadata": {},
     "output_type": "display_data"
    }
   ],
   "source": [
    "\n",
    "plt.rcParams['font.size'] = 15\n",
    "plt.rcParams['font.family'] = 'arial'\n",
    "plt.figure(figsize=(4, 8))\n",
    "\n",
    "plt.ylim(y_min, y_max)\n",
    "\n",
    "plt.errorbar(x, Mean_activity_each_FPP_in_each_run[3], yerr=SEM_each_FPP_in_each_run[3],capsize=5, fmt='-o', color=colors[3])\n",
    "# plt.title('FPP4')\n",
    "plt.xticks([1,2,3,4], ['Run1', 'Run2', 'Run3', 'Run4'])\n",
    "\n",
    "# plt.ylabel('Percent signal change')\n",
    "plt.yticks([0,0.1,0.2,0.3])\n",
    "ax = plt.gca()\n",
    "ax.spines['top'].set_visible(False)\n",
    "ax.spines['right'].set_visible(False)\n",
    "\n",
    "plt.savefig('E:/FPP_files_and_codes/Figures/Figure5_files/panel_C/activity_FPP4_in_each_run.png', dpi=1200, bbox_inches='tight')\n",
    "plt.show()"
   ]
  },
  {
   "cell_type": "code",
   "execution_count": 38,
   "metadata": {},
   "outputs": [
    {
     "data": {
      "image/png": "[encoded data removed]",
      "text/plain": [
       "<Figure size 400x800 with 1 Axes>"
      ]
     },
     "metadata": {},
     "output_type": "display_data"
    }
   ],
   "source": [
    "x = [1, 2, 3, 4]\n",
    "\n",
    "colors = ['red', 'blue', 'green', 'orange', 'purple']\n",
    "\n",
    "plt.rcParams['font.size'] = 15\n",
    "plt.rcParams['font.family'] = 'arial'\n",
    "plt.figure(figsize=(4, 8))\n",
    "\n",
    "plt.ylim(y_min, y_max)\n",
    "\n",
    "plt.errorbar(x, Mean_activity_each_FPP_in_each_run[4], yerr=SEM_each_FPP_in_each_run[4],capsize=5, fmt='-o', color=colors[4])\n",
    "# plt.title('FPP5')\n",
    "plt.xticks([1,2,3,4], ['Run1', 'Run2', 'Run3', 'Run4'])\n",
    "\n",
    "# plt.ylabel('Percent signal change')\n",
    "plt.yticks([0,0.1,0.2,0.3])\n",
    "ax = plt.gca()\n",
    "ax.spines['top'].set_visible(False)\n",
    "ax.spines['right'].set_visible(False)\n",
    "\n",
    "plt.savefig('E:/FPP_files_and_codes/Figures/Figure5_files/panel_C/activity_FPP5_in_each_run.png', dpi=1200, bbox_inches='tight')\n",
    "plt.show()"
   ]
  },
  {
   "cell_type": "code",
   "execution_count": null,
   "metadata": {},
   "outputs": [],
   "source": []
  }
 ],
 "metadata": {
  "kernelspec": {
   "display_name": "Python 3",
   "language": "python",
   "name": "python3"
  },
  "language_info": {
   "codemirror_mode": {
    "name": "ipython",
    "version": 3
   },
   "file_extension": ".py",
   "mimetype": "text/x-python",
   "name": "python",
   "nbconvert_exporter": "python",
   "pygments_lexer": "ipython3",
   "version": "3.12.2"
  }
 },
 "nbformat": 4,
 "nbformat_minor": 2
}
