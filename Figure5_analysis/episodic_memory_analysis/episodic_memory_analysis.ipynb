{
 "cells": [
  {
   "cell_type": "code",
   "execution_count": 2,
   "metadata": {},
   "outputs": [],
   "source": [
    "import numpy as np\n",
    "import nibabel as nb\n",
    "import pandas as pd\n",
    "import scipy.io\n",
    "from scipy import stats\n",
    "import matplotlib.pyplot as plt"
   ]
  },
  {
   "cell_type": "code",
   "execution_count": 3,
   "metadata": {},
   "outputs": [],
   "source": [
    "Run1Seconds = np.array([i for i in range(819, 900+1)])\n",
    "Run2Seconds = np.array([i for i in range(1737, 1818+1)])\n",
    "Run3Seconds = np.array([i for i in range(2652, 2733+1)])\n",
    "Run4Seconds = np.array([i for i in range(3553, 3634+1)])"
   ]
  },
  {
   "cell_type": "markdown",
   "metadata": {},
   "source": [
    "# all frames"
   ]
  },
  {
   "cell_type": "code",
   "execution_count": 4,
   "metadata": {},
   "outputs": [],
   "source": [
    "left_movie_data = scipy.io.loadmat('E:/FPP_files_and_codes/FPP_files/Movie_watching_avg_data/notmean_left_Meanfile.mat')['Left_data']\n",
    "right_movie_data = scipy.io.loadmat('E:/FPP_files_and_codes/FPP_files/Movie_watching_avg_data/notmean_right_Meanfile.mat')['Right_data']"
   ]
  },
  {
   "cell_type": "code",
   "execution_count": 5,
   "metadata": {},
   "outputs": [
    {
     "data": {
      "text/plain": [
       "(32492, 3655)"
      ]
     },
     "execution_count": 5,
     "metadata": {},
     "output_type": "execute_result"
    }
   ],
   "source": [
    "left_movie_data.shape"
   ]
  },
  {
   "cell_type": "code",
   "execution_count": 6,
   "metadata": {},
   "outputs": [],
   "source": [
    "RunSeconds = np.array([Run1Seconds, Run2Seconds, Run3Seconds, Run4Seconds])"
   ]
  },
  {
   "cell_type": "code",
   "execution_count": 7,
   "metadata": {},
   "outputs": [
    {
     "data": {
      "text/plain": [
       "(4, 82)"
      ]
     },
     "execution_count": 7,
     "metadata": {},
     "output_type": "execute_result"
    }
   ],
   "source": [
    "RunSeconds.shape"
   ]
  },
  {
   "cell_type": "code",
   "execution_count": 9,
   "metadata": {},
   "outputs": [],
   "source": [
    "delay = 4\n",
    "RunSeconds_shifted = (RunSeconds + delay)%3655"
   ]
  },
  {
   "cell_type": "code",
   "execution_count": 10,
   "metadata": {},
   "outputs": [
    {
     "data": {
      "text/plain": [
       "(82,)"
      ]
     },
     "execution_count": 10,
     "metadata": {},
     "output_type": "execute_result"
    }
   ],
   "source": [
    "RunSeconds_shifted[0].shape"
   ]
  },
  {
   "cell_type": "code",
   "execution_count": 11,
   "metadata": {},
   "outputs": [],
   "source": [
    "mean_runs_right_vertices = np.zeros((4, right_movie_data.shape[0]))\n",
    "for i in range(4):\n",
    "    mean_runs_right_vertices[i] = np.mean(right_movie_data[:, RunSeconds_shifted[i]], axis=1)"
   ]
  },
  {
   "cell_type": "code",
   "execution_count": 12,
   "metadata": {},
   "outputs": [],
   "source": [
    "mean_runs_left_vertices = np.zeros((4, left_movie_data.shape[0]))\n",
    "for i in range(4):\n",
    "    mean_runs_left_vertices[i] = np.mean(left_movie_data[:, RunSeconds_shifted[i]], axis=1)"
   ]
  },
  {
   "cell_type": "code",
   "execution_count": 13,
   "metadata": {},
   "outputs": [],
   "source": [
    "run2_minus_run1_right = mean_runs_right_vertices[1] - mean_runs_right_vertices[0]\n",
    "run2_minus_run1_left = mean_runs_left_vertices[1] - mean_runs_left_vertices[0]\n",
    "\n",
    "mean_run234_minus_run1_right = np.mean(mean_runs_right_vertices[1:4], axis=0) - mean_runs_right_vertices[0]\n",
    "mean_run234_minus_run1_left = np.mean(mean_runs_left_vertices[1:4], axis=0) - mean_runs_left_vertices[0]"
   ]
  },
  {
   "cell_type": "code",
   "execution_count": 110,
   "metadata": {},
   "outputs": [],
   "source": [
    "temp_l_path = 'E:/FPP_files_and_codes/FPP_files/classic_place_patches/classic_place_ROIs/ROIs.L.func.gii'\n",
    "temp_l = nb.load(temp_l_path)\n",
    "\n",
    "temp_l.darrays[0].data = run2_minus_run1_left.astype(np.float32)\n",
    "temp_l.to_filename('E:/FPP_files_and_codes/FPP_codes/Figure5_analysis/episodic_memory_analysis/run2_minus_run1_all_frames.L.func.gii')\n",
    "\n",
    "temp_l.darrays[0].data = mean_run234_minus_run1_left.astype(np.float32)\n",
    "temp_l.to_filename('E:/FPP_files_and_codes/FPP_codes/Figure5_analysis/episodic_memory_analysis/mean_run234_minus_run1_all_frames.L.func.gii')"
   ]
  },
  {
   "cell_type": "code",
   "execution_count": 111,
   "metadata": {},
   "outputs": [],
   "source": [
    "temp_r_path = 'E:/FPP_files_and_codes/FPP_files/classic_place_patches/classic_place_ROIs/ROIs.R.func.gii'\n",
    "temp_r = nb.load(temp_r_path)\n",
    "\n",
    "temp_r.darrays[0].data = run2_minus_run1_right.astype(np.float32)\n",
    "temp_r.to_filename('E:/FPP_files_and_codes/FPP_codes/Figure5_analysis/episodic_memory_analysis/run2_minus_run1_all_frames.R.func.gii')\n",
    "\n",
    "temp_r.darrays[0].data = mean_run234_minus_run1_right.astype(np.float32)\n",
    "temp_r.to_filename('E:/FPP_files_and_codes/FPP_codes/Figure5_analysis/episodic_memory_analysis/mean_run234_minus_run1_all_frames.R.func.gii')"
   ]
  },
  {
   "cell_type": "markdown",
   "metadata": {},
   "source": [
    "# place frames"
   ]
  },
  {
   "cell_type": "code",
   "execution_count": 41,
   "metadata": {},
   "outputs": [],
   "source": [
    "RunSeconds = np.array([Run1Seconds, Run2Seconds, Run3Seconds, Run4Seconds])"
   ]
  },
  {
   "cell_type": "code",
   "execution_count": 42,
   "metadata": {},
   "outputs": [],
   "source": [
    "file_path = 'E:/FPP_files_and_codes/FPP_files/relabeled_seconds/corrected_GPT_labeling/final_labels.csv'\n",
    "\n",
    "RelabelDataframe = pd.read_csv(file_path)"
   ]
  },
  {
   "cell_type": "code",
   "execution_count": 43,
   "metadata": {},
   "outputs": [],
   "source": [
    "RelabelDictionary = {}\n",
    "for index, row in RelabelDataframe.iterrows():\n",
    "    if index != 0:\n",
    "        RelabelDictionary[row['prv_label']] = row['new_label']\n",
    "RelabelDictionary[''] = float('nan')"
   ]
  },
  {
   "cell_type": "code",
   "execution_count": 44,
   "metadata": {},
   "outputs": [
    {
     "name": "stdout",
     "output_type": "stream",
     "text": [
      "3655\n"
     ]
    }
   ],
   "source": [
    "labels_list_1 = []\n",
    "with open(\"E:/FPP_files_and_codes/FPP_files/HCP_movie_labels/Movie_labels/Movie1_labels.txt\",'r') as file:\n",
    "    for line in file:\n",
    "        labels = line.strip().split(',')\n",
    "        labels_list_1.append(labels)\n",
    "labels_list_2 = []\n",
    "with open(\"E:/FPP_files_and_codes/FPP_files/HCP_movie_labels/Movie_labels/Movie2_labels.txt\",'r') as file:\n",
    "    for line in file:\n",
    "        labels = line.strip().split(',')\n",
    "        labels_list_2.append(labels)\n",
    "labels_list_3 = []\n",
    "with open(\"E:/FPP_files_and_codes/FPP_files/HCP_movie_labels/Movie_labels/Movie3_labels.txt\",'r') as file:\n",
    "    for line in file:\n",
    "        labels = line.strip().split(',')\n",
    "        labels_list_3.append(labels)\n",
    "labels_list_4 = []\n",
    "with open(\"E:/FPP_files_and_codes/FPP_files/HCP_movie_labels/Movie_labels/Movie4_labels.txt\",'r') as file:\n",
    "    for line in file:\n",
    "        labels = line.strip().split(',')\n",
    "        labels_list_4.append(labels)\n",
    "labels_list = labels_list_1 + labels_list_2 + labels_list_3  + labels_list_4\n",
    "print(len(labels_list))"
   ]
  },
  {
   "cell_type": "code",
   "execution_count": 45,
   "metadata": {},
   "outputs": [
    {
     "data": {
      "text/plain": [
       "['playing_card', 'hand', 'flip']"
      ]
     },
     "execution_count": 45,
     "metadata": {},
     "output_type": "execute_result"
    }
   ],
   "source": [
    "labels_list[793]"
   ]
  },
  {
   "cell_type": "code",
   "execution_count": 46,
   "metadata": {},
   "outputs": [],
   "source": [
    "RelabeldFrames = [set() for i in range(3655)]\n",
    "for i in range(3655):\n",
    "    for j in labels_list[i]:\n",
    "        RelabeldFrames[i].add(str(RelabelDictionary[j]))"
   ]
  },
  {
   "cell_type": "code",
   "execution_count": 47,
   "metadata": {},
   "outputs": [
    {
     "data": {
      "text/plain": [
       "{'Body', 'Face', 'Object'}"
      ]
     },
     "execution_count": 47,
     "metadata": {},
     "output_type": "execute_result"
    }
   ],
   "source": [
    "RelabeldFrames[846]"
   ]
  },
  {
   "cell_type": "code",
   "execution_count": 50,
   "metadata": {},
   "outputs": [],
   "source": [
    "RunsWithoutFB = np.empty(4, dtype=object)\n",
    "for i in range(4):\n",
    "    RunsWithoutFB[i] = []\n",
    "for i in range(4):\n",
    "    for j in RunSeconds[i]:\n",
    "        if ('Place' in RelabeldFrames[j]) and (('Face' not in RelabeldFrames[j]) and ('Body' not in RelabeldFrames[j]) and ('Animal' not in RelabeldFrames[j])):\n",
    "            RunsWithoutFB[i].append(j)"
   ]
  },
  {
   "cell_type": "code",
   "execution_count": 52,
   "metadata": {},
   "outputs": [
    {
     "data": {
      "text/plain": [
       "23"
      ]
     },
     "execution_count": 52,
     "metadata": {},
     "output_type": "execute_result"
    }
   ],
   "source": [
    "len(RunsWithoutFB[0])"
   ]
  },
  {
   "cell_type": "code",
   "execution_count": 53,
   "metadata": {},
   "outputs": [],
   "source": [
    "PreferedSeconds = np.array([np.array(RunsWithoutFB[i]) for i in range(4)])"
   ]
  },
  {
   "cell_type": "code",
   "execution_count": 54,
   "metadata": {},
   "outputs": [
    {
     "data": {
      "text/plain": [
       "(4, 23)"
      ]
     },
     "execution_count": 54,
     "metadata": {},
     "output_type": "execute_result"
    }
   ],
   "source": [
    "PreferedSeconds.shape"
   ]
  },
  {
   "cell_type": "code",
   "execution_count": 55,
   "metadata": {},
   "outputs": [],
   "source": [
    "delay = 4\n",
    "ShiftedPreferedSeconds = (PreferedSeconds + delay)%3655"
   ]
  },
  {
   "cell_type": "code",
   "execution_count": 56,
   "metadata": {},
   "outputs": [
    {
     "data": {
      "text/plain": [
       "(4, 23)"
      ]
     },
     "execution_count": 56,
     "metadata": {},
     "output_type": "execute_result"
    }
   ],
   "source": [
    "ShiftedPreferedSeconds.shape"
   ]
  },
  {
   "cell_type": "code",
   "execution_count": 57,
   "metadata": {},
   "outputs": [
    {
     "data": {
      "text/plain": [
       "array([[ 823,  824,  825,  826,  827,  828,  829,  830,  831,  832,  833,\n",
       "         834,  835,  836,  837,  838,  839,  875,  876,  881,  882,  883,\n",
       "         896],\n",
       "       [1741, 1742, 1743, 1744, 1745, 1746, 1747, 1748, 1749, 1750, 1751,\n",
       "        1752, 1753, 1754, 1755, 1756, 1757, 1793, 1794, 1799, 1800, 1801,\n",
       "        1814],\n",
       "       [2656, 2657, 2658, 2659, 2660, 2661, 2662, 2663, 2664, 2665, 2666,\n",
       "        2667, 2668, 2669, 2670, 2671, 2672, 2708, 2709, 2714, 2715, 2716,\n",
       "        2729],\n",
       "       [3557, 3558, 3559, 3560, 3561, 3562, 3563, 3564, 3565, 3566, 3567,\n",
       "        3568, 3569, 3570, 3571, 3572, 3573, 3609, 3610, 3615, 3616, 3617,\n",
       "        3630]], dtype=int32)"
      ]
     },
     "execution_count": 57,
     "metadata": {},
     "output_type": "execute_result"
    }
   ],
   "source": [
    "ShiftedPreferedSeconds"
   ]
  },
  {
   "cell_type": "code",
   "execution_count": 58,
   "metadata": {},
   "outputs": [],
   "source": [
    "mean_runs_right_vertices_place = np.zeros((4, right_movie_data.shape[0]))\n",
    "for i in range(4):\n",
    "    mean_runs_right_vertices_place[i] = np.mean(right_movie_data[:, ShiftedPreferedSeconds[i]], axis=1)"
   ]
  },
  {
   "cell_type": "code",
   "execution_count": 59,
   "metadata": {},
   "outputs": [],
   "source": [
    "mean_runs_left_vertices_place = np.zeros((4, left_movie_data.shape[0]))\n",
    "for i in range(4):\n",
    "    mean_runs_left_vertices_place[i] = np.mean(left_movie_data[:, ShiftedPreferedSeconds[i]], axis=1)"
   ]
  },
  {
   "cell_type": "code",
   "execution_count": 60,
   "metadata": {},
   "outputs": [],
   "source": [
    "run2_minus_run1_right_place = mean_runs_right_vertices_place[1] - mean_runs_right_vertices_place[0]\n",
    "run2_minus_run1_left_place = mean_runs_left_vertices_place[1] - mean_runs_left_vertices_place[0]\n",
    "\n",
    "mean_run234_minus_run1_right_place = np.mean(mean_runs_right_vertices_place[1:4], axis=0) - mean_runs_right_vertices_place[0]\n",
    "mean_run234_minus_run1_left_place = np.mean(mean_runs_left_vertices_place[1:4], axis=0) - mean_runs_left_vertices_place[0]"
   ]
  },
  {
   "cell_type": "code",
   "execution_count": 61,
   "metadata": {},
   "outputs": [],
   "source": [
    "temp_l_path = 'E:/FPP_files_and_codes/FPP_files/classic_place_patches/classic_place_ROIs/ROIs.L.func.gii'\n",
    "temp_l = nb.load(temp_l_path)\n",
    "\n",
    "temp_l.darrays[0].data = run2_minus_run1_left_place.astype(np.float32)\n",
    "temp_l.to_filename('E:/FPP_files_and_codes/FPP_codes/Figure5_analysis/episodic_memory_analysis/run2_minus_run1_place_frames.L.func.gii')\n",
    "\n",
    "temp_l.darrays[0].data = mean_run234_minus_run1_left_place.astype(np.float32)\n",
    "temp_l.to_filename('E:/FPP_files_and_codes/FPP_codes/Figure5_analysis/episodic_memory_analysis/mean_run234_minus_run1_place_frames.L.func.gii')"
   ]
  },
  {
   "cell_type": "code",
   "execution_count": 62,
   "metadata": {},
   "outputs": [],
   "source": [
    "temp_r_path = 'E:/FPP_files_and_codes/FPP_files/classic_place_patches/classic_place_ROIs/ROIs.R.func.gii'\n",
    "temp_r = nb.load(temp_r_path)\n",
    "\n",
    "temp_r.darrays[0].data = run2_minus_run1_right_place.astype(np.float32)\n",
    "temp_r.to_filename('E:/FPP_files_and_codes/FPP_codes/Figure5_analysis/episodic_memory_analysis/run2_minus_run1_place_frames.R.func.gii')\n",
    "\n",
    "temp_r.darrays[0].data = mean_run234_minus_run1_right_place.astype(np.float32)\n",
    "temp_r.to_filename('E:/FPP_files_and_codes/FPP_codes/Figure5_analysis/episodic_memory_analysis/mean_run234_minus_run1_place_frames.R.func.gii')"
   ]
  },
  {
   "cell_type": "markdown",
   "metadata": {},
   "source": [
    "# face and body frames"
   ]
  },
  {
   "cell_type": "code",
   "execution_count": 73,
   "metadata": {},
   "outputs": [],
   "source": [
    "RunsWithoutP = np.empty(4, dtype=object)\n",
    "for i in range(4):\n",
    "    RunsWithoutP[i] = []\n",
    "for i in range(4):\n",
    "    for j in RunSeconds[i]:\n",
    "        if (('Place' not in RelabeldFrames[j]) and (('Face' in RelabeldFrames[j]) or ('Body' in RelabeldFrames[j]) or ('Animal' in RelabeldFrames[j]))):\n",
    "            RunsWithoutP[i].append(j)"
   ]
  },
  {
   "cell_type": "code",
   "execution_count": 74,
   "metadata": {},
   "outputs": [],
   "source": [
    "PreferedSeconds = np.array([np.array(RunsWithoutP[i]) for i in range(4)])"
   ]
  },
  {
   "cell_type": "code",
   "execution_count": 75,
   "metadata": {},
   "outputs": [
    {
     "data": {
      "text/plain": [
       "20"
      ]
     },
     "execution_count": 75,
     "metadata": {},
     "output_type": "execute_result"
    }
   ],
   "source": [
    "len(RunsWithoutP[0])"
   ]
  },
  {
   "cell_type": "code",
   "execution_count": 76,
   "metadata": {},
   "outputs": [
    {
     "data": {
      "text/plain": [
       "(4, 20)"
      ]
     },
     "execution_count": 76,
     "metadata": {},
     "output_type": "execute_result"
    }
   ],
   "source": [
    "PreferedSeconds.shape"
   ]
  },
  {
   "cell_type": "code",
   "execution_count": 77,
   "metadata": {},
   "outputs": [
    {
     "data": {
      "text/plain": [
       "20"
      ]
     },
     "execution_count": 77,
     "metadata": {},
     "output_type": "execute_result"
    }
   ],
   "source": [
    "len(RunsWithoutP[0])"
   ]
  },
  {
   "cell_type": "code",
   "execution_count": 78,
   "metadata": {},
   "outputs": [],
   "source": [
    "delay = 4\n",
    "ShiftedPreferedSeconds = (PreferedSeconds + delay)%3655"
   ]
  },
  {
   "cell_type": "code",
   "execution_count": 79,
   "metadata": {},
   "outputs": [
    {
     "data": {
      "text/plain": [
       "array([[ 849,  850,  851,  852,  855,  856,  857,  858,  859,  860,  861,\n",
       "         862,  863,  864,  865,  866,  867,  868,  900,  901],\n",
       "       [1767, 1768, 1769, 1770, 1773, 1774, 1775, 1776, 1777, 1778, 1779,\n",
       "        1780, 1781, 1782, 1783, 1784, 1785, 1786, 1818, 1819],\n",
       "       [2682, 2683, 2684, 2685, 2688, 2689, 2690, 2691, 2692, 2693, 2694,\n",
       "        2695, 2696, 2697, 2698, 2699, 2700, 2701, 2733, 2734],\n",
       "       [3583, 3584, 3585, 3586, 3589, 3590, 3591, 3592, 3593, 3594, 3595,\n",
       "        3596, 3597, 3598, 3599, 3600, 3601, 3602, 3634, 3635]],\n",
       "      dtype=int32)"
      ]
     },
     "execution_count": 79,
     "metadata": {},
     "output_type": "execute_result"
    }
   ],
   "source": [
    "ShiftedPreferedSeconds"
   ]
  },
  {
   "cell_type": "code",
   "execution_count": 80,
   "metadata": {},
   "outputs": [],
   "source": [
    "mean_runs_right_vertices_without_place = np.zeros((4, right_movie_data.shape[0]))\n",
    "for i in range(4):\n",
    "    mean_runs_right_vertices_without_place[i] = np.mean(right_movie_data[:, ShiftedPreferedSeconds[i]], axis=1)"
   ]
  },
  {
   "cell_type": "code",
   "execution_count": 81,
   "metadata": {},
   "outputs": [],
   "source": [
    "mean_runs_left_vertices_without_place = np.zeros((4, left_movie_data.shape[0]))\n",
    "for i in range(4):\n",
    "    mean_runs_left_vertices_without_place[i] = np.mean(left_movie_data[:, ShiftedPreferedSeconds[i]], axis=1)"
   ]
  },
  {
   "cell_type": "code",
   "execution_count": 82,
   "metadata": {},
   "outputs": [],
   "source": [
    "run2_minus_run1_right_without_place = mean_runs_right_vertices_without_place[1] - mean_runs_right_vertices_without_place[0]\n",
    "run2_minus_run1_left_without_place = mean_runs_left_vertices_without_place[1] - mean_runs_left_vertices_without_place[0]\n",
    "\n",
    "mean_run234_minus_run1_right_without_place = np.mean(mean_runs_right_vertices_without_place[1:4], axis=0) - mean_runs_right_vertices_without_place[0]\n",
    "mean_run234_minus_run1_left_without_place = np.mean(mean_runs_left_vertices_without_place[1:4], axis=0) - mean_runs_left_vertices_without_place[0]"
   ]
  },
  {
   "cell_type": "code",
   "execution_count": 83,
   "metadata": {},
   "outputs": [],
   "source": [
    "temp_l_path = 'E:/FPP_files_and_codes/FPP_files/classic_place_patches/classic_place_ROIs/ROIs.L.func.gii'\n",
    "temp_l = nb.load(temp_l_path)\n",
    "\n",
    "temp_l.darrays[0].data = run2_minus_run1_left_without_place.astype(np.float32)\n",
    "temp_l.to_filename('E:/FPP_files_and_codes/FPP_codes/Figure5_analysis/episodic_memory_analysis/run2_minus_run1_without_place_frames.L.func.gii')\n",
    "\n",
    "temp_l.darrays[0].data = mean_run234_minus_run1_left_without_place.astype(np.float32)\n",
    "temp_l.to_filename('E:/FPP_files_and_codes/FPP_codes/Figure5_analysis/episodic_memory_analysis/mean_run234_minus_run1_without_place_frames.L.func.gii')"
   ]
  },
  {
   "cell_type": "code",
   "execution_count": 84,
   "metadata": {},
   "outputs": [],
   "source": [
    "temp_r_path = 'E:/FPP_files_and_codes/FPP_files/classic_place_patches/classic_place_ROIs/ROIs.R.func.gii'\n",
    "temp_r = nb.load(temp_r_path)\n",
    "\n",
    "temp_r.darrays[0].data = run2_minus_run1_right_without_place.astype(np.float32)\n",
    "temp_r.to_filename('E:/FPP_files_and_codes/FPP_codes/Figure5_analysis/episodic_memory_analysis/run2_minus_run1_without_place_frames.R.func.gii')\n",
    "\n",
    "temp_r.darrays[0].data = mean_run234_minus_run1_right_without_place.astype(np.float32)\n",
    "temp_r.to_filename('E:/FPP_files_and_codes/FPP_codes/Figure5_analysis/episodic_memory_analysis/mean_run234_minus_run1_without_place_frames.R.func.gii')"
   ]
  },
  {
   "cell_type": "code",
   "execution_count": 34,
   "metadata": {},
   "outputs": [
    {
     "name": "stdout",
     "output_type": "stream",
     "text": [
      "849\n",
      "850\n",
      "884\n",
      "885\n",
      "886\n",
      "891\n",
      "1767\n",
      "1768\n",
      "1802\n",
      "1803\n",
      "1804\n",
      "1809\n",
      "2682\n",
      "2683\n",
      "2717\n",
      "2718\n",
      "2719\n",
      "2724\n",
      "3583\n",
      "3584\n",
      "3618\n",
      "3619\n",
      "3620\n",
      "3625\n"
     ]
    }
   ],
   "source": [
    "count = 0\n",
    "for i in range(4):\n",
    "    for j in RunSeconds[i]:\n",
    "        if (('Place' not in RelabeldFrames[j]) and ('Face' not in RelabeldFrames[j]) and ('Body' not in RelabeldFrames[j]) and ('Animal' not in RelabeldFrames[j])):\n",
    "            print(j)\n",
    "            count += 1"
   ]
  },
  {
   "cell_type": "code",
   "execution_count": 33,
   "metadata": {},
   "outputs": [
    {
     "data": {
      "text/plain": [
       "24"
      ]
     },
     "execution_count": 33,
     "metadata": {},
     "output_type": "execute_result"
    }
   ],
   "source": [
    "count"
   ]
  },
  {
   "cell_type": "code",
   "execution_count": 40,
   "metadata": {},
   "outputs": [
    {
     "data": {
      "text/plain": [
       "{'Object', 'Unclear'}"
      ]
     },
     "execution_count": 40,
     "metadata": {},
     "output_type": "execute_result"
    }
   ],
   "source": [
    "RelabeldFrames[849]"
   ]
  },
  {
   "cell_type": "code",
   "execution_count": 39,
   "metadata": {},
   "outputs": [
    {
     "data": {
      "text/plain": [
       "['web_page', 'text', 'choose', 'cursor']"
      ]
     },
     "execution_count": 39,
     "metadata": {},
     "output_type": "execute_result"
    }
   ],
   "source": [
    "labels_list[849]"
   ]
  },
  {
   "cell_type": "code",
   "execution_count": null,
   "metadata": {},
   "outputs": [],
   "source": []
  }
 ],
 "metadata": {
  "kernelspec": {
   "display_name": "Python 3",
   "language": "python",
   "name": "python3"
  },
  "language_info": {
   "codemirror_mode": {
    "name": "ipython",
    "version": 3
   },
   "file_extension": ".py",
   "mimetype": "text/x-python",
   "name": "python",
   "nbconvert_exporter": "python",
   "pygments_lexer": "ipython3",
   "version": "3.12.2"
  }
 },
 "nbformat": 4,
 "nbformat_minor": 2
}
