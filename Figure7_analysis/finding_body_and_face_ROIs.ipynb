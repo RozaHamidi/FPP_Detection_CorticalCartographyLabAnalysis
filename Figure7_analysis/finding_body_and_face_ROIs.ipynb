{
 "cells": [
  {
   "cell_type": "code",
   "execution_count": 30,
   "metadata": {},
   "outputs": [],
   "source": [
    "import nibabel as nib\n",
    "import numpy as np"
   ]
  },
  {
   "cell_type": "code",
   "execution_count": 44,
   "metadata": {},
   "outputs": [],
   "source": [
    "def bfs_on_mesh(gifti_surf, gifti_significance, start_vertex_index, result):\n",
    "    \n",
    "    try:\n",
    "        vertices = gifti_surf.darrays[0].data\n",
    "        faces = gifti_surf.darrays[1].data\n",
    "        # gradient = gifti_gradient.darrays[0].data\n",
    "        significance = gifti_significance.darrays[0].data\n",
    "    except:\n",
    "        raise Exception('Error loading the GIfTI surface.')\n",
    "\n",
    "    if start_vertex_index < 0 or start_vertex_index >= vertices.shape[0]:\n",
    "        raise Exception('Invalid start vertex index.')\n",
    "\n",
    "    visited = np.full(vertices.shape[0], False, dtype=bool)\n",
    "    queue = [start_vertex_index]\n",
    "\n",
    "    while queue:\n",
    "        current_vertex = queue.pop(0)\n",
    "\n",
    "        if not visited[current_vertex]:\n",
    "            \n",
    "            visited[current_vertex] = True\n",
    "            neighboring_faces = np.where(np.any(faces == current_vertex, axis=1))[0]\n",
    "            neighboring_vertices = np.unique(faces[neighboring_faces])\n",
    "#             tolerance = 5\n",
    "            for neighbor in neighboring_vertices:\n",
    "                \n",
    "                if significance[neighbor] >= (77/100) * significance[start_vertex_index]:\n",
    "                    if not neighbor in queue:\n",
    "                        queue.append(neighbor)\n",
    "                        result.darrays[0].data[neighbor] = 1\n",
    "                        \n",
    "                    \n",
    "    return result\n"
   ]
  },
  {
   "cell_type": "code",
   "execution_count": 111,
   "metadata": {},
   "outputs": [],
   "source": [
    "gifti_signigicance_R = nib.load('E:/FPP_files_and_codes/FPP_files/FaceBody_v2/Face_corr_p.R.func.gii')\n",
    "\n",
    "gifti_surf_R = nib.load('E:/FPP_files_and_codes/FPP_files/surface_maps/S1200.R.midthickness_MSMAll.32k_fs_LR.surf.gii') \n"
   ]
  },
  {
   "cell_type": "code",
   "execution_count": 112,
   "metadata": {},
   "outputs": [],
   "source": [
    "result_temp_R_1 = nib.load('E:/FPP_files_and_codes/FPP_files/classic_place_patches/ROIs.R.func.gii')\n",
    "\n",
    "for j in range(32492):\n",
    "    result_temp_R_1.darrays[0].data[j] = 0\n",
    "\n",
    "start_vertex_index_FFP1 = 19810\n",
    "\n",
    "FFP1 = bfs_on_mesh(gifti_surf_R, gifti_signigicance_R, start_vertex_index_FFP1 ,result_temp_R_1)\n",
    "\n",
    "nib.save(FFP1, 'E:/FPP_files_and_codes/FPP_files/FaceBody_v2/Face_ROIs/FFP1.R.func.gii')"
   ]
  },
  {
   "cell_type": "code",
   "execution_count": 113,
   "metadata": {},
   "outputs": [],
   "source": [
    "result_temp_R_2 = nib.load('E:/FPP_files_and_codes/FPP_files/classic_place_patches/ROIs.R.func.gii')\n",
    "\n",
    "for j in range(32492):\n",
    "    result_temp_R_2.darrays[0].data[j] = 0\n",
    "\n",
    "start_vertex_index_FFP2 = 28867\n",
    "\n",
    "FFP2 = bfs_on_mesh(gifti_surf_R, gifti_signigicance_R, start_vertex_index_FFP2 ,result_temp_R_2)\n",
    "\n",
    "nib.save(FFP2, 'E:/FPP_files_and_codes/FPP_files/FaceBody_v2/Face_ROIs/FFP2.R.func.gii')"
   ]
  },
  {
   "cell_type": "code",
   "execution_count": 114,
   "metadata": {},
   "outputs": [],
   "source": [
    "result_temp_R_3 = nib.load('E:/FPP_files_and_codes/FPP_files/classic_place_patches/ROIs.R.func.gii')\n",
    "\n",
    "for j in range(32492):\n",
    "    result_temp_R_3.darrays[0].data[j] = 0\n",
    "\n",
    "start_vertex_index_FFP3 = 29858\n",
    "\n",
    "FFP3 = bfs_on_mesh(gifti_surf_R, gifti_signigicance_R, start_vertex_index_FFP3 ,result_temp_R_3)\n",
    "\n",
    "nib.save(FFP3, 'E:/FPP_files_and_codes/FPP_files/FaceBody_v2/Face_ROIs/FFP3.R.func.gii')"
   ]
  },
  {
   "cell_type": "code",
   "execution_count": 115,
   "metadata": {},
   "outputs": [],
   "source": [
    "result_temp_R_4 = nib.load('E:/FPP_files_and_codes/FPP_files/classic_place_patches/ROIs.R.func.gii')\n",
    "\n",
    "for j in range(32492):\n",
    "    result_temp_R_4.darrays[0].data[j] = 0\n",
    "\n",
    "start_vertex_index_FFP4 = 30911\n",
    "\n",
    "FFP4 = bfs_on_mesh(gifti_surf_R, gifti_signigicance_R, start_vertex_index_FFP4 ,result_temp_R_4)\n",
    "\n",
    "nib.save(FFP4, 'E:/FPP_files_and_codes/FPP_files/FaceBody_v2/Face_ROIs/FFP4.R.func.gii')"
   ]
  },
  {
   "cell_type": "code",
   "execution_count": 116,
   "metadata": {},
   "outputs": [],
   "source": [
    "result_temp_R_5 = nib.load('E:/FPP_files_and_codes/FPP_files/classic_place_patches/ROIs.R.func.gii')\n",
    "\n",
    "for j in range(32492):\n",
    "    result_temp_R_5.darrays[0].data[j] = 0\n",
    "\n",
    "start_vertex_index_FFP5 = 11554\n",
    "\n",
    "FFP5 = bfs_on_mesh(gifti_surf_R, gifti_signigicance_R, start_vertex_index_FFP5 ,result_temp_R_5)\n",
    "\n",
    "nib.save(FFP5, 'E:/FPP_files_and_codes/FPP_files/FaceBody_v2/Face_ROIs/FFP5.R.func.gii')"
   ]
  },
  {
   "cell_type": "code",
   "execution_count": 117,
   "metadata": {},
   "outputs": [],
   "source": [
    "result_temp_R_6 = nib.load('E:/FPP_files_and_codes/FPP_files/classic_place_patches/ROIs.R.func.gii')\n",
    "\n",
    "for j in range(32492):\n",
    "    result_temp_R_6.darrays[0].data[j] = 0\n",
    "\n",
    "start_vertex_index_FFP6 = 19973\n",
    "\n",
    "FFP6 = bfs_on_mesh(gifti_surf_R, gifti_signigicance_R, start_vertex_index_FFP6 ,result_temp_R_6)\n",
    "\n",
    "nib.save(FFP6, 'E:/FPP_files_and_codes/FPP_files/FaceBody_v2/Face_ROIs/FFP6.R.func.gii')"
   ]
  },
  {
   "cell_type": "code",
   "execution_count": 118,
   "metadata": {},
   "outputs": [],
   "source": [
    "FFPs_right = FFP1.darrays[0].data + FFP2.darrays[0].data + FFP3.darrays[0].data + FFP4.darrays[0].data + FFP5.darrays[0].data + FFP6.darrays[0].data\n",
    "\n",
    "result_temp_R = nib.load('E:/FPP_files_and_codes/FPP_files/classic_place_patches/ROIs.R.func.gii')\n",
    "\n",
    "result_temp_R.darrays[0].data = np.zeros(32492)\n",
    "\n",
    "result_temp_R.darrays[0].data = FFPs_right\n",
    "\n",
    "nib.save(result_temp_R, 'E:/FPP_files_and_codes/FPP_files/FaceBody_v2/Face_ROIs/FFPs.R.func.gii')"
   ]
  },
  {
   "cell_type": "code",
   "execution_count": 32,
   "metadata": {},
   "outputs": [],
   "source": [
    "gifti_signigicance_L = nib.load('E:/FPP_files_and_codes/FPP_files/FaceBody_v2/Face_corr_p.L.func.gii')\n",
    "\n",
    "gifti_surf_L = nib.load('E:/FPP_files_and_codes/FPP_files/surface_maps/S1200.L.midthickness_MSMAll.32k_fs_LR.surf.gii') \n"
   ]
  },
  {
   "cell_type": "code",
   "execution_count": 39,
   "metadata": {},
   "outputs": [],
   "source": [
    "result_temp_L_1 = nib.load('E:/FPP_files_and_codes/FPP_files/classic_place_patches/ROIs.L.func.gii')\n",
    "\n",
    "for j in range(32492):\n",
    "    result_temp_L_1.darrays[0].data[j] = 0\n",
    "\n",
    "start_vertex_index_FFP1 = 27956\n",
    "\n",
    "FFP1 = bfs_on_mesh(gifti_surf_L, gifti_signigicance_L, start_vertex_index_FFP1 ,result_temp_L_1)\n",
    "\n",
    "nib.save(FFP1, 'E:/FPP_files_and_codes/FPP_files/FaceBody_v2/Face_ROIs/FFP1.L.func.gii')"
   ]
  },
  {
   "cell_type": "code",
   "execution_count": 40,
   "metadata": {},
   "outputs": [],
   "source": [
    "result_temp_L_2 = nib.load('E:/FPP_files_and_codes/FPP_files/classic_place_patches/ROIs.L.func.gii')\n",
    "\n",
    "for j in range(32492):\n",
    "    result_temp_L_2.darrays[0].data[j] = 0\n",
    "\n",
    "start_vertex_index_FFP2 = 29046\n",
    "\n",
    "FFP2 = bfs_on_mesh(gifti_surf_L, gifti_signigicance_L, start_vertex_index_FFP2 ,result_temp_L_2)\n",
    "\n",
    "nib.save(FFP2, 'E:/FPP_files_and_codes/FPP_files/FaceBody_v2/Face_ROIs/FFP2.L.func.gii')"
   ]
  },
  {
   "cell_type": "code",
   "execution_count": 45,
   "metadata": {},
   "outputs": [],
   "source": [
    "result_temp_L_3 = nib.load('E:/FPP_files_and_codes/FPP_files/classic_place_patches/ROIs.L.func.gii')\n",
    "\n",
    "for j in range(32492):\n",
    "    result_temp_L_3.darrays[0].data[j] = 0\n",
    "\n",
    "start_vertex_index_FFP3 = 29504\n",
    "\n",
    "\n",
    "FFP3 = bfs_on_mesh(gifti_surf_L, gifti_signigicance_L, start_vertex_index_FFP3 ,result_temp_L_3)\n",
    "\n",
    "nib.save(FFP3, 'E:/FPP_files_and_codes/FPP_files/FaceBody_v2/Face_ROIs/FFP3.L.func.gii')"
   ]
  },
  {
   "cell_type": "code",
   "execution_count": 41,
   "metadata": {},
   "outputs": [],
   "source": [
    "result_temp_L_4 = nib.load('E:/FPP_files_and_codes/FPP_files/classic_place_patches/ROIs.L.func.gii')\n",
    "\n",
    "for j in range(32492):\n",
    "    result_temp_L_4.darrays[0].data[j] = 0\n",
    "\n",
    "start_vertex_index_FFP4 = 30858\n",
    "\n",
    "\n",
    "FFP4 = bfs_on_mesh(gifti_surf_L, gifti_signigicance_L, start_vertex_index_FFP4 ,result_temp_L_4)\n",
    "\n",
    "nib.save(FFP4, 'E:/FPP_files_and_codes/FPP_files/FaceBody_v2/Face_ROIs/FFP4.L.func.gii')"
   ]
  },
  {
   "cell_type": "code",
   "execution_count": 42,
   "metadata": {},
   "outputs": [],
   "source": [
    "result_temp_L_5 = nib.load('E:/FPP_files_and_codes/FPP_files/classic_place_patches/ROIs.L.func.gii')\n",
    "\n",
    "for j in range(32492):\n",
    "    result_temp_L_5.darrays[0].data[j] = 0\n",
    "\n",
    "start_vertex_index_FFP5 = 19140\n",
    "\n",
    "\n",
    "FFP5 = bfs_on_mesh(gifti_surf_L, gifti_signigicance_L, start_vertex_index_FFP5 ,result_temp_L_5)\n",
    "\n",
    "nib.save(FFP5, 'E:/FPP_files_and_codes/FPP_files/FaceBody_v2/Face_ROIs/FFP5.L.func.gii')"
   ]
  },
  {
   "cell_type": "code",
   "execution_count": 47,
   "metadata": {},
   "outputs": [],
   "source": [
    "result_temp_L_6 = nib.load('E:/FPP_files_and_codes/FPP_files/classic_place_patches/ROIs.L.func.gii')\n",
    "\n",
    "for j in range(32492):\n",
    "    result_temp_L_6.darrays[0].data[j] = 0\n",
    "\n",
    "start_vertex_index_FFP6 = 19974\n",
    "\n",
    "FFP6 = bfs_on_mesh(gifti_surf_L, gifti_signigicance_L, start_vertex_index_FFP6 ,result_temp_L_6)\n",
    "\n",
    "nib.save(FFP6, 'E:/FPP_files_and_codes/FPP_files/FaceBody_v2/Face_ROIs/FFP6.L.func.gii')"
   ]
  },
  {
   "cell_type": "code",
   "execution_count": 48,
   "metadata": {},
   "outputs": [],
   "source": [
    "FFPs_left = FFP1.darrays[0].data + FFP2.darrays[0].data + FFP3.darrays[0].data + FFP4.darrays[0].data + FFP5.darrays[0].data + FFP6.darrays[0].data\n",
    "\n",
    "result_temp_L = nib.load('E:/FPP_files_and_codes/FPP_files/classic_place_patches/ROIs.L.func.gii')\n",
    "\n",
    "result_temp_L.darrays[0].data = np.zeros(32492)\n",
    "\n",
    "result_temp_L.darrays[0].data = FFPs_left\n",
    "\n",
    "nib.save(result_temp_L, 'E:/FPP_files_and_codes/FPP_files/FaceBody_v2/Face_ROIs/FFPs.L.func.gii')\n"
   ]
  },
  {
   "cell_type": "code",
   "execution_count": null,
   "metadata": {},
   "outputs": [],
   "source": []
  },
  {
   "cell_type": "code",
   "execution_count": 127,
   "metadata": {},
   "outputs": [],
   "source": [
    "gifti_signigicance_R = nib.load('E:/FPP_files_and_codes/FPP_files/FaceBody_v2/Body_corr_p.R.func.gii')\n",
    "\n",
    "gifti_surf_R = nib.load('E:/FPP_files_and_codes/FPP_files/surface_maps/S1200.R.midthickness_MSMAll.32k_fs_LR.surf.gii') \n"
   ]
  },
  {
   "cell_type": "code",
   "execution_count": 128,
   "metadata": {},
   "outputs": [],
   "source": [
    "result_temp_R = nib.load('E:/FPP_files_and_codes/FPP_files/classic_place_patches/ROIs.R.func.gii')\n",
    "\n",
    "result_temp_R.darrays[0].data = np.zeros(32492)\n",
    "\n",
    "start_vertex_index_FBP1 = 5683\n",
    "\n",
    "FBP1 = bfs_on_mesh(gifti_surf_R, gifti_signigicance_R, start_vertex_index_FBP1 ,result_temp_R)\n",
    "\n",
    "nib.save(FBP1, 'E:/FPP_files_and_codes/FPP_files/FaceBody_v2/Body_ROIs/FBP1.R.func.gii')"
   ]
  },
  {
   "cell_type": "code",
   "execution_count": 129,
   "metadata": {},
   "outputs": [],
   "source": [
    "result_temp_R = nib.load('E:/FPP_files_and_codes/FPP_files/classic_place_patches/ROIs.R.func.gii')\n",
    "\n",
    "result_temp_R.darrays[0].data = np.zeros(32492)\n",
    "\n",
    "start_vertex_index_FBP2 = 19732\n",
    "\n",
    "FBP2 = bfs_on_mesh(gifti_surf_R, gifti_signigicance_R, start_vertex_index_FBP2 ,result_temp_R)\n",
    "\n",
    "nib.save(FBP2, 'E:/FPP_files_and_codes/FPP_files/FaceBody_v2/Body_ROIs/FBP2.R.func.gii')"
   ]
  },
  {
   "cell_type": "code",
   "execution_count": 130,
   "metadata": {},
   "outputs": [],
   "source": [
    "result_temp_R = nib.load('E:/FPP_files_and_codes/FPP_files/classic_place_patches/ROIs.R.func.gii')\n",
    "\n",
    "result_temp_R.darrays[0].data = np.zeros(32492)\n",
    "\n",
    "start_vertex_index_FBP3 = 19207\n",
    "\n",
    "FBP3 = bfs_on_mesh(gifti_surf_R, gifti_signigicance_R, start_vertex_index_FBP3 ,result_temp_R)\n",
    "\n",
    "nib.save(FBP3, 'E:/FPP_files_and_codes/FPP_files/FaceBody_v2/Body_ROIs/FBP3.R.func.gii')"
   ]
  },
  {
   "cell_type": "code",
   "execution_count": 131,
   "metadata": {},
   "outputs": [],
   "source": [
    "result_temp_R = nib.load('E:/FPP_files_and_codes/FPP_files/classic_place_patches/ROIs.R.func.gii')\n",
    "\n",
    "result_temp_R.darrays[0].data = np.zeros(32492)\n",
    "\n",
    "start_vertex_index_FBP4 = 10106\n",
    "\n",
    "FBP4 = bfs_on_mesh(gifti_surf_R, gifti_signigicance_R, start_vertex_index_FBP4 ,result_temp_R)\n",
    "\n",
    "nib.save(FBP4, 'E:/FPP_files_and_codes/FPP_files/FaceBody_v2/Body_ROIs/FBP4.R.func.gii')"
   ]
  },
  {
   "cell_type": "code",
   "execution_count": 132,
   "metadata": {},
   "outputs": [],
   "source": [
    "result_temp_R = nib.load('E:/FPP_files_and_codes/FPP_files/classic_place_patches/ROIs.R.func.gii')\n",
    "\n",
    "result_temp_R.darrays[0].data = np.zeros(32492)\n",
    "\n",
    "start_vertex_index_FBP5 = 20026\n",
    "\n",
    "FBP5 = bfs_on_mesh(gifti_surf_R, gifti_signigicance_R, start_vertex_index_FBP5 ,result_temp_R)\n",
    "\n",
    "nib.save(FBP5, 'E:/FPP_files_and_codes/FPP_files/FaceBody_v2/Body_ROIs/FBP5.R.func.gii')"
   ]
  },
  {
   "cell_type": "markdown",
   "metadata": {},
   "source": [
    "## Merge FBPs"
   ]
  },
  {
   "cell_type": "code",
   "execution_count": 133,
   "metadata": {},
   "outputs": [],
   "source": [
    "FBPs_right = FBP1.darrays[0].data + FBP2.darrays[0].data + FBP3.darrays[0].data + FBP4.darrays[0].data + FBP5.darrays[0].data\n",
    "\n",
    "result_temp_R = nib.load('E:/FPP_files_and_codes/FPP_files/classic_place_patches/ROIs.R.func.gii')\n",
    "\n",
    "result_temp_R.darrays[0].data = np.zeros(32492)\n",
    "\n",
    "result_temp_R.darrays[0].data = FBPs_right\n",
    "\n",
    "nib.save(result_temp_R, 'E:/FPP_files_and_codes/FPP_files/FaceBody_v2/Body_ROIs/FBPs.R.func.gii')"
   ]
  },
  {
   "cell_type": "code",
   "execution_count": 134,
   "metadata": {},
   "outputs": [],
   "source": [
    "gifti_signigicance_L = nib.load('E:/FPP_files_and_codes/FPP_files/FaceBody_v2/Body_corr_p.L.func.gii')\n",
    "\n",
    "gifti_surf_L = nib.load('E:/FPP_files_and_codes/FPP_files/surface_maps/S1200.L.midthickness_MSMAll.32k_fs_LR.surf.gii') \n"
   ]
  },
  {
   "cell_type": "code",
   "execution_count": 135,
   "metadata": {},
   "outputs": [],
   "source": [
    "result_temp_L = nib.load('E:/FPP_files_and_codes/FPP_files/classic_place_patches/ROIs.L.func.gii')\n",
    "\n",
    "result_temp_L.darrays[0].data = np.zeros(32492)\n",
    "\n",
    "start_vertex_index_FBP1 = 5590\n",
    "\n",
    "FBP1 = bfs_on_mesh(gifti_surf_L, gifti_signigicance_L, start_vertex_index_FBP1 ,result_temp_L)\n",
    "\n",
    "nib.save(FBP1, 'E:/FPP_files_and_codes/FPP_files/FaceBody_v2/Body_ROIs/FBP1.L.func.gii')"
   ]
  },
  {
   "cell_type": "code",
   "execution_count": 136,
   "metadata": {},
   "outputs": [],
   "source": [
    "result_temp_L = nib.load('E:/FPP_files_and_codes/FPP_files/classic_place_patches/ROIs.L.func.gii')\n",
    "\n",
    "result_temp_L.darrays[0].data = np.zeros(32492)\n",
    "\n",
    "start_vertex_index_FBP2 = 19739\n",
    "\n",
    "FBP2 = bfs_on_mesh(gifti_surf_L, gifti_signigicance_L, start_vertex_index_FBP2 ,result_temp_L)\n",
    "\n",
    "nib.save(FBP2, 'E:/FPP_files_and_codes/FPP_files/FaceBody_v2/Body_ROIs/FBP2.L.func.gii')"
   ]
  },
  {
   "cell_type": "code",
   "execution_count": 137,
   "metadata": {},
   "outputs": [],
   "source": [
    "FBPs_left = FBP1.darrays[0].data + FBP2.darrays[0].data \n",
    "\n",
    "result_temp_L = nib.load('E:/FPP_files_and_codes/FPP_files/classic_place_patches/ROIs.L.func.gii')\n",
    "\n",
    "result_temp_L.darrays[0].data = np.zeros(32492)\n",
    "\n",
    "result_temp_L.darrays[0].data = FBPs_left\n",
    "\n",
    "nib.save(result_temp_L, 'E:/FPP_files_and_codes/FPP_files/FaceBody_v2/Body_ROIs/FBPs.L.func.gii')"
   ]
  },
  {
   "cell_type": "code",
   "execution_count": null,
   "metadata": {},
   "outputs": [],
   "source": []
  },
  {
   "cell_type": "code",
   "execution_count": null,
   "metadata": {},
   "outputs": [],
   "source": [
    " "
   ]
  }
 ],
 "metadata": {
  "kernelspec": {
   "display_name": "Python 3",
   "language": "python",
   "name": "python3"
  },
  "language_info": {
   "codemirror_mode": {
    "name": "ipython",
    "version": 3
   },
   "file_extension": ".py",
   "mimetype": "text/x-python",
   "name": "python",
   "nbconvert_exporter": "python",
   "pygments_lexer": "ipython3",
   "version": "3.12.2"
  }
 },
 "nbformat": 4,
 "nbformat_minor": 2
}
