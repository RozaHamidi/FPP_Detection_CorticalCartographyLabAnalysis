{
 "cells": [
  {
   "cell_type": "code",
   "execution_count": 3,
   "metadata": {},
   "outputs": [],
   "source": [
    "import nibabel as nib\n",
    "import numpy as np"
   ]
  },
  {
   "cell_type": "code",
   "execution_count": 2,
   "metadata": {},
   "outputs": [],
   "source": [
    "def bfs_on_mesh_for_labeling(gifti_surf, gifti_ROIs, start_vertex_index, gifti_output, num_label):\n",
    "    \n",
    "    try:\n",
    "        vertices = gifti_surf.darrays[0].data\n",
    "        faces = gifti_surf.darrays[1].data\n",
    "        ROIs = gifti_ROIs.darrays[0].data\n",
    "        \n",
    "    except:\n",
    "        raise Exception('Error loading the GIfTI surface.')\n",
    "\n",
    "    if start_vertex_index < 0 or start_vertex_index >= vertices.shape[0]:\n",
    "        raise Exception('Invalid start vertex index.')\n",
    "\n",
    "    visited = np.full(vertices.shape[0], False, dtype=bool)\n",
    "    queue = [start_vertex_index]\n",
    "    gifti_output.darrays[0].data[start_vertex_index] = num_label\n",
    "\n",
    "    while queue:\n",
    "        current_vertex = queue.pop(0)\n",
    "\n",
    "        if not visited[current_vertex]:\n",
    "            \n",
    "            visited[current_vertex] = True\n",
    "            gifti_output.darrays[0].data[current_vertex] = num_label \n",
    "            neighboring_faces = np.where(np.any(faces == current_vertex, axis=1))[0]\n",
    "            neighboring_vertices = np.unique(faces[neighboring_faces])\n",
    "\n",
    "            for neighbor in neighboring_vertices:\n",
    "                \n",
    "                if ROIs[neighbor] == 1:\n",
    "                    if not neighbor in queue:\n",
    "                        queue.append(neighbor)\n",
    "                        \n",
    "                    \n",
    "    return gifti_output\n"
   ]
  },
  {
   "cell_type": "code",
   "execution_count": 7,
   "metadata": {},
   "outputs": [],
   "source": [
    "gifti_surf_R = nib.load('E:/FPP_files_and_codes/FPP_files/surface_maps/S1200.R.midthickness_MSMAll.32k_fs_LR.surf.gii') \n",
    "\n",
    "gifti_ROIs_R = nib.load('E:/FPP_files_and_codes/FPP_files/FaceBody_v2/Face_selected_vertices.R.func.gii')\n",
    "\n",
    "gifti_template_R = nib.load('E:/FPP_files_and_codes/FPP_files/classic_place_patches/ROIs.R.func.gii')\n",
    "\n",
    "gifti_template_R.darrays[0].data = np.zeros(32492)\n",
    "\n",
    "labeled_ROIs = bfs_on_mesh_for_labeling(gifti_surf_R, gifti_ROIs_R, 13247, gifti_template_R, 1)\n",
    "\n",
    "labeled_ROIs = bfs_on_mesh_for_labeling(gifti_surf_R, gifti_ROIs_R, 16194, labeled_ROIs, 2)\n",
    "\n",
    "labeled_ROIs = bfs_on_mesh_for_labeling(gifti_surf_R, gifti_ROIs_R, 8938, labeled_ROIs, 3)\n",
    "\n",
    "labeled_ROIs = bfs_on_mesh_for_labeling(gifti_surf_R, gifti_ROIs_R, 23810, labeled_ROIs, 4)\n",
    "\n",
    "labeled_ROIs = bfs_on_mesh_for_labeling(gifti_surf_R, gifti_ROIs_R, 22788, labeled_ROIs, 5)\n",
    "\n",
    "labeled_ROIs = bfs_on_mesh_for_labeling(gifti_surf_R, gifti_ROIs_R, 32129, labeled_ROIs, 6)\n",
    "\n",
    "labeled_ROIs = bfs_on_mesh_for_labeling(gifti_surf_R, gifti_ROIs_R, 32221, labeled_ROIs, 6)\n",
    "\n",
    "nib.save(labeled_ROIs, 'E:/FPP_files_and_codes/FPP_files/FaceBody_v2/Face_selected_vertices_labeld.R.func.gii')"
   ]
  },
  {
   "cell_type": "code",
   "execution_count": 8,
   "metadata": {},
   "outputs": [],
   "source": [
    "gifti_surf_L = nib.load('E:/FPP_files_and_codes/FPP_files/surface_maps/S1200.L.midthickness_MSMAll.32k_fs_LR.surf.gii') \n",
    "\n",
    "gifti_LOIs_L = nib.load('E:/FPP_files_and_codes/FPP_files/FaceBody_v2/Face_selected_vertices.L.func.gii')\n",
    "\n",
    "gifti_template_L = nib.load('E:/FPP_files_and_codes/FPP_files/classic_place_patches/ROIs.L.func.gii')\n",
    "\n",
    "gifti_template_L.darrays[0].data = np.zeros(32492)\n",
    "\n",
    "labeled_ROIs_L = bfs_on_mesh_for_labeling(gifti_surf_L, gifti_LOIs_L, 13247, gifti_template_L, 1)\n",
    "\n",
    "labeled_ROIs_L = bfs_on_mesh_for_labeling(gifti_surf_L, gifti_LOIs_L, 16250, labeled_ROIs_L, 2)\n",
    "\n",
    "labeled_ROIs_L = bfs_on_mesh_for_labeling(gifti_surf_L, gifti_LOIs_L, 22786, labeled_ROIs_L, 3)\n",
    "\n",
    "\n",
    "nib.save(labeled_ROIs_L, 'E:/FPP_files_and_codes/FPP_files/FaceBody_v2/Face_selected_vertices_labeld.L.func.gii')"
   ]
  },
  {
   "cell_type": "code",
   "execution_count": 9,
   "metadata": {},
   "outputs": [],
   "source": [
    "gifti_surf_R = nib.load('E:/FPP_files_and_codes/FPP_files/surface_maps/S1200.R.midthickness_MSMAll.32k_fs_LR.surf.gii') \n",
    "\n",
    "gifti_ROIs_R = nib.load('E:/FPP_files_and_codes/FPP_files/FaceBody_v2/Body_selected_vertices.R.func.gii')\n",
    "\n",
    "gifti_template_R = nib.load('E:/FPP_files_and_codes/FPP_files/classic_place_patches/ROIs.R.func.gii')\n",
    "\n",
    "gifti_template_R.darrays[0].data = np.zeros(32492)\n",
    "\n",
    "labeled_ROIs = bfs_on_mesh_for_labeling(gifti_surf_R, gifti_ROIs_R, 23209, gifti_template_R, 1)\n",
    "\n",
    "labeled_ROIs = bfs_on_mesh_for_labeling(gifti_surf_R, gifti_ROIs_R, 24141, labeled_ROIs, 2)\n",
    "\n",
    "\n",
    "nib.save(labeled_ROIs, 'E:/FPP_files_and_codes/FPP_files/FaceBody_v2/Body_selected_vertices_labeld.R.func.gii')"
   ]
  },
  {
   "cell_type": "code",
   "execution_count": 10,
   "metadata": {},
   "outputs": [],
   "source": [
    "gifti_surf_L = nib.load('E:/FPP_files_and_codes/FPP_files/surface_maps/S1200.L.midthickness_MSMAll.32k_fs_LR.surf.gii') \n",
    "\n",
    "gifti_LOIs_L = nib.load('E:/FPP_files_and_codes/FPP_files/FaceBody_v2/Body_selected_vertices.L.func.gii')\n",
    "\n",
    "gifti_template_L = nib.load('E:/FPP_files_and_codes/FPP_files/classic_place_patches/ROIs.L.func.gii')\n",
    "\n",
    "gifti_template_L.darrays[0].data = np.zeros(32492)\n",
    "\n",
    "labeled_ROIs_L = bfs_on_mesh_for_labeling(gifti_surf_L, gifti_LOIs_L, 23319, gifti_template_L, 1)\n",
    "\n",
    "labeled_ROIs_L = bfs_on_mesh_for_labeling(gifti_surf_L, gifti_LOIs_L, 22641, labeled_ROIs_L, 2)\n",
    "\n",
    "nib.save(labeled_ROIs_L, 'E:/FPP_files_and_codes/FPP_files/FaceBody_v2/Body_selected_vertices_labeld.L.func.gii')"
   ]
  },
  {
   "cell_type": "code",
   "execution_count": null,
   "metadata": {},
   "outputs": [],
   "source": []
  }
 ],
 "metadata": {
  "kernelspec": {
   "display_name": "Python 3",
   "language": "python",
   "name": "python3"
  },
  "language_info": {
   "codemirror_mode": {
    "name": "ipython",
    "version": 3
   },
   "file_extension": ".py",
   "mimetype": "text/x-python",
   "name": "python",
   "nbconvert_exporter": "python",
   "pygments_lexer": "ipython3",
   "version": "3.12.2"
  }
 },
 "nbformat": 4,
 "nbformat_minor": 2
}
