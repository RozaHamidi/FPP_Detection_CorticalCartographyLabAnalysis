{
 "cells": [
  {
   "cell_type": "code",
   "execution_count": 1,
   "metadata": {},
   "outputs": [],
   "source": [
    "import numpy as np\n",
    "from scipy.cluster.hierarchy import dendrogram, linkage\n",
    "import matplotlib.pyplot as plt\n",
    "from scipy.spatial.distance import pdist, squareform\n",
    "from ipynb.fs.full.utils import *\n",
    "from scipy.stats import pearsonr\n",
    "from scipy.cluster import hierarchy"
   ]
  },
  {
   "cell_type": "code",
   "execution_count": 2,
   "metadata": {},
   "outputs": [],
   "source": [
    "Mean_FPPs_Activity = mean_FPPs_movie_data()"
   ]
  },
  {
   "cell_type": "code",
   "execution_count": 3,
   "metadata": {},
   "outputs": [
    {
     "data": {
      "text/plain": [
       "(5, 3655)"
      ]
     },
     "execution_count": 3,
     "metadata": {},
     "output_type": "execute_result"
    }
   ],
   "source": [
    "Mean_FPPs_Activity.shape"
   ]
  },
  {
   "cell_type": "code",
   "execution_count": 11,
   "metadata": {},
   "outputs": [
    {
     "data": {
      "image/png": "[encoded data removed]",
      "text/plain": [
       "<Figure size 1000x700 with 1 Axes>"
      ]
     },
     "metadata": {},
     "output_type": "display_data"
    }
   ],
   "source": [
    "correlation_matrix = np.zeros((5, 5))\n",
    "\n",
    "for i in range(5):\n",
    "    for j in range(5):\n",
    "        correlation_matrix[i, j], _ = pearsonr(Mean_FPPs_Activity[i], Mean_FPPs_Activity[j])\n",
    "        \n",
    "\n",
    "\n",
    "distance_matrix = 1 - correlation_matrix\n",
    "condensed_distance_matrix = squareform(distance_matrix, checks=False)\n",
    "\n",
    "links = hierarchy.linkage(condensed_distance_matrix, method='average')\n",
    "\n",
    "\n",
    "\n",
    "# Plot the dendrogram\n",
    "plt.figure(figsize=(10, 7))\n",
    "labels = ['FPP1', 'FPP2', 'FPP3', 'FPP4', 'FPP5']\n",
    "def color_func(x):\n",
    "    return 'blue'\n",
    "    \n",
    "\n",
    "with plt.rc_context({'lines.linewidth': 5}):\n",
    "    pden = hierarchy.dendrogram(links, \n",
    "                                # no_labels=True,  \n",
    "                                labels = labels,\n",
    "                                color_threshold=1.5,\n",
    "                                link_color_func=color_func)\n",
    "\n",
    "# for label in plt.gca().get_xticklabels():\n",
    "#     label.set_fontname('Arial')\n",
    "\n",
    "# plt.title('Hierarchical clustering dendrogram')\n",
    "# plt.xlabel('FPP')\n",
    "# plt.ylabel('Distance')\n",
    "\n",
    "plt.gca().axes.get_yaxis().set_visible(False)\n",
    "plt.box(False)\n",
    "\n",
    "# plt.savefig('E:/FPP_files_and_codes/Figures/Figure4_files/Row1/Hierarchical_clustering_dendrogram.png', dpi=600, bbox_inches='tight')\n",
    "plt.show()"
   ]
  },
  {
   "cell_type": "code",
   "execution_count": null,
   "metadata": {},
   "outputs": [],
   "source": []
  },
  {
   "cell_type": "code",
   "execution_count": null,
   "metadata": {},
   "outputs": [],
   "source": []
  }
 ],
 "metadata": {
  "kernelspec": {
   "display_name": "Python 3",
   "language": "python",
   "name": "python3"
  },
  "language_info": {
   "codemirror_mode": {
    "name": "ipython",
    "version": 3
   },
   "file_extension": ".py",
   "mimetype": "text/x-python",
   "name": "python",
   "nbconvert_exporter": "python",
   "pygments_lexer": "ipython3",
   "version": "3.12.2"
  }
 },
 "nbformat": 4,
 "nbformat_minor": 2
}
