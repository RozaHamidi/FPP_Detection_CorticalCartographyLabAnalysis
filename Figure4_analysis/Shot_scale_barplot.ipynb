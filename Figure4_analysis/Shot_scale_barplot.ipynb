{
 "cells": [
  {
   "cell_type": "code",
   "execution_count": 21,
   "id": "e72602ee",
   "metadata": {},
   "outputs": [],
   "source": [
    "import numpy as np\n",
    "import scipy.io\n",
    "import scipy\n",
    "from scipy import stats\n",
    "import math\n",
    "import matplotlib.pyplot as plt\n",
    "import pandas as pd\n",
    "from ipynb.fs.full.utils import *"
   ]
  },
  {
   "cell_type": "code",
   "execution_count": 22,
   "id": "89ef9427",
   "metadata": {},
   "outputs": [],
   "source": [
    "shot_scale_csv = pd.read_csv('E:/FPP_files_and_codes/FPP_files/shot_scale_labels/corrected_shot_scale_predictions.csv')"
   ]
  },
  {
   "cell_type": "code",
   "execution_count": 23,
   "id": "5c8129a2",
   "metadata": {},
   "outputs": [],
   "source": [
    "shot_scale_labels = np.array(shot_scale_csv['human_pred'])"
   ]
  },
  {
   "cell_type": "code",
   "execution_count": 24,
   "id": "b84fbbf4",
   "metadata": {},
   "outputs": [
    {
     "data": {
      "text/plain": [
       "{'CS', 'LS', 'MS', 'Unclear'}"
      ]
     },
     "execution_count": 24,
     "metadata": {},
     "output_type": "execute_result"
    }
   ],
   "source": [
    "set(shot_scale_labels)"
   ]
  },
  {
   "cell_type": "code",
   "execution_count": 25,
   "id": "cb7e75ea",
   "metadata": {},
   "outputs": [
    {
     "data": {
      "text/plain": [
       "(3655,)"
      ]
     },
     "execution_count": 25,
     "metadata": {},
     "output_type": "execute_result"
    }
   ],
   "source": [
    "shot_scale_labels.shape"
   ]
  },
  {
   "cell_type": "code",
   "execution_count": 26,
   "id": "06d54c0f",
   "metadata": {},
   "outputs": [],
   "source": [
    "CS_seconds = np.where(shot_scale_labels == 'CS')[0]\n",
    "LS_seconds = np.where(shot_scale_labels == 'LS')[0]\n",
    "MS_seconds = np.where(shot_scale_labels == 'MS')[0]"
   ]
  },
  {
   "cell_type": "code",
   "execution_count": 27,
   "id": "2cbb63db",
   "metadata": {},
   "outputs": [
    {
     "name": "stdout",
     "output_type": "stream",
     "text": [
      "(1856,)\n",
      "(833,)\n",
      "(463,)\n"
     ]
    }
   ],
   "source": [
    "print(CS_seconds.shape)\n",
    "print(MS_seconds.shape)\n",
    "print(LS_seconds.shape)"
   ]
  },
  {
   "cell_type": "code",
   "execution_count": 28,
   "id": "9fe647f2",
   "metadata": {},
   "outputs": [],
   "source": [
    "delay = 4\n",
    "shifted_CS_seconds = (CS_seconds + delay)%3655\n",
    "shifted_MS_seconds = (MS_seconds + delay)%3655\n",
    "shifted_LS_seconds = (LS_seconds + delay)%3655"
   ]
  },
  {
   "cell_type": "code",
   "execution_count": 29,
   "id": "ac88ef30",
   "metadata": {},
   "outputs": [],
   "source": [
    "mean_FPPs_activity = mean_FPPs_movie_data()"
   ]
  },
  {
   "cell_type": "code",
   "execution_count": 30,
   "id": "afdf37ba",
   "metadata": {},
   "outputs": [
    {
     "data": {
      "text/plain": [
       "(5, 3655)"
      ]
     },
     "execution_count": 30,
     "metadata": {},
     "output_type": "execute_result"
    }
   ],
   "source": [
    "mean_FPPs_activity.shape"
   ]
  },
  {
   "cell_type": "code",
   "execution_count": 31,
   "id": "5a8dac99",
   "metadata": {},
   "outputs": [],
   "source": [
    "mean_activity_each_FPP_in_different_shot_scales = np.zeros((5,3))\n",
    "SEM_mean_activity_each_FPP_in_different_shot_scales = np.zeros((5,3))\n",
    "\n",
    "for i in range(5):\n",
    "\n",
    "    FPP_activity = mean_FPPs_activity[i]\n",
    "\n",
    "    FPP_CS = FPP_activity[shifted_CS_seconds]\n",
    "\n",
    "    FPP_MS = FPP_activity[shifted_MS_seconds]\n",
    "\n",
    "    FPP_LS = FPP_activity[shifted_LS_seconds]\n",
    "\n",
    "    means = [np.mean(FPP_CS), np.mean(FPP_MS), np.mean(FPP_LS)]\n",
    "    mean_activity_each_FPP_in_different_shot_scales[i] = means\n",
    "\n",
    "    SEMs = [stats.sem(FPP_CS), stats.sem(FPP_MS), stats.sem(FPP_LS)]\n",
    "    SEM_mean_activity_each_FPP_in_different_shot_scales[i] = SEMs\n",
    "\n"
   ]
  },
  {
   "cell_type": "code",
   "execution_count": 32,
   "id": "e7136819",
   "metadata": {},
   "outputs": [
    {
     "data": {
      "text/plain": [
       "(1856,)"
      ]
     },
     "execution_count": 32,
     "metadata": {},
     "output_type": "execute_result"
    }
   ],
   "source": [
    "FPP_CS.shape"
   ]
  },
  {
   "cell_type": "code",
   "execution_count": 33,
   "id": "58fcb518",
   "metadata": {},
   "outputs": [
    {
     "data": {
      "text/plain": [
       "array([[-0.06709582,  0.0008467 ,  0.01179026,  0.00164026, -0.00505646],\n",
       "       [ 0.05743189,  0.08285006,  0.0680481 ,  0.06228539,  0.07091251],\n",
       "       [ 0.16798127,  0.07584067,  0.09195417,  0.10208041,  0.10978004]])"
      ]
     },
     "execution_count": 33,
     "metadata": {},
     "output_type": "execute_result"
    }
   ],
   "source": [
    "mean_activity_each_FPP_in_different_shot_scales.T"
   ]
  },
  {
   "cell_type": "code",
   "execution_count": 34,
   "id": "bb45b0a9",
   "metadata": {},
   "outputs": [
    {
     "data": {
      "image/png": "[encoded data removed]",
      "text/plain": [
       "<Figure size 800x600 with 1 Axes>"
      ]
     },
     "metadata": {},
     "output_type": "display_data"
    }
   ],
   "source": [
    "import numpy as np\n",
    "import matplotlib.pyplot as plt\n",
    "\n",
    "x_labels = ['FPP1', 'FPP2', 'FPP3', 'FPP4', 'FPP5']\n",
    "bar_width = 0.2\n",
    "\n",
    "index = np.arange(len(x_labels))\n",
    "\n",
    "fig, ax = plt.subplots(figsize=(8, 6))\n",
    "\n",
    "plt.rcParams['font.size'] = 12\n",
    "plt.rcParams['font.family'] = 'Arial'\n",
    "\n",
    "bar1 = ax.bar(index - bar_width, mean_activity_each_FPP_in_different_shot_scales.T[2], bar_width,  yerr=SEM_mean_activity_each_FPP_in_different_shot_scales.T[2], label='Long shot', capsize=3, color='blue')\n",
    "\n",
    "bar2 = ax.bar(index, mean_activity_each_FPP_in_different_shot_scales.T[1], bar_width,  yerr=SEM_mean_activity_each_FPP_in_different_shot_scales.T[1], label='Medium shot', capsize=3, color='orange')\n",
    "\n",
    "\n",
    "bar3 = ax.bar(index + bar_width, mean_activity_each_FPP_in_different_shot_scales.T[0], bar_width, yerr=SEM_mean_activity_each_FPP_in_different_shot_scales.T[0], label='Close-up shot', capsize=3, color='firebrick')\n",
    "\n",
    "ax.axhline(0, color='gray', linestyle='--')\n",
    "\n",
    "ax.set_ylim(-0.1,0.2)\n",
    "ax.set_ylabel('Percent signal change')\n",
    "ax.set_xticks(index)\n",
    "ax.set_xticklabels(x_labels)\n",
    "plt.legend(frameon=False)\n",
    "ax.spines['top'].set_visible(False)\n",
    "ax.spines['right'].set_visible(False)\n",
    "\n",
    "# plt.savefig('E:/FPP_files_and_codes/Figures/Figure4_files/Row3/shot_scale_barplot.png', dpi=600, bbox_inches='tight')\n",
    "plt.show()\n"
   ]
  },
  {
   "cell_type": "code",
   "execution_count": 35,
   "id": "89a7c44f",
   "metadata": {},
   "outputs": [],
   "source": [
    "dic_shot_scales = {\n",
    "    \"FPP\" : [],\n",
    "    \"shot_scale\" : [],\n",
    "    \"activity\" : []\n",
    "}\n",
    "for i in range(5):\n",
    "    \n",
    "    FPP_activity = mean_FPPs_activity[i]\n",
    "\n",
    "    FPP_CS = FPP_activity[shifted_CS_seconds]\n",
    "\n",
    "    CS_list = [\"CS\" for _ in range(shifted_CS_seconds.shape[0])]\n",
    "    dic_shot_scales[\"shot_scale\"].extend(CS_list)\n",
    "    dic_shot_scales[\"activity\"].extend(FPP_CS)\n",
    "\n",
    "    FPP_MS = FPP_activity[shifted_MS_seconds]\n",
    "\n",
    "    MS_list = [\"MS\" for _ in range(shifted_MS_seconds.shape[0])]\n",
    "    dic_shot_scales[\"shot_scale\"].extend(MS_list)\n",
    "    dic_shot_scales[\"activity\"].extend(FPP_MS)\n",
    "\n",
    "    FPP_LS = FPP_activity[shifted_LS_seconds]\n",
    "\n",
    "    LS_list = [\"LS\" for _ in range(shifted_LS_seconds.shape[0])]\n",
    "    dic_shot_scales[\"shot_scale\"].extend(LS_list)\n",
    "    dic_shot_scales[\"activity\"].extend(FPP_LS)\n",
    "\n",
    "    sum_seconds = shifted_CS_seconds.shape[0] + shifted_MS_seconds.shape[0] + shifted_LS_seconds.shape[0]\n",
    "    FPP_list = [f'{i+1}'] * sum_seconds\n",
    "    dic_shot_scales[\"FPP\"].extend(FPP_list)"
   ]
  },
  {
   "cell_type": "code",
   "execution_count": 36,
   "id": "36d488c2",
   "metadata": {},
   "outputs": [],
   "source": [
    "shoe_scale_dataframe = pd.DataFrame(dic_shot_scales)"
   ]
  },
  {
   "cell_type": "code",
   "execution_count": null,
   "id": "f7492129",
   "metadata": {},
   "outputs": [],
   "source": []
  },
  {
   "cell_type": "code",
   "execution_count": 37,
   "id": "183e3f39",
   "metadata": {},
   "outputs": [
    {
     "data": {
      "text/html": [
       "<div>\n",
       "<style scoped>\n",
       "    .dataframe tbody tr th:only-of-type {\n",
       "        vertical-align: middle;\n",
       "    }\n",
       "\n",
       "    .dataframe tbody tr th {\n",
       "        vertical-align: top;\n",
       "    }\n",
       "\n",
       "    .dataframe thead th {\n",
       "        text-align: right;\n",
       "    }\n",
       "</style>\n",
       "<table border=\"1\" class=\"dataframe\">\n",
       "  <thead>\n",
       "    <tr style=\"text-align: right;\">\n",
       "      <th></th>\n",
       "      <th>FPP</th>\n",
       "      <th>shot_scale</th>\n",
       "      <th>activity</th>\n",
       "    </tr>\n",
       "  </thead>\n",
       "  <tbody>\n",
       "    <tr>\n",
       "      <th>0</th>\n",
       "      <td>1</td>\n",
       "      <td>CS</td>\n",
       "      <td>0.123493</td>\n",
       "    </tr>\n",
       "    <tr>\n",
       "      <th>1</th>\n",
       "      <td>1</td>\n",
       "      <td>CS</td>\n",
       "      <td>0.131044</td>\n",
       "    </tr>\n",
       "    <tr>\n",
       "      <th>2</th>\n",
       "      <td>1</td>\n",
       "      <td>CS</td>\n",
       "      <td>0.117006</td>\n",
       "    </tr>\n",
       "    <tr>\n",
       "      <th>3</th>\n",
       "      <td>1</td>\n",
       "      <td>CS</td>\n",
       "      <td>0.115433</td>\n",
       "    </tr>\n",
       "    <tr>\n",
       "      <th>4</th>\n",
       "      <td>1</td>\n",
       "      <td>CS</td>\n",
       "      <td>0.049863</td>\n",
       "    </tr>\n",
       "    <tr>\n",
       "      <th>...</th>\n",
       "      <td>...</td>\n",
       "      <td>...</td>\n",
       "      <td>...</td>\n",
       "    </tr>\n",
       "    <tr>\n",
       "      <th>15755</th>\n",
       "      <td>5</td>\n",
       "      <td>LS</td>\n",
       "      <td>0.036935</td>\n",
       "    </tr>\n",
       "    <tr>\n",
       "      <th>15756</th>\n",
       "      <td>5</td>\n",
       "      <td>LS</td>\n",
       "      <td>-0.080641</td>\n",
       "    </tr>\n",
       "    <tr>\n",
       "      <th>15757</th>\n",
       "      <td>5</td>\n",
       "      <td>LS</td>\n",
       "      <td>0.001246</td>\n",
       "    </tr>\n",
       "    <tr>\n",
       "      <th>15758</th>\n",
       "      <td>5</td>\n",
       "      <td>LS</td>\n",
       "      <td>-0.062085</td>\n",
       "    </tr>\n",
       "    <tr>\n",
       "      <th>15759</th>\n",
       "      <td>5</td>\n",
       "      <td>LS</td>\n",
       "      <td>0.095332</td>\n",
       "    </tr>\n",
       "  </tbody>\n",
       "</table>\n",
       "<p>15760 rows × 3 columns</p>\n",
       "</div>"
      ],
      "text/plain": [
       "      FPP shot_scale  activity\n",
       "0       1         CS  0.123493\n",
       "1       1         CS  0.131044\n",
       "2       1         CS  0.117006\n",
       "3       1         CS  0.115433\n",
       "4       1         CS  0.049863\n",
       "...    ..        ...       ...\n",
       "15755   5         LS  0.036935\n",
       "15756   5         LS -0.080641\n",
       "15757   5         LS  0.001246\n",
       "15758   5         LS -0.062085\n",
       "15759   5         LS  0.095332\n",
       "\n",
       "[15760 rows x 3 columns]"
      ]
     },
     "execution_count": 37,
     "metadata": {},
     "output_type": "execute_result"
    }
   ],
   "source": [
    "shoe_scale_dataframe"
   ]
  },
  {
   "cell_type": "code",
   "execution_count": 38,
   "id": "8a85b68e",
   "metadata": {},
   "outputs": [],
   "source": [
    "import statsmodels.api as sm\n",
    "from statsmodels.formula.api import ols\n",
    "import statsmodels.stats.multicomp as mc"
   ]
  },
  {
   "cell_type": "code",
   "execution_count": 39,
   "id": "90af793a",
   "metadata": {},
   "outputs": [
    {
     "name": "stdout",
     "output_type": "stream",
     "text": [
      "ANOVA Table:\n",
      "                           sum_sq       df           F         PR(>F)\n",
      "C(shot_scale)           36.680298      2.0  236.907826  4.265502e-102\n",
      "C(FPP)                   2.952435      4.0    9.534478   1.071515e-07\n",
      "C(shot_scale):C(FPP)     7.058150      8.0   11.396655   3.013894e-16\n",
      "Residual              1218.894513  15745.0         NaN            NaN\n",
      "\n",
      "Tukey's HSD Results:\n",
      "Multiple Comparison of Means - Tukey HSD, FWER=0.05 \n",
      "====================================================\n",
      "group1 group2 meandiff p-adj   lower   upper  reject\n",
      "----------------------------------------------------\n",
      "   CS1    CS2   0.0679    0.0   0.037  0.0989   True\n",
      "   CS1    CS3   0.0789    0.0  0.0479  0.1099   True\n",
      "   CS1    CS4   0.0687    0.0  0.0378  0.0997   True\n",
      "   CS1    CS5    0.062    0.0  0.0311   0.093   True\n",
      "   CS1    LS1   0.2351    0.0  0.1861  0.2841   True\n",
      "   CS1    LS2   0.1429    0.0  0.0939   0.192   True\n",
      "   CS1    LS3    0.159    0.0    0.11  0.2081   True\n",
      "   CS1    LS4   0.1692    0.0  0.1202  0.2182   True\n",
      "   CS1    LS5   0.1769    0.0  0.1279  0.2259   True\n",
      "   CS1    MS1   0.1245    0.0  0.0852  0.1639   True\n",
      "   CS1    MS2   0.1499    0.0  0.1106  0.1893   True\n",
      "   CS1    MS3   0.1351    0.0  0.0958  0.1745   True\n",
      "   CS1    MS4   0.1294    0.0    0.09  0.1687   True\n",
      "   CS1    MS5    0.138    0.0  0.0987  0.1774   True\n",
      "   CS2    CS3   0.0109 0.9974   -0.02  0.0419  False\n",
      "   CS2    CS4   0.0008    1.0 -0.0302  0.0318  False\n",
      "   CS2    CS5  -0.0059    1.0 -0.0369  0.0251  False\n",
      "   CS2    LS1   0.1671    0.0  0.1181  0.2162   True\n",
      "   CS2    LS2    0.075    0.0   0.026   0.124   True\n",
      "   CS2    LS3   0.0911    0.0  0.0421  0.1401   True\n",
      "   CS2    LS4   0.1012    0.0  0.0522  0.1503   True\n",
      "   CS2    LS5   0.1089    0.0  0.0599   0.158   True\n",
      "   CS2    MS1   0.0566 0.0001  0.0172  0.0959   True\n",
      "   CS2    MS2    0.082    0.0  0.0426  0.1214   True\n",
      "   CS2    MS3   0.0672    0.0  0.0278  0.1066   True\n",
      "   CS2    MS4   0.0614    0.0  0.0221  0.1008   True\n",
      "   CS2    MS5   0.0701    0.0  0.0307  0.1094   True\n",
      "   CS3    CS4  -0.0101 0.9988 -0.0411  0.0208  False\n",
      "   CS3    CS5  -0.0168 0.8799 -0.0478  0.0141  False\n",
      "   CS3    LS1   0.1562    0.0  0.1072  0.2052   True\n",
      "   CS3    LS2   0.0641 0.0009   0.015  0.1131   True\n",
      "   CS3    LS3   0.0802    0.0  0.0311  0.1292   True\n",
      "   CS3    LS4   0.0903    0.0  0.0413  0.1393   True\n",
      "   CS3    LS5    0.098    0.0   0.049   0.147   True\n",
      "   CS3    MS1   0.0456 0.0074  0.0063   0.085   True\n",
      "   CS3    MS2   0.0711    0.0  0.0317  0.1104   True\n",
      "   CS3    MS3   0.0563 0.0001  0.0169  0.0956   True\n",
      "   CS3    MS4   0.0505 0.0013  0.0111  0.0899   True\n",
      "   CS3    MS5   0.0591    0.0  0.0198  0.0985   True\n",
      "   CS4    CS5  -0.0067    1.0 -0.0377  0.0243  False\n",
      "   CS4    LS1   0.1663    0.0  0.1173  0.2154   True\n",
      "   CS4    LS2   0.0742    0.0  0.0252  0.1232   True\n",
      "   CS4    LS3   0.0903    0.0  0.0413  0.1393   True\n",
      "   CS4    LS4   0.1004    0.0  0.0514  0.1495   True\n",
      "   CS4    LS5   0.1081    0.0  0.0591  0.1572   True\n",
      "   CS4    MS1   0.0558 0.0002  0.0164  0.0951   True\n",
      "   CS4    MS2   0.0812    0.0  0.0419  0.1206   True\n",
      "   CS4    MS3   0.0664    0.0  0.0271  0.1058   True\n",
      "   CS4    MS4   0.0606    0.0  0.0213     0.1   True\n",
      "   CS4    MS5   0.0693    0.0  0.0299  0.1086   True\n",
      "   CS5    LS1    0.173    0.0   0.124  0.2221   True\n",
      "   CS5    LS2   0.0809    0.0  0.0319  0.1299   True\n",
      "   CS5    LS3    0.097    0.0   0.048   0.146   True\n",
      "   CS5    LS4   0.1071    0.0  0.0581  0.1562   True\n",
      "   CS5    LS5   0.1148    0.0  0.0658  0.1639   True\n",
      "   CS5    MS1   0.0625    0.0  0.0231  0.1018   True\n",
      "   CS5    MS2   0.0879    0.0  0.0485  0.1273   True\n",
      "   CS5    MS3   0.0731    0.0  0.0337  0.1125   True\n",
      "   CS5    MS4   0.0673    0.0   0.028  0.1067   True\n",
      "   CS5    MS5    0.076    0.0  0.0366  0.1153   True\n",
      "   LS1    LS2  -0.0921    0.0 -0.1542 -0.0301   True\n",
      "   LS1    LS3   -0.076  0.003 -0.1381  -0.014   True\n",
      "   LS1    LS4  -0.0659 0.0248 -0.1279 -0.0039   True\n",
      "   LS1    LS5  -0.0582 0.0937 -0.1202  0.0038  False\n",
      "   LS1    MS1  -0.1105    0.0 -0.1653 -0.0558   True\n",
      "   LS1    MS2  -0.0851    0.0 -0.1398 -0.0304   True\n",
      "   LS1    MS3  -0.0999    0.0 -0.1546 -0.0452   True\n",
      "   LS1    MS4  -0.1057    0.0 -0.1604  -0.051   True\n",
      "   LS1    MS5  -0.0971    0.0 -0.1518 -0.0424   True\n",
      "   LS2    LS3   0.0161 0.9999 -0.0459  0.0781  False\n",
      "   LS2    LS4   0.0262 0.9843 -0.0358  0.0883  False\n",
      "   LS2    LS5   0.0339 0.8747 -0.0281   0.096  False\n",
      "   LS2    MS1  -0.0184 0.9984 -0.0731  0.0363  False\n",
      "   LS2    MS2    0.007    1.0 -0.0477  0.0617  False\n",
      "   LS2    MS3  -0.0078    1.0 -0.0625  0.0469  False\n",
      "   LS2    MS4  -0.0136    1.0 -0.0683  0.0411  False\n",
      "   LS2    MS5  -0.0049    1.0 -0.0596  0.0498  False\n",
      "   LS3    LS4   0.0101    1.0 -0.0519  0.0722  False\n",
      "   LS3    LS5   0.0178 0.9997 -0.0442  0.0799  False\n",
      "   LS3    MS1  -0.0345 0.7075 -0.0892  0.0202  False\n",
      "   LS3    MS2  -0.0091    1.0 -0.0638  0.0456  False\n",
      "   LS3    MS3  -0.0239 0.9788 -0.0786  0.0308  False\n",
      "   LS3    MS4  -0.0297 0.8821 -0.0844   0.025  False\n",
      "   LS3    MS5   -0.021 0.9937 -0.0757  0.0337  False\n",
      "   LS4    LS5   0.0077    1.0 -0.0543  0.0697  False\n",
      "   LS4    MS1  -0.0446 0.2642 -0.0994  0.0101  False\n",
      "   LS4    MS2  -0.0192 0.9975 -0.0739  0.0355  False\n",
      "   LS4    MS3   -0.034 0.7285 -0.0887  0.0207  False\n",
      "   LS4    MS4  -0.0398 0.4643 -0.0945  0.0149  False\n",
      "   LS4    MS5  -0.0312 0.8369 -0.0859  0.0235  False\n",
      "   LS5    MS1  -0.0523 0.0781 -0.1071  0.0024  False\n",
      "   LS5    MS2  -0.0269 0.9423 -0.0816  0.0278  False\n",
      "   LS5    MS3  -0.0417 0.3783 -0.0964   0.013  False\n",
      "   LS5    MS4  -0.0475  0.176 -0.1022  0.0072  False\n",
      "   LS5    MS5  -0.0389 0.5073 -0.0936  0.0158  False\n",
      "   MS1    MS2   0.0254 0.8708 -0.0208  0.0717  False\n",
      "   MS1    MS3   0.0106    1.0 -0.0356  0.0569  False\n",
      "   MS1    MS4   0.0049    1.0 -0.0414  0.0511  False\n",
      "   MS1    MS5   0.0135 0.9997 -0.0328  0.0597  False\n",
      "   MS2    MS3  -0.0148 0.9991  -0.061  0.0314  False\n",
      "   MS2    MS4  -0.0206 0.9753 -0.0668  0.0257  False\n",
      "   MS2    MS5  -0.0119 0.9999 -0.0582  0.0343  False\n",
      "   MS3    MS4  -0.0058    1.0  -0.052  0.0405  False\n",
      "   MS3    MS5   0.0029    1.0 -0.0434  0.0491  False\n",
      "   MS4    MS5   0.0086    1.0 -0.0376  0.0549  False\n",
      "----------------------------------------------------\n"
     ]
    }
   ],
   "source": [
    "model = ols('activity ~ C(shot_scale) + C(FPP) + C(shot_scale):C(FPP)', data=shoe_scale_dataframe).fit()\n",
    "anova_table = sm.stats.anova_lm(model, typ=2)\n",
    "print(\"ANOVA Table:\")\n",
    "print(anova_table)\n",
    "\n",
    "# Tukey's HSD for multiple comparisons\n",
    "tukey = mc.pairwise_tukeyhsd(endog=shoe_scale_dataframe['activity'], groups=shoe_scale_dataframe['shot_scale'] + shoe_scale_dataframe['FPP'], alpha=0.05)\n",
    "print(\"\\nTukey's HSD Results:\")\n",
    "print(tukey)\n"
   ]
  },
  {
   "cell_type": "code",
   "execution_count": null,
   "id": "5d0c3c09",
   "metadata": {},
   "outputs": [],
   "source": []
  }
 ],
 "metadata": {
  "kernelspec": {
   "display_name": "Python 3",
   "language": "python",
   "name": "python3"
  },
  "language_info": {
   "codemirror_mode": {
    "name": "ipython",
    "version": 3
   },
   "file_extension": ".py",
   "mimetype": "text/x-python",
   "name": "python",
   "nbconvert_exporter": "python",
   "pygments_lexer": "ipython3",
   "version": "3.12.2"
  }
 },
 "nbformat": 4,
 "nbformat_minor": 5
}
