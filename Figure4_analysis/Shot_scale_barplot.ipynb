{
 "cells": [
  {
   "cell_type": "code",
   "execution_count": 1,
   "id": "e72602ee",
   "metadata": {},
   "outputs": [],
   "source": [
    "import numpy as np\n",
    "import scipy.io\n",
    "import scipy\n",
    "from scipy import stats\n",
    "import math\n",
    "import matplotlib.pyplot as plt\n",
    "import pandas as pd\n",
    "from ipynb.fs.full.utils import *"
   ]
  },
  {
   "cell_type": "code",
   "execution_count": 2,
   "id": "89ef9427",
   "metadata": {},
   "outputs": [],
   "source": [
    "shot_scale_csv = pd.read_csv('E:/FPP_files_and_codes/FPP_files/shot_scale_labels/corrected_shot_scale_predictions.csv')"
   ]
  },
  {
   "cell_type": "code",
   "execution_count": 3,
   "id": "5c8129a2",
   "metadata": {},
   "outputs": [],
   "source": [
    "shot_scale_labels = np.array(shot_scale_csv['human_pred'])"
   ]
  },
  {
   "cell_type": "code",
   "execution_count": 4,
   "id": "b84fbbf4",
   "metadata": {},
   "outputs": [
    {
     "data": {
      "text/plain": [
       "{'CS', 'LS', 'MS', 'Unclear'}"
      ]
     },
     "execution_count": 4,
     "metadata": {},
     "output_type": "execute_result"
    }
   ],
   "source": [
    "set(shot_scale_labels)"
   ]
  },
  {
   "cell_type": "code",
   "execution_count": 5,
   "id": "cb7e75ea",
   "metadata": {},
   "outputs": [
    {
     "data": {
      "text/plain": [
       "(3655,)"
      ]
     },
     "execution_count": 5,
     "metadata": {},
     "output_type": "execute_result"
    }
   ],
   "source": [
    "shot_scale_labels.shape"
   ]
  },
  {
   "cell_type": "code",
   "execution_count": 6,
   "id": "06d54c0f",
   "metadata": {},
   "outputs": [],
   "source": [
    "CS_seconds = np.where(shot_scale_labels == 'CS')[0]\n",
    "LS_seconds = np.where(shot_scale_labels == 'LS')[0]\n",
    "MS_seconds = np.where(shot_scale_labels == 'MS')[0]"
   ]
  },
  {
   "cell_type": "code",
   "execution_count": 7,
   "id": "2cbb63db",
   "metadata": {},
   "outputs": [
    {
     "name": "stdout",
     "output_type": "stream",
     "text": [
      "(1856,)\n",
      "(833,)\n",
      "(463,)\n"
     ]
    }
   ],
   "source": [
    "print(CS_seconds.shape)\n",
    "print(MS_seconds.shape)\n",
    "print(LS_seconds.shape)"
   ]
  },
  {
   "cell_type": "code",
   "execution_count": 8,
   "id": "9fe647f2",
   "metadata": {},
   "outputs": [],
   "source": [
    "delay = 5\n",
    "shifted_CS_seconds = (CS_seconds + delay)%3655\n",
    "shifted_MS_seconds = (MS_seconds + delay)%3655\n",
    "shifted_LS_seconds = (LS_seconds + delay)%3655"
   ]
  },
  {
   "cell_type": "code",
   "execution_count": 9,
   "id": "ac88ef30",
   "metadata": {},
   "outputs": [],
   "source": [
    "mean_FPPs_activity = mean_FPPs_movie_data()"
   ]
  },
  {
   "cell_type": "code",
   "execution_count": 10,
   "id": "afdf37ba",
   "metadata": {},
   "outputs": [
    {
     "data": {
      "text/plain": [
       "(5, 3655)"
      ]
     },
     "execution_count": 10,
     "metadata": {},
     "output_type": "execute_result"
    }
   ],
   "source": [
    "mean_FPPs_activity.shape"
   ]
  },
  {
   "cell_type": "code",
   "execution_count": 11,
   "id": "5a8dac99",
   "metadata": {},
   "outputs": [],
   "source": [
    "mean_activity_each_FPP_in_different_shot_scales = np.zeros((5,3))\n",
    "SEM_mean_activity_each_FPP_in_different_shot_scales = np.zeros((5,3))\n",
    "\n",
    "for i in range(5):\n",
    "    # Calculate mean and standard deviation activity for each FPP\n",
    "    FPP_activity = mean_FPPs_activity[i]\n",
    "\n",
    "    FPP_CS = FPP_activity[shifted_CS_seconds]\n",
    "\n",
    "    FPP_MS = FPP_activity[shifted_MS_seconds]\n",
    "\n",
    "    FPP_LS = FPP_activity[shifted_LS_seconds]\n",
    "\n",
    "    means = [np.mean(FPP_CS), np.mean(FPP_MS), np.mean(FPP_LS)]\n",
    "    mean_activity_each_FPP_in_different_shot_scales[i] = means\n",
    "\n",
    "    SEMs = [stats.sem(FPP_CS), stats.sem(FPP_MS), stats.sem(FPP_LS)]\n",
    "    SEM_mean_activity_each_FPP_in_different_shot_scales[i] = SEMs\n",
    "\n"
   ]
  },
  {
   "cell_type": "code",
   "execution_count": 12,
   "id": "e7136819",
   "metadata": {},
   "outputs": [
    {
     "data": {
      "text/plain": [
       "(1856,)"
      ]
     },
     "execution_count": 12,
     "metadata": {},
     "output_type": "execute_result"
    }
   ],
   "source": [
    "FPP_CS.shape"
   ]
  },
  {
   "cell_type": "code",
   "execution_count": 13,
   "id": "58fcb518",
   "metadata": {},
   "outputs": [
    {
     "data": {
      "text/plain": [
       "array([[-0.0624447 ,  0.00612737,  0.01183942, -0.0014392 , -0.00584363],\n",
       "       [ 0.04243427,  0.06767031,  0.06137804,  0.062759  ,  0.06519675],\n",
       "       [ 0.16291888,  0.06767903,  0.08840476,  0.10389913,  0.1113595 ]])"
      ]
     },
     "execution_count": 13,
     "metadata": {},
     "output_type": "execute_result"
    }
   ],
   "source": [
    "mean_activity_each_FPP_in_different_shot_scales.T"
   ]
  },
  {
   "cell_type": "code",
   "execution_count": 14,
   "id": "bb45b0a9",
   "metadata": {},
   "outputs": [
    {
     "data": {
      "image/png": "[encoded data removed]",
      "text/plain": [
       "<Figure size 800x600 with 1 Axes>"
      ]
     },
     "metadata": {},
     "output_type": "display_data"
    }
   ],
   "source": [
    "import numpy as np\n",
    "import matplotlib.pyplot as plt\n",
    "\n",
    "x_labels = ['FPP1', 'FPP2', 'FPP3', 'FPP4', 'FPP5']\n",
    "bar_width = 0.2\n",
    "\n",
    "index = np.arange(len(x_labels))\n",
    "\n",
    "fig, ax = plt.subplots(figsize=(8, 6))\n",
    "\n",
    "plt.rcParams['font.size'] = 12\n",
    "plt.rcParams['font.family'] = 'Arial'\n",
    "\n",
    "bar1 = ax.bar(index - bar_width, mean_activity_each_FPP_in_different_shot_scales.T[2], bar_width,  yerr=SEM_mean_activity_each_FPP_in_different_shot_scales.T[2], label='Long shot', capsize=3, color='blue')\n",
    "\n",
    "bar2 = ax.bar(index, mean_activity_each_FPP_in_different_shot_scales.T[1], bar_width,  yerr=SEM_mean_activity_each_FPP_in_different_shot_scales.T[1], label='Medium shot', capsize=3, color='orange')\n",
    "\n",
    "\n",
    "bar3 = ax.bar(index + bar_width, mean_activity_each_FPP_in_different_shot_scales.T[0], bar_width, yerr=SEM_mean_activity_each_FPP_in_different_shot_scales.T[0], label='Close-up shot', capsize=3, color='firebrick')\n",
    "\n",
    "ax.axhline(0, color='gray', linestyle='--')\n",
    "\n",
    "ax.set_ylim(-0.1,0.2)\n",
    "ax.set_ylabel('Percent signal change')\n",
    "ax.set_xticks(index)\n",
    "ax.set_xticklabels(x_labels)\n",
    "plt.legend(frameon=False)\n",
    "ax.spines['top'].set_visible(False)\n",
    "ax.spines['right'].set_visible(False)\n",
    "\n",
    "plt.savefig('E:/FPP_files_and_codes/Figures/Figure4_files/Row3/shot_scale_barplot.png', dpi=600, bbox_inches='tight')\n",
    "plt.show()\n"
   ]
  },
  {
   "cell_type": "code",
   "execution_count": 15,
   "id": "89a7c44f",
   "metadata": {},
   "outputs": [],
   "source": [
    "dic_shot_scales = {\n",
    "    \"FPP\" : [],\n",
    "    \"shot_scale\" : [],\n",
    "    \"activity\" : []\n",
    "}\n",
    "for i in range(5):\n",
    "    \n",
    "    FPP_activity = mean_FPPs_activity[i]\n",
    "\n",
    "    FPP_CS = FPP_activity[shifted_CS_seconds]\n",
    "\n",
    "    CS_list = [\"CS\" for _ in range(shifted_CS_seconds.shape[0])]\n",
    "    dic_shot_scales[\"shot_scale\"].extend(CS_list)\n",
    "    dic_shot_scales[\"activity\"].extend(FPP_CS)\n",
    "\n",
    "    FPP_MS = FPP_activity[shifted_MS_seconds]\n",
    "\n",
    "    MS_list = [\"MS\" for _ in range(shifted_MS_seconds.shape[0])]\n",
    "    dic_shot_scales[\"shot_scale\"].extend(MS_list)\n",
    "    dic_shot_scales[\"activity\"].extend(FPP_MS)\n",
    "\n",
    "    FPP_LS = FPP_activity[shifted_LS_seconds]\n",
    "\n",
    "    LS_list = [\"LS\" for _ in range(shifted_LS_seconds.shape[0])]\n",
    "    dic_shot_scales[\"shot_scale\"].extend(LS_list)\n",
    "    dic_shot_scales[\"activity\"].extend(FPP_LS)\n",
    "\n",
    "    sum_seconds = shifted_CS_seconds.shape[0] + shifted_MS_seconds.shape[0] + shifted_LS_seconds.shape[0]\n",
    "    FPP_list = [f'{i+1}'] * sum_seconds\n",
    "    dic_shot_scales[\"FPP\"].extend(FPP_list)"
   ]
  },
  {
   "cell_type": "code",
   "execution_count": 16,
   "id": "36d488c2",
   "metadata": {},
   "outputs": [],
   "source": [
    "shoe_scale_dataframe = pd.DataFrame(dic_shot_scales)"
   ]
  },
  {
   "cell_type": "code",
   "execution_count": null,
   "id": "f7492129",
   "metadata": {},
   "outputs": [],
   "source": []
  },
  {
   "cell_type": "code",
   "execution_count": 18,
   "id": "183e3f39",
   "metadata": {},
   "outputs": [
    {
     "data": {
      "text/html": [
       "<div>\n",
       "<style scoped>\n",
       "    .dataframe tbody tr th:only-of-type {\n",
       "        vertical-align: middle;\n",
       "    }\n",
       "\n",
       "    .dataframe tbody tr th {\n",
       "        vertical-align: top;\n",
       "    }\n",
       "\n",
       "    .dataframe thead th {\n",
       "        text-align: right;\n",
       "    }\n",
       "</style>\n",
       "<table border=\"1\" class=\"dataframe\">\n",
       "  <thead>\n",
       "    <tr style=\"text-align: right;\">\n",
       "      <th></th>\n",
       "      <th>FPP</th>\n",
       "      <th>shot_scale</th>\n",
       "      <th>activity</th>\n",
       "    </tr>\n",
       "  </thead>\n",
       "  <tbody>\n",
       "    <tr>\n",
       "      <th>0</th>\n",
       "      <td>1</td>\n",
       "      <td>CS</td>\n",
       "      <td>0.131044</td>\n",
       "    </tr>\n",
       "    <tr>\n",
       "      <th>1</th>\n",
       "      <td>1</td>\n",
       "      <td>CS</td>\n",
       "      <td>0.117006</td>\n",
       "    </tr>\n",
       "    <tr>\n",
       "      <th>2</th>\n",
       "      <td>1</td>\n",
       "      <td>CS</td>\n",
       "      <td>0.115433</td>\n",
       "    </tr>\n",
       "    <tr>\n",
       "      <th>3</th>\n",
       "      <td>1</td>\n",
       "      <td>CS</td>\n",
       "      <td>0.049863</td>\n",
       "    </tr>\n",
       "    <tr>\n",
       "      <th>4</th>\n",
       "      <td>1</td>\n",
       "      <td>CS</td>\n",
       "      <td>0.006824</td>\n",
       "    </tr>\n",
       "    <tr>\n",
       "      <th>...</th>\n",
       "      <td>...</td>\n",
       "      <td>...</td>\n",
       "      <td>...</td>\n",
       "    </tr>\n",
       "    <tr>\n",
       "      <th>15755</th>\n",
       "      <td>5</td>\n",
       "      <td>LS</td>\n",
       "      <td>-0.080641</td>\n",
       "    </tr>\n",
       "    <tr>\n",
       "      <th>15756</th>\n",
       "      <td>5</td>\n",
       "      <td>LS</td>\n",
       "      <td>0.001246</td>\n",
       "    </tr>\n",
       "    <tr>\n",
       "      <th>15757</th>\n",
       "      <td>5</td>\n",
       "      <td>LS</td>\n",
       "      <td>-0.062085</td>\n",
       "    </tr>\n",
       "    <tr>\n",
       "      <th>15758</th>\n",
       "      <td>5</td>\n",
       "      <td>LS</td>\n",
       "      <td>-0.141530</td>\n",
       "    </tr>\n",
       "    <tr>\n",
       "      <th>15759</th>\n",
       "      <td>5</td>\n",
       "      <td>LS</td>\n",
       "      <td>0.175518</td>\n",
       "    </tr>\n",
       "  </tbody>\n",
       "</table>\n",
       "<p>15760 rows × 3 columns</p>\n",
       "</div>"
      ],
      "text/plain": [
       "      FPP shot_scale  activity\n",
       "0       1         CS  0.131044\n",
       "1       1         CS  0.117006\n",
       "2       1         CS  0.115433\n",
       "3       1         CS  0.049863\n",
       "4       1         CS  0.006824\n",
       "...    ..        ...       ...\n",
       "15755   5         LS -0.080641\n",
       "15756   5         LS  0.001246\n",
       "15757   5         LS -0.062085\n",
       "15758   5         LS -0.141530\n",
       "15759   5         LS  0.175518\n",
       "\n",
       "[15760 rows x 3 columns]"
      ]
     },
     "execution_count": 18,
     "metadata": {},
     "output_type": "execute_result"
    }
   ],
   "source": [
    "shoe_scale_dataframe"
   ]
  },
  {
   "cell_type": "code",
   "execution_count": 19,
   "id": "8a85b68e",
   "metadata": {},
   "outputs": [],
   "source": [
    "import statsmodels.api as sm\n",
    "from statsmodels.formula.api import ols\n",
    "import statsmodels.stats.multicomp as mc"
   ]
  },
  {
   "cell_type": "code",
   "execution_count": 20,
   "id": "90af793a",
   "metadata": {},
   "outputs": [
    {
     "name": "stdout",
     "output_type": "stream",
     "text": [
      "ANOVA Table:\n",
      "                           sum_sq       df           F        PR(>F)\n",
      "C(shot_scale)           32.174482      2.0  207.542494  1.079122e-89\n",
      "C(FPP)                   2.952603      4.0    9.522930  1.095230e-07\n",
      "C(shot_scale):C(FPP)     6.360454      8.0   10.257076  2.063864e-14\n",
      "Residual              1220.442152  15745.0         NaN           NaN\n",
      "\n",
      "Tukey's HSD Results:\n",
      "Multiple Comparison of Means - Tukey HSD, FWER=0.05 \n",
      "====================================================\n",
      "group1 group2 meandiff p-adj   lower   upper  reject\n",
      "----------------------------------------------------\n",
      "   CS1    CS2   0.0686    0.0  0.0376  0.0996   True\n",
      "   CS1    CS3   0.0743    0.0  0.0433  0.1053   True\n",
      "   CS1    CS4    0.061    0.0    0.03   0.092   True\n",
      "   CS1    CS5   0.0566    0.0  0.0256  0.0876   True\n",
      "   CS1    LS1   0.2254    0.0  0.1763  0.2744   True\n",
      "   CS1    LS2   0.1301    0.0  0.0811  0.1792   True\n",
      "   CS1    LS3   0.1508    0.0  0.1018  0.1999   True\n",
      "   CS1    LS4   0.1663    0.0  0.1173  0.2154   True\n",
      "   CS1    LS5   0.1738    0.0  0.1247  0.2229   True\n",
      "   CS1    MS1   0.1049    0.0  0.0655  0.1443   True\n",
      "   CS1    MS2   0.1301    0.0  0.0907  0.1695   True\n",
      "   CS1    MS3   0.1238    0.0  0.0844  0.1632   True\n",
      "   CS1    MS4   0.1252    0.0  0.0858  0.1646   True\n",
      "   CS1    MS5   0.1276    0.0  0.0883   0.167   True\n",
      "   CS2    CS3   0.0057    1.0 -0.0253  0.0367  False\n",
      "   CS2    CS4  -0.0076    1.0 -0.0386  0.0234  False\n",
      "   CS2    CS5   -0.012 0.9934  -0.043   0.019  False\n",
      "   CS2    LS1   0.1568    0.0  0.1077  0.2058   True\n",
      "   CS2    LS2   0.0616  0.002  0.0125  0.1106   True\n",
      "   CS2    LS3   0.0823    0.0  0.0332  0.1313   True\n",
      "   CS2    LS4   0.0978    0.0  0.0487  0.1468   True\n",
      "   CS2    LS5   0.1052    0.0  0.0562  0.1543   True\n",
      "   CS2    MS1   0.0363 0.1095 -0.0031  0.0757  False\n",
      "   CS2    MS2   0.0615    0.0  0.0222  0.1009   True\n",
      "   CS2    MS3   0.0553 0.0002  0.0159  0.0946   True\n",
      "   CS2    MS4   0.0566 0.0001  0.0172   0.096   True\n",
      "   CS2    MS5   0.0591    0.0  0.0197  0.0985   True\n",
      "   CS3    CS4  -0.0133 0.9823 -0.0443  0.0177  False\n",
      "   CS3    CS5  -0.0177 0.8356 -0.0487  0.0133  False\n",
      "   CS3    LS1   0.1511    0.0   0.102  0.2001   True\n",
      "   CS3    LS2   0.0558 0.0097  0.0068  0.1049   True\n",
      "   CS3    LS3   0.0766    0.0  0.0275  0.1256   True\n",
      "   CS3    LS4   0.0921    0.0   0.043  0.1411   True\n",
      "   CS3    LS5   0.0995    0.0  0.0505  0.1486   True\n",
      "   CS3    MS1   0.0306 0.3462 -0.0088    0.07  False\n",
      "   CS3    MS2   0.0558 0.0002  0.0164  0.0952   True\n",
      "   CS3    MS3   0.0495 0.0019  0.0102  0.0889   True\n",
      "   CS3    MS4   0.0509 0.0011  0.0115  0.0903   True\n",
      "   CS3    MS5   0.0534 0.0004   0.014  0.0927   True\n",
      "   CS4    CS5  -0.0044    1.0 -0.0354  0.0266  False\n",
      "   CS4    LS1   0.1644    0.0  0.1153  0.2134   True\n",
      "   CS4    LS2   0.0691 0.0002  0.0201  0.1182   True\n",
      "   CS4    LS3   0.0898    0.0  0.0408  0.1389   True\n",
      "   CS4    LS4   0.1053    0.0  0.0563  0.1544   True\n",
      "   CS4    LS5   0.1128    0.0  0.0637  0.1619   True\n",
      "   CS4    MS1   0.0439 0.0132  0.0045  0.0833   True\n",
      "   CS4    MS2   0.0691    0.0  0.0297  0.1085   True\n",
      "   CS4    MS3   0.0628    0.0  0.0234  0.1022   True\n",
      "   CS4    MS4   0.0642    0.0  0.0248  0.1036   True\n",
      "   CS4    MS5   0.0666    0.0  0.0273   0.106   True\n",
      "   CS5    LS1   0.1688    0.0  0.1197  0.2178   True\n",
      "   CS5    LS2   0.0735    0.0  0.0245  0.1226   True\n",
      "   CS5    LS3   0.0942    0.0  0.0452  0.1433   True\n",
      "   CS5    LS4   0.1097    0.0  0.0607  0.1588   True\n",
      "   CS5    LS5   0.1172    0.0  0.0681  0.1663   True\n",
      "   CS5    MS1   0.0483  0.003  0.0089  0.0877   True\n",
      "   CS5    MS2   0.0735    0.0  0.0341  0.1129   True\n",
      "   CS5    MS3   0.0672    0.0  0.0278  0.1066   True\n",
      "   CS5    MS4   0.0686    0.0  0.0292   0.108   True\n",
      "   CS5    MS5    0.071    0.0  0.0317  0.1104   True\n",
      "   LS1    LS2  -0.0952    0.0 -0.1573 -0.0332   True\n",
      "   LS1    LS3  -0.0745 0.0042 -0.1366 -0.0125   True\n",
      "   LS1    LS4   -0.059 0.0829 -0.1211   0.003  False\n",
      "   LS1    LS5  -0.0516 0.2371 -0.1136  0.0105  False\n",
      "   LS1    MS1  -0.1205    0.0 -0.1752 -0.0657   True\n",
      "   LS1    MS2  -0.0952    0.0   -0.15 -0.0405   True\n",
      "   LS1    MS3  -0.1015    0.0 -0.1563 -0.0468   True\n",
      "   LS1    MS4  -0.1002    0.0 -0.1549 -0.0454   True\n",
      "   LS1    MS5  -0.0977    0.0 -0.1525  -0.043   True\n",
      "   LS2    LS3   0.0207 0.9986 -0.0413  0.0828  False\n",
      "   LS2    LS4   0.0362 0.8109 -0.0258  0.0983  False\n",
      "   LS2    LS5   0.0437 0.5245 -0.0184  0.1057  False\n",
      "   LS2    MS1  -0.0252 0.9661   -0.08  0.0295  False\n",
      "   LS2    MS2     -0.0    1.0 -0.0547  0.0547  False\n",
      "   LS2    MS3  -0.0063    1.0  -0.061  0.0484  False\n",
      "   LS2    MS4  -0.0049    1.0 -0.0597  0.0498  False\n",
      "   LS2    MS5  -0.0025    1.0 -0.0572  0.0523  False\n",
      "   LS3    LS4   0.0155    1.0 -0.0466  0.0776  False\n",
      "   LS3    LS5    0.023 0.9958 -0.0391   0.085  False\n",
      "   LS3    MS1   -0.046 0.2212 -0.1007  0.0088  False\n",
      "   LS3    MS2  -0.0207 0.9946 -0.0755   0.034  False\n",
      "   LS3    MS3   -0.027 0.9409 -0.0818  0.0277  False\n",
      "   LS3    MS4  -0.0256 0.9613 -0.0804  0.0291  False\n",
      "   LS3    MS5  -0.0232 0.9839 -0.0779  0.0315  False\n",
      "   LS4    LS5   0.0075    1.0 -0.0546  0.0695  False\n",
      "   LS4    MS1  -0.0615 0.0119 -0.1162 -0.0067   True\n",
      "   LS4    MS2  -0.0362  0.632  -0.091  0.0185  False\n",
      "   LS4    MS3  -0.0425 0.3464 -0.0973  0.0122  False\n",
      "   LS4    MS4  -0.0411  0.405 -0.0959  0.0136  False\n",
      "   LS4    MS5  -0.0387 0.5162 -0.0934   0.016  False\n",
      "   LS5    MS1  -0.0689 0.0018 -0.1237 -0.0142   True\n",
      "   LS5    MS2  -0.0437 0.3003 -0.0984  0.0111  False\n",
      "   LS5    MS3    -0.05 0.1189 -0.1047  0.0048  False\n",
      "   LS5    MS4  -0.0486 0.1489 -0.1033  0.0061  False\n",
      "   LS5    MS5  -0.0462 0.2152 -0.1009  0.0086  False\n",
      "   MS1    MS2   0.0252 0.8775  -0.021  0.0715  False\n",
      "   MS1    MS3   0.0189 0.9884 -0.0273  0.0652  False\n",
      "   MS1    MS4   0.0203 0.9778 -0.0259  0.0666  False\n",
      "   MS1    MS5   0.0228 0.9426 -0.0235   0.069  False\n",
      "   MS2    MS3  -0.0063    1.0 -0.0526    0.04  False\n",
      "   MS2    MS4  -0.0049    1.0 -0.0512  0.0414  False\n",
      "   MS2    MS5  -0.0025    1.0 -0.0487  0.0438  False\n",
      "   MS3    MS4   0.0014    1.0 -0.0449  0.0477  False\n",
      "   MS3    MS5   0.0038    1.0 -0.0425  0.0501  False\n",
      "   MS4    MS5   0.0024    1.0 -0.0438  0.0487  False\n",
      "----------------------------------------------------\n"
     ]
    },
    {
     "name": "stderr",
     "output_type": "stream",
     "text": [
      "c:\\Users\\roza\\AppData\\Local\\Programs\\Python\\Python312\\Lib\\site-packages\\scipy\\integrate\\_quadpack_py.py:1272: IntegrationWarning: The integral is probably divergent, or slowly convergent.\n",
      "  quad_r = quad(f, low, high, args=args, full_output=self.full_output,\n"
     ]
    }
   ],
   "source": [
    "model = ols('activity ~ C(shot_scale) + C(FPP) + C(shot_scale):C(FPP)', data=shoe_scale_dataframe).fit()\n",
    "anova_table = sm.stats.anova_lm(model, typ=2)\n",
    "print(\"ANOVA Table:\")\n",
    "print(anova_table)\n",
    "\n",
    "# Tukey's HSD for multiple comparisons\n",
    "tukey = mc.pairwise_tukeyhsd(endog=shoe_scale_dataframe['activity'], groups=shoe_scale_dataframe['shot_scale'] + shoe_scale_dataframe['FPP'], alpha=0.05)\n",
    "print(\"\\nTukey's HSD Results:\")\n",
    "print(tukey)\n"
   ]
  },
  {
   "cell_type": "code",
   "execution_count": null,
   "id": "a63a7506",
   "metadata": {},
   "outputs": [],
   "source": []
  },
  {
   "cell_type": "code",
   "execution_count": 21,
   "id": "7494a188",
   "metadata": {},
   "outputs": [
    {
     "data": {
      "image/png": "[encoded data removed]",
      "text/plain": [
       "<Figure size 1500x1000 with 6 Axes>"
      ]
     },
     "metadata": {},
     "output_type": "display_data"
    }
   ],
   "source": [
    "MeanActivityNonBlankFramesInEahcshot = np.zeros((5,3))\n",
    "\n",
    "fig, axs = plt.subplots(2, 3, figsize=(15, 10))\n",
    "\n",
    "colors = ['red', 'blue', 'green', 'orange', 'purple']\n",
    "\n",
    "for i, ax in enumerate(axs.flat):\n",
    "    # Calculate mean and standard deviation\n",
    "    FPP_activity = mean_FPPs_activity[i]\n",
    "\n",
    "    FPP_CS = FPP_activity[shifted_CS_seconds]\n",
    "\n",
    "    FPP_MS = FPP_activity[shifted_MS_seconds]\n",
    "\n",
    "    FPP_LS = FPP_activity[shifted_LS_seconds]\n",
    "\n",
    "    means = [np.mean(FPP_CS), np.mean(FPP_MS), np.mean(FPP_LS)]\n",
    "    \n",
    "    MeanActivityNonBlankFramesInEahcshot[i] = means\n",
    "\n",
    "    SEMs = [stats.sem(FPP_CS), stats.sem(FPP_MS), stats.sem(FPP_LS)]\n",
    "\n",
    "    labels = ['CS', 'MS', 'LS']\n",
    "\n",
    "    # Plot bar with error bars\n",
    "    ax.bar(labels, means, yerr=SEMs, color=colors[i], capsize=10)\n",
    "#     ax.bar(0, mean, yerr=std, color=colors[i], capsize=10)\n",
    "    ax.set_title(f'FPP {i+1}')\n",
    "#     ax.set_xticks([])\n",
    "    ax.axhline(0, color='gray', linestyle='--')\n",
    "    ax.set_ylim(-0.1,0.2)\n",
    "    ax.set_ylabel('Mean +/- SEM')\n",
    "    if i == 4:\n",
    "        break\n",
    "axs[1, 2].axis('off')\n",
    "# Adjust layout\n",
    "plt.subplots_adjust(wspace=0.4, hspace=0.6)\n",
    "\n",
    "plt.show()"
   ]
  },
  {
   "cell_type": "code",
   "execution_count": 22,
   "id": "a4f77215",
   "metadata": {},
   "outputs": [
    {
     "data": {
      "text/plain": [
       "array([[ 0.18236606,  0.14638163,  0.12198991, ...,  0.0862237 ,\n",
       "         0.11810479,  0.1205579 ],\n",
       "       [-0.00054443, -0.1763386 , -0.03980189, ..., -0.42359205,\n",
       "        -0.35804712, -0.29062543],\n",
       "       [-0.04344583, -0.19558185, -0.02269511, ..., -0.49385949,\n",
       "        -0.47951352, -0.40800163],\n",
       "       [-0.12195691, -0.24757926, -0.14228903, ..., -0.43942906,\n",
       "        -0.43359549, -0.40197286],\n",
       "       [-0.30909105, -0.21977826, -0.06803193, ..., -0.36626227,\n",
       "        -0.33330164, -0.24720643]])"
      ]
     },
     "execution_count": 22,
     "metadata": {},
     "output_type": "execute_result"
    }
   ],
   "source": [
    "mean_FPPs_activity"
   ]
  }
 ],
 "metadata": {
  "kernelspec": {
   "display_name": "Python 3",
   "language": "python",
   "name": "python3"
  },
  "language_info": {
   "codemirror_mode": {
    "name": "ipython",
    "version": 3
   },
   "file_extension": ".py",
   "mimetype": "text/x-python",
   "name": "python",
   "nbconvert_exporter": "python",
   "pygments_lexer": "ipython3",
   "version": "3.12.2"
  }
 },
 "nbformat": 4,
 "nbformat_minor": 5
}
