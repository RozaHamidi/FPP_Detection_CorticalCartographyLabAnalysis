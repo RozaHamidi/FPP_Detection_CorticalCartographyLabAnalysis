{
 "cells": [
  {
   "cell_type": "code",
   "execution_count": 1,
   "metadata": {},
   "outputs": [],
   "source": [
    "import nibabel as nb\n",
    "import numpy as np\n",
    "import scipy.io"
   ]
  },
  {
   "cell_type": "code",
   "execution_count": 2,
   "metadata": {},
   "outputs": [],
   "source": [
    "def mean_FPPs_movie_data():\n",
    "    \"\"\"\n",
    "    This function calculate mean activity of each FPP in movie watching data by getting the mean of left and right vertices activity for each second\n",
    "\n",
    "    Return:\n",
    "    numpy array: A 2D numpy array with shape (5, 3655), where each element represents the mean activity of an FPP for each second.\n",
    "    \n",
    "    \"\"\"\n",
    "    left_movie_data = scipy.io.loadmat('E:/FPP_files_and_codes/FPP_files/Movie_watching_avg_data/notmean_left_Meanfile.mat')['Left_data']\n",
    "    right_movie_data = scipy.io.loadmat('E:/FPP_files_and_codes/FPP_files/Movie_watching_avg_data/notmean_right_Meanfile.mat')['Right_data']\n",
    "    FPPs_right = (nb.load('E:/FPP_files_and_codes/FPP_files/FPPs_combined/FPPs.rh.func.gii').darrays[0].data).T\n",
    "    FPPs_left = (nb.load('E:/FPP_files_and_codes/FPP_files/FPPs_combined/FPPs.lh.func.gii').darrays[0].data).T\n",
    "    right_FPPs_indices = [np.nonzero(FPPs_right[i]) for i in range(5)]\n",
    "    left_FPPs_indices = [np.nonzero(FPPs_left[i]) for i in range(5)]\n",
    "    activity_of_FPPs = [np.concatenate((right_movie_data[right_FPPs_indices[i]], left_movie_data[left_FPPs_indices[i]])) for i in range(5)]\n",
    "    mean_FPPs_activity = np.array([np.mean(activity_of_FPPs[i], axis=0) for i in range(5)])\n",
    "    return mean_FPPs_activity"
   ]
  }
 ],
 "metadata": {
  "kernelspec": {
   "display_name": "Python 3",
   "language": "python",
   "name": "python3"
  },
  "language_info": {
   "codemirror_mode": {
    "name": "ipython",
    "version": 3
   },
   "file_extension": ".py",
   "mimetype": "text/x-python",
   "name": "python",
   "nbconvert_exporter": "python",
   "pygments_lexer": "ipython3",
   "version": "3.12.2"
  }
 },
 "nbformat": 4,
 "nbformat_minor": 2
}
