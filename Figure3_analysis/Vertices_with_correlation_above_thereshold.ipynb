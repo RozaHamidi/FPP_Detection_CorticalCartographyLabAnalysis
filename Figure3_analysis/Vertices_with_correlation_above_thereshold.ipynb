{
 "cells": [
  {
   "cell_type": "code",
   "execution_count": 1,
   "id": "5a0698ee",
   "metadata": {},
   "outputs": [],
   "source": [
    "import nibabel as nb\n",
    "import numpy as np\n",
    "import scipy.io\n",
    "import scipy\n",
    "from scipy import stats\n",
    "import math"
   ]
  },
  {
   "cell_type": "code",
   "execution_count": 2,
   "id": "a9d8ce85",
   "metadata": {},
   "outputs": [],
   "source": [
    "mat_left = scipy.io.loadmat('D:/place_ROIs_project/Movie_watching_avg_data/notmean_left_Meanfile.mat')\n",
    "mat_right = scipy.io.loadmat('D:/place_ROIs_project/Movie_watching_avg_data/notmean_right_Meanfile.mat')"
   ]
  },
  {
   "cell_type": "code",
   "execution_count": 3,
   "id": "04f4c9a8",
   "metadata": {},
   "outputs": [],
   "source": [
    "corr_left_dict = mat_left\n",
    "corr_right_dict = mat_right"
   ]
  },
  {
   "cell_type": "code",
   "execution_count": 4,
   "id": "f61f7ff8",
   "metadata": {},
   "outputs": [],
   "source": [
    "left_movie_data = mat_left['Left_data']\n",
    "right_movie_data = mat_right['Right_data']"
   ]
  },
  {
   "cell_type": "code",
   "execution_count": 5,
   "id": "0b43ff54",
   "metadata": {},
   "outputs": [],
   "source": [
    "FPPs_right = (nb.load('D:/place_ROIs_project/Phase1_ExtractingFinalROIs/1_Finding_ROIs/sub_2/FPPs.rh.func.gii').darrays[0].data).T\n",
    "FPPs_left = (nb.load('D:/place_ROIs_project/Phase1_ExtractingFinalROIs/1_Finding_ROIs/sub_2/FPPs.lh.func.gii').darrays[0].data).T"
   ]
  },
  {
   "cell_type": "code",
   "execution_count": 6,
   "id": "8913176c",
   "metadata": {},
   "outputs": [],
   "source": [
    "right_FPPs_indices = [np.nonzero(FPPs_right[i]) for i in range(5)]\n",
    "left_FPPs_indices = [np.nonzero(FPPs_left[i]) for i in range(5)]"
   ]
  },
  {
   "cell_type": "code",
   "execution_count": 7,
   "id": "da58d8a3",
   "metadata": {},
   "outputs": [],
   "source": [
    "activity_of_FPPs = [np.concatenate((right_movie_data[right_FPPs_indices[i]], left_movie_data[left_FPPs_indices[i]])) for i in range(5)]"
   ]
  },
  {
   "cell_type": "code",
   "execution_count": 8,
   "id": "008e7fc3",
   "metadata": {},
   "outputs": [],
   "source": [
    "mean_FPPs_activity = np.array([np.mean(activity_of_FPPs[i], axis=0) for i in range(5)])"
   ]
  },
  {
   "cell_type": "code",
   "execution_count": 13,
   "id": "6900a757",
   "metadata": {},
   "outputs": [
    {
     "data": {
      "text/plain": [
       "(5, 3655)"
      ]
     },
     "execution_count": 13,
     "metadata": {},
     "output_type": "execute_result"
    }
   ],
   "source": [
    "mean_FPPs_activity.shape"
   ]
  },
  {
   "cell_type": "markdown",
   "id": "94659d88",
   "metadata": {},
   "source": [
    "# Right"
   ]
  },
  {
   "cell_type": "code",
   "execution_count": 10,
   "id": "52dc1572",
   "metadata": {},
   "outputs": [
    {
     "data": {
      "text/plain": [
       "(32492, 3655)"
      ]
     },
     "execution_count": 10,
     "metadata": {},
     "output_type": "execute_result"
    }
   ],
   "source": [
    "right_movie_data.shape"
   ]
  },
  {
   "cell_type": "code",
   "execution_count": 11,
   "id": "283a922c",
   "metadata": {},
   "outputs": [
    {
     "name": "stderr",
     "output_type": "stream",
     "text": [
      "C:\\Users\\roza\\anaconda3\\lib\\site-packages\\scipy\\stats\\_stats_py.py:4424: ConstantInputWarning: An input array is constant; the correlation coefficient is not defined.\n",
      "  warnings.warn(stats.ConstantInputWarning(msg))\n"
     ]
    }
   ],
   "source": [
    "correlation_right_vertices_FPPs = np.zeros((32492, 5))\n",
    "pvalue_right_vertices_FPPs = np.zeros((32492, 5))\n",
    "\n",
    "for i in range(right_movie_data.shape[0]):\n",
    "    for j in range(5):\n",
    "        corr,p_value = stats.pearsonr(right_movie_data[i], mean_FPPs_activity[j])\n",
    "        correlation_right_vertices_FPPs[i,j] = corr\n",
    "        pvalue_right_vertices_FPPs[i,j] = p_value"
   ]
  },
  {
   "cell_type": "code",
   "execution_count": 26,
   "id": "70bb62c9",
   "metadata": {},
   "outputs": [],
   "source": [
    "correlation_right_vertices_FPPs = np.nan_to_num(correlation_right_vertices_FPPs)\n",
    "pvalue_right_vertices_FPPs = np.nan_to_num(pvalue_right_vertices_FPPs)\n",
    "corr_right_32 = correlation_right_vertices_FPPs.astype(np.float32)\n",
    "pvalue_right_32 = pvalue_right_vertices_FPPs.astype(np.float32)"
   ]
  },
  {
   "cell_type": "code",
   "execution_count": 44,
   "id": "82df931d",
   "metadata": {},
   "outputs": [
    {
     "data": {
      "text/plain": [
       "(32492, 5)"
      ]
     },
     "execution_count": 44,
     "metadata": {},
     "output_type": "execute_result"
    }
   ],
   "source": [
    "corr_right_32.shape"
   ]
  },
  {
   "cell_type": "code",
   "execution_count": 38,
   "id": "9af19dbe",
   "metadata": {},
   "outputs": [],
   "source": [
    "temp_r_path = 'D:/place_ROIs_project/Initial_ROIs_data/ROIs.R.func.gii'\n",
    "temp_r = nb.load(temp_r_path)\n",
    "for i in range(1,6):\n",
    "    temp_r.darrays[0].data = corr_right_32[:,i-1]\n",
    "    temp_r.to_filename(f'D:/place_ROIs_project/Phase1_ExtractingFinalROIs/2_Correlation_vertices_with_FPPs/CorrelationFPPsWithVertices{i}.rh.func.gii')"
   ]
  },
  {
   "cell_type": "code",
   "execution_count": 13,
   "id": "22975270",
   "metadata": {},
   "outputs": [],
   "source": [
    "sorted_correlation_right_vertices_FPPs = np.sort(correlation_right_vertices_FPPs, axis=1)[:, ::-1]\n",
    "sorted_pvalue_right_vertices_FPPs = np.sort(pvalue_right_vertices_FPPs, axis=1)[:, ::-1]\n",
    "sorted_prefered_FPP_each_vertices = np.argsort(correlation_right_vertices_FPPs, axis=1)[:, ::-1]"
   ]
  },
  {
   "cell_type": "code",
   "execution_count": 14,
   "id": "45284a89",
   "metadata": {},
   "outputs": [],
   "source": [
    "preferred_FPP_each_vertices = sorted_prefered_FPP_each_vertices[:,0] + 1"
   ]
  },
  {
   "cell_type": "code",
   "execution_count": 15,
   "id": "7fe87883",
   "metadata": {},
   "outputs": [
    {
     "data": {
      "text/plain": [
       "array([5, 5, 5, ..., 5, 5, 5], dtype=int64)"
      ]
     },
     "execution_count": 15,
     "metadata": {},
     "output_type": "execute_result"
    }
   ],
   "source": [
    "preferred_FPP_each_vertices"
   ]
  },
  {
   "cell_type": "code",
   "execution_count": 16,
   "id": "b9f93f08",
   "metadata": {},
   "outputs": [],
   "source": [
    "positive_preferred_corr_each_vertices_right = sorted_correlation_right_vertices_FPPs[:,0][sorted_correlation_right_vertices_FPPs[:,0]> 0]"
   ]
  },
  {
   "cell_type": "code",
   "execution_count": 17,
   "id": "a830b0c9",
   "metadata": {},
   "outputs": [],
   "source": [
    "mean_sorted_correlation_right_vertices_FPPs_right = np.mean(positive_preferred_corr_each_vertices_right) "
   ]
  },
  {
   "cell_type": "code",
   "execution_count": 18,
   "id": "0a229c08",
   "metadata": {},
   "outputs": [
    {
     "data": {
      "text/plain": [
       "0.3510572207193558"
      ]
     },
     "execution_count": 18,
     "metadata": {},
     "output_type": "execute_result"
    }
   ],
   "source": [
    "mean_sorted_correlation_right_vertices_FPPs_right"
   ]
  },
  {
   "cell_type": "code",
   "execution_count": 70,
   "id": "510c038a",
   "metadata": {},
   "outputs": [],
   "source": [
    "threshold = 0.3\n",
    "above_threshold_vertices = sorted_correlation_right_vertices_FPPs[:,0] >= threshold"
   ]
  },
  {
   "cell_type": "code",
   "execution_count": 71,
   "id": "75ac8b0f",
   "metadata": {},
   "outputs": [
    {
     "data": {
      "text/plain": [
       "array([False, False, False, ..., False, False,  True])"
      ]
     },
     "execution_count": 71,
     "metadata": {},
     "output_type": "execute_result"
    }
   ],
   "source": [
    "above_threshold_vertices"
   ]
  },
  {
   "cell_type": "code",
   "execution_count": 72,
   "id": "aaa25ee6",
   "metadata": {},
   "outputs": [],
   "source": [
    "preferred_FPP_above_threshold_vertices = np.zeros_like(preferred_FPP_each_vertices)\n",
    "\n",
    "preferred_FPP_above_threshold_vertices[above_threshold_vertices] = preferred_FPP_each_vertices[above_threshold_vertices]"
   ]
  },
  {
   "cell_type": "code",
   "execution_count": 73,
   "id": "c9868ff9",
   "metadata": {},
   "outputs": [
    {
     "data": {
      "text/plain": [
       "array([0, 0, 0, ..., 0, 0, 5], dtype=int64)"
      ]
     },
     "execution_count": 73,
     "metadata": {},
     "output_type": "execute_result"
    }
   ],
   "source": [
    "preferred_FPP_above_threshold_vertices"
   ]
  },
  {
   "cell_type": "code",
   "execution_count": 74,
   "id": "852a428f",
   "metadata": {},
   "outputs": [],
   "source": [
    "temp_r_path = 'D:/place_ROIs_project/Initial_ROIs_data/ROIs.R.func.gii'\n",
    "temp_r = nb.load(temp_r_path)\n",
    "temp_r.darrays[0].data = preferred_FPP_above_threshold_vertices\n",
    "temp_r.to_filename('D:/place_ROIs_project/Phase1_ExtractingFinalROIs/2_Correlation_vertices_with_FPPs/preferred_FPP_above_threshold_vertices.R.func.gii')"
   ]
  },
  {
   "cell_type": "code",
   "execution_count": 31,
   "id": "2eaf3200",
   "metadata": {},
   "outputs": [
    {
     "data": {
      "text/plain": [
       "array([[ 0.11503519,  0.03718783,  0.06390971, ..., -0.09333008,\n",
       "        -0.04491226, -0.01514777],\n",
       "       [ 0.08077597, -0.02147286,  0.03186865, ..., -0.16496121,\n",
       "        -0.13001685, -0.07163416],\n",
       "       [-0.04819481, -0.19603622, -0.02925085, ..., -0.48429933,\n",
       "        -0.47145943, -0.40271844],\n",
       "       [-0.12274933, -0.24787016, -0.14828766, ..., -0.43621268,\n",
       "        -0.43554419, -0.40134424],\n",
       "       [-0.31982471, -0.23964374, -0.09059742, ..., -0.37779491,\n",
       "        -0.33173222, -0.25312564]])"
      ]
     },
     "execution_count": 31,
     "metadata": {},
     "output_type": "execute_result"
    }
   ],
   "source": [
    "mean_FPPs_activity"
   ]
  },
  {
   "cell_type": "markdown",
   "id": "ee01948b",
   "metadata": {},
   "source": [
    "# Left"
   ]
  },
  {
   "cell_type": "code",
   "execution_count": 45,
   "id": "f220623e",
   "metadata": {},
   "outputs": [],
   "source": [
    "correlation_left_vertices_FPPs = np.zeros((32492, 5))\n",
    "pvalue_left_vertices_FPPs = np.zeros((32492, 5))\n",
    "\n",
    "for i in range(left_movie_data.shape[0]):\n",
    "    for j in range(5):\n",
    "        corr,p_value = stats.pearsonr(left_movie_data[i], mean_FPPs_activity[j])\n",
    "        correlation_left_vertices_FPPs[i,j] = corr\n",
    "        pvalue_left_vertices_FPPs[i,j] = p_value"
   ]
  },
  {
   "cell_type": "code",
   "execution_count": 46,
   "id": "cf0f5a87",
   "metadata": {},
   "outputs": [],
   "source": [
    "correlation_left_vertices_FPPs = np.nan_to_num(correlation_left_vertices_FPPs)\n",
    "pvalue_left_vertices_FPPs = np.nan_to_num(pvalue_left_vertices_FPPs)\n",
    "corr_left_32 = correlation_left_vertices_FPPs.astype(np.float32)\n",
    "pvalue_left_32 = pvalue_left_vertices_FPPs.astype(np.float32)"
   ]
  },
  {
   "cell_type": "code",
   "execution_count": 47,
   "id": "f3821dec",
   "metadata": {},
   "outputs": [],
   "source": [
    "temp_l_path = 'D:/place_ROIs_project/Initial_ROIs_data/ROIs.L.func.gii'\n",
    "temp_l = nb.load(temp_l_path)\n",
    "for i in range(1,6):\n",
    "    temp_l.darrays[0].data = corr_left_32[:,i-1]\n",
    "    temp_l.to_filename(f'D:/place_ROIs_project/Phase1_ExtractingFinalROIs/2_Correlation_vertices_with_FPPs/CorrelationFPPsWithVertices{i}.lh.func.gii')"
   ]
  },
  {
   "cell_type": "code",
   "execution_count": 25,
   "id": "00798aca",
   "metadata": {},
   "outputs": [
    {
     "data": {
      "text/plain": [
       "array([[3.00534071e-213, 2.81098395e-245, 3.67182745e-193,\n",
       "        3.52345891e-099, 1.04126060e-006],\n",
       "       [2.93171881e-071, 1.30804231e-311, 1.35168820e-289,\n",
       "        3.98668146e-198, 3.00392521e-047],\n",
       "       [1.76571062e-087, 3.10963046e-052, 2.57022263e-033,\n",
       "        6.22037987e-036, 1.70389417e-008],\n",
       "       ...,\n",
       "       [1.87987857e-067, 2.13922175e-039, 9.66328952e-001,\n",
       "        4.99072668e-056, 1.39527882e-177],\n",
       "       [2.26174587e-076, 1.81237928e-056, 1.72982849e-003,\n",
       "        6.06945606e-032, 1.17762806e-119],\n",
       "       [1.49592883e-039, 4.82013888e-035, 5.74828667e-001,\n",
       "        6.84606903e-056, 1.14026189e-157]])"
      ]
     },
     "execution_count": 25,
     "metadata": {},
     "output_type": "execute_result"
    }
   ],
   "source": [
    "np.nan_to_num(correlation_left_vertices_FPPs, copy=False, nan=0)\n",
    "np.nan_to_num(pvalue_left_vertices_FPPs, copy=False, nan=0)"
   ]
  },
  {
   "cell_type": "code",
   "execution_count": 26,
   "id": "e42c5a4b",
   "metadata": {},
   "outputs": [],
   "source": [
    "sorted_correlation_left_vertices_FPPs = np.sort(correlation_left_vertices_FPPs, axis=1)[:, ::-1]\n",
    "sorted_pvalue_left_vertices_FPPs = np.sort(pvalue_left_vertices_FPPs, axis=1)[:, ::-1]\n",
    "sorted_prefered_FPP_each_vertices_left = np.argsort(correlation_left_vertices_FPPs, axis=1)[:, ::-1]"
   ]
  },
  {
   "cell_type": "code",
   "execution_count": 27,
   "id": "7014d43a",
   "metadata": {},
   "outputs": [],
   "source": [
    "preferred_FPP_each_vertices_left = sorted_prefered_FPP_each_vertices_left[:,0] + 1"
   ]
  },
  {
   "cell_type": "code",
   "execution_count": 28,
   "id": "59056610",
   "metadata": {},
   "outputs": [],
   "source": [
    "positive_preferred_corr_each_vertices_left = sorted_correlation_left_vertices_FPPs[:,0][sorted_correlation_left_vertices_FPPs[:,0]>0]"
   ]
  },
  {
   "cell_type": "code",
   "execution_count": 29,
   "id": "157cf20e",
   "metadata": {},
   "outputs": [],
   "source": [
    "mean_sorted_correlation_left_vertices_FPPs= np.mean(positive_preferred_corr_each_vertices_left) "
   ]
  },
  {
   "cell_type": "code",
   "execution_count": 67,
   "id": "40b25034",
   "metadata": {},
   "outputs": [],
   "source": [
    "threshold = 0.3\n",
    "above_threshold_vertices_left = sorted_correlation_left_vertices_FPPs[:,0] >= threshold"
   ]
  },
  {
   "cell_type": "code",
   "execution_count": 68,
   "id": "f4dec2dc",
   "metadata": {},
   "outputs": [],
   "source": [
    "preferred_FPP_above_threshold_vertices_left = np.zeros_like(preferred_FPP_each_vertices_left)\n",
    "\n",
    "preferred_FPP_above_threshold_vertices_left[above_threshold_vertices_left] = preferred_FPP_each_vertices_left[above_threshold_vertices_left]"
   ]
  },
  {
   "cell_type": "code",
   "execution_count": 69,
   "id": "0c707654",
   "metadata": {},
   "outputs": [],
   "source": [
    "temp_l_path = 'D:/place_ROIs_project/Initial_ROIs_data/ROIs.L.func.gii'\n",
    "temp_l = nb.load(temp_l_path)\n",
    "temp_l.darrays[0].data = preferred_FPP_above_threshold_vertices_left\n",
    "temp_l.to_filename('D:/place_ROIs_project/Phase1_ExtractingFinalROIs/2_Correlation_vertices_with_FPPs/preferred_FPP_above_threshold_vertices.L.func.gii')"
   ]
  },
  {
   "cell_type": "code",
   "execution_count": null,
   "id": "99a3375d",
   "metadata": {},
   "outputs": [],
   "source": []
  },
  {
   "cell_type": "code",
   "execution_count": null,
   "id": "e85d7ea7",
   "metadata": {},
   "outputs": [],
   "source": []
  }
 ],
 "metadata": {
  "kernelspec": {
   "display_name": "Python 3",
   "language": "python",
   "name": "python3"
  },
  "language_info": {
   "codemirror_mode": {
    "name": "ipython",
    "version": 3
   },
   "file_extension": ".py",
   "mimetype": "text/x-python",
   "name": "python",
   "nbconvert_exporter": "python",
   "pygments_lexer": "ipython3",
   "version": "3.8.8"
  }
 },
 "nbformat": 4,
 "nbformat_minor": 5
}
