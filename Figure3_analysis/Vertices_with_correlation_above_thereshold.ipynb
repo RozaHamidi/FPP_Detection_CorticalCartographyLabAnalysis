{
 "cells": [
  {
   "cell_type": "code",
   "execution_count": 1,
   "id": "5a0698ee",
   "metadata": {},
   "outputs": [],
   "source": [
    "import nibabel as nb\n",
    "import numpy as np\n",
    "import scipy.io\n",
    "import scipy\n",
    "from scipy import stats"
   ]
  },
  {
   "cell_type": "code",
   "execution_count": 2,
   "id": "a9d8ce85",
   "metadata": {},
   "outputs": [],
   "source": [
    "left_movie_data = scipy.io.loadmat('E:/FPP_files_and_codes/FPP_files/Movie_watching_avg_data/notmean_left_Meanfile.mat')['Left_data']\n",
    "right_movie_data = scipy.io.loadmat('E:/FPP_files_and_codes/FPP_files/Movie_watching_avg_data/notmean_right_Meanfile.mat')['Right_data']\n",
    "FPPs_right = (nb.load('E:/FPP_files_and_codes/FPP_files/FPPs_combined/FPPs.rh.func.gii').darrays[0].data).T\n",
    "FPPs_left = (nb.load('E:/FPP_files_and_codes/FPP_files/FPPs_combined/FPPs.lh.func.gii').darrays[0].data).T\n",
    "right_FPPs_indices = [np.nonzero(FPPs_right[i]) for i in range(5)]\n",
    "left_FPPs_indices = [np.nonzero(FPPs_left[i]) for i in range(5)]\n",
    "activity_of_FPPs = [np.concatenate((right_movie_data[right_FPPs_indices[i]], left_movie_data[left_FPPs_indices[i]])) for i in range(5)]\n",
    "mean_FPPs_activity = np.array([np.mean(activity_of_FPPs[i], axis=0) for i in range(5)])"
   ]
  },
  {
   "cell_type": "markdown",
   "id": "94659d88",
   "metadata": {},
   "source": [
    "# Right"
   ]
  },
  {
   "cell_type": "code",
   "execution_count": 8,
   "id": "52dc1572",
   "metadata": {},
   "outputs": [
    {
     "data": {
      "text/plain": [
       "[(array([ 5107,  5108,  5109,  5110,  5111,  5112,  5113,  5114,  6177,\n",
       "          6207,  6208,  6209,  6236,  6237,  6238,  6239,  6264,  6265,\n",
       "          6266,  6267,  6268,  6269,  6291,  6292,  6293,  6294,  6295,\n",
       "          6296,  6297,  6318,  6319,  6320,  6321,  6322,  6323,  6324,\n",
       "          6344,  6345,  6346,  6347,  6348,  6349,  6350,  6369,  6370,\n",
       "          6371,  6372,  6373,  6374,  6375,  6394,  6395,  6396,  6397,\n",
       "          6398,  6399,  6420,  6421,  6422,  6444, 30352, 30353, 30354,\n",
       "         30355, 30386, 30387, 30388, 30389, 30390, 30419, 30420, 30421,\n",
       "         30422, 30423, 30451, 30452, 30453, 30454, 30455, 30483, 30484,\n",
       "         30485, 30486, 30514, 30515, 30516, 30544, 30545, 30573],\n",
       "        dtype=int64),),\n",
       " (array([ 5092,  5093,  5094,  5095,  5096,  5097,  5098,  5099,  5682,\n",
       "          5683,  5725,  5726,  5727,  5728,  5729,  5768,  5769,  5770,\n",
       "          5771,  5772,  5810,  5811,  5812,  5813,  5814,  5851,  5852,\n",
       "          5853,  5854,  5855,  5891,  5892,  5893,  5894,  5895,  5931,\n",
       "          5932,  5933,  5934,  5969,  5970,  5971,  5972,  6006,  6007,\n",
       "          6008,  6009,  6043,  6044,  6045,  6078,  6079,  6080,  6113,\n",
       "         30798, 30815, 30830, 30831, 30845, 30846, 30860], dtype=int64),),\n",
       " (array([19303, 19304, 19305, 19306, 19334, 19335, 19336, 19337, 19338,\n",
       "         19363, 19364, 19365, 19366, 19367, 19368, 19392, 19393, 19394,\n",
       "         19395, 19396, 19419, 19420, 19421, 19422, 19423, 19424, 19445,\n",
       "         19446, 19447, 19448, 19449, 19470, 19471, 19472, 19473, 19474,\n",
       "         19495, 19496, 19497, 19498, 19518, 19519, 19520, 19521, 19522,\n",
       "         19540, 19541, 19542, 19543, 19544, 19561, 19562, 19563, 19564,\n",
       "         19565, 19581, 19582, 19583, 19584, 19585, 19586, 19600, 19601,\n",
       "         19602, 19603, 19604, 19605, 19619, 19620, 19621, 19622, 19623,\n",
       "         19624, 19636, 19637, 19638, 19639, 19640, 19641, 19652, 19653,\n",
       "         19654, 19655, 19656, 19657, 19658, 19668, 19669, 19670, 19671,\n",
       "         19672, 19673, 19683, 19684, 19685, 19686, 19687, 19688, 19697,\n",
       "         19698, 19699, 19700, 19701, 19710, 19711, 19712, 19722],\n",
       "        dtype=int64),),\n",
       " (array([18281, 18335, 18336, 18337, 18388, 18389, 18390, 18391, 18440,\n",
       "         18441, 18442, 18443, 18444, 18491, 18492, 18493, 18494, 18495,\n",
       "         18496, 18541, 18542, 18543, 18544, 18545, 18546, 18591, 18592,\n",
       "         18593, 18594, 18595, 18596, 18640, 18641, 18642, 18643, 18644,\n",
       "         18687, 18688, 18689, 18690, 18691, 18734, 18735, 18736, 18737,\n",
       "         18779, 18780, 18781, 18782, 18783, 18824, 18825, 18826, 18827,\n",
       "         18867, 18868, 18869, 18870, 18909, 18910, 18911, 18912, 18951,\n",
       "         18952, 18953, 18954, 18992, 18993, 18994, 19032, 19033],\n",
       "        dtype=int64),),\n",
       " (array([20128, 20129, 20178, 20179, 20180, 20228, 20229, 20230, 20277,\n",
       "         20278, 20279, 20280, 20325, 20326, 20327, 20328, 20372, 20373,\n",
       "         20374], dtype=int64),)]"
      ]
     },
     "execution_count": 8,
     "metadata": {},
     "output_type": "execute_result"
    }
   ],
   "source": [
    "right_FPPs_indices"
   ]
  },
  {
   "cell_type": "code",
   "execution_count": 3,
   "id": "283a922c",
   "metadata": {},
   "outputs": [
    {
     "name": "stderr",
     "output_type": "stream",
     "text": [
      "C:\\Users\\roza\\AppData\\Local\\Temp\\ipykernel_23372\\3608627345.py:6: ConstantInputWarning: An input array is constant; the correlation coefficient is not defined.\n",
      "  corr,p_value = stats.pearsonr(right_movie_data[i], mean_FPPs_activity[j])\n"
     ]
    }
   ],
   "source": [
    "correlation_right_vertices_FPPs = np.zeros((32492, 5))\n",
    "pvalue_right_vertices_FPPs = np.zeros((32492, 5))\n",
    "\n",
    "for i in range(right_movie_data.shape[0]):\n",
    "    for j in range(5):\n",
    "        corr,p_value = stats.pearsonr(right_movie_data[i], mean_FPPs_activity[j])\n",
    "        correlation_right_vertices_FPPs[i,j] = corr\n",
    "        pvalue_right_vertices_FPPs[i,j] = p_value"
   ]
  },
  {
   "cell_type": "code",
   "execution_count": 4,
   "id": "70bb62c9",
   "metadata": {},
   "outputs": [],
   "source": [
    "correlation_right_vertices_FPPs = np.nan_to_num(correlation_right_vertices_FPPs)\n",
    "pvalue_right_vertices_FPPs = np.nan_to_num(pvalue_right_vertices_FPPs)\n",
    "corr_right_32 = correlation_right_vertices_FPPs.astype(np.float32)\n",
    "pvalue_right_32 = pvalue_right_vertices_FPPs.astype(np.float32)"
   ]
  },
  {
   "cell_type": "code",
   "execution_count": 5,
   "id": "82df931d",
   "metadata": {},
   "outputs": [
    {
     "data": {
      "text/plain": [
       "(32492, 5)"
      ]
     },
     "execution_count": 5,
     "metadata": {},
     "output_type": "execute_result"
    }
   ],
   "source": [
    "corr_right_32.shape"
   ]
  },
  {
   "cell_type": "code",
   "execution_count": 6,
   "id": "9af19dbe",
   "metadata": {},
   "outputs": [],
   "source": [
    "temp_r_path = 'E:/FPP_files_and_codes/FPP_files/classic_place_patches/ROIs.R.func.gii'\n",
    "temp_r = nb.load(temp_r_path)\n",
    "for i in range(1,6):\n",
    "    temp_r.darrays[0].data = corr_right_32[:,i-1]\n",
    "    temp_r.to_filename(f'E:/FPP_files_and_codes/FPP_files/correlation_map_FPPs/correlation_FPP{i}_with_right_vertices.rh.func.gii')"
   ]
  },
  {
   "cell_type": "code",
   "execution_count": 10,
   "id": "22975270",
   "metadata": {},
   "outputs": [],
   "source": [
    "sorted_correlation_right_vertices_FPPs = np.sort(correlation_right_vertices_FPPs, axis=1)[:, ::-1]\n",
    "sorted_pvalue_right_vertices_FPPs = np.sort(pvalue_right_vertices_FPPs, axis=1)[:, ::-1]\n",
    "sorted_prefered_FPP_each_vertices = np.argsort(correlation_right_vertices_FPPs, axis=1)[:, ::-1]"
   ]
  },
  {
   "cell_type": "code",
   "execution_count": 11,
   "id": "45284a89",
   "metadata": {},
   "outputs": [],
   "source": [
    "preferred_FPP_each_vertices = sorted_prefered_FPP_each_vertices[:,0] + 1"
   ]
  },
  {
   "cell_type": "code",
   "execution_count": 12,
   "id": "7fe87883",
   "metadata": {},
   "outputs": [
    {
     "data": {
      "text/plain": [
       "array([5, 5, 5, ..., 5, 5, 5], dtype=int64)"
      ]
     },
     "execution_count": 12,
     "metadata": {},
     "output_type": "execute_result"
    }
   ],
   "source": [
    "preferred_FPP_each_vertices"
   ]
  },
  {
   "cell_type": "code",
   "execution_count": 13,
   "id": "b9f93f08",
   "metadata": {},
   "outputs": [],
   "source": [
    "positive_preferred_corr_each_vertices_right = sorted_correlation_right_vertices_FPPs[:,0][sorted_correlation_right_vertices_FPPs[:,0]> 0]"
   ]
  },
  {
   "cell_type": "code",
   "execution_count": 14,
   "id": "a830b0c9",
   "metadata": {},
   "outputs": [],
   "source": [
    "mean_sorted_correlation_right_vertices_FPPs_right = np.mean(positive_preferred_corr_each_vertices_right) "
   ]
  },
  {
   "cell_type": "code",
   "execution_count": 15,
   "id": "0a229c08",
   "metadata": {},
   "outputs": [
    {
     "data": {
      "text/plain": [
       "0.3510572207193558"
      ]
     },
     "execution_count": 15,
     "metadata": {},
     "output_type": "execute_result"
    }
   ],
   "source": [
    "mean_sorted_correlation_right_vertices_FPPs_right"
   ]
  },
  {
   "cell_type": "code",
   "execution_count": 16,
   "id": "510c038a",
   "metadata": {},
   "outputs": [],
   "source": [
    "threshold = 0.3\n",
    "above_threshold_vertices = sorted_correlation_right_vertices_FPPs[:,0] >= threshold"
   ]
  },
  {
   "cell_type": "code",
   "execution_count": 17,
   "id": "75ac8b0f",
   "metadata": {},
   "outputs": [
    {
     "data": {
      "text/plain": [
       "array([False, False, False, ..., False, False,  True])"
      ]
     },
     "execution_count": 17,
     "metadata": {},
     "output_type": "execute_result"
    }
   ],
   "source": [
    "above_threshold_vertices"
   ]
  },
  {
   "cell_type": "code",
   "execution_count": 18,
   "id": "aaa25ee6",
   "metadata": {},
   "outputs": [],
   "source": [
    "preferred_FPP_above_threshold_vertices = np.zeros_like(preferred_FPP_each_vertices)\n",
    "\n",
    "preferred_FPP_above_threshold_vertices[above_threshold_vertices] = preferred_FPP_each_vertices[above_threshold_vertices]"
   ]
  },
  {
   "cell_type": "code",
   "execution_count": 19,
   "id": "c9868ff9",
   "metadata": {},
   "outputs": [
    {
     "data": {
      "text/plain": [
       "array([0, 0, 0, ..., 0, 0, 5], dtype=int64)"
      ]
     },
     "execution_count": 19,
     "metadata": {},
     "output_type": "execute_result"
    }
   ],
   "source": [
    "preferred_FPP_above_threshold_vertices"
   ]
  },
  {
   "cell_type": "code",
   "execution_count": 20,
   "id": "852a428f",
   "metadata": {},
   "outputs": [],
   "source": [
    "temp_r_path = 'E:/FPP_files_and_codes/FPP_files/classic_place_patches/ROIs.R.func.gii'\n",
    "temp_r = nb.load(temp_r_path)\n",
    "temp_r.darrays[0].data = preferred_FPP_above_threshold_vertices\n",
    "temp_r.to_filename('E:/FPP_files_and_codes/FPP_files/winner_take_all_correlation_maps/theresholded_winner_take_all_FPPs.R.func.gii')"
   ]
  },
  {
   "cell_type": "code",
   "execution_count": 31,
   "id": "2eaf3200",
   "metadata": {},
   "outputs": [
    {
     "data": {
      "text/plain": [
       "array([[ 0.11503519,  0.03718783,  0.06390971, ..., -0.09333008,\n",
       "        -0.04491226, -0.01514777],\n",
       "       [ 0.08077597, -0.02147286,  0.03186865, ..., -0.16496121,\n",
       "        -0.13001685, -0.07163416],\n",
       "       [-0.04819481, -0.19603622, -0.02925085, ..., -0.48429933,\n",
       "        -0.47145943, -0.40271844],\n",
       "       [-0.12274933, -0.24787016, -0.14828766, ..., -0.43621268,\n",
       "        -0.43554419, -0.40134424],\n",
       "       [-0.31982471, -0.23964374, -0.09059742, ..., -0.37779491,\n",
       "        -0.33173222, -0.25312564]])"
      ]
     },
     "execution_count": 31,
     "metadata": {},
     "output_type": "execute_result"
    }
   ],
   "source": [
    "mean_FPPs_activity"
   ]
  },
  {
   "cell_type": "markdown",
   "id": "ee01948b",
   "metadata": {},
   "source": [
    "# Left"
   ]
  },
  {
   "cell_type": "code",
   "execution_count": 7,
   "id": "f220623e",
   "metadata": {},
   "outputs": [
    {
     "name": "stderr",
     "output_type": "stream",
     "text": [
      "C:\\Users\\roza\\AppData\\Local\\Temp\\ipykernel_31312\\4226043883.py:6: ConstantInputWarning: An input array is constant; the correlation coefficient is not defined.\n",
      "  corr,p_value = stats.pearsonr(left_movie_data[i], mean_FPPs_activity[j])\n"
     ]
    }
   ],
   "source": [
    "correlation_left_vertices_FPPs = np.zeros((32492, 5))\n",
    "pvalue_left_vertices_FPPs = np.zeros((32492, 5))\n",
    "\n",
    "for i in range(left_movie_data.shape[0]):\n",
    "    for j in range(5):\n",
    "        corr,p_value = stats.pearsonr(left_movie_data[i], mean_FPPs_activity[j])\n",
    "        correlation_left_vertices_FPPs[i,j] = corr\n",
    "        pvalue_left_vertices_FPPs[i,j] = p_value"
   ]
  },
  {
   "cell_type": "code",
   "execution_count": 8,
   "id": "cf0f5a87",
   "metadata": {},
   "outputs": [],
   "source": [
    "correlation_left_vertices_FPPs = np.nan_to_num(correlation_left_vertices_FPPs)\n",
    "pvalue_left_vertices_FPPs = np.nan_to_num(pvalue_left_vertices_FPPs)\n",
    "corr_left_32 = correlation_left_vertices_FPPs.astype(np.float32)\n",
    "pvalue_left_32 = pvalue_left_vertices_FPPs.astype(np.float32)"
   ]
  },
  {
   "cell_type": "code",
   "execution_count": 21,
   "id": "f3821dec",
   "metadata": {},
   "outputs": [],
   "source": [
    "temp_l_path = 'E:/FPP_files_and_codes/FPP_files/classic_place_patches/ROIs.L.func.gii'\n",
    "temp_l = nb.load(temp_l_path)\n",
    "for i in range(1,6):\n",
    "    temp_l.darrays[0].data = corr_left_32[:,i-1]\n",
    "    temp_l.to_filename(f'E:/FPP_files_and_codes/FPP_files/correlation_map_FPPs/correlation_FPP{i}_with_left_vertices.lh.func.gii')"
   ]
  },
  {
   "cell_type": "code",
   "execution_count": 22,
   "id": "00798aca",
   "metadata": {},
   "outputs": [
    {
     "data": {
      "text/plain": [
       "array([[3.00534071e-213, 2.81098395e-245, 3.67182745e-193,\n",
       "        3.52345891e-099, 1.04126060e-006],\n",
       "       [2.93171881e-071, 1.30804231e-311, 1.35168820e-289,\n",
       "        3.98668146e-198, 3.00392521e-047],\n",
       "       [1.76571062e-087, 3.10963046e-052, 2.57022263e-033,\n",
       "        6.22037987e-036, 1.70389417e-008],\n",
       "       ...,\n",
       "       [1.87987857e-067, 2.13922175e-039, 9.66328952e-001,\n",
       "        4.99072668e-056, 1.39527882e-177],\n",
       "       [2.26174587e-076, 1.81237928e-056, 1.72982849e-003,\n",
       "        6.06945606e-032, 1.17762806e-119],\n",
       "       [1.49592883e-039, 4.82013888e-035, 5.74828667e-001,\n",
       "        6.84606903e-056, 1.14026189e-157]])"
      ]
     },
     "execution_count": 22,
     "metadata": {},
     "output_type": "execute_result"
    }
   ],
   "source": [
    "np.nan_to_num(correlation_left_vertices_FPPs, copy=False, nan=0)\n",
    "np.nan_to_num(pvalue_left_vertices_FPPs, copy=False, nan=0)"
   ]
  },
  {
   "cell_type": "code",
   "execution_count": 23,
   "id": "e42c5a4b",
   "metadata": {},
   "outputs": [],
   "source": [
    "sorted_correlation_left_vertices_FPPs = np.sort(correlation_left_vertices_FPPs, axis=1)[:, ::-1]\n",
    "sorted_pvalue_left_vertices_FPPs = np.sort(pvalue_left_vertices_FPPs, axis=1)[:, ::-1]\n",
    "sorted_prefered_FPP_each_vertices_left = np.argsort(correlation_left_vertices_FPPs, axis=1)[:, ::-1]"
   ]
  },
  {
   "cell_type": "code",
   "execution_count": 24,
   "id": "7014d43a",
   "metadata": {},
   "outputs": [],
   "source": [
    "preferred_FPP_each_vertices_left = sorted_prefered_FPP_each_vertices_left[:,0] + 1"
   ]
  },
  {
   "cell_type": "code",
   "execution_count": 25,
   "id": "59056610",
   "metadata": {},
   "outputs": [],
   "source": [
    "positive_preferred_corr_each_vertices_left = sorted_correlation_left_vertices_FPPs[:,0][sorted_correlation_left_vertices_FPPs[:,0]>0]"
   ]
  },
  {
   "cell_type": "code",
   "execution_count": 26,
   "id": "157cf20e",
   "metadata": {},
   "outputs": [],
   "source": [
    "mean_sorted_correlation_left_vertices_FPPs= np.mean(positive_preferred_corr_each_vertices_left) "
   ]
  },
  {
   "cell_type": "code",
   "execution_count": 27,
   "id": "40b25034",
   "metadata": {},
   "outputs": [],
   "source": [
    "threshold = 0.3\n",
    "above_threshold_vertices_left = sorted_correlation_left_vertices_FPPs[:,0] >= threshold"
   ]
  },
  {
   "cell_type": "code",
   "execution_count": 28,
   "id": "f4dec2dc",
   "metadata": {},
   "outputs": [],
   "source": [
    "preferred_FPP_above_threshold_vertices_left = np.zeros_like(preferred_FPP_each_vertices_left)\n",
    "\n",
    "preferred_FPP_above_threshold_vertices_left[above_threshold_vertices_left] = preferred_FPP_each_vertices_left[above_threshold_vertices_left]"
   ]
  },
  {
   "cell_type": "code",
   "execution_count": 29,
   "id": "0c707654",
   "metadata": {},
   "outputs": [],
   "source": [
    "temp_l_path = 'E:/FPP_files_and_codes/FPP_files/classic_place_patches/ROIs.L.func.gii'\n",
    "temp_l = nb.load(temp_l_path)\n",
    "temp_l.darrays[0].data = preferred_FPP_above_threshold_vertices_left\n",
    "temp_l.to_filename('E:/FPP_files_and_codes/FPP_files/winner_take_all_correlation_maps/theresholded_winner_take_all_FPPs.L.func.gii')"
   ]
  },
  {
   "cell_type": "code",
   "execution_count": null,
   "id": "99a3375d",
   "metadata": {},
   "outputs": [],
   "source": []
  },
  {
   "cell_type": "code",
   "execution_count": null,
   "id": "e85d7ea7",
   "metadata": {},
   "outputs": [],
   "source": []
  }
 ],
 "metadata": {
  "kernelspec": {
   "display_name": "Python 3",
   "language": "python",
   "name": "python3"
  },
  "language_info": {
   "codemirror_mode": {
    "name": "ipython",
    "version": 3
   },
   "file_extension": ".py",
   "mimetype": "text/x-python",
   "name": "python",
   "nbconvert_exporter": "python",
   "pygments_lexer": "ipython3",
   "version": "3.12.2"
  }
 },
 "nbformat": 4,
 "nbformat_minor": 5
}
